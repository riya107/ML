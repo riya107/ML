{
  "cells": [
    {
      "cell_type": "markdown",
      "metadata": {
        "id": "m13gJNakp7p_"
      },
      "source": [
        "### Importing modules"
      ]
    },
    {
      "cell_type": "code",
      "execution_count": 1,
      "metadata": {
        "id": "qSu2Uy5ctSks"
      },
      "outputs": [],
      "source": [
        "import zipfile\n",
        "import os\n",
        "import cv2\n",
        "from google.colab.patches import cv2_imshow\n",
        "from keras_preprocessing.image import ImageDataGenerator\n",
        "import numpy as np\n",
        "from google.colab import files\n",
        "import joblib\n",
        "import pandas as pd\n",
        "import tensorflow as tf\n",
        "from tensorflow.keras import datasets, layers, models\n",
        "import matplotlib.pyplot as plt"
      ]
    },
    {
      "cell_type": "markdown",
      "metadata": {
        "id": "R1Ul1Fd7KSqL"
      },
      "source": [
        "### Part A. Processing the dataset and building baseline architecture"
      ]
    },
    {
      "cell_type": "code",
      "execution_count": 2,
      "metadata": {
        "colab": {
          "base_uri": "https://localhost:8080/"
        },
        "id": "q81eSMXDrCIk",
        "outputId": "890bd89e-37eb-4547-abdb-367d76f3e52b"
      },
      "outputs": [
        {
          "name": "stdout",
          "output_type": "stream",
          "text": [
            "Cloning into 'CS550'...\n",
            "remote: Enumerating objects: 599, done.\u001b[K\n",
            "remote: Counting objects: 100% (24/24), done.\u001b[K\n",
            "remote: Compressing objects: 100% (21/21), done.\u001b[K\n",
            "remote: Total 599 (delta 9), reused 3 (delta 3), pack-reused 575\u001b[K\n",
            "Receiving objects: 100% (599/599), 513.91 MiB | 13.24 MiB/s, done.\n",
            "Resolving deltas: 100% (230/230), done.\n",
            "Checking out files: 100% (149/149), done.\n"
          ]
        }
      ],
      "source": [
        "!git clone https://github.com/gagan-iitb/CS550.git"
      ]
    },
    {
      "cell_type": "code",
      "execution_count": 3,
      "metadata": {
        "id": "fPT89yi3rD0N"
      },
      "outputs": [],
      "source": [
        "def unzip_data(filename):\n",
        "  \"\"\"\n",
        "  Unzips filename into the current working directory.\n",
        "\n",
        "  Args:\n",
        "    filename (str): a filepath to a target zip folder to be unzipped.\n",
        "  \"\"\"\n",
        "  zip_ref = zipfile.ZipFile(filename, \"r\")\n",
        "  zip_ref.extractall()\n",
        "  zip_ref.close()"
      ]
    },
    {
      "cell_type": "code",
      "execution_count": 4,
      "metadata": {
        "id": "K0BasNEKHFC5"
      },
      "outputs": [],
      "source": [
        "zipped_dirs = os.listdir('/content/CS550/Prog_Assignments/Asg4_dataset')"
      ]
    },
    {
      "cell_type": "code",
      "execution_count": 5,
      "metadata": {
        "id": "f163nmnVHOZ6"
      },
      "outputs": [],
      "source": [
        "zipped_dirs.remove('Readme.md')\n",
        "zipped_dirs.remove('Sample_Format.csv')\n",
        "zipped_dirs.remove('test.zip')\n",
        "zipped_dirs.remove('test2.zip')"
      ]
    },
    {
      "cell_type": "code",
      "execution_count": 6,
      "metadata": {
        "colab": {
          "base_uri": "https://localhost:8080/"
        },
        "id": "KBmiCSw5HdQl",
        "outputId": "5b4f1e89-f762-4fa8-e71a-af7374ed7509"
      },
      "outputs": [
        {
          "data": {
            "text/plain": [
              "['0_g.zip',\n",
              " '0_h.zip',\n",
              " '0_b.zip',\n",
              " '0_c.zip',\n",
              " '1_7.zip',\n",
              " '0_f.zip',\n",
              " '1_5.zip',\n",
              " '1_2.zip',\n",
              " '1_6.zip',\n",
              " '1_4.zip',\n",
              " '1_3.zip',\n",
              " '0_a.zip',\n",
              " '0_e.zip',\n",
              " '0_d.zip',\n",
              " '1_1.zip']"
            ]
          },
          "execution_count": 6,
          "metadata": {},
          "output_type": "execute_result"
        }
      ],
      "source": [
        "zipped_dirs"
      ]
    },
    {
      "cell_type": "code",
      "execution_count": 7,
      "metadata": {
        "colab": {
          "base_uri": "https://localhost:8080/"
        },
        "id": "1ski0hZ1IC1W",
        "outputId": "82643af5-f94d-4a27-c273-205a695227a9"
      },
      "outputs": [
        {
          "data": {
            "text/plain": [
              "15"
            ]
          },
          "execution_count": 7,
          "metadata": {},
          "output_type": "execute_result"
        }
      ],
      "source": [
        "len(zipped_dirs) # we have 15 zipped directories"
      ]
    },
    {
      "cell_type": "code",
      "execution_count": 8,
      "metadata": {
        "colab": {
          "base_uri": "https://localhost:8080/"
        },
        "id": "1Rl49PsiIJec",
        "outputId": "06092aad-dc73-4442-e0aa-b53a7eac4046"
      },
      "outputs": [
        {
          "data": {
            "text/plain": [
              "8"
            ]
          },
          "execution_count": 8,
          "metadata": {},
          "output_type": "execute_result"
        }
      ],
      "source": [
        "len(list(filter(lambda x:x.startswith('0'),zipped_dirs))) # we have 8 directories of class 0"
      ]
    },
    {
      "cell_type": "code",
      "execution_count": 9,
      "metadata": {
        "colab": {
          "base_uri": "https://localhost:8080/"
        },
        "id": "202ZJXyYIkX5",
        "outputId": "02cd59e8-9198-4aae-c6cf-01fd8bac5073"
      },
      "outputs": [
        {
          "data": {
            "text/plain": [
              "7"
            ]
          },
          "execution_count": 9,
          "metadata": {},
          "output_type": "execute_result"
        }
      ],
      "source": [
        "len(list(filter(lambda x:x.startswith('1'),zipped_dirs))) # we have 7 directories of class 1"
      ]
    },
    {
      "cell_type": "code",
      "execution_count": 10,
      "metadata": {
        "id": "yKsmulSfHidO"
      },
      "outputs": [],
      "source": [
        "for dir in zipped_dirs:\n",
        "  unzip_data(os.path.join('/content/CS550/Prog_Assignments/Asg4_dataset',dir))"
      ]
    },
    {
      "cell_type": "code",
      "execution_count": 11,
      "metadata": {
        "id": "eHiuKYVOIBdy"
      },
      "outputs": [],
      "source": [
        "unzipped_dirs = list(map(lambda x:x[:-4],zipped_dirs))"
      ]
    },
    {
      "cell_type": "code",
      "execution_count": 12,
      "metadata": {
        "colab": {
          "base_uri": "https://localhost:8080/"
        },
        "id": "YJ4S_laQJb8p",
        "outputId": "98269d7f-191e-4cda-8d1c-6ce3a653258b"
      },
      "outputs": [
        {
          "name": "stdout",
          "output_type": "stream",
          "text": [
            "Number of images in 0_g folder is: 3407\n",
            "Number of images in 0_h folder is: 4356\n",
            "Number of images in 0_b folder is: 2993\n",
            "Number of images in 0_c folder is: 3338\n",
            "Number of images in 1_7 folder is: 3555\n",
            "Number of images in 0_f folder is: 4290\n",
            "Number of images in 1_5 folder is: 2913\n",
            "Number of images in 1_2 folder is: 3695\n",
            "Number of images in 1_6 folder is: 4047\n",
            "Number of images in 1_4 folder is: 3182\n",
            "Number of images in 1_3 folder is: 3821\n",
            "Number of images in 0_a folder is: 4066\n",
            "Number of images in 0_e folder is: 4390\n",
            "Number of images in 0_d folder is: 3795\n",
            "Number of images in 1_1 folder is: 3640\n"
          ]
        }
      ],
      "source": [
        "for dir in unzipped_dirs:\n",
        "  print(f'Number of images in {dir} folder is: {len(os.listdir(os.path.join(\"/content\",dir)))}')"
      ]
    },
    {
      "cell_type": "code",
      "execution_count": 13,
      "metadata": {
        "id": "IZUV_pVtJgY2"
      },
      "outputs": [],
      "source": [
        "train_dict = {\n",
        "    0:[],\n",
        "    1:[]\n",
        "}\n",
        "\n",
        "for dir in unzipped_dirs:\n",
        "  train_dict[int(dir[0])].extend(list(map(lambda image: cv2.imread(os.path.join('/content',dir,image)),os.listdir(os.path.join('/content',dir)))))"
      ]
    },
    {
      "cell_type": "code",
      "execution_count": 14,
      "metadata": {
        "colab": {
          "base_uri": "https://localhost:8080/"
        },
        "id": "Uns6VfinPIwq",
        "outputId": "675017cb-48b4-4d70-91d5-dfec62071475"
      },
      "outputs": [
        {
          "data": {
            "text/plain": [
              "(30635, 24853)"
            ]
          },
          "execution_count": 14,
          "metadata": {},
          "output_type": "execute_result"
        }
      ],
      "source": [
        "len(train_dict[0]), len(train_dict[1])"
      ]
    },
    {
      "cell_type": "code",
      "execution_count": 15,
      "metadata": {
        "id": "bLlTWMZy1ZOG"
      },
      "outputs": [],
      "source": [
        "train_dict[0] = np.array(train_dict[0],dtype=object)\n",
        "train_dict[1] = np.array(train_dict[1],dtype=object)"
      ]
    },
    {
      "cell_type": "markdown",
      "metadata": {
        "id": "tEcWLC0G3Uw8"
      },
      "source": [
        "### Resizing"
      ]
    },
    {
      "cell_type": "code",
      "execution_count": 16,
      "metadata": {
        "id": "jVCLKYJRP6M6"
      },
      "outputs": [],
      "source": [
        "shapes_0 = set()"
      ]
    },
    {
      "cell_type": "code",
      "execution_count": 17,
      "metadata": {
        "id": "CG5TRbdTQA8A"
      },
      "outputs": [],
      "source": [
        "for img in train_dict[0]:\n",
        "  shapes_0.add(img.shape)"
      ]
    },
    {
      "cell_type": "code",
      "execution_count": 18,
      "metadata": {
        "colab": {
          "base_uri": "https://localhost:8080/"
        },
        "id": "ONuNRQlwQMMK",
        "outputId": "49d3ce76-13d5-439b-9377-a40ae3d412c2"
      },
      "outputs": [
        {
          "data": {
            "text/plain": [
              "{(3, 50, 3),\n",
              " (7, 50, 3),\n",
              " (8, 50, 3),\n",
              " (33, 50, 3),\n",
              " (37, 50, 3),\n",
              " (49, 50, 3),\n",
              " (50, 22, 3),\n",
              " (50, 32, 3),\n",
              " (50, 41, 3),\n",
              " (50, 50, 3)}"
            ]
          },
          "execution_count": 18,
          "metadata": {},
          "output_type": "execute_result"
        }
      ],
      "source": [
        "shapes_0 # images don't have same shape"
      ]
    },
    {
      "cell_type": "code",
      "execution_count": 19,
      "metadata": {
        "id": "U-FTK0owQgOh"
      },
      "outputs": [],
      "source": [
        "shapes_1 = set()"
      ]
    },
    {
      "cell_type": "code",
      "execution_count": 20,
      "metadata": {
        "id": "tF4zP908QNUq"
      },
      "outputs": [],
      "source": [
        "for img in train_dict[1]:\n",
        "  shapes_1.add(img.shape)"
      ]
    },
    {
      "cell_type": "code",
      "execution_count": 21,
      "metadata": {
        "colab": {
          "base_uri": "https://localhost:8080/"
        },
        "id": "t909WYBqQVt4",
        "outputId": "01ecbe48-ba25-41ae-cb52-f97b9921aa31"
      },
      "outputs": [
        {
          "data": {
            "text/plain": [
              "{(49, 50, 3), (50, 50, 3)}"
            ]
          },
          "execution_count": 21,
          "metadata": {},
          "output_type": "execute_result"
        }
      ],
      "source": [
        "shapes_1 # images don't have same shape"
      ]
    },
    {
      "cell_type": "code",
      "execution_count": 22,
      "metadata": {
        "colab": {
          "base_uri": "https://localhost:8080/",
          "height": 67
        },
        "id": "S7lmo3yyRX6F",
        "outputId": "1ef8f720-918f-4a51-bc1e-f7dbe004e892"
      },
      "outputs": [
        {
          "data": {
            "image/png": "[encoded data removed]",
            "text/plain": [
              "<PIL.Image.Image image mode=RGB size=50x50 at 0x7F21165D7C10>"
            ]
          },
          "metadata": {},
          "output_type": "display_data"
        }
      ],
      "source": [
        "cv2_imshow(train_dict[0][0])"
      ]
    },
    {
      "cell_type": "code",
      "execution_count": 23,
      "metadata": {
        "id": "Ip5oxq1uRycC"
      },
      "outputs": [],
      "source": [
        "for i in range(len(train_dict[0])):\n",
        "  train_dict[0][i] = cv2.resize(train_dict[0][i], (50, 50), interpolation = cv2.INTER_NEAREST)"
      ]
    },
    {
      "cell_type": "code",
      "execution_count": 24,
      "metadata": {
        "id": "Uo7OOtkr0SJN"
      },
      "outputs": [],
      "source": [
        "for i in range(len(train_dict[1])):\n",
        "  train_dict[1][i] = cv2.resize(train_dict[1][i], (50, 50), interpolation = cv2.INTER_NEAREST)"
      ]
    },
    {
      "cell_type": "code",
      "execution_count": 25,
      "metadata": {
        "id": "GdNdNtS1260t"
      },
      "outputs": [],
      "source": [
        "shapes_0 = set()"
      ]
    },
    {
      "cell_type": "code",
      "execution_count": 26,
      "metadata": {
        "id": "pS6WbPuC28sF"
      },
      "outputs": [],
      "source": [
        "for img in train_dict[0]:\n",
        "  shapes_0.add(img.shape)"
      ]
    },
    {
      "cell_type": "code",
      "execution_count": 27,
      "metadata": {
        "colab": {
          "base_uri": "https://localhost:8080/"
        },
        "id": "d8e5zgiY29Ha",
        "outputId": "9a946e1c-6f7f-48c0-fe0e-e49098e17de2"
      },
      "outputs": [
        {
          "data": {
            "text/plain": [
              "{(50, 50, 3)}"
            ]
          },
          "execution_count": 27,
          "metadata": {},
          "output_type": "execute_result"
        }
      ],
      "source": [
        "shapes_0"
      ]
    },
    {
      "cell_type": "code",
      "execution_count": 28,
      "metadata": {
        "id": "VWf0a4pN3BP3"
      },
      "outputs": [],
      "source": [
        "shapes_1 = set()"
      ]
    },
    {
      "cell_type": "code",
      "execution_count": 29,
      "metadata": {
        "id": "GgnBUaVx3FOT"
      },
      "outputs": [],
      "source": [
        "for img in train_dict[1]:\n",
        "  shapes_1.add(img.shape)"
      ]
    },
    {
      "cell_type": "code",
      "execution_count": 30,
      "metadata": {
        "colab": {
          "base_uri": "https://localhost:8080/"
        },
        "id": "WdC3DLKI3FgE",
        "outputId": "47147349-3436-4138-9852-8874d57ff5d0"
      },
      "outputs": [
        {
          "data": {
            "text/plain": [
              "{(50, 50, 3)}"
            ]
          },
          "execution_count": 30,
          "metadata": {},
          "output_type": "execute_result"
        }
      ],
      "source": [
        "shapes_1"
      ]
    },
    {
      "cell_type": "markdown",
      "metadata": {
        "id": "wBooBB_I4-26"
      },
      "source": [
        "### Normalizing Images"
      ]
    },
    {
      "cell_type": "code",
      "execution_count": 35,
      "metadata": {
        "id": "1s5R8W9340EK"
      },
      "outputs": [],
      "source": [
        "for i in range(len(train_dict[0])):\n",
        "  train_dict[0][i] = train_dict[0][i]/255"
      ]
    },
    {
      "cell_type": "code",
      "execution_count": 36,
      "metadata": {
        "id": "cTwc6ELz5HXS"
      },
      "outputs": [],
      "source": [
        "for i in range(len(train_dict[1])):\n",
        "  train_dict[1][i] = train_dict[1][i]/255"
      ]
    },
    {
      "cell_type": "code",
      "execution_count": 41,
      "metadata": {
        "id": "0F16tINC5zVW"
      },
      "outputs": [],
      "source": [
        "train_data = []\n",
        "\n",
        "for img in train_dict[0]:\n",
        "  train_data.append(np.array([img,0], dtype=object))"
      ]
    },
    {
      "cell_type": "code",
      "execution_count": 42,
      "metadata": {
        "id": "EWddAF9o6wI9"
      },
      "outputs": [],
      "source": [
        "for img in train_dict[1]:\n",
        "  train_data.append(np.array([img,1], dtype=object))"
      ]
    },
    {
      "cell_type": "code",
      "execution_count": 43,
      "metadata": {
        "colab": {
          "base_uri": "https://localhost:8080/"
        },
        "id": "HzKcF5Hr62Uv",
        "outputId": "519c6324-0b39-4b24-c71c-384fffb6bf32"
      },
      "outputs": [
        {
          "data": {
            "text/plain": [
              "55488"
            ]
          },
          "execution_count": 43,
          "metadata": {},
          "output_type": "execute_result"
        }
      ],
      "source": [
        "len(train_data)"
      ]
    },
    {
      "cell_type": "code",
      "execution_count": 44,
      "metadata": {
        "id": "erS-heIX77Sf"
      },
      "outputs": [],
      "source": [
        "train_data = np.array(train_data,dtype=object)"
      ]
    },
    {
      "cell_type": "code",
      "execution_count": 45,
      "metadata": {
        "id": "0rPMVXfZ8Db0"
      },
      "outputs": [],
      "source": [
        "np.random.shuffle(train_data)"
      ]
    },
    {
      "cell_type": "code",
      "execution_count": 46,
      "metadata": {
        "colab": {
          "base_uri": "https://localhost:8080/"
        },
        "id": "8PkU-THPWk2g",
        "outputId": "b8ba8064-674a-4c54-9faf-78158b093752"
      },
      "outputs": [
        {
          "data": {
            "text/plain": [
              "(55488, 2)"
            ]
          },
          "execution_count": 46,
          "metadata": {},
          "output_type": "execute_result"
        }
      ],
      "source": [
        "train_data.shape"
      ]
    },
    {
      "cell_type": "code",
      "execution_count": 47,
      "metadata": {
        "id": "dAU132Xk9mJl"
      },
      "outputs": [],
      "source": [
        "X_train = train_data[:,0]"
      ]
    },
    {
      "cell_type": "code",
      "execution_count": 48,
      "metadata": {
        "id": "XvnKwk-g-25w"
      },
      "outputs": [],
      "source": [
        "y_train = train_data[:,1]"
      ]
    },
    {
      "cell_type": "code",
      "execution_count": 49,
      "metadata": {
        "colab": {
          "base_uri": "https://localhost:8080/"
        },
        "id": "ZG8WU4MZEJdO",
        "outputId": "21f07236-1cec-4ab4-b8ba-04296c16866a"
      },
      "outputs": [
        {
          "data": {
            "text/plain": [
              "((55488,), (55488,))"
            ]
          },
          "execution_count": 49,
          "metadata": {},
          "output_type": "execute_result"
        }
      ],
      "source": [
        "X_train.shape, y_train.shape"
      ]
    },
    {
      "cell_type": "code",
      "execution_count": 50,
      "metadata": {
        "id": "hEjZ_XD0WugF"
      },
      "outputs": [],
      "source": [
        "X_train = [img for img in X_train]"
      ]
    },
    {
      "cell_type": "code",
      "execution_count": 51,
      "metadata": {
        "id": "nyXC1I-TX9sU"
      },
      "outputs": [],
      "source": [
        "X_train = np.array(X_train)"
      ]
    },
    {
      "cell_type": "code",
      "execution_count": 52,
      "metadata": {
        "colab": {
          "base_uri": "https://localhost:8080/"
        },
        "id": "xlkSibG1YFji",
        "outputId": "26adb0e9-204f-4d11-fd5f-36059f65d8c1"
      },
      "outputs": [
        {
          "data": {
            "text/plain": [
              "(55488, 50, 50, 3)"
            ]
          },
          "execution_count": 52,
          "metadata": {},
          "output_type": "execute_result"
        }
      ],
      "source": [
        "X_train.shape"
      ]
    },
    {
      "cell_type": "code",
      "execution_count": 53,
      "metadata": {
        "id": "Ex-h60WGZGio"
      },
      "outputs": [],
      "source": [
        "X_train = X_train.astype('float32')\n",
        "y_train = y_train.astype('float32')"
      ]
    },
    {
      "cell_type": "markdown",
      "metadata": {
        "id": "8a4JyQie_TH3"
      },
      "source": [
        "### Image Augmentation"
      ]
    },
    {
      "cell_type": "code",
      "execution_count": 69,
      "metadata": {
        "id": "PsA4rkPxF8VJ"
      },
      "outputs": [],
      "source": [
        "datagen = ImageDataGenerator(\n",
        "    rotation_range=90,\n",
        "    width_shift_range=0.2,\n",
        "    height_shift_range=0.2,\n",
        "    shear_range=0.2,\n",
        "    zoom_range=0.2,\n",
        "    horizontal_flip=True,\n",
        "    vertical_flip=True,\n",
        "    validation_split=0.2) # data generator it will transform the images while fitting the model"
      ]
    },
    {
      "cell_type": "code",
      "execution_count": 70,
      "metadata": {
        "id": "cX3afBaXUpKB"
      },
      "outputs": [],
      "source": [
        "datagen.fit(X_train)"
      ]
    },
    {
      "cell_type": "markdown",
      "metadata": {
        "id": "17q5xVas3_ao"
      },
      "source": [
        "### Baseline architecture"
      ]
    },
    {
      "cell_type": "markdown",
      "metadata": {
        "id": "Hjt4nHGbSuax"
      },
      "source": [
        "![architecture.png](data:image/png;base64,iVBORw0KGgoAAAANSUhEUgAAA7sAAAFuCAYAAABA9g9DAAAAAXNSR0IArs4c6QAAAARnQU1BAACxjwv8YQUAAAAJcEhZcwAAEnQAABJ0Ad5mH3gAAP+lSURBVHhe7N0HXBTXFgfg/2yhVwug2EXsvQY09qhY0dhjb0lMoiYxiSWaGBMTjXm2xBK7sfeooLGighqNvWPFCiqigICwe97s7iws1d0VcIXzvd+84MydsvfeuXPPVIFEYIwxxhhjjDHG8hCZ9F/GGGOMMcYYYyzP4GCXMcYYY4wxxliew8EuY4wxxhhjjLE8h4NdxhhjjDHGGGN5Dge7jDHGGGOMMcbyHA52GWOMMcYYY4zlORzsMsYYY4wxxhjLczjYZYwxxhhjjDGW53CwyxhjjDHGGGMsz+FglzHGGGOMMcZYnsPBLmOMMcYYY4yxPEcgkfR3hgRBkP5ijDHGGGOMMcYsR1bhLF/ZZYwxxhhjjDGW5xh9ZfcVydhr4nxm5uB6Y9m4fHIf5znLCVyv8i8ue8vFZcOMqQN8ZZcxxhhjjDHGWJ7DwS5jjDHGGGOMsTyHg13GGGOMMcYYY3kOB7uMMcYYy1j0Tfy7fzf2Hr6A8JfSOMYYY+wtwcEuY4wxlm+oER95Bzdu3kfUK4PXJ1g1sC7eafYeWjRphfF7E6Txr8uUbWA5SyyLJ2FiWTzAMy6LPEMd/wRhN27igdGFyvWA5V0c7DLGmEVSI/r2cezasAKLFy/HuoCjuBGlkqZJ1PewfWIPvNe0Kdr0+QUHnqilCYxlLOn4t6jnURJlyxSDZ9s/cC+LKqN+uAWr/4kUayIgd2+J9o2sdROMlUn9NGUb8gYj9uXsYEZ78PLIN6hVpJRYFp4o1mUxHknj2Vvs5RF8U6sISpUtA89iXbDYiELNrB6o723HxB7voWnTNujzywHwISabWOSxW4172yeix3tN0bRNH/xy4Im27c8T6BU0SYxIlk7s38OojKOS5Ep7KtZjBT1USRNYhkzN56Qr06ihjZA8X5aDrCD1XB8tzcnyEn0ZmyTxDE1r5kZKQVN/BJJZuVCZZmNpZ3jmO2nCxT+pVyVXUsp08whKD2oz+6I0lWXGrPIRJdzYSmP8ypGTPPU+Lth4ku/Hq+laki6d6v4cam4lTRdcqMe6WN2EfEyfV6ZKdczqvYoeS+O1Yo7Sj009yU4hI4WtB3X6M4ze1kNawsGR5KXQ5ZGy4TS6LtWl9FQU9ntLshc0aeVUYthO0tWuBAoaXZnstW2BVPdSDQLZt/xdmzKz+pnVNsQ/vECH9+6mfUdDKTLTbct9+t9nKmP3Za34h3Th8F7ave8ohZrx481pD+L3fUKl5bp5rJrNpnvcV0tHX2amSDj2HdVzUZAgzas9bsqtyL5gCarSpDt9OSuQQnOquY7fR5+UluvWa9WMZhtRqBnXAxXdn9OcrKTfILj0IEs7xOjy1vT9MpXEC/RbSw+yU8pIkCnIxqU8Dd4Y8fptfBb785s7dsfTwwuHae/ufXQ0NJJSbZXqPs1pbiXlqUAuPdZJbb5lM6YO5NiVXdWT+7gXnQhVYizC74XjhWZTWLZRRUbgcZKRmaqORkR4tPQPlu/Fn8KhkEdIlNoI9cso3Ng/DePmXkCSLkUaT/H35PFYc/EpEtW6eSgxHIeDzugms+wVtRtf+nXHzwGheK4Sj4NKBxTyKAwHpRh1xN9D8MK52HpHd75VZucBDxddMy4oiqJEMYX2b2Y6w2NWxP0IvEg+pR2NoIlDMOnAPbxIUkPtVB/tWxTN+7dFqW5hw7rDumO3ohQ69WwCO+2EBNy4fA2x2rYgI4SXj8O1f5leP6OxdlgdNGreEs18m+Dr3dl12/QbYsK+rBG9dhjqNGqOls180eTr3WJOm4bbA8uRcPE/nIlK0vbCdcTjpuolYp+E4fyBtfj1s7ao3XAkdjy05GtnMth5eEBXpQQoipZAXqxSSadXYvGBh3iRqAapkxAfdRVrF21B+GsWTVb78xvbV6PXYlidRmjeshl8m3yNVE2szA4eHi66Y5ugQNESxZBXiluX0+yto/B+D30/6IkePXrohm5NUMZa92FlyFxRTTzA6qf17DUI3RsW1k1jTAxySRvoilXFxROejmIzQIk4s/Yv/JfBszrqh5uxfEcE1GJz4VLME5rkGvplsOykwvVFP+DPK/Fi10iAssIgrL/yCI8eRCAq4iICZgxBw5IF4ayLOgDnLlhw8iSCdu9F8LlD+OkdK2kCyy5Pd32DobPOI0Gs7oLSCwPmz0P/UnJpat6lCl2HdUc19VA83nh1Rs93MrqFWQ732h1TjkPaoSf69G6um2xy/VRDpRI7nJo/SSX+/Ta3MSbuyyK1SgXdOQQSf7tKlw+m4PbAIilrDMfKHTvw94al+HVEK5Sx1fTV1Hh+ag4+Gh8IS74U4dxlAU6eDMLuvcE4d+gn5L0q9RLH127C5UTxT8EKVlaasiHEBK3Dptd8viLL/flN7atqsV2VTlSSuE2pm1hndFlwEieDdmNv8Dkc+ukd5JXiFjSXd6W/MyQIugDK1I5t9NIOKDxgm/ZMhrLRr7iy/wuUzqx/oHqC8/9sxY7DZ3HzQSReCPZwL10LTbt0ReuK0lkGxOLOqRO48jgJNp5V0aCSW+ozDupnuP7vf7gRo4BbxTqo7ml4BInCpV3rsXHfKdyMiIXgVByVG3ZAT/968DAsSVUkrhw7hTuJhVCpfnW4RwVj0axlOPq4ABoOGYeBdR2lhNnP3HxOFr8FfYt1wQrNff/Kahh/7D/8UNMwh8zIP/VTXD12EmEvC6Nyg2ooonyK838vx+rd5/Ag0RGl6nUQA+6mKGUjLcOAOuoSdq3fiH2nbiIiVoBT8cpo2KEn/Ot55JmdxxKYVW+il6JD4QHYJu6c8mK98WHdnZi7+QnUirL4bM8FzGxs2KlV4easlqgycj9eyDzR+5OG2DN7LcLVAhy6rET0hp5SOg0Vnpz/B1t3HMbZmw8Q+UKAvXtp1GraBV1bV5TODuuon17FsZNheFm4MhpUKwLl0/P4e/lq7D73AImOpVCvQ1980LQU0lYtddRF7Fy7AXtP3sSTRGsUEOvVO23fR8d6RSyyXplePi+wvocnuq+NEg+MSlQZG4JTP9bJ4uyqGtG3xIPTtWeQuVVE7WpFtVffYm8cRcjVp0h384cgg12JOmhUqWCqM515aX/NjmOWVdMZuLZnBDwfb8WQd7piyY1EkOCIet/uwt7v34GDbpZkxuafKvIKjp26g8RClVC/ujuighdh1rKjeFygIYaMG4i6jipEXjmGU3cSUahSfVQvaoWn5//GslX/4NzDJLh4NUSX/j3gI45Px8jj3MtDo1C5mfj7ksRDRcNpuHzgS5RJd2xOwtnvGqDOpP+QKNbD6uOO4cQPNaV6GI2lHQpjgKYBEac1+vUK9n9RWgx7M5Jx/cxoG0rFXEXI0Qv4+7vumHZU7HnKCqDNpKX4tJYSigLl4Vu/tHRlWUONqEu7sH7jPpy6GYFYwQnFKzdEh57+qJf6oJ46P92jELxoFpYdfYwCDYfg54F1pXSvlqP7snj8vRpyFBf+/g7dpx0V81yGAm0mYemntaBUFEB53/ooLf74V9efjPNbTxV+AhtWbEDQ5QgkOnujea8h6PD8O1RpOQc3VWK9bzYbN3d/gqKpGwfj+k95mDltSkbtSXFtvr7Eme98UE/ct16Ki5MXHYRtNxaijf6wa1R/2IAqHCc2rMCGoMuISHSGd/NeGNLhOb6r0hJzdIWK2Td34xODQjWpHqijcUsMyq49k4l9w9qoVlSqUWn6y0WtNP3DZVj1zzk8THKBV8Mu6N/DRxyvS55M/H1n/l6FjQfO4E60AoXK1cU71YtCG/9rTgoVqY6mNYpk0p6kZ257nyzhIEZWaY6ZYmOkKD8Mn1daj183R0It2KLJbxewZ2RmbZsKj07/jbWbD+LcnSioHEugZrMu6NGuGgoKxuzPGe2rMbh94gRCn6phV7wq6lUonKa9iMEtcfq1pwQnrzqoV1ofkxjT91Lj2dUQHL3wN77rPg26JrYNJi39FLWUChQo74v6YiOjjr6Fkyev4ZnMDRVrV4O+uJPFhyF480bsPHoRdyITILN3Q6nqYtvbpR1quBlu7Wscy0xkVB0QJ2ZJk8SIZOk8X9KexH1XO68Y7NKNTB4/iToynfy9nUimfS4o9SBYFaN2M09TnCbh44XU1k73zItg24h+vZJ6gfFBI6RngASybj5HGkukeriHJjQtSlZply/IyKXWx7TxVspyEg5/Tt6aZQi21HHmBvq4sp30vIWCKo4+IqXKGfrtMlvcZupTUKZbjrIajT+ZKE2QmJF/KfnhQt3mB9D3LYulzkdBTq71x9LeJ4ZPNqjo4Z4J1LSolcGzKrpBkLlQrY83kkGWs9ekz1uTPF9C7a1188mLD6ONf/WkwjLNv+VUfEgAxUjJtJIu0I/1dWUpLzGM/l7fn9y1aQVy6LJKSiSKOkLT/b3JKaPn+AQrKtZuJp3W7sgaCXT4c28Sm0USXLrR/IDvqWWx1PVFkLtS/bF7ybBqPT86lVp5ZlCvlFVozLEEKZVl0W+j8WJpfQ8X6TcK5NRkGp2PlyZlJCGYvvBW6NZj9S79dkuTYTG0qotDunzSD8oaE+hUcvOQ9/ZX/fabyvCYJXZOKSzxHq3pVZzk2jZPRu7t5tGVNM2qaflnUO9tO9LMDR9TZalNhqIijT4i1uGEw/S5tjwFsu00l/b/2p5KpXo3g0AK9xb066nknUnLpOOcMc/sJv5LY6ootWkEZR2adN7whz+nJe2tpXUoqdGvN1I/92Uow/qZ8TZEzG9F1hn0AzSD4NKT1usfHlM9pD0TmlJRq7RtjUAyl1r08cZbKdtjmJ8dZ9KGjyuTnbQORcXRUiLj6NdjPBP25Yj51Mo6g7ZTM4jH357aH29M/ck4vzWign+kZh7KVPVUsPKk5u83JY9Mntk1pV7lZfrfbYp07YlBvsbvG06lpDyHdTtaHKUbb3R/WC8qmH5s5kGau+KT04rHW8/m71NTj4yf2TW1HiQEf6HrB2rGv/sb6auUYX+509z99Gv7UmSTajsU5N7iVzJsqlSRQfR9E/fU25tmUHh/QcEmHM7185krbs/HUlkoyPvzQ/Tgr84kBofiv8W+sO9UStNV1km6RZs/q0cFFWn2WfE3e7SeQxfuG7E/Z7SvRiygNra6+QT7FjTntkGlEcX9M4xKaLdVIJv35upGGt33iqD5razTHad0g0AuPdeLLVYCBX+ha2MAK3r3t1sGzy2r6PHBKdS+tG0GyxBI7lKThq4KFZcgMfNYZg79MrPyyhpizEIyYlywG087h3qSXEwjWBUkb9825P++P7Wo5p7cuArOfjT/rpjdqts0p4W9LpPFAqw3+YLBATaBDo0qpysgQUl1fzivG514iWa1LKB5MFkcLyMnr0bU3r8d+ZZxlBoTGbm2+j35BREpB2A5FXIrpN0u3e9XUrVxJ3SJcoi5+ZzsVcGuGfmXnB/iDuzgaKfLx7SDOM1r+B7Sv/4q8dIsallAtx2CzIm8GrUn/3a+VMZRplu3zJVa/X4t884RM4m+HEySKtj9kP6J2EgfuOvKTObRhzZJB16NxH/HUBWlJq2Cyn66n57+PSDDYDd+51Dy1DTCYt0q6O1LbfzfJ/8W1chd3yEVnMlv/l2p4UyggyO9dJ02hQM52kn1Ns0gKLxo+B6pZiWeou9qSw21zIFK+7an9zv7kY+3KynlnjQkMKuI8M3R/xbjJdG1X99N6TSI+5db/UE0fccVMcTIQMJBGuklHTCVDWmaNnKJpx2DxXY1kw6Fss4PdEHaAfPi/qr/naZK3Tn9jUIW+1MRqWNh5T2EtmbwlkXT8i+l3kNeiNwKSZ1RzSC22eNOiG22QXnKXAuSa5qXGukGMXBqPS+l82z2cS7zYDe5IyuuK32Hz5RgN6P6mfE2PF31vtTJTDuIHaniw+gf7S6eSJdmtaQCUhskc/KiRu39qZ1vGXKUOnsy11b0e8qPTV6/vJAbFZI685pBWW2cLo2R9PMZz4R9+ekqet8lk3ZQXpyGaX+8afXHML/p+W76WByvrZNZDKmCXRPrVV6mzx9TZBXsxmz6gApJdV3m2os2aE/kmNAf1npOuz8W60Mm7XzyYBjsmlEPMmsvUsaL9aCga8bHG8GJWs/Tv8wvhvZ9otteQe5BTb9cQBs2LqLxbUoYBL9iW1v7ezqT7qRi5vTrMk8MBQwupuvri/2NEUHxpIpYSp1cdG2JYFWPJusPlskS6PQUXzG41K1XsC1Gddr4U6fmVclN7O8Itv604q4R+3NG+2pSKE1rKPVzBHtqNe++QbAZL+Zfad22avvwuheEGt/3ekqr3nfJpB8vp+LD/hHXYNDGiG17w2nXk9v2pCt/UOtC0m8S2zLX8o2pg6Y9KOuUXPaCXW2acEzqixn8PqOPZWbSLy8rr6whxiwkI8YFu0l0Y/lw6vn5fDoYZhDdJ16hXxtLV1XFzkKvDZppKnq4pGPyGRdl7e/orH6HSAih0RV0mSpY1acfL+pW9nzbICqmPbjJyPndKXRaf2Y4+iiNq22jXb6grE7fSoGh4U6tWYe19we06HQEPbl+nM7eM2HvM4O5+ZzsVcGuGfmXOj9k5FL7Q1p89B5FRZyixb29khsoWSGxsdYevZ/TtkFSwyFzpnennE5+k1v00XFUW3tWR1x39W8p3eYxs+jKxsR6kybY3R0fTVv6eegaQVlBen+l/j20cbT/07K6hk9Rnr4ITqC4TILdpBvLaXjPz2n+wTCDM8+JdOXXxtKVFPGA2GuDNM2wQdWs04Vqf7iYjt6LoohTi6m3l/6ss4wKifNoqpbq/mxqJr25UNnQsD2JpRtBu+lkqrsLLIc55aN6EkAfeae5UigoqWD192nChgupO8qZdW4NxR2nCbWls7FiXrecHSodwPLm/mpOnmukOmZ5N6C6Unsq2NelCUdS3e8gMTX/0tR7wZq8P1hEpyOe0PXjZ0l7iDEsT3GQudal4ctP0MOoexQ0qakU5Inb5NSZVkoV4XWOcxkHu3G0d7i+U2VHTWfeNOhwaRgGu3Jyr92RevTokTL07E9T9kTqkmZSPzPfhiha3E5atsyDBm5Pc9b/+TYaVEwX5Mmc36UpKT+Wjo6rrQssxX2l+rcndaPT5Kdg7U0fLDpNEU+u0/Gz93RpjKRfhilM2pdFUYvbSXVQRh4Dt6e+imdq/UnObxVFLPNPPpEgc6pLo7ZcocinN+nAjB5UXn91WBwMgxxT61Veps8fU2Qa7CaE0h9+haSgQ/fmct00U/rDYqlGLCN/fUAlc6K6o7bQlcindPPADOpRXn9XojgkB7vm1YPM9tW0/UPXusNp+YmHFHUviCY1lU6SiL/PqfNKXT2P300fldDsuwLZiPlxU1q+6uFCausgrlvcLyp+FSLWctPot9ks0VupfxFdHsrLfEL7NXGaKpwWt3fS5Z+4TbUmnhF7MgYiN1BvD+nYoKxEn+5+LLWPYjh5chGNHDYr+XiZ5f6c4b6aRNemNZLucBHIsd2ilC/ZJF8pFddr0E83re8lilpM7aT+n8xjIKVuYjMLdp/T1v66EzHaOwC7/0U39ZkSd4Fmt9bXZxm59d4gtuIiM45l5tKvIyuvrCHGLCQjxgW7mdFcadRfSrem1vOlznfkWupRWNq5NQGd5kymKOXqk0BW7/xMl7XriqPtg4roCkBwoS4rn2rT6iTRhR/qkFI7zUZcfrh2rOHOK9jVoQnHU9WCHGVuPid7ZbArMin/UueHvGQ/2mRwZUP1cBG1c5IaRykQorjtNEhqOASXLpQ6yy/QD3Wk2+JsWpOU5ew1afNfHEySLtglitk2kIpqOzYCObdfRA80RR29jQZ66jqWyipj6F+xumQW7GYm4dCo5FugrFvPlz7nYtigyqlkv00pDbp4wHi4qB05SSdSFOWlW5oMbsOXOdWmj/46Q5Ep1dFiabZXM5gq4dp6GtmoSAa3D9pT+Q+W0WV9jyCTYCJFIp37pRE5SgdPB98pdFY/bx7dX/V5ZSrDY5a8kAe5SbeoCUovGrrjidShMWBy/hnWe4Hs6kygdIcYw/JUlKFB2ww+fxG7jQZInSwofWmq9pLa6x3nMgx2Y3bQYCmgFBxb07zkK0l6hsFuRoOCKowO0SXNpH5mvg1ZB7tx2wdREan9cemyklJn+Q9URzqO2YhtjZbh+sXAvc6E46k7nCbQ/bYc3JdFxge7RtSf5PyOo20D3KXOqIK8Rx4k6dqLKImuz21NrlLHMyXIMb1e5WX6MjOFYXuiKNWKPvn6axo9YhB1qFE4+UKBoCxHHwUa5m1GMu4Px23TH4s1t/6OpIMphUpJ1+dSa1eprUgOds2pB5oqlfG+ajheUWYQbYtIaSdixW3zkJal9J2qu/ofu5re1wS1moCo/9aUuh2/gwYV1WyruN+2X6ILlEyg/Y3iYI6oDb3JTbudYj/koz3SNol9kIVtpWOmuP1Vx9Fxg+507Ja+0mNfAlk3+V/ybd0ZMT3YFUvi2q/USLrdV3Dxp2VS+JNw7BuqrM1vsZ/e4Ce6lNxmZizjvpfInGA3zvDYU5u+P5c6vojbq78VXHPS4FPdSQOTj2Xm0y5HHLIi1vs3T/XoDLb8PhGfDeiK9u81Q5NGTfHJ+rvQfXKdoFaroH0nmmtbfNBBenA98SI2rf8PL5GE89sCcEV6k1pd/y7w0iRQPcDlq4918yEBR3/xg6+vrzS8i/5Lr+mWTypEPn6iTWVIUbMb+tbM4M1LbzNT8i8NWfEqqF4opbrICtZBbbGl01KF4969JDHLL+PqY+ntdQlH8YufPr/F4d3+WHpNKlFVJB4/0f3NLIN90y7w89AUPOH5vtXYeFfcL7avwN8PxHISlKjapQdSve8sI6pHOLPld0z8bAC6tn8PzZo0QtNP1kNclBap1VCle7mhDMWrVEdK1ZKhYJ3aSKla9yBWLbHutka3VoW1L+dQP/8Pc/vUQkmvxuj/wwacj0q30LeeVdn38b+Dl3By/Q/o844nbARpAsXiysqP0f/Xs5l8Jio11bX5+OLnYESLhwLBtiZG/TYSVaX3QfD+mjl5lY/xU7/SUGhO7ydex5LPvkZAmo/+v17+KVCzW19keYgRiqJCpQIpL6Sx8kCRwvrG+SUSNG++ec3jXEaid6/F9vuauQQ4N+uOTmJ0aRKxvSjsVlD6R3ZS4cHlq0jJ8l/gl/xbffFu/6XQZTlBFflYmyYVRU1061sz3Uvvclp27cupGVF/9NSPcP3WU10dkTmj3rt1IXbAJXJ4lveCi36b9HKgXuVnSbd2Yc4vv2DazEX4+7Tms39iUThWQM856zGttYuUSse4/rAaj67fwlNdocK53ruom1KokHuWh1faQjWnHhhJKFoBlQqktBNWHkWQ0lQlaF/Spfl8WelimpFqRP4bhBMxmpFAzLE9CInQbJW4DaVLw1Y3OhdEImDtTl17Ii+K1v6+UtsgQ2G/DvC112VG4qWNWHdC/5kKFe5fDoWuyyGmK18ZYlCfreSl/NGpnrXY+oql/TwI23c/Ff9KwqUdO3FV01CI7Wutjv4oZ9hPN6vvZTzV3Yu4Ih3/ZK5VUUPfQZPYVK0GMbDWUj+4gzuaeMKQMceyHJbNxWQqNcJ3fo1Gleqg8yeTMHvpBrFg9yPocAjO3H2hDdVTs0fzDzqjlDZTk3B18zocf3EJWwMuQhurWdeDf2fpzWkUg5hYzR+av+Nw7+wRhISEJA/Hr0fpdnrBTjwwp25stARBW9nyFhPy71UEBzgkt0pJSBR3QoqJQUqW38PZIyn5HRJyHNeloESwKww3c1tVljPsm+D9dp7asqcXh7F27VGs/2snNO2boKyFLt0rZ/wWUYk6fCe+blQJdTp/gkmzl2LD9t3YH3QYIWfumvyNbcHBIeWAl5So6wjKPPHBwk2Y1q0SXORi3RE7WdE3D2LZhG6oV78/VmleIZnnOKNyl/FYHnIV57eMQ9MiCl2bJHaST/y1MsPPRKWiDsOK0ZOwR9MjEqxQ8aP/4at6Kb1j3l+zIDih5Y+/oU9JTZ4TEm8sxYivd+CRLku0Xjf/9G+QNJ4csuRZpJ3qdY9z6TxFwOoAaPuesgJo2b0D3LPsJWjexnwDSaT7nJl2UL/AwS+9penZiRCT8mMRd+8sjhj81pDj16VOqAC7wm7aVKmJx/Q3Vo1fc1/OgNH1R1xHbKxUX8TjtpOzEfNle73K32QuZVHXxxcNGzdH266D8OXUlTh8+TRWDq0u9sr0TOkPk1imsdI4AQ5Ozrr6lBVz6oG55LKU7dFvuFVdDP20OTQxcdKlmWhfp5nY32yOuh1n4bJ4kBcc62HQIN9ce/u/+tEOrBcDSU09FgTCuQUD0LNnT+3Qe9RW3LeSfkHSNWxZe0wMyTTENij2hfYvDSsrq1fnu6nkJdGpU31ovySqjsL+bXsRnXQV2wIvaPtCgrI2OvqXS+6nZ2ffKzMkNgb6Xy3Y2cEh7Y+2s4eddHAidRzi4rR/ZiGDY1kOe7PB7ot9+P6j6TjyWCxCZXG0GrsYAUfO4OLlC1g/uGyGnWsbnw/QtbxuStKNrVi1agMCzmqrAKwbdEZn/fcPBXvY63vMcrGjvPw8Ll++nGa4givXr2LD4CJSwrzP6Px7FdVDPHwkVVKZE1yc5WKW2ycHKXLPD7D8fNr8FocrV3D96gYMNvVqActhdmjctR2Ka6PdBBydNwTT90SLzZBYL+p3RXfvrOrFC+z7/iNMP/JYbIyVKN5qLBYHHMGZi5dxYf1glM0qSs6A6uFDpFQtF4hVS/d3AV98vvYsrh5fiylDmqG09syr2Om9uhJffr/dor9V+HrsULbDJKz9qS2cpAOE5uzpXW1vMzNqPNw4BuO3ab6PLEBRZgB+Hf9uqk/m8P6aNaFwe0z5tSeKaU+uJOHmshH4Rpuf0nRLyL9sPs6pI/7Gmn8itb9RVrgNevgV0E2wCALsU34sPD9YjvPpfutlXLlyHVc3DJbSWRpz9uXXpKkjdvqVRSEi3IjImvtP2UpR81NsPHQYhw7swfZ1CzFtdC+8U9TgUqyGSf1hzb5gJ/6/hhpREeFSMJYFc+pBdlKH47/gi3hOAmTWVuJxez+2bN6Hy88AJ+/2+HbdOnxVzcTOgtnUiPh7HfY+0+14lHQXIRvWYM0aaVgbgLOR+p0yCTe2rsXheM3fAhzEfNdR48mD+7qr1tlKjpKdOqGBLtpF5L7t2HNhOwLPJGn7Y8raHeGffPtl9va9MiM4OiSflKFnT/E0zbUFdeQTREkf7JXZFkCBlDM4FuON9mCSQg/h6D1drinqfoI5kwagTYNqqFjeC0WcMulcW9VC7+41oD3pknQTq8fMwUnNxyQFG7zj74+S+tnkHihXVvommfoxboXbwKt8eZRPNXjDu7Rbrt/W9EYZm39pqC7vwpZzKWe0Ek5vxz/S1TRBXg6VKyvFLC+Hsi66KqV+fAvhNl5p8lscvL1R2i1f5fhbw6ZhV7TXXvbXXMm6hNAETb2whU/X9zP/RrZGUigOHb2nu81KURefzJmEAW0aoFrF8vAq4pR8BjJjKlzetQUpVSsBp7f/o/3Wn7hyyMtVhli1DMhRuGZXfLNgL05t/wwVtI25Go/PncJNzTmbt94znNt7ANf1V1UMaD5QL50DgOBaEAWkfkuGIgPx7dfroL0bVeys9vhlElq56ibp8f76KjK4+/+CqV2LauswJd3C8pFf42/tZU8Lyb9sPc6p8VDs1Ok6gHIUadcd7znrpuQeWcrVV4pDdIzuGKMjh0e5ssnfjHx8Kxw2Xml/a3l4e5eGZVRZ0/dlWcqPR1x0jHTr6muSFUaZUq66OkIxOPLPPkRpJ4jUD/HPur14kDbY5v5TrjOtPyxD4TKl4KorVMQc+Qf7UgoVD/8RA7m0hWpOPchGqstLMH39XSSREg1/PIuwq/8iaN8BHL1wFw+v/I3vW+vuLMsV6gfYsv6A9vEeyBxQvkV39OjRI/XQ7V2UUur2R1XY31hzQNNJEdvFcmXgJOV79OG/EWh4uw9icDXkhO64KzJ3f5aX6IiODXS3Mqsf/YNF32/BSc2974ISdTr6pzxqaE7fS5Zy1yrFRSNVE5sJuWcFlJNuU1dH/4fgk6lD/CcHD0F7zUxcsqJKLdRMcx7HEui2Poepr67GqA90twfohl7o8/Va3FRYJ9+yoL59HMG3NRn4Aje2fouvl13T3b6YjgIVe/VMPuvx9HGkuPOIWWzrg86dihv8IDs0attc9ywgJeDI9I8wZe8daE/OiNSxd3Bi6+8YP3YpzueJTrKxjM2/1NSP9+LrVi3x8YzV2PTXT+jbbybOa3Y+sXJb1WqNNsXEOe0aoW3zQtplUMIRTP9oCvbeSc5xxN45ga2/j8fYpeczKVv2Rln7oGv70qnOIAsO76Jb58zrhZZgDeuUHRnHg29rz3a+uLFVDLiW4VqWhS12Wvd+jVYtP8aM1Zvw10990W/mee0zTZpbb2u1bgNN1VLdnAG/Sm0xZuVx6E5Iv0TM0xipHgmQuRSUDvxvuYQQzOrXAlXK10fXkT9h/qrN2L59I5ZMGYqOYwJ1B2fxEObZwi/VM1qpxeLAD19g2S3dmWCbqu3RwvY/7AoMRGDgTuwMugjtSWveX19NVgTdfv0Z/kW04S6Sbv+FkaO3INxi8i8bj3PqO9i4JggxmjomL44OPVukuhMgdyjh7Oyga28oGgfm/4S/tq7Hn/O24brYKbNr1BbNdT8WCUem46Mpe5GS5bG4c2Irfh8/Fkst4aBuxr6sdHaGg+7HI/rAfPz011as/3Metml+vNls4NPMR+qgq3B/1Uj0mbgUmzYuwsT3G6PH/EuI126LIe4/5TbB2rT+sI1PM/joChWq+6swss9ELN20EYsmvo/GPebjUrpCNaceZB/V8+di26JZQSKOTO2GAeNmYcnKlVj6xy+YOHEa/vz7NCJy6WKz+s4mrD+kuw1c5tIaE9auwerVq9MMy/F5I1tdYKi6jx3r9oqhLGDbqDUa609yhq/HZ11GYNaardi6aha+7FAbdZp/ix3SWQSz92ftrczv6J7vVz1EwJaj0F57sKqLjv5lU4JYc/peSmc46zZKbGIPYP5Pf2Hr+j8xb9v1zINxG1+0aVpQ1y4nXcOSMZOx74GmsNSIvrAMn0/apnt+XHDEu927wNgbRHOV9jVVWdAkMSJZOoZvostoEJy60dpn/9K4avrX8gskKJ2oUEEH7ZvqBBtb6ft0VvTe3PDUb8JU3aW5rRxSXq0uzpvy+nYDiefot6au0tvnxEGQk61rEfIsUpAclOL6xHGCSw9aJ71S/5VvqcxB+nwxW5wRb2PWMzL/DPNDEGTioE+fMgiKkjRgs/7V65os/42a6t8CqJkutyXXIp5URFuumjfMCeTSY13yJzrY69Hns0kyeBuznuYD8uWlMteUlXOHxQZvSharWYZvY06kf8dVS/kWoKAkp0K6fUzztk5b6c2CVu/NpXDtslK/VVSQ6fZF3Tr1g0CKkgNo82PdyjVvWq0rvWlVaV+Iirg7p3ybT1aQ2i64qXtroIXR/x6jGXxeIONBIKuy/Wid/g25CRm80THhKH1VMYtlKBvRdOm7D3lxf9X/FlNl+qkQsXW7tcQ/+c2ngrwE9duke7OkafmXyZsuDWVUnnqJJ2l8Nd0bnqGsQz8kfyw5e45zSaHTkt8CqiiX+u2uqeXMd3Z1VHR7TguyT3OsERy70hrt9ifSud+aJr81VpO/cltXKuJZhAo6KHXHKMGFeqT82Mzz00T6bTGaqfuySHV7DrWw15VB8iA4Ulftj3+N+hMTRJ9Xkr7fmWYQ7D2pWEHd27cN38Jrar3Ky/R5ZYrM25NMJJraH46hoM8rSZ+pSTMI9uRZrKDuUzGG39k1ox5ktq9m1V9OPDmeqmmP1+I0/XfdEy/RAv/iKcfttINYv1xqj6Rt2k9BGE8/v/EMv38to4LdVpP0obQ0VBT2x3vJbZHM7QPaqH1VdBwd/74+OWTyOwTrNvTnE+0Cst6fX9E2qW7OpKa2hvPqvnkemiqZqX0vkeo2zWlhn6YOCOTYdY14nMq8jUk8Nz31sU7pSIXdXck2+fu5MirQ5Bc6pX+7sznHMjPptykruvA+B1iXLo8ytgYPqaciQF7IDYWt6+Lrhb+gY1nNswcESnyOx5EvYF2uC6at/xmtNM+BKhzh7KRMfWVJVgRdBndCUc2rMjUEezTs0gmeaX+NogpGbNiB/31QG4U1tyOQCnFPH+DegyeI0Vw6siqEqh1aJV9ylzkWgpuDuC6ZFVwKF4RtxhtvmWSu8ChiD6VMBivnInBzzGLjjc0/A4p6n2L6R/VQSD+PSLD3RuffNmBWJ+mMj0hRZQQ27PgfPqhdGLosj8PTB/fw4EmM9mqdVaGq6NCqpsFbAFmukxeAm5st5DIlHNzdkp8d07Cq9wEGNvKAjVzcR+290G1gx1QvqJG5usPDXgGZ3BbuHvr7YhWo+/VC/NKxLDSPBIktGZ4/jsQL63LoMm09fm7lDLmggKOzk1g/pVmSKVDv0+n4qF4h7ZtvdQTYe3fGbxtmoVNB3Qxyb38M7lxB+/xuYuxjPAh/JtYncRsdy6Hdd2uxaFCpjG/ZedtYvaNtEz+o66F7QYUBQVkAlf0nYvPeBeiq31lljijk5qDb710Ko6Cm0ZI7o1Ah60xfxiPYOMFJuveQ99cU8oLucLdTiH0uGxTyKAy75LoqQ8k+v2Fq97Jw0FbSR9i3IwSad3CYln8yOIrHPQdxJ5BZuaBwQemqgaGMylNPsEPBwrppSid3FJLeFpo9xzkVrqxdj2OaywfiPunduQfqZ1rochR0d4edmBdym0Io4qZ/djADmfyezI+1MpToPxnjmrhr81NHXI97URTR3nKiQJURG7Djfx+gdmGltt+ginuKB/ce4ElMovgvKxSq2gGtUn5s5vmZ00zdl0WyEv0xeVwTuKf8eLE+uqOo9se/Rv2xfxc/rv0dvSs5prwYRpDBzqsDJm/dijH1HMX2VwEHVxdY6zfHxHrFUpMXENsTW7EPK7YnhVO1J5lQmNoftse7P67F770rwTGlUCGz80KHyVuxdUw9OIr7qMLBFS76QjWjHmS2r2bVXxbsCqKwdpoSTu6FoG2qEmIQ9fylNirR9B2bdu4C/47t8F6jSnDTPFcn1q+o/+Zg1M+Hc+A5WEPxOH36stjiie2KXRm836cN0jzhI5HB078P2hax1t2OHH0eJ69ormbaoM64TVg3riVKpmlPBNviaPLZh2glvbMty/35FW2TrEQXDOhUGk5Wmkc7xHK084Rf/7SPlJnR95KVQP/J49DEXdN+SgQ53IsWEZeWeRujqDIS67dPR68aBXXHusRoPAp/ijiVGFdbeaD+oLnYtfkr1NA/12DOsSwHCZqIV/o7Q/o3/r0i2et5GY5zBw/iZFgsbDxroWnzanDTHtgyp749B+9V/gx7YzUnsVph7tUADCuaeWuSEH4eR46cxY2IGKiU9ihUojxq1K6B0i6vWFEuyZV8NmBM/r08NAqVm83Q3gqhbDgNlw+MguuV/fjn3zC8dCiJmo0bo0rhzPIvAeHnj+DI2RuIiFFBaV8IJcrXQO0apWEhWZ4n5Ha9ydpLhJ87iIMnwxBr44laTZujWoY78kscGlUZzWZobs1SouG0yzgwyhVX9v+Df8NewqFkTTRuXAXpq5Ya0beO49C/V/AgmuDg4Y26DeujjHPm+/2bZn75JCHyylEcPhmKiFgBdoVKonK9+qheVP9yjOyWd/bXN7NPWEb+mX2cSzqNiXXr4YfTiWJjXxPfHv8X31d/gwWvjsLVQ/tw9NoTqOyLo1aTpqjukSaqSgjH+SNHcPZGBGJUStgXKoHyNWqjRmkXsdOW/XJvX1Yj6uoh7Dt6DU9U9iheqwmaVhcDZmnqaxH7Wmf278fJOwmwF9vZJk1f3dfSsPT+U07L1TbF5P6weNw9sx/7T95Bgr3YLxP3lYyPuwbMrAfmS8KFnxqhzvijYqjphOYzTmLXZ/rbcdUIX/E+KvffrP36g1XTWbi551Nk0Z1P5U32gV4+uoiQ4NO49eQlbNzLoZZPfXgXSJuRObg/JzO275VCHXUVh/YdxbUnKtgXryXWgepI28Rm7AXunz6Co+dv4fELAfZuZVHDpwEqu725s17G1AHLCHZNpsLlXxqhxpgjSCDx4NFyDq7u/DjLK5OWLnfz2bj8Sx/sfokyeeLyWd5hmfvnq2QQ7H5ZJm9cmU3j7SyftxvnueleHvsGNRv+gotJAqzqTcapkLGoxG19Klyv8i8u+9cVixX+hdFvSxxIXhqf7L6E2U31wZEaDxd3QsUh2xCllqFAjzW4vbqr0e8L4LJhxtSBtzM8TDqLVatP4KXmdwk2aNC+HfhLNibg/GOMMab1EsfXbcZVzctMNMeD7t1RngNdxli2UaJ8hTK6R5VUt7B4aEd8/N10zJkzAz+O6oIWn+8QA12x+bGugP7D2ryBF+OxvO6tDHFeHvsLay9ons/RHJsboEP7Ym9p1P5mmJJ/uvMljGU3rlmMWQYFqgyahSV/zsfCVYFY8qHB2z4ZY+y1WaHe13/ip47l4Ch2Nl9c24W533+JTz8dhfEztuDCM4Jtieb4YtU2TGnCoS7Lfm/lbcyq27vwx9JDeKiyg2e9zujbrsJbfyYoN/PZ6Px7dgpr5m/BuWcCCr/zAT5u55X8anxmGd7WW3ienVqD+VvO4ZlQGO988DHaeeXNmvW2ls/bjPOc5QSuV/kXl312SULk5cPYc/A/hN57itgkAdbORVCueiO0aFoVbmZ0A7hsmDF14C19Zjfv4Xxm5uB6Y9m4fHIf5znLCVyv8i8ue8vFZcOMqQN89y9jjDHGGGOMsTyHg13GGGOMMcYYY3kOB7uMMcYYY4wxxvIcDnYZY4wxxhhjjOU5HOwyxhhjjDHGGMtzONhljDHGGGOMMZbncLDLGGOMMcYYYyzP4e/sWgjOZ2YOrjeWjcsn9712nqujcfu/EBy/fA/PyQEe3nXgU7cMXOTSdJH63nZ8/8UsHAyXo1jrrzFjdBMU5FPHeRrvy/kXl73l4rJhxtQBDnYtBOczMwfXG8vG5ZP7zM/zl7j593f45Mvfsevac6iSZxdg4+mDgb8uw6weZSGHGg9+fw+lPtkrziFOdemBtfdWo6udLjXLm3hfzr+47C0Xlw0zpg7wuWjGGGP5XtTuL+HX/WcEhGoCXQFKh0LwKOwApUCIvxeMhXO34o5ak1IGOw8PuGiPngIURUugmELzN2OMMcYsDQe7jDHG8jfVdSz64U9ciScxflWiwqD1uPLoER5ERCHiYgBmDGmIkgWdob9469xlAU6eDMLuvcE4d+gnvGMlTWCMMcaYReHbmC0E5zMzB9cby8blk/vMyvMX69HDszvWRonzKKtgbMgp/Fgni8u16mjcOnkS157J4FaxNqoV1YTBsbhxNARXnyYh7ZoFmR1K1GmESqke7FUj6tIurN+4D6duRiBWcELxyg3Roac/6nlw9GxpeF/Ov7jsLReXDTOmDnCwayE4n5k5uN5YNi6f3GdWnr/YgJ6e3bBGE+yKQWeTqSHY+WVlWEuT03oZ8iWqNp6Oq0mA1bu/4er+USgZtxrve/TGxpiM1qtEjQn/4vj3NaANodXh2Pt9T/T9+QDuvzRML0DmUhMfLtqEWZ1LwuCdWOwN4305/+Kyt1xcNsyYOsC3MTPGGMvfrGuiTjVrMdQU0XMEjWmGxoN/Q8DVaO3kdFQqaB/fFZFapXuZlcIZrs4y3TIyoFBaSdOScPn3Pug2eb8Y6IoHYScvNGrvj3a+ZeAoHpHVUScxb/AwzL+u0qZmjDHGmPk42GWMMZa/yUtjwDcDUM5KOkOcFIFji75AuyqlUaPrRGy8mEnQa8jaD3/eTYKaSHuGOe74BNS21S1P5tIE/XqU112pjd6JX6fuQ6QYLcucG+HHg2dw8O9N2Hb4DHaPqQUbcRZ11D4sWHZWOy9jjDHGzMfBLmOMsXxOhgJtZiBg5Qg0KqK/AisGvYlPcGbDJHStVxd9ll/RfmrIKEnnMevz/+FkHAGCA975ejqGeuluSo4/uAUB9zVXbQU4tRiGD6vrX3vlgDq9OqGK5j5nSsKV48d1oxljjDFmNg52GWOMMVih7Pv/w8FLJ7H+hz54x9MmJeiNvYKVH/fHr2eTpDFZUeHa/C/wc3A0SFyCbc1R+G1kVXHpumkPLl/FY+ke6ISjv8DP1xe+0vBu/6W4pr17maCKfKxNwxhjjDHzcbDLGGOM6TlXRpfxyxFy9Ty2jGuKIgrp1ubYE/hr5X+vvLqrDluB0ZP24KkY0ApWFfHR/75CPRtpohjExsTEJv8dd+8sjoSEIEQ/HL+OKG0gLMCusJs2FWOMMcbMx8EuY4wxlpZdWXSYtBY/tXWSrvCq8eDO3eQXU2VI/RAbx4zHtghNpKtAmQG/Yvy7DtJEDQH29rbS33J4frAc5y9fxuU0w5Ur13F1w2ApHWOMMcbMxcEuY4yx/O3ZOew9cB36a64p1FBpX7WsIcC1YAEp8M1YZOC3+HrdfWjuRJZ79sAvk1rBVTdJIodHubJw0R551Xh8Kxw2XuVRvnzqwdu7NNySrwYzxhhjzFwc7DLGGMvXEkJmoV+LKihfvytG/jQfqzZvx/aNSzBlaEeMCdQ8eyuSe6KFX91Mv72L2AP44YtluJWkeSmVDaq2bwHb/3YhMDAQgTt3IuhipPaqsF2jtmheSHPoJSQcmY6PpuzFnXjtEsT4NxZ3TmzF7+PHYul5Y54PZowxxlhWBHrFl5j5g825g/OZmYPrjWXj8sl95uT5y+AvULXJb7iaWXwpWKFs378QtLgrPMU49eWhUajcbAauiemVDafh8oEvUezE16jRcCouZbIMZaPpuHrgc5SSJeH8/97Du1/u1z7XKy4cclsXuBWwwctnjxEZmyiGwS7osfYeVnfVv6mZvWm8L+dfXPaWi8uGGVMH+MouY4yxfM3qna+x8JcPUNfDOs1tygKUBSrDf+Jm7F2gC3Q1ZI6F4OaghExmBZfCBaH5nK7cuRAKWQuZ3OYswMbJCbo7kxWoMmIDdvzvA9QurBSnEFRxT/Hg3gM8idEEulYoVLUDWtXM9BoyY4wxxozEV3YtBOczMwfXG8vG5ZP7XivPkyJx5ehhnAyNQKxgh0IlK6Ne/eoomlMXWBPCcf7IEZy9EYEYlRL2hUqgfI3aqFHaRQyJmSXhfTn/4rK3XFw2zJg6wMGuheB8ZubgemPZuHxyH+c5ywlcr/IvLnvLxWXDjKkDfBszY4wxxhhjjLE8h4NdxhhjjDHGGGN5Dge7jDHGGGOMMcbyHA52GWOMMcYYY4zlOUa/oIoxxhhjjDHGGLMk/IIqxhhjjDHGGGP5Cn96yEJwPjNzcL2xbFw+uY/znOUErlf5F5e95eKyYcbUAb6yyxhjjDHGGGMsz+FglzHGGGOMMcZYnsPBLmOMMcYYY4yxPIeDXcYYY4wxxhhjeQ4HuyxL8U/CcPP+MyRJ/9aKf4Kwm/fxLNVIxhhjjDHGGLMcuRfsvriPs/u3YtXShfhz0XKsDziCq5EcLVm0l4cx1qcsypbphkURav1IHB7rg7Jly6DboghpHGOMMcYYY4xZlpwPdmMuYPVXbVHBsyRqNOuE3gOGYOjgfujW1kccVwL1+/2GoIcqKfHrUUddRfDegzgfkX+C6ISg0ahkL4dMELSv3049yFF0cICU0hxqqMSiIVIhyaCI1LqRUBmOZIwxxhhjjDELkqPBrvrpQUx4rxE+mBaI6/LK6DTiR/y+eDmWL5qDH0d2QQ3Hxzi+/Eu0bjwY68JeN3BSI2zxEDRr0RzvT/0XL6WxeZ3q3g2Exakhc6+Olm3aoI3h4OeH92oWlVIyxhhjjDHGWP6Rc8Gu+gm2f9kPU45GwarSIKw+fgybZozFxwP6oM/A4Rj7vw34978N+KiqLRKuLscnI//CPf2dsmYh7QeFNZ8Uzo8fl1bUHI7VAQEIMBx2bMPS4TWkFIwxxhhjjDGWf+RYsKu6vABTVt2GSlkdXy6dg/dLW0tTUiiKd8C0Pz5CeSXh8fbZWHQh5fbjF3f+w4H9x3AzWhphQPXkEg7tPYgLEdLV4NgbOLprFw5fixL/QeK8J/BPYCACd+7C0ZuxujTMtDw1Rewt/LtvLw5fjkSG5yuSwnEuaA8OXngEvvGZMcYYY4wxlhtyKNhV4crmzfgvAbB5dzCG1k4f6OrZNRiAXtUUoKRz2L0rTAqG4rF3gh+aN2+CUZvTBqsqXP6jL5q3aIGeM09px8Qf+BH+fm3Rd945JIrT764fifZ+fvBr4wf/yfu1aZhpeWqKl+fnYUCrFmjS/Atsj5FGGniy9mM0bvYe2o3ZjievdfWeMcYYY4wxxoyTQ8FuNI7/exFJpEAFn4YoktVaFF6oV9sdckrC1QvnxWBVR3snsua25HS3JGsn6P6Spln5jsCfSxZheu/yUECOon4TsHDxYixesgR/jmykTcNMy1NTWNXujs6VlVA/DMC6Xc+ksRL1I+zYuA/PyBnNOrdFoZy7cZ4xxhhjjDHGkuVM6JF0F7fvvQQJMniWKiUGoFlRoHhxD3FD1HgW8Qhx0lhTyFyqoV3ffvCv6QZB/J9DhffQZ8AADOjfF+2qOkup8jb1rd2YNWUKphgMP/8yF7tv58KNw4pq6NWtFpT0GDvXBiBSGq2hfrwDm/aJAbBrC3Tv4JZz980zxhhjjDHGmIGciT3UsXgRp7lCaAVbO6VuXBZsbW21/6XERCTyba5mSby8HpPGjsVYg2HMmNGYH5IgpchJcnj36AEfG8LT3eux/ZG+ENV4tH0T9j8XUKhND/gVkEYzxhhjjDHGWA7LmWBXZg1rK0H84yXi4151ZZEQG/tC/K8Ahb097PjSn1mU9T7H+jRvYw4M3IWf2tlJKXKWvFQ39GzsAHq2F+v+jtC9qEodge2bghAt80Db7q2QP66xWzjVVfzRpRK8y5VDueTBG5X8Z+Myvz2M5VOqq3+gSyVvg31CHLwrwX/2Zek9EoyZiNvafIvbE8YsSw4Fu+5wKygGu6TGw3t3XrFzJ+F22H0xjRxFSpSAlTSWmUZWoAKapvnObutWvvB2lBLkNDGg9e/VAi5CNILWbdZ+Rkodvg0bD0ZD5tke3Zs7SAnZm2UFhwLi/unmlmpwL+jI+95b4Rpm+goQBAHDAqVR7PVZOaCAe+p9ws3NHQUdea9g5uK2Nt/i9oQxi5JDwW4BVKroKYavSbj6339I88qi1F6exaEjj6AWHFCjXrXkg4CmM6ehNuOFSSxjOZunMhRu3xt+hQTEHlqPzWFJePj3RhyKkaNUxx5okjsXmNmryEuh75/7cTg4GMHJw2HsX9gfZeRSGmaRrgXOhK9QDiNDpBEs28hL9cWf+w8b7BPicHg/FvYvIx7HGDMDt7X5Frcnedy1a9IfbxkTtvvaTN88dVI9h24atka9Vk3hISc837cCa25mfm33aeA8rLqSBFnBlujS2lUaK8DOzkb8fzWiHqf9Nmss7tzN6HuuuqsdmnBOreIbRdIzJ09N5NIavToUhSw+BOvXHcHmTYcRKy8L/x4+Yo1gjJkrcJgvyvmNRIjPUMwY6iONZYwxxthruxaImeJx1lcTR2gH8W8x0ksbHmqDwHLlIPjOTDfNkr2t251dcuwJWfv3PsagGjbAs32Y9NEs/BctTTDw4uIiDB3xF+6q7VBr+FfoXFCaAAXKlC0JuZCEM7sCEJYcmSXg8uJBGLbkVga3Rstg72AnVlAVHt+9C81TwMyQOXlqKns0/6AzSslf4tii4Zhz8AUUFbqgez2+dYcx8wViy4IQ+AwNQGjwfLStJI1mjDHG2Ou5NhO+5fwwUjzOak4oDx0qDj7i3wv8UC5tcOhdRfffKt7w0v31dnhbtzub5NzroKxq4+v5k9CkEBCx6ws0qdkSgyf8D38uX4kVi2bhuw/boOY7Q7ExDCjabhqWjKljcPVPjhIdOsPXAYjeNw4dP/gOcxfPww8DG6Pxh3tQoF41OGWw5c7VqqGMnPBs11SMnLYYS2ZPxITl56Wp+Z15eWoq63d64X1vORKvnsPlBAWqdemOGll/e4oxlqU2GB0aiuD5bfLlQYoxxhjLKYHTRkLzdJDPjFBQ8HzMny8OwQQKnYG091F5tZkPInGaeDx+m7yt251dci7YFdnVHo1tQSvwRetykN/ai0U/fI6h/T5A38Ej8P38XbhlXR1dJ21B8IaPUSXNfa5yrw/xx6wPUME+BufWfI+PB32Eiavuo+a4jdj6rQ9c5QrYO+g+WaRnVfdjjO9eBlaxZ7Dsq0EY+NmPWPFvhDQ1b5LZO8NJoYS9k8MrvmdsTp7awNFeDrmtIxysUqqKjaM95HJbODpkcMXWqjY+6F0btgIgKGujS4/Kr9wuxljWvLw4zGWMMcay1zVc1V4T80G3tmmOs14jEBw8gk8y5wVipJ8lTRIjkr1SzN1TtHfzX7R4wXz6c+ka2nboIkUkSBOzkPDwNO1cs4QWr9hKR8PipLFZiabrhzbR8oULafmWYLoZI422cNmVz8YwPU9NE7WpD3nIBLJuOI1Ck6SRLEfkZr1hpsuJ8gmd4aNd5tAAaQRLhfcJlhO4XuVfXPaW6/XLJpRm+OiWYdQxNWCoNq3PjFBphCQ0gIb66I7N6QcfSk4uza9dV+gMcZ6UdD7iSF2yUAqYMZR89PP7DE2ZP41QcXk+BsvQrCtlOQYy227NuoaK8ySvS9zWgNC3qp+h/+1ZeWUNMWYh7PXlnXyOoL+6FCCZYEPvTr9OHOvmLN4/LVtOlA8Hu1njfYLlBK5X+ReXveXKjrLRH1O1QakY6GUpw6BRDHSl+YfOCKCAgJQg1kcMVIcOnSGmkOjnH6r7ryaQHSr+nRxsimn1wbcmTUoAbRAwSzRBqn6aNq3hcsTlpuoiZLjdKYG+JsjVzG8YfGsGDnZZtsor+ay6N5/aOAok2DalGTc51M1pvH9atpwoHw52s8b7BMsJXK/yLy57y5U9ZaO5uqlbjnbQXEnNLOjNIGjM+JgsBcA+M1JfZZXmT7sMcSEpgWqawFa//FTp9ctJu3yD35JRemOWoblarB0vDnkl2M3RZ3ZZfqPC7XWrcSAGsH3HH51K8BflGGOMMcaYpfJCm/kEMcjTvZAqZAFG+mk+0zMMga/8Ts817Fineb3VUHRK9e6ncqikWVjIRYTqRqQ2NADBIwyeBvZqi27alftgRmgwUk/qpt2ukIspSwrcskD736Hj0z5TLP6W0boXa4Ws25HlZ4YyW4bmZVZigC39K2/gYJdlK3nFThg9/if8ObUPinPtYowxxhhjFk4T5AWTFPRqo8UF8CsnBry6ydnKp1I56S89r+SvA72a/qVaaQNsiT5wzizQ1nrFMvIYDkdYNpKjRKsR+H7SN+hV24UrF2OMMcYYe2tog97gUOgubi7A5JlZXR/1QlttZLkAW1JFxaG4qP2eUSWkDWtfn7TsVzqPq5luurHLyBs4HmGMMcYYY4wxLS+MGD9U+5fh7cMZ0d9mvMDPF8NmBiIwcCaG+fqJ4W9GtxnnpirwznTl0m3W+QQHu4wxZtGuIXDmMAwbphumaZ8PAs5PThn36ueKGGOMMZa9rmFmv5EIwVAMFWPjBSP94Oc3Ugx0h2JGQCjm58gtwvpANZMrt9d2QNtNyPKqsv626bRXpPMmDnYZY8yihWLLyAVYsEAapFuPQkJSxm3J+sQzY4wxxtK6NhO+Gb6ISgxiJ0svcMryoVbpduChlTB6frDmlcC6IXg+RrTJqWu6+lunQzCy30xxSw1dQ+A0TfAtxrrd2mZ5VbmcdGl3QZpo99pMX5QbKXU08ggOdhljzKK1wXz9ATSTIWfOHjPGGGN5nPZFVAIEX1/pbilf+ArloI33hga84vjaBqM1L7RaMBLlBHEZyYO4DM3yZgamCUazh9eIZbpnikM06xXXJd3lpdluP02M7jMDywxf6ZwBrxHjob1Re4Ff8m/39RW0ge7QoXnrHmcOdhljjDHGGGP5i9cIBIeGIkAM7nxCQqS7pUIQ4uMjxrmhoFeeSb6GHZMX6K6k+mhuZdYP4gjN8kb6odywnLhP2AsjgsXtnqH5XJK4vdJdXsnbHWzMs8KaE+mhmKEJbKXfrrkde0YoYX4no18N/VYQSHNZIAuaMxQar0jGXhPnMzMH1xvLxuWT+zjPWU7gepV/cdlbrjdeNoHDIGgupQ4NyCAwvoaZvporxEMRQPPF0JLlBGPqAF/ZZYwxxhhjjDEzpP9urkb++ryPJeMruxaC8zlvSIq6jzuxtvD0dIWVNC4ncb2xbFw+uY/znOUErlf5F5e95XrzZROIYYLmM0M+8BnaDd06ecNbHHv16hasW7dAc3cwhgbwezVykjF1gINdC5Fd+Zzw8CxCjl1EWGQS7D3KoGr9eihfQCFNZTlKdRk/+VbDuJOVMeHf4/i+Rs7nO++flo3LJ/dxnrOcwPUq/+Kyt1wWUTbXAjFz2mSs0zzrK42CJvj1qYLxy0ajjVdOvZWZaRhTBzjYtRCvm88vrm7Cj6O/xbzAS4hMTFmGYO2BWl1G4pdpX6J5Ubk0Np9RR+Hqkf/w0LkqfKq4IcdC0KQL+KFBTUw4Wx5jgk/hp7oc7OZ3XD65j/Oc5QSuV/kXl73l4rJhxtQBfmY3D4g9MQ0dGnXDlG1XoC7XHp/+MBuLli7B3Klf44P61ri0egw6D18ppc5/1GGLMaRZCzR/fyr+fSmNZIwxxhhjjOVpHOy+7aL3Y3zf8dj3SIbSPRbh2H9bMWv8JxjYrz8+HP0zlgddxJkNX6N1OWdphvxHc7ZHe8JH81/dKMYYY4wxxlgex7cxWwjz8lmFG7PeQ/WR+xFfZhgC/puLlibEtC/vH8GG1dsQcukeoskOhUvVQNPO3dCmsmuasyAJuH/6KEIFbzSoXgTyh8ewZvFaBF2NglWxOug0cCBalrGR0koS7uP00VAI3g1QvYgcD4+tweK1QbgaZYVidTph4MCWSDuLzgvcPLAOawKO4Vp4HOQFy6J++z7o3bQUMkyujsSZv1di474zuBMjh2uJamjUqRs61CgMOWJx4+hhXA7dgm8GzcNF966YPncAvOUCZK7l0apBaWkhGiauNz4MB1evwNajNxAl90B1vz4Y0FqFGXwbMzPA5ZP7OM9ZTuB6lX9x2VsuLhtmVB0QJ2ZJk8SIZOw1mZXPSaE01deKBEFJdSado0Rp9KvF06WlA6iKs4zEKpK8bs0gKD2oybd7KFwlJdVICKIRXgpSlBtBWwK+pSYeSoP5BJK5NKBvD0ZJiXUSgkaQl0JB5UZsoYBvm5CHUkhZjyAjlwbfUppZiGLP0vwe3mQvaLbDkQq7uZKtQpxP5kiVB62i62l+oCpiP01o4k5KMX3yssVBUBSm5r+dpcS47TTQQ5Zqmn6QeQyUliIydb0PttOo2i4kM1yvYE8Veo2ngdWVBGUVGvOv8aXxOvTrZ5aJyyf3cZ6znMD1Kv/isrdcXDbMmDrAtzG/zaKPIORMIkheGu828zb6xUvP9n4F/6FLcSGhDDp+vw4hl28jLPQYNk3phvJW4TjwY298uCIMaim9hqY6qcM3YHjPX3G7zlisPXYNty78g2n+JSF/dgzTRv+OC0lSYi3NLcNqhG8Yjp6/3kadsWtx7NotXPhnGvxLyvHs2DSM/v0CUmaJwp5vuuKTtbfg5j8TwXcjEREeicjQ7Rjrq8SlJR9h8JzLUEmpob6PtZ/0xo8HHsH5nZFYdugywu5ewdFN0zGorhynjl7CSytfjPhzCRZN743yYubIi/phwsLFWLx4CZb8OVJakKnrfYi1IwZj5n/P4VR3OJYevoKbl4KwZFQdPFv3IxaL5cEYY4wxxhizAFLQmylNEiOSsddkTj4nnv2OaivF+azeo7mpLsVmIek6/a+JHQmCI7079TwlSKN1Euny/5qSkyCQssa3dEp/cTIhiD4rqyAIVlSu/zq6nSSNF6keLqGOLjISrJrSjLCUbUgI+ozKKiCOL0f9192mlFlU9HBJR3KRCWTVdAbpZ1HdnE3NHQRSlPmQ/nmuG6eXdGEy1bMSt6nqODoubVPiGfG3i+Nkbl1oxf00v10VRRFP4qV/iPPf+JUaifmk8P6cDqf+wSavNyl0GjW0FkhwakGzrxtkBMXRhT/aU1G5wFd2WTIun9zHec5yAter/IvL3nJx2TBj6gBf2X2LqaOjESMWsSC3h4O9cUWpDg/E9qNxgHMLDB5UGVbSeB0Fyvftj2aOQNLFIOy7a3htV6RsiM9+7IISBl8wkhWqj7recpD6Ae7eTXVpV0vZ8DP82KUEUmaRoVD9uvCWE9QP7kI3ixoRu7YjJFaGIu91wbvi+g3JvRqiQXE5kkJP4ORTzRgVbu/8B2dfCij4Xm90KpLmt8ucUbiAtfSPrJi6XuDZoSCcfAnYN+6F7mUMP+Vkg0pDJmNI9Zx/TpcxxhhjjDH2ahzsvsVkSisoNQ/PquMRlyCNfIXEyxdxPZGgKFMN1Z2kkYacKqFSCQVIdQc3b6W9JVeA9Bx4CsEBjvaajXiJhIw+6yPOkH4WR+hmSYBuliRcv3oTiUSICvwazXx94Ws4NB2JzQ9V4jY9Q2Sk5obiJFy7flsMVeUoVaECbLXLMIfp6719I0xML0fxihWR/l1gcsjT/ljGGGOMMcbYG8HB7ltM5uGOwprgSn0PYbfTX1XNCEXHIFZzwd/WAQ4ZBWaCHew00SMlIO6FblTWZCnBrPZuAiPIUlasm4XEdcVr70PImB2KV/dBk3bt8U5RzdVUMX2cJr0AO3u7dMG08UxdrxoxMXHa9dra2vHOwxhjjDHGmAXj/vpbTOZWHZU9xSAs6RpCDt8TQ7FXExwcYKeJDp8/RWRGUZ5KHP9MnCBzQaGC5oeRphHg6GQv/r8MxXv8gf3BwQhONxzG/k1j0Vh7q7EAB3tNekL0s+dG/e6MmbpeGewcbLXrfR4V9RrrZYwxxhhjjOU0DnbfZtb10LFVMcgpDsFLF+OUEbcyKytUQBmFgKQb/+G/R+nDNdXdYzhxWwWZY2XUqJD6id6cYwWv8mVhLahw5+JFPJPGZk4JL+9SkCMJN86cfmV6zTe4tLdfq1Upb1XWMnW9CpQuXQJKMf3dc2cRnjb74sMRoTlRwBhjjDHGGHvjONh9q9mh6WefwtcRSDj1G4Z8E4AHqaM50Uvc2f0T+n66QvsvmUcbtK1nA7zYjznTDiJKO1aiDseOn/5AyEsB7m27o1X6h1JzjGuLNvBxAGL2zscfJ151/7QMxVq2QDUxFn/2z1zMOx0vjddQ49GhqRg4IRCx0hiZveZqtgDV47u4m2bRpq0XcG7cBLWtxfwOWYqFpwzWm3ANK4YNwfzrxt1OzhhjjDHGGMtZHOy+5eQVP8X8XzvCUxGLUzM7oWb9bvhiyh9YsnwZFkwfh4EtKqNy6/HYcCFSmsELgyYOQQWrRJyf2RG+nUfj1z+XYem8KfjUryF6Lb4Bcm+LSRM7wVU3R66QleiLCR9Xh03cv5jcthkGTl6ETTv3Yu/OLVgxawKGtquFCgM3Qh+OKioNwVddPSF/cRTf+7XA4MlzsWzZPEwe1hy13xuDDeefIDnsdK6GamXkoGe7MHXkNCxeMhsTJyzXTjJ1vfLSffBZl6KQJZzEFP+2GPHrQiz+4zsMbNwQgzYkwrucC+9UjDHGGGOMWQLpE0SZ0iQxIhl7Ta+Xz/F0feu31LGSKyk1D5RKy9IMgrUH1ek5mQJuGX5gNoGubxhFjT2tSTBIq/mOrnu9wbTwdJoPziYco3HVrEnu3ImWPpbG6anCaXEHZ5JbV6Oxx1LWkXBsHFWzlpNzp6WUfpbF1MFZTtbVxpLBLERJYbTj2zZU1kGWersgkMK5HLX77SSl+nrt839pdveK5CQTDH6DNRVtOJxWXoqTEmkk0a2VvamMdUo6eanh0jSRietVRR6in1oXJ+vkvBZI6dGQRm28RPu/rEBWtvXoh7P8nV3G5fMmcJ6znMD1Kv/isrdcXDbMmDogaP5PTJQpzfOOGq9Ixl5T9uRzAsLPheDohTA8iiE4FvFGzXfqwbtAJt9+TYjAhSMhOHPrCRKsCqBUNV/4VnFL8+3d3KeKuo5/g08g9OFzJFq5wtOrKmrXKo/CGX46V4WoqyEIOn4NT9ROKFmzERpl8htibhzG7uAriEQhVGzUAj6l7KUpOqatNx73ju/FoYuPoHYtD9/m76Bk6sXlCt4/LRuXT+7jPGc5getV/sVlb7m4bJgxdYCDXQvB+czMwfXGsnH55D7Oc5YTuF7lX1z2lovLhhlTB/jxQsYYY4wxxhhjeQ4Hu4wxxhhjjDHG8hwOdhljjDHGGGOM5Tkc7DLGGGOMMcYYy3OMfkEVY4wxxhhjjDFmSfgFVYwxxhhjjDHG8hX+9JCF4Hxm5uB6Y9m4fHIf5znLCVyv8i8ue8vFZcOMqQN8ZZcxxhhjjDHGWJ7DwS5jjDHGGGOMsTyHg13GGGOMMcYYY3kOB7uMMcYYY4wxxvIcDnZZluKfhOHm/WdIkv6tFf8EYTfv41mqkYwxxhhjjDFmOTjYZZl7eRhjfcqibJluWBSh1o/E4bE+KFu2DLotipDGMcYsRzwentuPzauWYvGSldi05wRuRev3X8YYY4yx/CPngt2EIIyuZA+5TNC+FjrtIC86GAHxuqTRG/vAQynLMJ0gs0fTGTeg0iVlaSQEjUYlezlkGeWdIEfRwQFSSnOooRIznkiFJIMCUOtGQmU4kjGW/dRR+O/Pwajnbg2l6/v466k0PkMqhAf9it61SqBE9Wbo3HsABg38AF1a1oNX6c5YfJ8DXsYYYyxdjCKTQa60gZNHOdTv+Alm7buDl1JSs8Vvw2BPa1gV7ok1z6RxGYndgA8KW8HKoz82S3FRegk4MKo8bKxc0WnxQ7F3zkyRc8Gu6h5uhMVBLXNH9ZZt0KaN4eAHv/dqoqhCk1CNFxEP8TRJhsJVm6dJpxlaoaG3M3RfUWJpqe7dQFicGjL36miZNu/8/PBezaJSSsbY2yTp3h786F8HjYYtwvGIl0iKi0Fspo8OqBERMBIt/L7C6gvWeGfwj1i0cQd279yCFTPHYUDT0rCTUjLGGGP5WtoYpXVrtGhUA8WEezix7XeMbO2DHouupX6Ez1TqaDx9lojE6ChEZ7WgpGg8ixbTRUUhJtMolhD97BkSE18g6vlrh+H5D72CJokRydKLXUmd7QWCdWta8FgalyEVPfyjBVnBiprPuS/+K38yN59jV3YmewFk3XoBZZnN5kgIos/KKghWzWnOfX3JJFDQZ2VJIZUXe7PM3j9ZrjCvfFT0IOBrauiuJEFRkGr3eZ9q22ja0lY0L0JKktbT7TS4pIIE6wo0dOt9SpJG50e8T7CcwPUq/+Kyt1xml01mMUpCGG0fUZPsxH61rEg/2vJcGm8OY+OgqMXUzlr8HdYdaXmsNC6dOPp7gDvJxL534//dzrexUkaMqQP8zG4+8uLOfziw/xhuRksjDKieXMKhvQdxIcKMW5Njb+HffXtx+HJkxrdWJIXjXNAeHLzwiG9HZ+yVXiJk5UKcde2AnwJPIWReZ5TS3gWTGTXurZmNNWGEYh9Mwy8dikAuTWGMMcaYkayKo+2EEWjpIED96F+EXMjgKuqLmziwdAq++mgQ+vUfis9/WIT9tzK9/5hZAA5284147J3gh+bNm2DU5lhpnJ4Kl//oi+YtWqDnzFPSOOO9PD8PA1q1QJPmX2B7jDTSwJO1H6Nxs/fQbsx2POEHDRh7BSs0+y4I5/7bgG9aFBf/9SpPsGtHMGJlnmjbowVcpLGMMcYYM5GdM5ysdQ9Pai4ZGnpxbgF61qyKZgPGYcbKbdj591+YPXEwWlSrg8Grb7zebc8sx1hUsEtJsXj84D7uhz/FC64x2U53sZ801/p1I5Lp7wLQTE477dWsandH58pKqB8GYN2uNE/hqx9hx8Z9eEbOaNa5LQrx6RXGXkEGF6/KKGHsQ7YJ5/Df+ThAWQm1alohIeICgrauxtJFi7Bi035ciODnexhjjLFXU+PRP3/j4FM1ZAVro0FFg9PNUXvwTddPsPaWG/xnBuNuZATCIyMRun0sfJWXsOSjwZhzme9ftEQ5H3qob2H3rCmYMsVg+PkXzN192+CWVs0ZlJfYN7Ic3It6wtOjIBwdCsG7US9M3HgJaa9DsvTUt3ZjlmEei8PPv8zF7tu5sOMpqqFXt1pQ0mPsXBuASGm0hvrxDmzaJwbAri3QvYMb30rAWHaLv4O74WpAfg8b+tZAsWJV0aRTLwwYPBh9uzRHtbKV4T8tGJF8VwVjjDGWQh2Jy/sDERgYiO2bVmDm1++jSZ9lCJN5ov0P49HBWUonBsG3/voZS64SSg+cj6WfvQM37eNFNijlNwnzPq8DxfPDWPzXKb66a4FyPvZIvIz1k8Zi7FiDYcwYjJ4fggRtAhlcandAv979MHj4KHz55ef4ZFBXNC0nx+3g1ZjUzRetfzzGAe8rJF5ej0mGeSwOY8aMxvwQXS7nLDm8e/SAjw3h6e712P5I36tW49H2Tdj/XEChNj3gV0AazRjLNurnUYhWESj2PA6esUfLUdOxbHMAdu5Yizmft0Cxl9exZUx3jNzyRJqDMcYYY0j8F7919YOfnx/ad+mLkVO34kHZ3vhlRwjWDSmP5NdlqCOwa3sIYmVF8F6Xd+EojdaRw6thAxSXJyH0xElk+YVA9kbkfLCrrIfP1wcgIMBgCAzErp/aJX8Kw7reJ1jw11L8Oec3TJs2HbMXrsWec1dw+JeWKCxWm+Cfx2LRDb41ICvKep9jvWEei0Ng4C781C53PjgiL9UNPRs7gJ7txbq/I3QvqhIbh+2bghAt80Db7q2QfIKMvTmqq/ijSyV4lyuHcsmDNyr5zwbfffOWItLub4K9H+acOoJVv4xC305t0MqvG4ZP/xtrRlSEQnUfW5Zv16Vn6aiu/oEulbwN9glx8K4E/9mX+aV6zDzc1uZb3J68RZQV0HXCT/hp0jgM71wLhZWEZ9fPISxOkRLoaiRdx9WbieLhNgqBXzeDr69vqqHpyM14qCKonkUikgvZ4uR8sCsrgApN03z/tXUr+HqnPi+SngvqjvgOfcspQLHHsO9QBq8QZslkBSqgqWEei0PrVr54ZTZnFzGg9e/VAi5CNILWbcY9sfetDt+GjQejIfNsj+7NHaSE7M2ygkMBd7i5uaUa3As6GvEiJGaJZPZ2sNE8CaKSQW6jG5fCBrXea4yickL89SvSOJaOlQMKuKfeJ9zc3FHQkfcKZi5ua/Mtbk/eHrJSaPnZGIz5djLmbDyCkHmdUCT2NOZ++DnWPTR49ofi8CI+i3fa2BVHdZ8maNf+HfF4K40zmRpqg1WmpX+njiDoXp7FjGfZj1AqSqJkUXETKRHPn3Gw+7r0O4jajJdQvZoMhdv3hl8hAbGH1mNzWBIe/r0Rh2LkKNWxB5rkzgVm9iryUuj7534cDg5GcPJwGPsX9kcZ/l7N28le7Eg5ykCqCNy/l/6UsmBvD1tx1ycVn27OjLxUX/y5/7DBPiEOh/djYf8y/BknZh5ua/Mtbk/eVlbw6jcNX75rD/XDzZg292zK87eCI5zsxQOprDh6/LE/ddkalPGmsY3T3OJsBKUdbK3EZauj8PhRZsfpBEQ9jQUJcjg4OVp48GZ5LDu/km7i5l21uJUOKFKsoDSSmUeAnZ2N+P9qRD1O+73bWNy5m8k3ck3h0hq9OhSFLD4E69cdweZNhxErLwv/Hj6wlpIwxrKZsiIqeYldqKQrOHky/UnBZ5ev4L5KgLJ4aWkMY4wxxtIR+6z9PuoAN+Elziyfj/36FwZZeaF8WWsIqju4eDHNV0del1V5VCijAFTncPjg44z74rEhOHwyHqQoi2pV+U5JU735YDfpIa7fzOiq7UtcXjQFK68nQVboPXTkS4OvSYEyZUtCLiThzK4AhCVHuwm4vHgQhi25lQ3Pktij+QedUUr+EscWDcecgy+gqNAF3evxrTuM5Rjx4NyyeUUo8Qy7Fy7FFcNXQcYew5w/9iIGtqjXqoU0kjHGGGMZcW07BF1LKaAK24AFWx9JwacrWrTxgYN4NN07/w+ceKEdmT0UVeDfsTKs6BkCfhqHv++n7Y1HIfiX77HmrhrW1bqiW41UTxMzI7zxYDfp0nx0r1IG1doNxfjp87Hsr7+w9I8pGPV+fTT6LBCPhCJoO/l7dOE3+b4mOUp06AxfByB63zh0/OA7zF08Dz8MbIzGH+5BgXrV4JQNtcH6nV5431uOxKvncDlBgWpduoP3S8ZMocKt1SPQsa3uDZF+nX/FkXhxdNIpzO2tG9fW/ytseqA//6tAzSEjtY8QPD8wFn7tRmLan8uwZM5E9G3SDj/9FwfbasPx/RAvKT1jjDHGMmTXCIM/qAolPUHgwtXQfcFThhJ9J+Dj6jaI+3cy2jYbiMmLNmHn3r3YuWUFZk0Yina1KmDgxgyiYPHY/XtP6XiePLRFx1FrpGWLx/CRU/FxZVux77wYPeo2Qp+xv+HP5SuwePYP+LhNfbTRfJXGoRa++N8oVOc+tenoFTRJjEiWXtwWGlBEScoC3WhVlDQuI0/30Xcty5CjXEhel3YQ5ORUrjWNXneZYqWkeZm5+Ry3ZQAVUSqpQLdVlFU268TTpSV9qIKjLHl9gnVxavXdHrq98yMqqbSl+j+ek9KKEo7RuGrWJHfuREsfS+MogY6Nq0bWcmfqlDLSQCKd+7E+2Qrisq0a0E+XkqTxLCeYW29Y7jCvfMR97JvKpBT3If38aQfBui79cD5RSq+hovC931PrkrakeTw3OZ3MkbzaTaDAu/lnP9T/dsayE9er/IvL3nKZXTaviFGSbs6ndgUVJHNqS38+UEljxfFhO+jbNmXJQZY2ZlGQc7l29NtJg+Ny/H76vIJ4TM7wWC6Qssa3ZJg86eF+mtqjBhVSpl22FXnU60+zjzwRj/QsLX0+ZUXQ/J+YKFP6lxq9ItlrUiP2/jn8e/wS7jyOgcraFcUq1EGDWiXhmE+ews6dfNZ5GX4G+w+cwv3EAqjU+D3UL57uFa6v5dnmvqjw/l946jMV5w98Cc3jhCxn5Ga9YabL9fJ5GY5zhw7h1K2nSLJxQ7m678LH2zVfvRSF9wmWE7he5V9c9pbrzZSNClHX/0XwiVA8fJ4IK1dPeFWtjVrlC2fL+2niw8/j6JGzuPUkDjIHd5Sp/g7qVSjIb3HPhDF1wEKCXZZ38vkRVr5fAX03vUDDXy9g3+f89sGcxPunZePyyX2c5ywncL3Kv7jsLReXDTOmDuST66Yst6jvb8bKf56CbN5B584lOdBljDHGGGOMvREc7LJspMLtdatxIAawfccfnUpwqMsYY4wxxhh7M/g2ZguRN/JZhbBdc7AoOA7lO36IHrVd+GxKDuP907Jx+eQ+znOWE7he5V9c9paLy4YZUwc42LUQnM/MHFxvLBuXT+7jPGc5getV/sVlb7m4bJgxdYAvvDHGGGOMMcYYy3M42GWMMcYYY4wxludwsMsYY4wxxhhjLM/hYJcxxhhjjDHGWJ7DwS5jjDHGGGOMsTyHg13GGGOMMcYYY3kOB7uMZaOkqPu4ee8pXkr/ZowxxhhjjL0ZHOzmMQkPz2L/1jVYtuQvbAgMwZXIJGkKy3Gqy5jauhTKlG6GH09zvjPGGGOMMfYmcbCbR7y4ugnjOlZG0RI10KxTT/Qf2Add/XxRsWhx1On9C/beV0kp8x911FUE7z2I8xE5HICSCirtKpKQmKgdwxhjjDHGGHtDONjNA2JPTEOHRt0wZdsVqMu1x6c/zMaipUswd+rX+KC+NS6tHoPOw1dKqfMbNcIWD0GzFs3x/tR/+fZixhhjjDHG8gkOdt920fsxvu947HskQ+kei3Dsv62YNf4TDOzXHx+O/hnLgy7izIav0bqcszRDfkMgEgfNX+J/GWOMMcYYY/mDIAYAWUYAgiBo/8uBQs4yL59VuDHrPVQfuR/xZYYh4L+5aGlCTPvy/hFsWL0NIZfuIZrsULhUDTTt3A1tKrumOQuSgPunjyJU8EaD6kUgf3gMaxavRdDVKFgVq4NOAweiZRkbKa0k4T5OHw2F4N0A1YvI8fDYGixeG4SrUVYoVqcTBg5sibSz6LzAzQPrsCbgGK6Fx0FesCzqt++D3k1LIcPk6kic+XslNu47gzsxcriWqIZGnbqhQ43CkMfewNHDlxG65RsMmncR7l2nY+4Ab8gFGVzLN0SD0vbSQjRMXG98GA6uXoGtR28gSu6B6n59MKC1CjMa1MSEs+UxJvgUfqqrkBLnHN4/LRuXT+7jPGc5getV/sVlb7m4bJhRdUCcmCVNEiOSsddkVj4nhdJUXysSBCXVmXSOEqXRrxZPl5YOoCrOMhKrSPK6NYOg9KAm3+6hcJWUVCMhiEZ4KUhRbgRtCfiWmngoDeYTSObSgL49GCUl1kkIGkFeCgWVG7GFAr5tQh5KIWU9goxcGnxLaWYhij1L83t4k72g2Q5HKuzmSrYKcT6ZI1UetIqup/mBqoj9NKGJOynF9MnLFgdBUZia/3aWorcPJA9Z6mm6QUYeA7dJSxGZut4H22lUbReSGa5XsKcKvcbTwOpKgrIKjfnX+NJ4Hfr1M8vE5ZP7OM9ZTuB6lX9x2VsuLhtmTB3g25jfZtFHEHImESQvjXebecPY64jP9n4F/6FLcSGhDDp+vw4hl28jLPQYNk3phvJW4TjwY298uCIMaim9hqY6qcM3YHjPX3G7zlisPXYNty78g2n+JSF/dgzTRv+OC6ne/6S5dViN8A3D0fPX26gzdi2OXbuFC/9Mg39JOZ4dm4bRv19AyixR2PNNV3yy9hbc/Gci+G4kIsIjERm6HWN9lbi05CMMnnMZya/ZUt/H2k9648cDj+D8zkgsO3QZYXev4Oim6RhUV45TRy8BviPw55JFmN67vJg3chT1m4CFixdj8ZIl+HNkI2lBpq73IdaOGIyZ/z2HU93hWHr4Cm5eCsKSUXXwbN2PWCyWB2OMMcYYY8wCSEFvpjRJjEjGXpM5+Zx49juqrRTns3qP5qa6FJuFpOv0vyZ2JAiO9O7U85QgjdZJpMv/a0pOgkDKGt/SKf3FyYQg+qysgiBYUbn+6+h2kjRepHq4hDq6yEiwakozwlK2ISHoMyqrgDi+HPVfd5tSZlHRwyUdyUUmkFXTGaSfRXVzNjV3EEhR5kP657lunF7ShclUz0rcpqrj6Li0TYlnxN8ujpO5daEV99P8dlUURTyJl/6RRDd+bURKKMj788Npfq/p600KnUYNrQUSnFrQ7OsGGUFxdOGP9lRULvCVXZaMyyf3cZ6znMD1Kv/isrdcXDbMmDrAV3bfYuroaMSIRSzI7eFgb1xRqsMDsf1oHODcAoMHVYaVNF5HgfJ9+6OZI5B0MQj77hpe2xUpG+KzH7ughFz6t0hWqD7qestB6ge4ezf9p32UDT/Dj11KIGUWGQrVrwtvOUH94C50s6gRsWs7QmJlKPJeF7wrrt+Q3KshGhSXIyn0BE4+1YxR4fbOf3D2pYCC7/VGpyJpfrvMGYULWEv/yIqp6wWeHQrCyZeAfeNe6F7GICNgg0pDJmNI9Zx/TpcxxhhjjDH2ahzsvsVkSisoNQ/PquMRlyCNfIXEyxdxPZGgKFMN1Z2kkYacKqFSCQVIdQc3b6W9JVeA9Bx4CsEBjvaajXiJhIy+6yPOkH4WR+hmSZA+BZSE61dvIpEIUYFfo5mvL3wNh6YjsfmhStymZ4iM1NxQnIRr12+LoaocpSpUgK12GeYwfb23b4SJ6eUoXrEi0r8LTA552h/LGGOMMcYYeyM42H2LyTzcUVgTXKnvIex2+quqGaHoGMRqLvjbOsAho8BMsIOdJnqkBMS90I3KmiwlmNXeTWAEWcqKdbOQuK547X0IGbND8eo+aNKuPd4pqrmaKqaP06QXYGdvly6YNp6p61UjJiZOu15bWzveeRhjjDHGGLNg3F9/i8ncqqOypxiEJV1DyOF7Yij2aoKDA+w00eHzp4jMKMpTieOfiRNkLihU0Pww0jQCHJ3sxf+XoXiPP7A/OBjB6YbD2L9pLBprbzUW4GCvSU+IfvbcqN+dMVPXK4Odg612vc+jol5jvYwxxhhjjLGcxsHu28y6Hjq2KgY5xSF46WKcMuJWZmWFCiijEJB04z/89yh9uKa6ewwnbqsgc6yMGhVSP9Gbc6zgVb4srAUV7ly8iGfS2Mwp4eVdCnIk4caZ069Ir7n1WncrtVqV/E5lianrVaB06RJQiunvnjuL8LTZFx+OCM2JAsYYY4wxxtgbx8HuW80OTT/7FL6OQMKp3zDkmwA8SBvP4SXu7P4JfT9dof2XzKMN2tazAV7sx5xpBxGlHStRh2PHT38g5KUA97bd0Sr9Q6k5xrVFG/g4ADF75+OPE6+6f1qGYi1boJoYiz/7Zy7mnY6Xxmuo8ejQVAycEIhY7b9lsHewEwNeFR7fvYu0SzZtvYBz4yaobS3md8hSLDxlsN6Ea1gxbAjmXzfudnLGGGOMMcZYzuJg9y0nr/gp5v/aEZ6KWJya2Qk163fDF1P+wJLly7Bg+jgMbFEZlVuPx4YLkdIMXhg0cQgqWCXi/MyO8O08Gr/+uQxL503Bp34N0WvxDZB7W0ya2AmuujlyhaxEX0z4uDps4v7F5LbNMHDyImzauRd7d27BilkTMLRdLVQYuDE5WFVUGoKvunpC/uIovvdrgcGT52LZsnmYPKw5ar83BhvOP4E+7HSuVg1l5IRnu6Zi5LTFWDJ7IiYsP6+dZup65aX74LMuRSFLOIkp/m0x4teFWPzHdxjYuCEGbUiEdzkX3qkYY4wxxhizBNIniDKlSWJEMvaaXi+f4+n61m+pYyVXUmoeKJWWpRkEaw+q03MyBdwy/MJsAl3fMIoae1qTYJBW8x1d93qDaeHpNB+cTThG46pZk9y5Ey19LI3TU4XT4g7OJLeuRmOPpawj4dg4qmYtJ+dOSyn9LIupg7OcrKuNJYNZiJLCaMe3baisgyz1dkEghXM5avfbSUr19drn/9Ls7hXJSSYY/AZrKtpwOK28FCclEiXdopW9y5B1ct7IqdTwvdJEkYnrVUUeop9aFzdYnkBKj4Y0auMl2v9lBbKyrUc/nOXv7DIunzeB85zlBK5X+ReXveXismHG1AFB839iokxpnnfUeEUy9pqyJ58TEH4uBEcvhOFRDMGxiDdqvlMP3gUy+fZrQgQuHAnBmVtPkGBVAKWq+cK3iluab+/mPlXUdfwbfAKhD58j0coVnl5VUbtWeRTO8NO5KkRdDUHQ8Wt4onZCyZqN0CjD3xCDG4d3I/hKJFCoIhq18EEpe2mSxLT1xuPe8b04dPER1K7l4dv8HZRMs7zcwPunZePyyX2c5ywncL3Kv7jsLReXDTOmDnCwayE4n5k5uN5YNi6f3Md5znIC16v8i8vecnHZMGPqAD9eyBhjjDHGGGMsz+FglzHGGGOMMcZYnsPBLmOMMcYYY4yxPIeDXcYYY4wxxhhjeY7RL6hijDHGGGOMMcYsCb+gijHGGGOMMcZYvsKfHrIQnM/MHFxvLBuXT+7jPGc5getV/sVlb7m4bJgxdYCv7DLGGGOMMcYYy3M42GWMMcYYY4wxludwsMsYY4wxxhhjLM/hYJcxxhhjjDHGWJ7DwS5jGYh/Eoab958hSfo3Y2+CKj4S92/fwv2nCVBL4xhjjL0d1FEn8NeUX7DpitSbUIVh95zJmLs/POfb9PgnCLt5H89etyOTFIX7N+/h6Uvp31oxOLv2Z0ycsgZnYjT/VuNB0Hz8MGkWdt1SaVMwZilyPth9+QSXD27FqqWLsXztDhy+FIEEaRJjFunlYYz1KYuyZbphUQSHGIbiH5zFgb/XYtmSZViz4yhuRr8if+If4tz+zVi5ZBEWr9iAXf/dQaw0ib2a3KYAipYshaKu1kY01tcw01fQvplwWKA0KkumpjeWpWyHmV7cx5m9G7Fi0SIsXb0dITeeZVun9MX9M9i7cQUWLVqK1dtDcOMZty/5QzwenD2Av9cuw5Jla7Dj6E28qulkeYA6Eju/7omBM/5DgqumBVfh6rwh6PHFaty0ccnhDvhLHB7rg7Jly6DboghpnMYzXAxcjsVrDiMsVfCaGRUuT22NUmVKo9mPp6VxooSjmPvVeEz69ivMO6rp1T/Djl9GYMLEL/HD+lviXIxZEHoFTRIjkmUggULXjaKmxe1IJuiWoR0EJRWsMYCWhSZJ6dJLODeD/Io7kFKuJAev4RQYL03Iw8zN54TD46imk5wEMV+dvbvRgkuJ0pTMJV6YS/5lHEghCKR060SLwlTSlNyXcPAbquogI0H6/YIgJ6V9QSpRvSUNnLSGTke+gW1LCKLPyioIVs1pzv03lzfGMLfeJFM9pRMLBlFdNytSuHShFZHS+DRiL6+nMe0rkotCSF4nIJDCtTr1XXCaYqR0KaLp1IKBVEdcrr5stYNm/6/Vn/48k36OvEj/u3NaaMAM8jHI56EB0oRMmJreWJawHfplmSzuMq37yo+8XRSp6qygcKFqfRbQmVgpnRniLq+jr/y80+8/LtWoz4Iz9BqLZrlEX26miaXL68dQ+4ou4vE2pU5BUJBr9b604HT+aAffduaVvYqe7BhGXkolVf76CGm6sUnX/qDWBeTk0mY+3c7xrkUCBX1WlhSwouZz7kvjxK26O5uaWYvtkNyThhjVuU6k85NqkxJKqjLmX2mcKD6QhnjKCcpa9N1ZTb8zgua1shbrtjP5//VUlyYXmFc2LC8xpg68soaYW5Figr6gyuIOJSiLkM/A72jOkmW0ePYP9Nn79cjTtiD13hgnpUwj6Tr90cqVZGIDoZSJ8zt0oVX5oCdgbj7HruxM9mLQKre2JqUYKHoO3EbPpWkZe0qb+hYluWBDtjZig6eoTN8cS5Cm5T7d9oPk7tWpZZs21KZVM2pYsyQ5aTuFAtlV+pC25HbAmU+C3cS7u2lyh7Jkq++EWbeieRHSxFSe0MK2tuK+7Ea1uoyin+cupaV/fE8DG7hrO3CCsix9GBglpdVQUcTGvlRcLENZgTo0cMoy2vrPbtq+agaNaFZMrKcCKb0/o335oJ/3OuVjrIChPrr1+AylGdLfWQWNpqY3lqVsh3aZ4mCqqOX+5CAoya1mZxoxZS4tXTqPfvq4GRW3EtsicXyFz4PMDEqjaLm/g3b/qdl5BE3R7D/zfqKPmxUnK+3+U4E+D+Jw19KZVa+eLKS2tpqTyrWoy6ifae7SpfTH9wOpgbvmhIo4vuyHlKrpZBbJrLKP3kufeStJ5tKWFmguKKjCaHGnwiRTeNEnuXLwyzjYpeg9NKZhOSpTtRvNv5z5RacUGQe78cGjqZJSRs7NZ5Lm2pUqfBV1c5ORotRg2pF7sa55ZcPyFGPqwCtriHkVKYrWdBMDVrGDUPWbo+k6CHF3L9ONqIyCCBXdX9WNisiVVG7QJ+TnwMHuq+iDXccWXaiVi4xkrv607GHmAZoqbB61dhIPspW6U/eaSosJdq1bL6DH0jhNPXh+YTn19dZcFZRTiSHZ0AM2RZ4PdlX0IOBrauiuJEFRkGr3eZ9qa058ZBrsxtGR+ZNo6clIcU4DMcH0VVVxGWKnzaXzX5R8UVh1n+a+Z0eCzIU6LL6fZp499LEmb+Ul6aM9ef+WDXP3a+MF0FBx+T5ilBgq/it0xquCRlPTG8tStsP8PI8LnkffLz9FqW8mSaDT39Uha80JuVLDaZ9ZVTaOgud9T8tPpdl/Ek7Td3WstW1cqeH7tFd+mOUyq17FHaH5k5bSyTR3KMUEf0VVlZqTKC7U+a9MbqdhFsOcso/Z0IsKykDKRr/SDTEYTLo2jRpaCSQr1Je2ZHKtJ3tlEuyaLINgVzzGL/MvSHLnd2nqWU3/MZFOf1+brBUlqM+Gh6nbuRxm1n7J8hRj6kDOPDKguo/rt2KgFpxQvV512Emj9Ww8y6O0cwarfroTE8dvQoRHd0yZ4AMxCGJGElz90K+9GxC1C0tWZ/a8RBIuLFmIfdG28OnfF5Xk0uh0XuDO0Q34fdJoDB/cD30HfoSvpizDobB4abqO+tl1HNm7BwfPhyPdox/x93DqwB4cuvjEjOfdZHCs1Aczvu+IAjIV7u3aJo1P8fL+EayaPhafiNvXb9BH+PKH+dhx4WmW6zJnnrzpJUJWLsRZ1w74KfAUQuZ1RimFNClDNmgw9Fv0q+ma+hkj+zro7FcOcrGdiQ27iQf6Sqe+i7D7iSCZB8pXLJh6HttKqFRKHEOxiInWtE/s9bTB6NBQBM9vAy9pTNZMSH9tJnwFAYLvTFyTRukFDtM8Y+uLmckTcnA7comNzzBM6FMD2kfrklmhYsvGKCm2lepHD/FQquOmtX028Bk2AX1qpNl/rCqiZeOS4v6jxqOHD/kZt7zIpgGGftsPNVNXKrHp7Ay/cmKlEtvBsJsPuOzzHDWePwzXPpctyBVQiH1Z1f17CFeLxzyFQtznJbG3cHzfXgRfyaQfkhSBCwf3IOh8hEEdMa5/lrkEPDhzAHuDryIq3UrjEXZwCX78YhgGDfoY42Ztx+VoaZKBlyf/wG8BSfAdNwcjqloBkX9j+vyzcO/5G6b5u+fws8iMmUEKejOlSWJEstRU4bSgjR0JUJD38D1k3B0NMXRodBWykhWiDgtvkSp2DXV15Cu7r6K/suvUbS092fcJlZELpKzxLZ3M6NHduH30SVmF7urvvfP0Q50MruzGHaGfmhbVXsnQ3EYsk8ulZ67Fv13q07j9KaWZeHoS1bUTy8i2Nk341/BUZSQFDCtLCsGaqn4TkuUVi4yv7OoknvqWqiuhrQMp4unS0gFUxTnlOV/9ICg9qMm3eyg83WlFE+fJB1d2n4aep9v6/Sp2FXVxyOrKbmYS6OhXFUmMk8mqyf9SnkFSPaQ/2zqSIJZ/7QknybBmqO4tJf9CYjk4taZ5b/BZ8dxiXvmYz9QrpK9KHzBUt/0+MzTXXyUBQ3W/K4uVZPd2mEK7beKQXWK29iN3GUhe+pPkK7vZ0fZpjnlb+7mTDHIq/Qlf2bV02VqvEo7SVxXFYwysqMn/bufqlTBmOnPKPun2PzRr4kSa9c9t0t4sHHOW1k6ZQJOXH0/uEycc+5oqKcS2pegA+jtaGmng8YrO5CoTyKHdIl0fxYT+WaZXdsX+zQgvTf+mBf3+wKDmqR7Q9lG1yUVcn/73apZrX6EXjR9Y3eDKrooiDsylidO303Wpn5kUupl+nrSIQh7nfk02p2xY3mJMHXhlDTGvIqkobFEH7S0cgrww+Y5aSWefZr0TJJyeTA3sZeTU+Fe6qNmBONg1imGwG5t4gsZVU4p5XoaG702faY9Xd6fCMjkVG7SDohMvZBzsRiwi/9K1qdu4hbT7fLg2UIkPP0krhlbXrsfG52dKecwjhg5/VVVseMX1vzuNLkgNX/SBUVTJSvNc5ie05xXPI2UV7Mb+PYCKaDqZJT6SxhBF7fmMKojLFmy8qNP36yjk8m0KCz1Gm6Z0owr2YiMtcyf/pak7DybPk59eUKVhbrCrCqPZzW21J7XKfhYkHlpTRO0ZQRU1z+xblaT2U/bTfbFuJN7dSWMaFiSZzIUa/ng8VRCcV2VL+Zgg+4NM3e3GwFDxr4z+nbE8E+zGnqapTV20j+RU+PygQZ3Nhrbv9FRq6iLTPbN7MD/sDW+37KxXqrDZ1NxWbHMVZemzoDf3GBEzTra2KYYSj9PYKmI/TOZBfTenfdtKBC3z17Q9ztRu4QNd/8Sk/lnmwW76/o2KHqzqRh5if0vmUo+GLz1MV25eoqAln1PjIvoX9qV5QZWFyLGyYW8NY+rAK2uI2RUp6RatG1RJG8hozg4pC9ekruNX0qknGQQPSddoTktxp7apRRP+lc5vc7BrlFTBLiXRlakNyUaQkXuv9SnPUGok3aBZzezFjlUl+vqoeHBNyiTYzUzUGurmKnbM7DvRcsM2OWoPfVpeDLBlBchv3g1KijtK42vakKAoTYO3PUkVdGYk02A3/gLNaFlAe9Wj2KBtunFJ1+l/TexIEBzp3annUwVX4lGDLv+vKTmJeaG5sn1K6nyaNQ8Hu0ZJOPEt1dScRLCqTuOPp61DCRS65iOq7ap5U7icXCrUo8qFlCRz8KYuvx6mN3AC+I3IlvIxQU4Emfo0miu5AUYu/60Ndp+fp4DlS2jxovk0Y9In1LGyC8kFO/Lyn0nH0155MbHte34+gJYvWUyL5s+gSZ90pMou4r5h50X+M49TBhd1mIV5rXqVSgKd+LYmWYnHHavq4yld08ksTvaVfVqJdGZiLVKKfTa33hso1WseI5ZSJxeBZK6dacWrjssZ9s9MCHaTQmlaQ2vxWO1ELWZf112JlsRd+IPaFxXbKg52mYUypg7k3K318pLouiAYwcu/RBsve6gen8L6yR+grnc9DFp4GimPAahxf803mLwvFl5Dp+HLutbSeGY6Obx690UzR0LE9iVYfy/lgYyk04ux6NAL2NQfgIF1rKSxJrD1hGdhGSjxGaKeGzzo4dwc303vh1Kyp9j1/ReYNG4kZpxOhGePaZjsV8DoZzfUESexZfVqrF61HH/+Nha9GzbFl3ueQubZET+MbaNLEx6I7UfjxHW2wOBBlZH6VyhQvm9/8beLv/ViEPbd1W2jOfMwI7y8gDlfzsaZRDlK952MUbXS1ikreHWdjN/HtIS7TI2oy//iwmMV7EvWQN0qxeDAD/W8NbxGLMMMH/GPBX7wGxkC+MzAaN0umeckHJ2NYQPENnLQMIycMAdbL8bCpVobdO1QF8VtpER6JrV9CTg6exgGDBiIQcNGYsKcrbgY64JqbbqiQ93iSLtolne9vDAHX84+g0R5afSdPArpmk6WjyhQuXsX1FISHv+zEf9ESaPFfvHjHZuw/5mAgq26o21haXRmMuufGevZIQSdfAnYN0av7mVSnikW2VQagslDqotbytjbK2e7nDIXVP9gGgIuXMGhP79EW28HqJ/8hyUftkL3eVd0D9xHBmDC+C14VLQXfh7fBGLcwV6DrOj76OdXGEL0XixdcVV6qUEs9ixYjvMqZ7w36AN4ZfpiKr0khJ9Yj/+NGYaeHVuhWeNGaNjkE6y7q1uaOk1bWqDNZEzt4Qk82IxJvx1FnIc/fv7ZXwxypARGSDw5D4N79UKv3v0w9IspWH0yFsWajsDy3SvQv4xugxMvX8T1RIKiTDVUd9KOSs2pEiqVUIBUd3DzVqJ2lDnzsFeJwqHv+mFi0DNYV/4EC6a2Q4E0Za2OPIxf2tdC46/3Qe47HPO3rMcvfWvC5up6jGlbFy3G70EEn1t4S3ihbTdNtKszdPwIi3mpVHazfncsNgYGImDHNmxaOQ+Th7eC263N+HlgY9TuMBOnX0gJJca3fdZ4d+xGBAYGYMe2TVg5bzKGt3LDrc0/Y2Dj2ugw8zTSLJrlRVGH8F2/iQh6Zo3KnyzA1HbGnxBmeZPcuzu61rcGPfkHG3Y+1Y1UP8KOTQfwXHCHX482cNWNlZjWPzNG0u0bCBP7SfLiFVHRWRppQC7PW2+LVV39A10qeaNcuXIpg3cl+M++zC+Ly6Nyp521KgqfQdOw/WQI5nUuAbk6Av9MnoZdL17i6LQxWBHmiOZffA5fPMGjR490w9NYiPseQEmIffIIT54lZPy2OpaGK9r290dxWQKOL1+C4y/Fxi98IxZsuAsU6YxBXTyyLnT1fWz/3BeVGnTHF9P+wr5L4YhJVGvvEciUrDDebdNACngE2FbwRQMP06qWsmo/TP9jLubO+xNL12zHoUthCN37P/SsmPIub4qOQaxmQ2wd4JBR2yvYwc5W/C8lIE7qOZozD8tKPC7M7Yse006KHXs/TF/7M5qnPhJrjiSY39sfYwMjUWXkFhzfNxtDO76Pr5Ydxem/v0IDpyc4PKU3PlxxR5qBWbZATNNc0YWP+D/NBd5h4pg8yroE6rZsjTZ+7eDfaxjGzd6G40FT0MRZhXs7x+PzP6+n7gyZ0PZZl6iLlq3bwK+dP3oNG4fZ244jaEoTOKvuYef4z/Hnde5m5WnxFzC3bw9MOxkHD7/pWPtz8zRBDMuX5KXxflcf2NJT7N4QgEhxlDpiOzYFRUNWtB26tzS4BGRO/8wI6pgYxIkLEWxtYWda1+3tZOWAAu5ucHMzHNxR0JFvs8ircrda21fBoBlfopGVAFXEGfx37RYOHbqCl+qn+GdkdbgbVrxig7AlhkCxWzGkhBsKF2mD2Te5M2AM+6YD0KO8AklXV2PhnmcIXbEQO5/KUK7XYLR6xaXzp1u+xtCZxxFd/H3MO3EPD66exr8hwQg+8Du6F8vkkvDTXZgwcSseW5VEWU8FYoN+xui/7ph0ckLm6Yt+H32ID4cNRr/ubeHrXSDdbTOCgwPsNAHr86eIzKh1V4njn4kTZC4oVFAX2ZozD8tMEm78NQgdRm7HQ6eGmLhhJT6qlP6xg5fBv2P6nseQlR+GWVPaoEhytVGgaOsfseLbd2FHjxCwdJM0nlmywGF+WCD+d2jAMizT3c+MySnfHMrz7Kt/jI/buEJGsTh2ICT1FdjXavvsUf3jj9HGVSYe547hQAifbcuzkm7gr0EdMHL7Qzg1nIgNKz9CBk0ny5dkKN65G951IDzbuxE7HqkQsX0TgqJlKNGxB5oafLvTrP6ZEWR2DrAVuz/0PArpP0eU98hL9cWf+w8jOFjMO/1weD8W9k99CzfLO3L9HI7MyQlO2tqkgNLaHQ0690XPnj3Qo0eaoVsjlFQKEJQl0bCb+O+ebVC9AFdDo1jVQb8PasNafQ9bFkzG9EVHEW9dDwMG1kvzzGpaCTi17zAi1ApUHzgRg2q4GFFBnmHfd59j8XUBFYcvx745vVFcCMff48ZgY3j2tprKChVQRiGI/Yb/8N+j9MtW3T2GE7dVkDlWRo0Kul9qzjwsI2rc3zoc7Yeuxi3bOvhq/WaM88ngfidRzNVQ3E0SDyhlKqBiug6dHMVqVIabjKCOfCyNYxbr2kxM1kS62ud0veA1YjyGiv8MGdnP4Bu7eZ0MSqWuJZTJ5Eg5JZYNbZ9MCd2iZZDlsVsFmUR9H1uHt8fQ1bdgW+crrN88Dpk0nSyfkhXphG5NnUDP9mHj9ov4e9MhxMjLwr9nQ4Pn+c3pnxlHUbo0Soj9bdXdczibru2KR3jEs9e+eszYGyW9qCpTmiRGJEtF9XAHTft+FZ1N9+mFRAr9vTUVkIEU5UbSwazeQshvYzZK6rcxp1Dd/p1aOoj5J04TBBm5tFtIqV4snOHbmBMoaIQXKaCk6t+eFEtLT0VP9n1FtTVv7LVqSjMMvo8ac2g0VbUWSFFmCG3XvP5ZdZeW+buRTFBQmcHb6YkuWaay+vRQOkmh9GsjW/H3WFGVUftTf79Z9ZC2DtJ831JGRT7YkPImanPm4bcxp6GiiN1fUm1Hmbg/VqdPt0ufQchE3NZ+5Cbu43LPD2hDRNqU8XRqYm2y0tTJLn9J4/KubCmfLIVSwIyhNHSoNPjo1ufjkzIuwOATuaalD6UZ2uk+ZPiZ3eTv7PrMEFPo5eR2mEa7beJgEtUT2vv7r7TlSow0IkXSzSXk7yEnCHbUePq15DeVGtv2qZ7spd9/3ULpF51EN5f4k4ccJNg1punXDN+ByiyNefUqgnZ/WZscNd9Krf4pbTf8ril7a5hV9iZ6/FcXsW8skGODZlTPXmxXKn9Dx1I6YSJT+2emvI35mthPshH7STZUe8IJg0+sxVPo8l5URikum9/GzCyUMXXglTXEnIqUeGYi1RJ3Diu3mtTp4+9oxsLltHzxLJowsCF5aj5VoixOvVbfzbLDzMGucTILdsWmk1a+X1Dzum2CvCj135LmzEMmnx56vm0QFRM7X3K3pjR2zWE6c/owrf+lF1VxdqZCBcXG0LAxjT1K42uJgaS4/O6rUwKgpCuzqIX0/cgR+9J+Oy41k4Jd0dM9n2m/3wqZE1Xy/5KmLVhKS+b+RJ+08tLmg9yjPf0ZmrrTaPI8eT7YFTvZqz6jDn5tqE0bcWhVi4oqxPyRu1H1lrpxfp1G00b9b4/fQx+VEDv7EMimRD1qpZkn7eDXmcZvlyLlmMP0dTWxrkAMaKt1p/F/rKHtu/fQzi3LaNrwplRM0wbYVqdvDqUPLPIac/dr4+m/e5v5kPpzPsanD9UHtem+B6QPgg2XnXPbYSr9/CZJukxTGihJsC5Ctf0/pR9mL6LlyxfRzAkDqZGnlViXBbKr+gXt0zejJrR9SZenUAPxeGhdpDb5f/oDzV4kHg8XzRSPh420x0NNEF31i32pPjvCLI859Sp+z0dUQjyeQgwiStRrlb7dFAe/zuNpe7qTgsySmNWmmOrpOupZWKZbl6CkmhNOGwS0Oib1z0wJdsUWLHx9b/KU6/rnzT6bRn8u+p0mDqhP7korKl7Zm1xkHOwyy2RMHXhlDTGrIqnuUsDETlTJVew8SPNrB0FGdiWa0ohVF9MEZhmI20oDPBSk8BhAW/PB9/bNymdR3Jb+YmOkJM/B2w3OxulE7xxO5azlZF9jLIVIny9OlnSdZjRzIqV9A/rxrEGTqnpAO0b7kJv2TJ5mmwSSOVag7jMP0aaPS5PSsS39qT07raKwBW3JRa6kIp3+pBup4ssEOv1zY3JVyMipxew001KL2zKAiojbX6DbKiM7ewl0fcMoauxpnaZuWZF7vcG08HRGwbWJ8yQco3HVrEnu3ImWGhOBv0H632KaBDr2TWVSar+BnfEgWNelH85L9SJ+Bw321H9YPpNB7Mw1mpZyKS7hxmb6+r0y5CDT1yN9Ojk5lfOjcdtupTuQ50X6381yj3l5nkS3to6ldhVd0+0XgsKFKvl/TzvD9DXWxLYv6RZtHduOKqY9Hoptq8KlEvl/v5OSF80slr7cTBG/YzB5ak4kpir31INg04impTlByyyLvqxyVjTt/LQ82YsBp8K1Of3vUgZ1wuj+mYZ4nB9XjazlztTJsCOTWf9GFUmHfmpNxTUXBvR1U+lBDUdtpEv7v6QKVrZU74ezUmLLkTtlwyyZMXVA0PyfmChTgiAenkWvSJaxhHCcP3oEZ64/QpzMER7edeBbzwuu/MGudF4rn7OdGtE3j2Bf8BU8VRRFzaYtUN3dwgotIQIXjoTgzK0nSLAqgFLVfOFbxS3rZ5LNmcfCWVa9SUuNZzdP4Oh/V3DvaQJkdgVQrEIdNKhZIt98Z9eyyydver08T0DExWM4evo6wmMBu0IlULleA1TztH/95+PE9ufisaM4fT0csbBDoRKVUa9BNXja55Od4S3H+3L+lZ/6Z/H3jmPvoYt4pHZFed/meKekvTTFMvF+yYypAzkb7DKjcT4zc3C9sWxcPrmP85zlBK5X+ReXveXismHG1AE+pcwYY4wxxhhjLM/hYJcxxhhjjDHGWJ7DwS5jjDHGGGOMsTyHg13GGGOMMcYYY3mO0S+oYowxxhhjjDHGLAm/oIoxxhhjjDHGWL7Cnx6yEJzPzBxcbywbl0/u4zxnOYHrVf7FZW+5uGyYMXWAr+wyxhhjjDHGGMtzONhljDHGGGOMMZbncLDLGGOMMcYYYyzP4WCXMcbeFtcCMXOYL3wFQfucimbwHTYTgdek6VkKxDBfaT5fcR5prFksZTsYY4wxxrLAL6iyEJzPzBxcbyxbtpZP4DAIfgu0f/oMHYoq4n/PL1iAEO2YoQig+Wij/Ttj12b6otxIXWpj0mfKUrYjE7xPsJzA9Sr/4rK3XFw2zJg6wFd22Vsp/kkYbt5/hiTp34zlddeunheDywCEig168Pz5mC8OwRQghosaCzB5ZhaXVa/NRD9NgCkGp7r05rOU7WCMMUunjjqBv6b8gk1XpN6KKgy750zG3P3hUOvG5DExOLv2Z0ycsgZnYjT/VuNB0Hz8MGkWdt1SaVMwltty78puwkOcDTmGi2GRSLL3QJmq9VGvfAEopMmGXtw/gyNHzuJWlAp27t6o36gByjjn7bg8u/I54eFZhBy7iLDIJNh7lEHV+vVQvkBGufwWe3kYn1dtihm3m2FuWCCGueVU3XiGi4FbcfRZGbTo3BAlrKTRFiS3z2rGPziLo8cv4faTeFi7lUf9d+uhtGMW+R//EOeOHMHZW5FIUDjDs1J9NKxdHPbS5LwuN8on+UqpGIDS/IyvkQYOE+C3wAczQsfjYjk/MSTN/iuqlrIdr53nL+7jjLbORkFl5w7v+o3QoIxztpwZzo/Htrwit9taZjnMLnt1JAI+qo9OW2pi2bk16OlGuPq7H975/C4GHTiJqe9YSwnzkIQ9+Mi7NebdK4oPd4ZibosXWOhXBEMC1fCdeglBo8tCLiXNDrxfMqPqgDgxS5okRiTLXOwV2ji2A1UqoCRxc5KXB8GaPGr3op/33KMkKWnc5XX0lZ83uSiElHRiPK5wqUZ9FpyhWCldXqT/veaKvbKRxnaoRAWUhnkHEqw9qHavn2nPPX0u5wEJQfRZWQXBqjnNua+SRppH9fQKHd4TROfCE6UxKVR3Z1MzazE/5Z40JDBeGmtZXrfeiBlAJxYMorpuVuJ+1oVWRErj04i9vJ7GtK+Yft90rU59F5ymGCldimg6tWAg1RGXm3q/V1LBWv3pzzPp58iL9L87J4XO8NGtZ2iANCaN0BnkI073mREq/iOAhmq3aaj4lwEpDXxmkCaVoYChmvQ+pJ09C9myHdnA7DyPu0zrvvIjbxdFqjorKFyoWp8FdOY1DkD5+diWV+jLzWxGtrXM8phX9ip6smMYeSmVVPnrI6TpQSRd+4NaF5CTS5v5dPv1ui6WKz6QhnjKCcpa9N1ZTb8qgua1shaP/c7k/9dTXZpsZPZ+GX+AvqxoRzJBao8FgWQKa3J096J6HYbTzL1hlCAlNVvc3zSoqBUpC/Wg1VHSuIzErKfehZSkdO9Hm+KkcenE0/6R3mStdKGOix6ItYvpGVMHXllDzK5IGjHHaWpzN5KLlUjuUok6fPoDzV60lJbMnUpf93mXStoJJDh1omWPNYmjaLm/AwlKN6rZeQRNmbuUls77iT5uVpysxMooKCvQ50F5t0vwOvkcc3wqNXeTkyCIjWilDvTpD7Np0dIlNHfq19Tn3ZJkJ+a/U6dlUuo8INuCXRXdnP4uWUFB5b8ITt+wRe+hMQ3LUZmq3Wj+Zcs8WfA69Sbx7m6a3KEs2eobe+tWNC9CmpjKE1rY1la7b9bqMop+1uybf3xPAxu4k0K7b5alDwMNW3IVRWzsS8XFjr2sQB0aOGUZbf1nN21fNYNGNCtGSrE+Kr0/o335IN59nfIxli4Y1QeRaYXSDB/NdH1QmXmQmeFyAoZqx2UawBrIru14XdrtFQdTRS33JwdBSW41O9OIKXNp6dJ59NPHzai4lRigiuMrfB5kZlCav49teYW59UrD+LaWWSKzyj56L33mrSSZS1taECb2U1RhtLhTYTGg8qJP8vDBLz54NFVSysi5+UwKFbtNqvBV1M1NRopSg2lH9se65u+XsSups73mYoY7VW/Zhtq0aUPvNa1PFT1stQGwoCxG/gtDKf1lEBPo12HdmhZo45xMRC2mdtaadqEjLc/0UBBHfw9wJxmsqPH/bnOwa8CYOvDKGmJ2RaLntG9kRfFgLnZsy/SkpVfSn66IDd1I33QbTVu0O0AcBc/7npafikxdiAmn6bs61iRATqWG79OeHcuLzM7n5/toZEUrMdBVUpmeSyl9NsdS6MZvqNvoLdK/84BsC3aT6MavjUgpBrvenx9+/bN4b4B59UZFDwK+pobuShIUBal2n/epto2mQc6sAxZHR+ZPoqUn0+ybMcH0VVXNHRsCuXT+i5IvVKju09z37EiQuVCHxffTzLOHPtaUnbwkfbQnr+7NKczer42mDxozufIqBaspAWhWQWbaaaYEpNm5Ha/H3DyPC55H3y8/RZGpD0B0+rs6ZC12fuSlhtM+s6ps/j625RXm1StT21pmicwp+5gNvaigDKRs9CvdEIO+pGvTqKGVQLJCfWlLplfv3nLisX+Zf0GSO79LU89qelSJdPr72mStKEF9NjxM3f5lE/P2S1FmgWhCGG0fUZPsxDZfVqQfbXkujTcHB7u5wpg6kGMPC6luLMHkhZeRKC+DQfPmop+3jTQlhZ1XZ0xZOxUdXTT/soHPsAnoU8M19bNRVhXRsnFJyKHGo4cPwY+3G1LhxpLJWHg5EfIygzBvbj+kz2Y7eHWegrVTO0r/TvHy/hGsmj4Wnwzuh36DPsKXP8zHjgtPM3hpQgLunw5C0JkH4l9A0sNj+OunzzGk/0AMH/8Hdt+I1yWTxN46jn17g3HlacavX0iKuICDe4JwPiJ1aRq/PZl4cQf/HdiPYzejpREGVE9w6dBeHLwQoatDsTdwdNcuHL4WJf6DxFlP4J/AQATu3IWjN2M1KUQJeHDmAPYGX0VUBhuRU/mX814iZOVCnHXtgJ8CTyFkXmeUyvKxbhs0GPot+tVMs2/+v737AIyiaPsA/t8r6ZWSBELvPSIIvIQWATEBgaBUP0GKoFJFQekICEhEQVBqIBRFFJAaEELoAUSlNyGU0BJaCCQmIXf3fHN3e+TSyOVIQgjP7/v2xezt3c3NzM7Os7M761gfnQIqi32TkBB1GbdMxam7jqibKeJI4YWq1YumfY99DdQoJ9ZQAuIf6dsn9iwuzp4Cw7zI/cdiaCXDKjMXMXuKeLXxLCzL+GIm/DFiVmPx70IEDBD7gvzZ/UOzv6c2d9PxfNg1HoDx770C97QHIFRv3RxllaJa34lGtFzHdXGROLgzDHtPxYi9KZ2kGzi6Owz7ztyT2wI+tr28ctrWssJBh4fRMXgkGgBJqYJKEl2QmzcQoxPHPJUqk3tWH+H81vmYMOwD9O79AYZNmI3fjkRnmIDzv2uHsOaHSRgxsB969eyDj0ZOw7J9UcjQg0i+iWN79uD4LX2PIxnX9i7GxMH90HvA5/h2/WnEGbcSHuHcxln4fEBf9BsyAQt2XTX0UTL132XsDpmGkR/1Ra/3+2P45GDsupL2mx//8yO+DdXAd8xcDK1tA9zfiJkLTsCz+7cICvTMlXkP8pxNabQdPxStnSTR5v+JiNMZWniL8oIVMHLQmyX9JhZslo6GLszwNY7q1p9EJ5/pOoB42tBLfzZDSeUH8chuGpoLNMPXOKpbf9LJHFxukURnQ3pTLVdF2vspxSKpvajFuDCKMT9tlLyHhlZSkaryUFofOo5aeJnffy2Rwq0Rjdtruow1mQ5/XoNEc04le2+kR/LaVHdpRSd3UkhO1C44Rj47lfP0ZDaym7jxffJQSGTXYVmGe0g1pyZRfTVIXXs0HREZlbi5D3kp0n6XcVGQV59NxjfJvxs2reiHW+YJyMv8yxnT9+aMlmIvnKKrpjOICT/T207WjDYk06GR1UVZg2xafJd6D5I2mha1dRb10pbqjf+HzE9ia2+EUGAxkW8ub9J8/aVdhZx15WMh0322WY2OyqOpaa9Azm5E1XS5sbxkcg9vBnmSDuuZ0p5b4jf0Ik/RVijLD3oysptybBK9pr8Nx74ejf/TvIbfp9ABFUkl6n7tLyKyOV69HMe2wsK6epVbbS17nqwpe83V7fT9hAn0/farxnlp4k/Q6mnjacryI5Tmal7NVVrdtxo5iv6ywtaNPL2KkINKtC3qujT+qKlXl0gHp/pRSf0cIiIdkkJJStHXMf63GzUcsyvNZybvGUqVVCqqPPR32jy6CRVXGrc1LKLv9cqnYXQv8QyF9KxOIqZ78pqkLEZ+X/+V5pitl3BiAXWr4ij6LaJP71ycPNztDbcwKZxrUt+fI+W+p5Zu755HE2Zupkg52ZoLv9P0ScEUcTfvjvWmtOfY00ZdE3+n90Q/BarqNOJg2mv+LMsLGY/s5gtL6kC2NcS6ihRLyzs6icrw7JeHJhybQX5uonOsv69pb2G99sPKfI5dTh31B05VFRq+3/JcfhA2hKrZiMbUrhJ1/PJXijh3laIuHKZ107pQNf2OqfCkwBCznUkOLhUu3uTtak/l202gXw9fpCunt1NQYDnDPZh2Db+iU/JennJkNNUSgaXCqyf9nv4SkNvLKFBfnq7taLEcQFqbngzBruiUeohOqW37kAxBdooIduvpg91ao+hPkU5t7HHatCyYZr5b1RiYB4ynxUuW0JKly2jTCTnwzOJ78jr/csK6/TMdaztg2iia09LesJ9XHLInzX7+IGwoVRcHZsmmLL01bRfdFL8t5fo2GtWkKCnEwbnJV0cyHFALo1wpn8xcyOayYVMwmSFYzT7IfDLRlFiyvVU3D9NhrVzN84RjNMPPjRSGe3b3mtXZeNo/sjbZin3XpVkQnZb33Ue7P6Eaom1QVxlEYdmcv3pZjm2FRa7UKw52X0i52qakk7CtP5VWKsi16QTaf9c4N0jSrSO0aup0WnvFNFfIbQoOLE/1uoyhxTtOUYy+uUiKoX9W9Ccf0eeQ7BrTdLN5RZL3DKGKKgW5eHuTq0MVevvrTXT80kWKCO5NNez1x+Xq1KplebIt8hp9tHgPnbt8ikInt6ESShHwugTQguup/R2K3UGDq6rFe8pTp9kRZJzLM5EubxlNTYsoSOHqR9+dTf3u/GZ12WQZiIqgfUNvKivyQuH5f7TWvB3PaV5wsJsvLKkD2dYQqypSygmaWE8t3mdDb8wzjd5Z5uGpUFq+dAkFL5hFkwZ1oJpuSpIcKlHg7COZjBIWHtbkc8qJiYYADjZv0Lw0Q4lPoYmk71o4kCQ5U7MZp9KdiEihc9/5kYt+RP6VcfTkpKIp6JNsqPL7v9JVs31ZG72UOug7bDZ+NMs0UpdynCa8KhoEhQe9u8a8pRCNSEhHcpMU5N5phWi+hWdJzzMEu0bZ3LOb2ffkR/7lgFX7Z3pWdsCS/xpHdfVBv40PjT2SPveS6cIvH1E9d3nitGoNqGYxNSmcxIH3m/2Uhyd6C5RcKZ8MTIHiU4JR0z2yjftT//7mS2N5FFb8a/g7NIsg1LTd04LRvEyH9fTfp1+s8lB0+pYvpSXBC2jWpEHUoaYbKSUHqhQ4m46kb1QehBk7PooiFDD/EmkSD9HYunYkqcpTv033Mhz3XtZjW2HxTPXKhIPdF1KulH2mNHRuWiPRB1GT74yLxhHgHHlAv3TRXynnSB2Xp44sGINdEbjaVqE+a6LMPvcBrXvPSwRMIpBz86UJB8z6Z4YrBW3F8dqVOq8ytUhaujynJTlJKqrw4XZKO3ahodNTGpCNpKbaY46kHdHMR1aXjSkQVTeg4b+FUmhoKG1au5xmjQykGi76k5De1GHhObPfZUVecLCbLyypA9nWEKsqUvIB+rSqvnNvT4ErcjLrXBJtH1CalPJ36hdJXZR83h5FSyOin9vOlB+syefkA59SVX2DZh9Ilmaz9sZcamknAhS3QFp+T15p7t4y6uiiD2Ca0czL8u70JOh7nebcSLeLac7QlAZqgqoafRZhCng0dOarhmLHV1Dx7r+mXl6jjaGl7V1F57A4dVttnM7o2dKT/8Fu/uSf5aypNxlY0wFLPkUzW+hHvETD328T3Uv3swy09+jQjDfJ68klVApyrtmFpm+78tJcspkr5ZNG6mXG/UOzDg/NR2efvqQNZk0zKus/2/QZT59dOW/S8SxMn2mNpO0DqLT+JnRTukTnpajP2zRqaQRFZ3IAure5H5VXSaQsEUjjhzcSHSEllfq/NRSdYX94eY9thYWp3J4JB7svpFwp+yzcDelgOEHuVH8EhUXnNNxNpn2fVCGVCID8vr8ur9N3OYzBrs3rcyhtl0NLUbP9yEYci0v03Wx2pYpeEoV9XFa0UWpq+s0lY4CsvUXz29iTpCxNH+7IeNRO3q3/Hons2iwwDl48B1aXjSkQld+fuijIve57NGP71bR9QmvygoPdfGEqu6fJm/vFFWrYqPV3JeqQlJjl7e6ZsEWz0WuxdWsotmxah5/mT8HANh648vt09GleD+1nH8N/8pZMn802MGZzEizN5pRzZxCZImKrCnXg4yKvNOdSAzXKiFZSew2Xr6TIK00kyM9uTiU5wdlRn4jHSH5yH78SVbp2RkNbwr3ta7At1rhWd2cL1u1+CMkzAN383Q3rni09+S9/8q+ge4B9E3thwp442NYchIUz2qFIupZEd38/vn7rVTT/PBxK34FYsP43fN2zLuz+/Q2j2r6GVmPDcNvimceY0UXM9q2MYRGACECxwD/ryZ4qDT2gb/kzWULR37BFf4jgUvxtNvnUxdnQzyOln0hqhPjsSkPHGraNGNYLsy8atpDlcTqeI9tmo7F261aEbtmEdT/Nx5SBbeBx5XdM79Mc9drPxrF0B6Ai/lMwo5s3cOt3TPr2EBK9AjF9eiA8MxxZ+djGGMuoaKfhGFjXEQl/fQP/mq+i06c/YEekaZLMtDQxf+G370ZhQPcOaPN6czRt0gKDfr1unNxOl8kBVXQ40nY5FHBysNP3RKCQFOlek2BveE30c1LkzogmEv9eThHt8wNs/fx1+Pr6pln8hv2OaC1BG3cf91/UGfbU1dB5/FRMnTQGAzu9iuJqQlzkSUQlqpBmLrmXIS8KsTwKdr3gWVy/y+hwI+pqhhnlnsa2zGto/aY/AtoFoseAMZiz6Qj2TGsBV+0NbBs7HIsiuRaZKLw8YczmG4i6alku06N4JOjPgdg7wSltS2ckOcDBXvxLyUi0qPdl1mCKTquJsvw76NzYHhS7A2tC74s1OtzevA57HilQsl1XtHY2bpf76clb+ZV/BVcSTs/riW5B/4iOfQBmrp6OlsbzFqm0/2LBu4EYvfU+ag1bjyPhc9C/wzsYuewQjm0ciUYu97B/2rv4cMU1+Q3MElsHGANMNG6MWmeCMGDAgAzL1jRBaU6IALbXMESgMWYtGwpj+OqPBaGGcBfDes0WWxjlbTqeM9syeK31m/APaIfAHgMwZs4mHNkzDS1ctbixbSyGL4pMO2uyojia+TeST/aIzmI1XzTyyvywysc2xlgGzs0wZftOLBzSGuVSTmP9t4PQpmYVNB++DpefdOt0uLl5OHxrNELXT4OwMvwsYuJToJ/cOU9RIv5LesqXOJSGT+MWaPfW/1Ay4xTTLwZFObQeMgqjxk3B3LUHETG/I0okHMO8D4fj12izEwj5khe6TM9ZmOhPFOtJGUZNWHbyKNj1gE9NbyhFmHsxYj9uPNMIjiN8Pv4Y/u4KUMJh7I7g898mCg8f1PQWe5XmIiL23xC7SfYkJyc46PeTh7G4n9l+qxXr48QLCjcUK/oMO5SiNDp1aQYnisPOtVtwR3sbm9ftwSNFGXTo5gcHebNcTY/pLKY4AmT2Ubkh3/KvQNLg0sq+aD9sM6JdmmDCmp/wUQ1b+bVUjw/8gJlhd6GoOgDfT/NHiScNvwol3/wKK8Y1gwPdQWjIOnk9y5GICCxcuDDTZf0FeZscurg1yBjApn90kP8IGJ5GFDEMQVuNq57Ig3QURI4+H+Njf3coKAGHd0ekHYGN/QPjJ2zAXZuyqOitQsKe6Rix8ppFbTEf2xhjeoqiDdBv9h84e+U4fp/WA7Xto7F31vvoO+df48m12PX4vP9sHHlUGu/M/ws3bv2LY39G4MCB3fiha6lMHmWUSyRnuOivPBP9uW4/7hLfdyDjsn8X1o1uDnn84gVng0q9gvBZM0foon9H0LwTqYN1eZkXagfY24jP1j3A3TtZnfRMxoPYBJCkhJOLcx4Fb4VXHuWXLRp0aINSSkLigRAsOZqTS5kzoVBDbUipAgplYQsgnoFtA3RoIxo6SsSBkCWwJJvV1aqhgkqC5tLf+PtOxi6Z9vph/HVVC4VzTbxSzUZeaw0FSnTsAj8XQlz4Wmw+sxHr9sVDWTEQ3ZukPgw4N9MjOTjAztBe3BXBtbxSlnDtOu5n+Hj9ZcXGAFmntWxUJf/yr6DR4eaGgXir/ypcsa+Pkb/9jjGNXeXX0or/9wKuiyOEskI1VM8QCytR6pWa8FAQdPfvyuuYJfwXmF8GnPmyINtrgf2xwLBt2suGK/kvMH5Ghg+ohKEH0n52XqajYFJAbTwAQaFQpl6JgTiETxyOJZESqg9cjvC576K0FIONY0ZhbYxl4S4f2xhjJkr3mujwxQrs+KETiknxiPhjN/TXxSUfDcf+2zqofPpgQt9X4JZfkY5NJVStaAtJew1nzqQ+nbdQU1ZEr4/aw0N6jOPLF2CX6YryvMwLm6qoVkElOpAnsX/v3cxPliZEYP8/SSBVRdSp7SSvZJbKs13GwW8IBvs66/dSfPvBFwi9lTGYeHxtB6b2HIwV13Si4xuOH2duwL8ZblXQ4sqvy7BdRCqSfT34NtRfI8qMHOA3ZDCM2fwtPvgiFBmz+TGu7ZiKnoNXGP5SePmjbQMRbP63C3OD9uKBYa1MF4MtU39ExGMJnm27ok3msYzFFJ7t0aWVO6SH4Vg4LBh745Wo2qkrGprFgLmZHlWFiigrOoya438gNCo1I5LPLUHfAUtxJUPeKODo5CACXi3uXr9u0T1z+Zl/BYcOd8I+R/v3FuOssg4G/rQRX71eNMvGw8HDA67iRc3x3QjPcEIgGWf3HMJNncj7ytXkdYw9Z7r7CP9xJjZkPABBe+VXLNt+HzrJHvV8G8J0BErY/xWGLTgPKt8LM8Y0Q5n2UzC5vQfo5mp8MXaroZOqx8c2xljmdLh3KRL30vRNFHByc4WtJPo09nbQd5cklQoq/bmwlBQ8NruiTHf/ADbuuZn21opc5Y5W/o3hhHjsXPAj/npJLj5xb/sBOpdTQRu1Bgs33JGDzzzMC1UtBHaoCRuKQ+jUMdh4M32JPsCBr7/EL9d1sK3TGV1eSXM3MbMEZUO/iQWbZSr57ALq6K02PnzZsx51Hj6VfliyjEIWfEOje7ekSs4Kkuz9aNZlLWnOTaNGaolsS9SjwMGTaU7wcloePJvG92lK3jYSQXKg2p+GUzaPLnxhWZ/PyXR2QUfyFnmnnznUs15nGj71B1qyLIQWfDOaeresRM4Kiez9ZsnbE8WGDTE8AxUKF6oR+BkFLQyhpfOm0qA2lQwPNld6vUWLLpjNCpjF7McG2uv0vZ8NQVmBBu/KOENd7K/dqbjC+NsMD0k/lnHe0VxLj+YCzfJzFvVNQS61u9GEH4Np3qTe1NBDTa6v+JKPiyLdbMziow6OpOr6Ga2dfKjXjGBa8v14GrfspPxi5t+Tn/mXHevqjYYu/zyE2gf4k7+/WNq8SiVV4vcoPcintXFdQMcRtNaU1qQw+qiMUnyPRHZlGlAb/XvSLwGdaOxmeQ7C+P30eR07Qzm41elKY3/8hTbvCKNt65dR0EA/KqV/XJG9D32xLycztb+YrN+vmbWsynPNOZrWSByrbEtQvcDBNHlOMC1fHkyzx/ehpt42hmOYQ+1PKdx0AEo4RGNf1c/MWZK6rrr1ZGZMzfnvqZX87Nyh4caHU7zsx7bCwrp9OYdtLSuQrCt7S9yjRf6OVPzVLvTFHP1xcjttWDKBOlV1IElRlDosuW5sWx5uor76SyVFvfEb/QvtP36M9v/2NfWo5UquxYqSnWRDfrOiDJ+o92Q25pZzKX3Vur/In2yhJO9+oemeipBMBz6rSiqoqdG0c8bZmPUe7aPPXxFtnaQij4a9afLitbQ1LIy2/r6cZo/7gNrWrUq912Q5hXCes7psnjpTcgodG1+X1KI/5+g3my6ZMiOneWH6DqXnk/09dQmg9sNW0ZNHKd/fTsNqiXIXxxrbkv+j/xs1kxYuW07B30+ij96sIvrxIIVzPRq9N+1Dj5hldSDbGmJ1RZIlRW6gcR1qkLs+GJM/y7BItuRVvztNCb1inN5bc4U2jG5H1d31wbHZdqLgVW41KPDLbRRViJ/PYPq91kmiyA3jqEMNd7FzmuedCOJsvah+9ykUesV8EvVkilzzCTX3tk2b16LB9GzQjxYfS7czJR+mMXVsSenakULSNwraGFrS3pWUtnVo9OFMHp3zaBsNrupIStE4uLf8jjJ/9njupSfp7FJ6r5qz4Tlyxs+wpdJtJlLY1W30UVk12Tf8ik6a1yNR7356twLZPsk3JZUbuNP4Wpbfk4/5lw3Td+dMMh3+omaGumK+SLav0eRTckYlbaF+3qp0+2W6RbKjpkGpj6BJvvQ7ff5GBXJSpN/vleRSOYDGbLryUjxuxfS7Wf6xLs81dGXDaGpXPZM2VOVGNQK/pG1PDkBailrYltyUairRcVFqR8ggmY5Nb07uKgW5tJpjfO0lP7YVFqZyy5kctrWsQDKVVe5LodMLu1AV/XNdzeuEnTf5fbGZrj9pW7R0a8sIauyR2oZICmeq1nU27Vv3MZVXO1PbRbfkbfVdjjFUx1ZJrh1DKH2X4+GqLuSutKEqn+wRtdNcCh2dWI/sFU7Uas6VJyfw9DRRW2icf8VMjucqcq3cjr795/nVX1NacixxPfUuoSZ1kS70cyZnGjWXF1C7oipSuLSlRbdScyNHeZG0i4ZX0wfHZts9WSRSvzKOzDfXRO+iGd1eoWIZ4iUb8mrwPs05mPH57cyyOiDp/0dslCXTrF/ZbJat5JiTiDh0GlF34kHOJVCl7v/QoEqRtFN76yXfxpnDh3AsMgYJcECxMjXRoFEdeDvm100Kz0fu5HMyYk5G4NDpKNyJJziXqIK6/2uAKkWyuORB5PXpgxE4fuUekm2KoFwdX/jW8jBcNvNc5FZ6Hsfg+K7dOHozBUVqNMcbDUsj9S7hzMTj0v4dOHD+PlCsOpq2aoxyjvJLT1MA8i+39s+8oUPc5b9w6O/zuBGbDIVDEZSqVh+N6paBU+HenZ8o2OVTOD1bnifj9pnDOHQsEjEJgEOxMqjZoBHqeDs++z0/L+mxrbDgffnllddlr427hD8P/IULtx4BrmXxSpOmqOOVcfJH3aPLOBh+AOdjVShZ1w+tfDwz9qHzjBYPIv/Egb8uIPphCmzcvVGpdj28WrU4MqY0/zyf/TJv8yIp5hQOHTyBK/cSoXDyRAUfES9VK/r8+uYFnCV1IN+CXfZ0nM/MGlxvCjYun/zHec7yAterlxeXfcHFZcMsqQN8SpkxxhhjjDHGWKHDwS5jjDHGGGOMsUKHg13GGGOMMcYYY4UOB7uMMcYYY4wxxgodiyeoYowxxhhjjDHGChKeoIoxxhhjjDHG2EuFHz1UQHA+M2twvSnYuHzyH+c5ywtcr15eXPYFF5cNs6QO8MguY4wxxhhjjLFCh4NdxhhjjDHGGGOFDge7jDHGGGOMMcYKHQ52GWOsoLu4FbMH+MJXkgz3p+gX3wGzsfWi/PpTbcUAX/l9vuI98lqrFJR0MMYYY4xZgINdxjKRdC8Kl2/GQSP/zdjzoE26j5shPSBVDsCwhRFA//7i//ujsXgtYuEwBFQekG3QeHH2FOjfahBxRv4PK2wdUDDSwRhjLwjdg7+wctrXWHde7k1oo7Bj7hTM2xUDnXFN3km6h6jLNxH3rB0ZzQPcvHwDsY/lvw3icWL1dEyY9guOx+v/1uHWngWYPOl7/HFFa9iCsYIi74Pdx/dwbu8G/ByyBMtXb8H+s7eRLL+UXtKtE9i9cTWWLV2GX7YcwuVHed4UMJbR4/0Y3bgiKlboguDbL0EdTIrGyV2/G/bRpT+tQ9hfV8C7XsGgtCuC/+KuonH/UFwgwoEFC7BALAcoFP0NWyzElNlPGVa9OBu9hsnBqbzKWhf/PVUg0pHn/ruJ4zvXYkVwMEJWbUbEpbhc65T+d/M4dq5dgeDgEKzaHIFLcbyjvRyScOvEbmxcvQxLl/2CLYcucxv7MtDdx7bPu6PPrL+R7K7vbmvx7/wP0O3TVbhs55bHHfDH2D+6MSpWrIAuwbfldXpxOLN1OZb8sh9RaYLXrGhxbsabKFehPF7/6pi8Tkg+hHkjx2LSuJGYf0jfq4/Dlq+HYvyEzzD5tyviXYwVIJQN/SYWbJaJZLrw6yfkV9qBFJLxMwyLpKair/SmZRc08nZECed+o1FvVSc3lZS6HSRSuftQz4XHKF7erjAz/e6cSt4/huq6KEkS+epapQstPJsiv5K1lNPzKLCCE6kkidQeHSk4Siu/kv+S935BtZ0UJMm/X5KUpHYsSmV8WlOfSb/QsfvPIW3Je2hIRRXBpiXNvfn88sYS1tYbA0007Q7qQXWLq5/kv2ERZVC0QzDdeMpPTz45iwJKO5FaqSanSgNpa5L8AkvjmconGxdmNTZ+fv9QeU1Gof3139+YZl0IJRFkiv/uT1lvbZ2Ckg4Tq/M88Rz9OjKAqrip0uwPksqN6ry3kI4nyNtZIfHcrzQyoErGY5xbHXpv4XF6ho9m+cRUbjmTQOd+G0VvVXcTx9vUOgVJRe4+PWnhsZehd/Pis67stXRvywCqpFZTzc8Pkv4Qqbn4I71ZRElu/gvoap53LZJpz5CKpIINtZx7U14nUnV9Dr1uK9ohpTd9YNGBO4VOTapHaqip1qg/5XVC0lb6wFtJUL9KE0/o+523aX4bW1G3XSlwZaxxm3xgXdmwwsSSOpBnJ5YS9o5Gx/dmYXe0Kxr1noi5S5dhyZzJGPJ2Xdid34jtJ1LkLe9j1ac9MX3bPVToMAzT54Ug5Mcv0aeRB/DgOFYMfBufbYuTt2Xpaa6exb+PdFDYKPDfhbX4MmgbHsmvZe4BNn09GRsva6C2BVLuX8CFW8/vYl3NtX9xKUGk39MHrf398eYbzdGwihMenA7DkvHd0bjJQGy4xafAc53uNkKHtULAyFU4bfs/9PsqGGu37MC29Sswe0xv+JV3kDfMhPYSgj/7Etuik0XzokFCdDRi+TRuwXNxNqYsFCHmrGUYWklel57YxnD/re9spB+X3TpAf3+tL542YGsRS9JRAMT9Ngp9gnbgQfn2GDJtHkJC5mPqx6+jlCIOJ1YORNdxe/GfvG3OxOG3UX0QtOMByrcfgmn6Y9z8qfj49VJQxJ3AyoFdMW6vdZ/MCrj7q/Bpz+nYdq8COgybjnkhIfjxyz4wdm9WYODbn4G7N4VU/G58+ckSXHJ8A0MHNoCt7hqWfzYB2x+Wx/+NeBdlntNNhArX6mj4WiVUqOGL+uVV8tqcS/47HAduE1yb9cK7NVSiSxGG8KMpUJXtjH5t3eStGCsg5KA3S/pNLNgsnQf0Sxd3Ukhqqv3FoQxnrROvn6NLD0yntRLp4IJJFPLPfUpzoiv+AI2srR9xksit00q6L68urKzLZ6KEnzqRoySRc6u3qY2bghTugbQsOutThtqo+fSmi0TqGl2pa101QVWTvjicLL+a/4zpB9m+uZDuyuv0Z0Qfnl5OPavYiPJXUpkP8moMKAsvwchu7OZ+VFYlkW21/rThZupVFtnT0s2fu1AJpZoq9x1EAU4SSU5v0888NJUpa8vHEsbRUlDjWRfkNeYu0KzG+tdNI6hZj6hm+jmh/Q3rnjZaa5Jb6cgthnSLJacSD8ynL5cfpbQXkyTTsYn1yVa0UcpyAyncqisYEunA/C9p+dF0x7jkYzSxvq2hjSs3MNww8sMKLqvqVeJBWjAphP5Jd4VS/IGRVFstESQ36rSysPduXnzWlH38mh5UVAFSN/2GLolDrOZiEDWxkUhRrCetT5Q3ylOZj+zmXCYju9qbtCywKCldm9GME/r+Ywod+7Ie2arK0HtrotO2c3nMqv2SFSqW1IG8ObekvYnIK/HQSS7waeCD9GNEdt5VUd7V9NV2aNR/HHrVdU97/4JjfXQKqAyl+A0JUZdxi0eOnkpyD0Cvt/Sni//A0lVZ3S+hwemlixH+yB6N3++JGkp5dQb/4dqhNfhh0ggM7NcLPft8hJHTlmFfVJL8upEuLhIHd4Zh76kYZLj1I+kGju4Ow74z96y4300B5xrvYdaXHVBEocWNPzbJ61M9vnkQP88cjUEifb36foTPJi/AltOxT/0ua95TKOlu4Jc5vyCKSuH/gr5G+xJZVoSMYrdhwth1uO3VFdPGN4ajJK9n+Wwr1i/U/9sYXdpmMly6NQj6W2QbzxoBf3lVVvwXGO+7jRgWJE8ytRUDAvQf3h+hC7J7d+6l43mzazwA4997BYZb656wQfXWzVFW7CK6O9GIlhvWnLV9dmg8YDzeeyXdMc6mOlo3LyuOcTrciY7me9wKI7tG6D+uF+qmrVSie9MJAZVFpaIERF2+xWVf6OjwMDrGcF+2pFRBJY6T2ps3EKMTfXKVSuzzsoQrOBK+EwfOZ9EP0dzG6b1h2HPqtlkdsax/lrVk3Dq+GzsP/IsHGb40CVF7l+KrTwegb9+PMeb7zTiXyaWCj//5Ed+GauA7Zi6G1rYB7m/EzAUn4Nn9WwQFeubDZECM5ZAc9GZJv4kFm6WljaGF/g4kQUVVBoaRdVfvJ9OhkdVJJb7bpsV3+XB/w/NlVT4LppFdly6r6V74IKqglEj9yjj6J7NbdxPDaVBFlXH098Ypmlw/k5HdxIM01a+kYSRDf0+ZQqmU77kW/+3WkMbsSi3NlGOT6DUHiST7ejT+T/NTlfcpdEBFUkm2VPuLiKeOWGQ+smuUcnQc+ahhGDlMlURnQ3pTLdfU+3xNi6T2ohbjwigmQ13J4XsK+8ju7WBq5ySRssyHtCNHZ5jjad+IWmSjKEbtF18hbcIv1NmZR3afxqryscDT75OVR1MbzxL/ZfL0EVXzzwuV/9uCQd1cT0duMKRHLLklfkMv8lSAlOUHPRnZzY22T78/bejlSQooqfwgHtkt6HK1XiUfopHVxTEGNtTiu6v5OhLGcs6astdc3U7fT5hA32+/SoZrp+JP0Opp42nK8iNP+sTJhz+nGirRtpTsTRsfySvN3F3RidwVEjm1Czb2UXLQP8tyZFf0b4ZW0vdvWtEPt8xqnvYWbf6kHrmJ7zP9Xv3nOlbrQWP7+JiN7Grp9u55NGHmZoqU+5maC7/T9EnBFHE3/2uyNWXDChdL6kC2NcS6iqSlqOD2hks4JGVx8v3kJzoRm8OdQBtFc1raGwLmikP2iN22cLMun9MGuwkpf9GYOmqR5xVo4M6M0cfdVV2puEJJpfpuoUcppzMPdkUgFFi+HnUZs5h2nIohfTcuKeYfWtHfx/A9do2n07knV73G0/6RtUXDK76/WRCdlhu+R7s/oRo2IuiuMojCHhjXZeVpwW7Cxt5UQt/JLPORvIboQdgQqiY+W7KrRB2//JUizl2lqAuHad20LlTNUTTSCk8KDEnbecjxewp5sJu082MqpxRlqc9zbRLFnNpN639eSosXL6e14acoJoudLfnYFGrkqCCX5t/QGX1Zc7CbLWv366e6MIsaGz43i4BRvgQ5bfyZXZBputxYXtIEqFnIk3Q8O9NvyBUJx2iGn5vhlpxqw/ca2kOjXGj7js0gPzcFSepqNHxvjs46secgN+uVNmoOtbQXxx5VRRqyp7D3bl58udqmmEs5QqNriX6Ywot6/v5QXmlym5YF6tseV2q3+Jaxf5Kj/lnWwW7G/o2Wbv3chbxEf0vh1oAGhuyn85fP0p6lw6l5CdOEfekmqCog8qxs2AvDkjqQbQ2xuiJprtCvfWsYAhn92SF18brUeexPdPSeZcFD8l/jqK4+QLHxobFHCv/BwNp8ThPskobOz2hCdpKCPHv8lvY+Z80l+v51R9GxqkGfHxL5qcki2M3Kg1+oi7vomDl2pOXmbfKDMBpcVQTYiiIUMP8SaRIP0di6diSpylO/TffSBJ2ZyTLYTTpNs1oXMYx6lOq7ybhOE0nftXAgSXKmZjNOpTsBkkLnvvMjF5EX+pHto6aRbWveU8iD3Qch7cle/GbH2m9QQO1ipDbso/Ii6o5TpY40Y3+6stNcpLmtxYHX7lUa/6c8BsXBbrasKZ+nejKbsX5mY3ldGvLrGYLV7IPMJ6O0Ysl2VDcP0/GsninPH56i0OVLaUnwApo1aRB1qOlGSsmBKgXOpiPpR15y2PY9PBVKy5cuoeAFs2jSoA5U001JkkMlCpx9hDIZ1GEFzDPVqzSS6a9xdclGtME2PmPpJejevPByr+zTS6HjE14Vx2AFeby7hszPj2lvh1BHN4kU7p1oxW15ZVYy7Z/lINjVXKCgJrain+RCreZEGkeiZYmnf6S3Soq2ioNdVkBZUgeyrSHPVJG0sXRsxWfkX8npyaUWqqL1qM+io5T+HFYayadoZgv9GS0VVei3iSyMj19o1uZz2mBXZPmNhRTgIgIQlwBacD0141L+Gks+aonsmwTReX1LltNgN3kffVJF30D60fdmn6t3b3M/Kq+SSFkikMYPb0ROkghQ/28NPWWerCdMwa761Q9p8c8/088/LaOFM0dRj/oehkcjqbw70dJIY9OrvTGXWtqJ3+YWSMvvGValdW8ZddT/dptmNPOy8cuteU/hDna1FDXLj2z075PsyLtRdxr57TL6PXQbbVk9l4a3LiM6YSCl93u09sklSVq6sfId8lKqqcqQnan7Lge72bJ2v86cKVB8SjAqj6Y2btyf+vc3XxrLo7DiX8PfoVkEoabtnhaM5mU6np3+e/WLNZK2D6DS+oki5M8wPCrP520atTSCok0nw8xY3vYl0fYBpUl/l6bpsyV1UfJ5exQtjYgWXV5W0JnK7Vkln5pJLfQj+qoKFp0QZs9fbpV9ZjRnvqKGNiKoLd6dfn1yFbKWYpa2J1cRBBfvtjr7CVoz7Z/lINi9t4Ta6W/LcHqLlmQIrOWAnINdVkBZUgeyrSG5UpGSb9CBxZ9R2yrO+hmxSFJ6kP+8c2nOHqWKpb2j6olOgwjMag2jsJdkokJr8zl9sKu/Z2x1Nw9SSLb0v2ln5TyOp639y5BS4UYdlsqXwzw12E2h6CO/0rdf9Kdu7d8gv2ZNyPd/PuQtGkN9Yzor/XN5tdH02/+VetKRU5Z4h1amC4izYgp2Tb/ftEgKRyr3+jD6+UxqFGW8/FYfGE+g45n1Dk2XBCnL06BdxtFHa95T2IPdq981F8GuRI5tF1OG41piBI2oIX675EwdQuSzA/c2Ud9yKlKW7kXrbpvlBwe72cp5+WQl9TLj/qFZh4fmo7NPX9IGs6YZlfWfbfqMp8+unDfpyA2mz7ZK0lX6c/tWCt2yidb9NJ+mDGpH1fX3+oug19t/Fh1NX89z0PYlXf2Ttm8NpS2b1tFP86fQoHbVyVUh9h+1N/nPOprhqQWsYHmmemUSu5dG1XMS9cmeag0Lyz6IYQVCrpR9VjQX6ZumdqLPU5S6rJJrhGhXlrzlItaVoF7r0w8NWdo/szzYTflnLNVRg1TVR9LBDGMfWTxnt4Cwpmw053+gTtUrU6VKlVKXytWp4/emPjN7kVhSB/Jn0jSbkmjcNwib/4nA/E5loNTdxvYpQfgjw6MFk3B6Xk90C/oHiV4BmLl6Olq6yy8xC7mj7fuBKK1IxpHlS3HkMaCLWYuFa64DJTqh79teT58pT3cTm4f7okajrvg0aCXCz8YgPkVnqElZUhRHM/9GKGL4YAn21XzRyCtnVUtduxdm/jgP8+YvQsgvm7HvbBQu7PwO3aunzuVNj+KRoE+IvROcJOO6NCQHONiLfykZiXLdsuY9hZsCjg52opQArUIJO+PKVHav4o3mJaGkJESejxQrHuNQ0CisiHJGy0+Hwxf3cOfOHeMSm4AUQxOjQcK9O7gXl/zyzWydLy5itm9leVbjC1jgn/XDaisNPaBv8TNZjDMui+ASIrgUfy9InR1Zfg6u+HCMEJ9daehYeXbmXumesZvH6SgIbMvgtdZvwj+gHQJ7DMCYOZtwZM80tHDV4sa2sRi+KDLtzLk5aPtsy7yG1m/6I6BdIHoMGIM5m45gz7QWcNXewLaxw7EokufkLdSSTmNez24I+icRXgEzsXp6S3G0Zi89ZXm807kx7CkWO9aE4r5Ypbu9Gev2PIKiZDt0be1s3E7Pmv6ZBXTx8UgUHyLZ28MhZ123F5ONE4p4esDDw3zxRFFnG3kDVtjkb7V2rIW+sz5DUxsJ2tvH8fdl84O7BpdW9kX7YZsR7dIEE9b8hI9q2MqvsZxw9OuNblVV0Py7CovD4nBhxWJsi1Wgco9+aGPWbmYmdv3n6D/7CB6Vfgfz/7qBW/8ew58RB3Bg9w/oWurJhPlpxf6B8RM24K5NWVT0ViFhz3SMWHktR4GPwtsXvT76EB8O6IdeXdvCt0oRpH/cueTkBAd9lPYwFvcza921Yn2ceEHhhmJFjZGtNe8p7BxFw+6sILEP3sSNDP1rCY6O9uJ/xetaUYLaa9i37zwe62KxfZgPPM0PDqX6Yn28CFgSNuCDMh4oXsIfc9Ls0yw3bB1gDDDRuDFqnQnCgAEDMixb0wSlOSEC2F7DEIHGmLVsKIzhqz8WhBrCXQzrNVtsYZS36Si4HH0+xsf+7lBQAg7vjkCac2LP1PY5wufjj+HvrhD70GHsjngpzra9nDSXsLJvewzbHA2XJhOw5qePwN0bZqRA6U5d0MyJELdzLbbc0eL25nXY80iBMh26wc/s2Z1W9c8soHBwgr3o/tDDB8j4OKLCR1muJxbt2o8DB0TemZb9u7D4/Qqpj4VihUq+n8NRuLjAxVCbVFA/iWZ0uLlhIN7qvwpX7Otj5G+/Y0xjV/k1lmM29dHr/+rBVncD6xdOwczgQ0iybYDefRrg6eetknE0fD9u61Tw6TMBfV9xs6CCxCF84nAsiZRQfeByhM99F6WlGGwcMwprY3K31VRXq4YKKkn0G/7G33cyfrb2+mH8dVULhXNNvFLN+EuteU9hp65eA5XEPqg5/w/+yfAMvTicO38TWkmN0uXLiqOCJxp16onu3buhW7d0S5emKKuWIKnLokkX8Xd3f/gU4UNFnomIwMKFCzNd1l+Qt8mhi/JzcNF/LIaaD9T6j8CsxuLfiGEIMj58N1UepKNgU0CtNraECoXScFWEUS60fQo1jB+tgEL5cpxse+nobmLDwLfQf9UV2Ncfid9+HwPu3jBzihId0cXPBRQXjrWbz2Djun2IV1ZEYPcmZldfWdM/s4yqfHmUEcdy7fWTOJGh7UpCzO24Zx49Zuy5omzoN7FgszS00Vso6Muf6USGRy+k0IUf3qQiCpCq8jDaa7g3QEu3d3xG9ZwVJDn50ODN8j2lLxlr8lkv4z27RtqrP1BrJ4kk8ZokKcit3WJKc/tppvfsJtOeoZVIBTX5jPtHlJaJlu6Fj6R64vPS37Mbv28E1baVSFXhA9qsv91Ee52WBervGdZPLraZMpsTypzpnt3MHj2UgeYCfdPUXvweG6r1ya60z2/WRtOGvhVJJX5rif9bk3ovlDXvKdT37AqmR1RJLuT33TmzchbleWg81ddPVOHQnGZeyObuFb5nN1vW7tfMelblufYe7fzhG1p/Pl5ekUpzeSkFeikJkgM1n3nxyT1dlrZ92ns76Ydv1lPGj9bQ5aWB5KWEcX+7yHeLFWTW1avbtOOzeuSsf1aqz2DabP5cU/bCsKrsc+juyrdF31gi50avUwNH0a7U/IIOp5lnJKf9s5zMxizfNyzZUb3xf5k9Yi2JLizvQRXU4rN5gipWQFlSB7KtIdZUpJTjE+hVsXPYeNSljh9PpFmLl9PyJd/T+D5NyFv/OCF1aeqx6roxqE0Ko4/KiI4EJLIr04Da+PuTf/oloBON3Zzd3OsvNmvyWS+rYFc0nfTTO0UNE4JBWZLeX5/uzEMWE1Q93NSXSonOl9LDj0b/sp+OH9tPv33dg2q5ulKxoqIxNG9MEw7R2FdFICk+v+uq1JMUmvPfUyv5+ZFDw58673bOgl0hNmwIVRcdTChcqEbgZxS0MISWzptKg9pUMuSD0ustWpQuSMvxewp7sCtK6sqSDlRc/xxs+wrUZugMWhiyhOaMf4/qF1OJA54D+YzY/fQZ0/U42M2Wtfs1s55Vea45R9MaqUmyLUH1AgfT5DnBtHx5MM0e34eaetuQJI5PDrU/pXBTM5qDtk9zbho1EsdD2xL1KHDwZJoTLI6HwbPF8bCp4XioD6Jrfxqe5rEjrOCxpl4lhX1EZfSze4sgokyDNhn7NmIJ6DSWNptP/McKHKvalJyK/ZW6F1cYv0tSU93xx9KciNbLUf8sJ8GuaMFifnuXvJXG/vnrQ4JoUfAPNKF3Q/JU21DpmlXITcHBLiuYLKkD2dYQqyqS9jqFTuhINdxF50F+v2GRFORQxo+G/nwmNTBL2kL9vE0Prc5iEQeKpkG5/YCKgsX0W3Mqcf37ojFSk3e/zWZn44webRtIlW2V5PjKaIqQJxp+QhNJs153IbVjI/rqhFmTqr1FW0Y0Jg/DmTx9miRSOFejrrP30bqPy5PauS0tMpyd1lLUwrbkplRTiY6L6FKa+DKZjk1vTu4qBbm0mpPutbQS1/emEiL9Rbr8bGFnL5ki13xCzb1t09UtG/Js0I8WH8ssRMvhe5IP05g6tqR07UghlkTgz5Hpt+SYNoZ2fvkmlbU3lbN+0Zd1JWo3fitdt2SQKXED9fZSkcqrN21IX/mYgdXlw6xmXZ5r6MqG0dSuunva506LRVK5UY3AL2lblKmdzGHbp7lCG0a3o+rpj4dif1O51aDAL7fRk49mBZap3HIiaUs/8laZt7EZF8muKQVldxUNe65MZZW3HtG2wVXJUQScKveW9N3ZTOqExf0zvWQ6PKYO2SpdqaN5Ryar/o32Pu2b+iaV1g8MmOqm2ouafLKWzu76jKrZ2FODySfkjQuO/CkbVpBZUgck/f+IjbIkSeLwLGSzWeaSY3Dq0EEcj7yDRIUzvKrUh2+DSnBPP/MQe7Z8znU6PLp8EOEHziNWVRJ1/VrBx7OAFVrybZw+GIHjV+4h2aYIytXxhW8tj6ffk2zNewq4Z603j2NOYt++o7gSq4GdR2W81qwxqrjzfbe5pWDt1y+HZ8vzZNw+cxiHjkUiJgFwKFYGNRs0Qh1vx2e/P060P2cOH8KxyBgkwAHFytREg0Z14O2YW3fesbzE+/LL62XqnyXdOIKd+87gjs4dVX1b4n9lHeVXCibeL5kldSBvg11mMc5nZg2uNwUbl0/+4zxneYHr1cuLy77g4rJhltQBPqXMGGOMMcYYY6zQ4WCXMcYYY4wxxlihw8EuY4wxxhhjjLFCh4NdxhhjjDHGGGOFjsUTVDHGGGOMMcYYYwUJT1DFGGOMMcYYY+ylwo8eKiA4n5k1uN4UbFw++Y/znOUFrlcvLy77govLhllSB3hklzHGGGOMMcZYocPBLmOMMcYYY4yxQoeDXcYYY4wxxhhjhQ4Hu4wxxhhjjDHGCh0OdtkLKeleFC7fjING/psxxhhjrCDRPfgLK6d9jXXn5d6KNgo75k7BvF0x0BnXFDLxOLF6OiZM+wXH4/V/63BrzwJMnvQ9/riiNWzBWH7Lv9mYk6NxIuIwzkTdh8bRCxVqN0SDqkWgkl9+2eVWPidHn0DE4TOIuq+Bo1cF1G7YAFWLFLJcfrwfw2v7YdbV1zEvaisGeOTVOZs4nNm6AYfiKqBVpyYoYyOvLkCez0yESYg+eRAHT15FbLIabqWr4tWGr6KcM587Sy/fy0f7ABcP7sWfF24jUeWGsnWaoKmPF2zll/OPFg8uHsTePy/gdqIKbmXroElTH3jlQ0KeOc//u4njBw/ixJUH0Dp4okrDpmhUwTVXzgz/d/M4Dh48gSsPtHDwrIKGTRuhgivvNy+C59PWsoLA6rLX3UfoRw3RcX1dLDv5C7p7EP79IQD/G34dfXf/gxn/y/+WOc8lh+GjKm9i/o2S+HDbBcxr9R8WB5TAB1t18J1xFntGVIRS3jQ38H7JLKoD4sWn0m9iwWZZSzhPa0e3pxpF1CSS8+TzINmSV70eND3sBmnkTVNpKfavhdT3NQ+yUbnR2yvuy+sLr2fN54Tza2l0+xpURC2l5rFYJFsvqtdjOoXdyJjLL6zkPTSkoopg05Lm3tTKK62jjT1P+8P20MmYFHlNKu31OfS6rchPpTd9sDVJXluwPGu9ERlAfy3sS6952JDK7W16+q6moejdQdSjbnFSS6l1TDQ1pCzagYJvPFtZFEbWlc9DWvN/nqRKk8epi+TQgr6LTL8/a+ne/m/onWoupDR/n2RHpV4fRZuvW7n/P1xD/+epStt2P1kkcmjxHaVPivbefvrmnWrkojRviySyK/U6jdp8PZP2PneZvjPHEs/RryMDqIpb2t8riWNQnfcW0vEEeTsrJJ77lUYGVCE3Vdo8UbnVofcWHqdn+GiWT0zlZrUctbWsILGu7EWbvGUAVVKrqebnB0nfg9Bc/JHeLKIkN/8FdLWwHi6TttIH3kqC+lWaeELfr7pN89vYimORKwWujDVuk4us3i+TdtNn1R1IYTpeShIpVLbk7FmJGrQfSLN3RlGyvKnVEjdS35I2pC7WjVY9kNdlJv43ereYmtSevWhdorwugyTaNawK2ardqEPwLVG7mIkldSDbGmJ1RdKLP0IzWnqIzpfoDLvVoPaDJ9Oc4BBaOm8Gff5eMyrrIJHk0pGW3ZW310u5TjumtKeK9qZOgS21mX9bfrHwepZ8jj8yg1p6KEmSRCNaoz0NnjyHgkOW0rwZn9N7zcqSg8h/l47L5K0LgVwLdrV0eWYzsoGKqn56IGPD9iiMRjWpTBVqd6EF5wrmyYJnqTcp13fQlPYVyd7U2Nu2oax3NS3FbBlEtfT7rE0pavbBVxS8dgvt2LaeVsweS/3eGUarONjNwKry0UbTj61sCMriVLulP/n7p10CAsfSlrtp8zrlzPfUuqiCoHAjn25j6fsly2jRN59S+6pOInAT+7/vNDpuxZFbG/0jtbIBKYvXppbp0uHvH0CBY7dQmqSknKHvWxclBRTk5tONxn6/hJYt+oY+bV+VnEQ9k1x8aZo1CckBa/eJB8sDRRrV5FG3Ew2dNo9CQubT1I9fp9I24lgk1lcbvsfKoPQBLQ8U5aD2oLqdhtK0eSEUMn8qffx6abLR54m6Gg3fw+FuQWdtvdLLWVvLChqryv7RThpSRU0Kt7a0MEo0ktooWtKxuAioKtGg8Hh5o8In6cAIqqFWkGvL2XRBdJu0MT9TFw8Fqcr1oy25H+tav18m/ESdHPWDGZ7k09p4THvDryFV97I3BMCSuhQFLr5AGYdBcsD0HbZv0kLzOCe9B0uona2+XehAy7M8FCTSxt6e4thqQ82/u8rBrhlL6kC2NcTqikQPKXxYdXEwl0hdoTuFnM94uiLhwlr6ossIWi/vANpbofR5E09SSyoqWu89eqeeneiocbD7VA/DaVh1GxHoqqlC9xDKmM0JdGHtF9RlxHr570Ig14JdDV36pimpRbBbZfj+Zz+L9xxYV2+0dCv0c2riqSZJVZTqvfcO1bPTN8hP6YDFbqZ+ZVUk2Vaj/htu5vnoXGFhVfmYgl2L6/ddWt3NQxygRUA2cDvdM3uL9vpKeqeEUgTBHtTjt5wPJZmCXZuWc8mSpNxd3Y08FKLNrzaQtqdNCK18pwQpRRDs0eM3ystBLev2CdGVODCfvlx+lO6n+Z3JdGxifbIVnR9luYEUbtUFHol0YP6XtPzo/bQdlORjNLG+rTjGKancwHDDyA8ruKyrV1a0tazAsabs49f0oKIKkLrpN3RJHDA1F4OoiY1EimI9aX2Wo3cvOO1NWhZYlJSuzWjGCX2PKoWOfVmPbFVl6L010XkSoFm3XwpZBaLJUbR5aF1yEG2+okQvWv9QXm8NDnbzhSV1IM9uFtJeWoopi88hRVkBfefPQ68qdvIrqRwqdcK01TPQwc349+OIn7D4hDvaT92KoxHz0akc39H7dFpcWjoFi8+lQFmhL+bP64WM2eyASp2mYfWMDvLfqR7fPIifZ47GoH690KvvR/hs8gJsOR2byaQJybh5bA/2HL8l/gvQRB/GyqnD8cH7fTBw7I/YcSnJuJks4coRhO88gPOxmU+/oLl9GnvD9uDU7bSTFVieniz8dw1/796Fw5cfySvMaO/h7L6d2Hv6tsg1IeESDv3xB/ZffCD+IPHWv7B961Zs3fYHDl1O0G8hJOPW8d3YeeBfPMgkEXmVf3nvMSJ+WowT7u0xdetRRMzvhKfvajrc+GUOfokilPq/IHzdvkSu3nPDntG9LVi19Q7IoQUGf94SRcxadYV3ZwzpWgEq3V2Ebdor1ugQF3kQO8P24lTMY+NGZpJuHMXusH04c8/ivc7MPWxZtRV3yAEtBn+OlmkTgs5DuqKCSoe7YZuw9z95fQFi13gAxr/3CtzTHBVtUL11c5QVFV53JxrRcpOli4vEwZ1h2HsqRuxN6STdwNHdYdh35p7cFtih8YDxeO8V97T3/dpUR+vmZcW+pMOd6Ghju8QKmZy2taxw0OFhdAweiQZAUqqgkkQX5OYNxOhEn1ylyuT4+Qjnt87HhGEfoHfvDzBswmz8diQ6wwSc/107hDU/TMKIgf3Qq2cffDRyGpbti0KGHkTyTRzbswfHb+l7HMm4tncxJg7uh94DPse3608jzriV8AjnNs7C5wP6ot+QCViw66qhj5Kp/y5jd8g0jPyoL3q93x/DJwdj15W03/z4nx/xbagGvmPmYmhtG+D+RsxccAKe3b9FUKDnizEjrk1ptB0/FK2dJNHm/4mI0xmPk5bkBStg5KA3S/pNLNgsHQ1dmOFrHNWtP4lOWngdgDb2Ap26ajqtkUA/v62/BI9HdrOkuUAzfI2juvUnnczB5RZJdDakN9VyVaS5N02/SGovajEujGLMTxsl76GhlVSkqjyU1oeOoxZe5vdfS6Rwa0Tj9ppuSEimw5/XINGcU8neG+mRvDbVXVrRyZ0UkhO1C46Rz07lPD2ZjewmbnzfMKpk12EZpb9ISHNqEtVXg9S1R9MRkVGJm/uQlyLtdxkXBXn12WR8k/y7YdOKfrhlnoC8zL+cMX1vzmgp9sIpSt3Vfqa3nZ422nCbgtuJfVFZhj7cUVhPSecNq8onhyO7STs+pDJKUbdFW3sqkyH3+DXdScSd4vXJ4q8UOjbpNcOtDfb1xtOf5sV5P5QGiP1Ksq1NX0QYxxlzNLKbtIM+LKO/V6s+Tco8IdS9iMLw+uTTeXdtgHX7RNbiN/QiT5F/yvKDnozsphybRK/pL+m3r0fj02YihQ6oSCrJlmp/EZHNaG08beilP1OvpPKDeGS3oLOuXuW0rWUFkTVlr7m6nb6fMIG+337VeCVU/AlaPW08TVl+hNJczau5Sqv7ViNH0SYrbN3I06sIOahE26KuS+OPmnp1iXRwqh+V1M8hItIhKZSkFH0d43+7UcMxu9J8ZvKeoVRJpaLKQ3+nzaObUHHz+RNE3+uVT8PoXuIZCulZ3XB7iek1SVmM/L7+S3xbWgknFlC3Ko6i3yL69M7FycPd3jCnhMK5JvX9OVLue2rp9u55NGHmZoqUk6258DtNnxRMEeluu8lNprTn2NNGXRN/p/eKiWOVqjqNOJj2mj/L8kLGI7v5wpI6kG0Nsa4ixdLyjvpA9VkuD+VgN1uxy6mj/sCpqkLD91ueyw/ChlA1G9GY2lWijl/+ShHnrlLUhcO0bloXqqbfMRWeFBhitjPJwaXCxZu8Xe2pfLsJ9Ovhi3Tl9HYKCixHatFI2zX8ik7Je3nKkdFUSwSWCq+e9Hv6S0BuL6NANxEkurajxXIAaW16MgS7olPqITqltu1DMgTZKSLYracPdmuNoj9FOrWxx2nTsmCa+W5VY2AeMJ4WL1lCS5Yuo00n5MAzi+/J6/zLCev2z3Sy64Al7aSPyynF79U32FpKijlFu9f/TEsXL6bla8PpVMyLeAF4/rCqfJ4Eu6/TrAsxdPPGDYq+n5Dlyazb89uQrahDjoErMjm5lLo/Kr0/MK6I308ja9uSJLlQs6DT8uc+ot2f1CAbSU1VBoWR6dTLk2D39Vl0IeYm3bgRTfcTskjJ7fnURnTGJMdAWpF5Qmh0LXWeT/iWK/uEScIxmuHnZrxEfPhes05gPO0fWduQ7y7Ngui0nCWPdn9CNUTboK4yiMKyOX+VcGwG+enbQv09u3v5JFJBlyv1ioPdF1KutinpJGzrT6WVCnJtOoH23zWeBEy6dYRWTZ1Oa6+YTgrepuDA8lSvyxhavOMUxeibi6QY+mdFf/IRfQ7JrjFNN5tXJHnPEKqoUpCLtze5OlSht7/eRMcvXaSI4N5Uw15sb1OdWrUsT7ZFXqOPFu+hc5dPUejkNlRCKQJelwBacD21v0OxO2hwVbV4T3nqNDuCjHN5JtLlLaOpaREFKVz96LuzeXfyMjtWl02WgagI2jf0prIiLxSe/0drzdvxnOYFB7v5wpI6kG0NsaoipZygifVEp0YUyhvzTKN3OcXBbnZSTkw0BHCweYPmpRlKfApNJH3XwkF0dJ2p2YxT6U5EpNC57/zIRXTg1K+MoycnFU1Bn2RDld//la6a7cva6KXUQd9hs/GjWfpJGPRSjtOEV0WDoPCgd9eYtxSiEQnpSG6Sgtw7rRDNt/As6XmGYNcom3t2M/ue/Mi/HLBq/0wvuw7YgxBqrz9AOtamNwJqU7E0M35LpHASQf+M/WnuFWVGVpWPPthtLYLdJ3ksFrHP2BatTE26j6c1Z8yvW9DQma8aiDqsIM/3N5oFY6k0Z7+ihqLuS27d5DX6EzaDqaooR0WRAJp/SUOJh8ZSXTuJVOX70SazgtQHu61FsGueFklhS0UrN6Hu49eQeVI0Z76iBuJ7FJ7v08bME0JfNRTHBcmNuv2W5RH9mZnSaZWHotO3fCktCV5AsyYNog413UgpOVClwNl0JH2j8iDM2PFRFKGA+ZdIk3iIxta1I0lVnvptupfhuPfwVCgtX7qEghfMokmDOlBNNyVJDpUocPaRTE9SsILlmeqVCQe7L6RcKftMaejctEai/VaT74yLxhHgHHlAv3TRXynnSB2Xp44sGINd0VbbVqE+a6LMPvcBrXvPSwRMop1286UJB8z6Z4YrBfUnQV2p8ypTi6Sly3NakpOkogofbqe0YxcaOj2lgeEEae0xR7I8GZvXrC4bUyCqbkDDfwul0NBQ2rR2Oc0aGUg1XPQnIb2pw8JzZr/LirzgYDdfWFIH8uYSet0jPIoX3y0p4ejk+GJcp/8C0j16BGM2O8LJ0bJc1sVsxeZDiYBrK/TrWxNpHx2rQtWe7+N1Z0BzZg/Cr6e7b0/dBEO+ehtlzG44URRriNeqKEG6W7h+Xb7DRFUTXd9+VTTfd7F97Xbo74o10N3FlnW7ECcVRZuubVFcv+pZ0vMc5Ev+FTC6hw/wSEughFPYe9wRrT+ZiWW/h2LbltWYO7wVSj2OxPpRXTFs/T35HeyZKNxQr30vvNurHwZ+8hk+Gz4IfTv7obLyKg6smoQuvm/iq8Om+8oJyUn6u6wkKJUq8b8ZSfb2sNW/kJJ675Fry4mY2ascFLF/4MtPJ2HMsFk4luKNbkFTEGB2r63CrR7a93oXvfoNxCeffYbhg/qis19lKK8ewKpJXeD75lcwJYWSkwz3e0lKpeEetQwke9gbE4LHmdwGVRAkH5qDAb17o0/fARg2fi42nEmAWx1/dG7/Gkqnnw/BtSUmzuyFcopY/PHlp5g0ZhhmHUuBd7cgTAkoku64l4xDcwagd+8+6DtgGMbP3YAzCW6o498Z7V8rjYwzWjDGCj8lipXwhL2kwfFfF2B3TE7v3LeHt3dxKCgFcQ8eyutSqX0HY3JgabN7hJ1Rv3510VNRwPPtUfiisau8XlCWxqs+XuKz/kP0jTvGOQR0t/HH5ggkKErgjbebiXebU6JSk0YordTgwl//IFZe+8JJ+RPfdg5AQEAA3nq7J4bN2IBbFd/F11si8OsHVUVeyV6GvCjE8iYOVahho9bflahDUmKWt7uzZ6RQ28CYzUmwNJtTzp1BZApBVaEOfFzkleZcaqBGGRVIew2Xr6TIK00kyM9uTiU5wdlRn4jHSH7SgVWiStfOaGhLuLd9DbbJe77uzhas2/0QkmcAuvm7G9Y9W3ryX/7kXwFDZJhoR3IMwNyjB/Hz15+gZ0d/tAnogoEzN+KXoeLgqb2J9cs3G7dnz8gWDQYtxMqQRZj7bRCCZs7B4tVhOHl+P75uXRyIPYDpo4NxydAbkaBWq8W/hBRNiuH0ZnokglxRZSHZmIdUReA/ZQa6eQO3fp+Ebw8lwitwOqann0TEtgEGLVyJkEVz8W1QEGbOWYzVYSdxfv/XMCZlOkYHXzJ0jCSRDkNKUjSG78tAdMgeGxMCO7u8OfQ8K9tmo7F261aEbtmEdT/Nx5SBbeBx5XdM79Mc9drPxrF0E2sV8Z+CGcZMxKRvDyHRKxDTpwfCM8PPs0Wz0WuxdWsotmxah5/mT8HANh648vt09GleD+1nH0MBnLOLMZbHinYajoF1HZHw1zfwr/kqOn36A3ZEmk5mpqWJ+Qu/fTcKA7p3QJvXm6NpkxYY9Ot1OTDNZDBAdDjSdjkUcHKw0/dEoJAU6V6TYG94TfRzTCdGNZH497I4rtADbP38dfj6+qZZ/Ib9jmgtQRt3H/dzGqcXFOpq6Dx+KqZOGoOBnV5FcTUhLvIkohJVqYGu3suQF4VYHgW7XvAsrt9ldLgRdTXDjHIsdyi8PGHM5huIumpZLtOjeCToO6L2TnBK29IZSQ5wsBf/UjISLep9mTWYhqsJjJTl30Hnxvag2B1YE3pfrNHh9uZ12PNIgZLtuqK1fFos99OTt/Ir/woShaMD7PSJ1CqgzDAEZYdX32iOkkpCUuR5eR3LE26vYejEnqisIiQcDsc+w6TjElxcnMX/inVxccjsdBDFiTor/pXcihhXyBTFm8G/kTwCKdmjmm8jeFl4RHB7bSgm9qwMFSXgcPg+6JMiubjAWdQTSohDXOYJQbwxIShSJLOdpwCwLYPXWr8J/4B2COwxAGPmbMKRPdPQwlWLG9vGYviiyLSzJiuKo5l/I3kGbNFZrOaLRllkom2Z19D6TX8EtAtEjwFjMGfTEeyZ1gKu2hvYNnY4FkVyD4mxl45zM0zZvhMLh7RGuZTTWP/tILSpWQXNh6/D5SfdOh1ubh4O3xqN0PXTIKwMP4uY+BToJ3fOU5SI/5Ke8iUOpeHTuAXavfU/0QeQ171oFOXQesgojBo3BXPXHkTE/I4okXAM8z4cjl+jzU4g5Ete6DI9Z2FCch9RyjBqwrKTR8GuB3xqekMpwtyLEftx4ymFx6yn8PBBTW+xV2kuImL/DcPoW3YkJyc46PeTh7G4n9l+qxXr48QLCjcUK/oMO5SiNDp1aQYn0cHduXYL7mhvY/O6PXikKIMO3fzgIG+Wq+kxncUUR4DMPio35Fv+FSSOHvBwVoBEGd68kbFDLjk6wl78VNJyZz2vqcqWRUnRalPKQ8Tpn2shmvDipUvAUUFIuX4V1zIpguQrl3BdrFeWqSivMYr9YzwmbLgLm7IV4a1KwJ7pI7DymqWNtQply5YU3y6+92Gc4REbiuKlUcJRrEm5jquZJwSXjAlBxQr6MeAXg6PPx/jY3x0KfWC/OyLtCGzsHxg/YQPu2pRFRW8VEvZMx4iV1yxqi8Unw+fjj+HvLvIs4TB2R/DYLmMvI0XRBug3+w+cvXIcv0/rgdr20dg76330nfOv8eRa7Hp83n82jjwqjXfm/4Ubt/7FsT8jcODAbvzQtZTZZcq5THKGi/7KM9Gf6/bjLvF9BzIu+3dh3ejm6S7rfVHZoFKvIHzWzBG66N8RNO9E6mBdXuaF2gH2NuKzdQ9w904mx06DZDyITdBPmQ0nF+c8Ct4KrzzKL1s06NAGpZSExAMhWHKUL2XOE7YN0KGNaOgoEQdClsCSbFZXq4YKKgmaS3/j7zsZu2Ta64fx11UtFM418Uq1tHek5owCJTp2gZ8LIS58LTaf2Yh1++KhrBiI7k1ShwdzMz2Sg3EEUvfgrgiu5ZWyhGvXcT/Dx+svKzYGyDoLA7X8y78CRF0dNSrpT6qcxz//ZHyGcdy587iplaAuXV5ew/KK5vJl6G8FVziVQKmixuZbXbM2qipFnTx/CBEZ6mQyjuw5hDidCuXrN5DXCXHhmDh8CSKl6hi4PBxz3y0NKWYjxoxai5iM1ToTGly+fF0EdQo4lSgFQ1LUNVG7qhKSqCeHIu5kCPiSj+zBoTgdVOXro4GlQ8gFggJqtTG9CoX4fYb/0otD+MThWBIpofrA5Qif+y5KSzHYOGYU1lqWieID1TB+tAIKUYaMsZeX0r0mOnyxAjt+6IRiUjwi/tgN/XVxyUfDsf+2aDt9+mBC31fgll/Np00lVK1oC0l7DWfOpD6dt1BTVkSvj9rDQ3qM48sXYJfpivK8zAubqqhWQSU6kCexf+/dzE+WJkRg/z9JIFVF1KntJK9klsqzXcbBbwgG+zrr91J8+8EXCL2VMZh4fG0HpvYcjBUWjyawtBzgN2QwjNn8LT74IhQZs/kxru2Yip6DVxj+Unj5o20DEWz+twtzg/amTh6lp4vBlqk/IuKxBM+2XdHGbO4Cayg826NLK3dID8OxcFgw9sYrUbVTVzQ0iwFzMz2qChVRVt/pP/4HQqNSMyL53BL0HbAUVzLkjQKOTg4i4NXi7vXrFt0zl5/5V2CIxr91y+pQi879jsUhOG9+xXzCYcz9cSfiYY8GbVrJK9mz0ERH4nLGcwpiVz6H4Gk/IVKjQLE3OqCFfHmEsmJbBPiogfhwzJ/3d5p6rL20DN+sugKdugbe6VpfXpuA/V8Nw4LzhPK9ZmBMszJoP2Uy2nsQbq7+AmO36rtXehpER142XKKc3uNzwZj2UyQ0imJ4o0ML45Uaop60DfAR9SQe4fPn4e+0CcGyb1bhik6NGu90Rf2Cdh5Idx/hP87Ehn8z3iunvfIrlm2/D51kj3q+DUVNN0rY/xWGLTgPKt8LM8Y0Q5n2UzC5vQfo5mp8MXaroZOqp7sfjh9nbkDGj9biyq/LsP2+DpJ9Pfg2NH0yY+zloMO9S5G4l6ZvooCTm6thUkGVvZ1hEkxJpTJO+peSgsdmV5Tp7h/Axj03095akavc0cq/MZxEm75zwY/46yW5+MS97QfoXE4FbdQaLNxgOnGbh3mhqoXADjVhQ3EInToGG2+mL9EHOPD1l/jlug62dTqjyytp7iZmljBOypw1/SYWbJap5LMLqKO32vjwZc961Hn4VPphyTIKWfANje7dkio5K0iy96NZl42TaGsu/0xD2geQv7+/WNrQqyVV4r1K8vBpbVwX0JFGrL1p2LawsT6fk+nsgo7krX8cjKQmz3qdafjUH2jJshBa8M1o6t2yEjkrJLL3myVvTxQbNoSq6x9OrnChGoGfUdDCEFo6byoNalPJ8GBzpddbtOiC2ST4WTzqx0B7nb73syEoK9DgXRmfnRn7a3cqrr/WUfw2w0PSj2WcoD7X0qO5QLP8nEWdUZBL7W404cdgmjepNzX0UJPrK77k46JI9+gh8VEHR1J1/RT9Tj7Ua0YwLfl+PI1bdlJ+MfPvyc/8y4519UZDl38eQu0D9PuZWNq8SiVV4vcoPcintXFdQMcRtNYsrdorS6hDcYWoY/ZUoc1QmiF+85I54+m9+sVIJX6zg88I2p3+mcrMivJJoRMT65FDsdrU9oMx9M38EFqxYin9MHUYvf2KMa+VJd6ihefNH1KhpZi1vaisKENJ5UmN+kykuUtCaOHXQ+iN8nYk6R959cFGui0XZ8KhsfSqvfickl1plfysa32dOP99K3ITbYW62lAK15el4RFyDlSsdlv6YMw3ND9kBa1Y+gNNHfY2vVJMtM2Skkq8tZDMk6KNWUu9yupfU5Fnoz40ce4SCln4NQ15ozzZibTbVP6ANpoSkkes2ic052haI3Gssi1B9QIH0+Q5wbR8eTDNHt+HmnrbGI5hDrU/pXDTkzoSDtHYV+1JUpakrqtuPXkMhOb899RKfnbuUEMm6j96GjUS7bNtiXoUOHgyzQleTsuDZ9P4Pk3J20bfbjtQ7U/DnzzbmBVMVtUrK9paVvBYV/aWuEeL/B2p+Ktd6Is5v9DmHdtpw5IJ1KmqA0mKotRhyXVj2/JwE/XVXyop6o3f6F9o//FjtP+3r6lHLVdyLVZUtK025DcryvCJeqZHD9m0nEvpq9b9Rf5kK/rV3v1CKW2PI5kOfFaVVFBTo2nnRM2VPdpHn78i2jrRpns07E2TF6+lrWFhtPX35TR73AfUtm5V6r0m7x4llx2ry+apjwVKoWPj65JaHLMc/WbTJVNm5DQvTN+h9Hyyv6cuAdR+2Cp68ijl+9tpWC1R7uJYY1vyf/R/o2bSwmXLKfj7SfTRm1VEPx6kcK5Ho/dyRys9S+pAtjXE6ookS4rcQOM61CD3NM/mFItkS171u9OU0CtPnlWafPgLqpl+O/NFvOe1yafkrQsX02+0ThJFbhhHHWq4i50zbZ5Jtl5Uv/sUCr1i/kTYZIpc8wk197YVO5bZ9qLB9GzQjxYfS7czJR+mMXVsSenakULSNwraGFrS3pWUtnVo9OEMT6oVjcM2GlzVkZSicXBv+R1l/uzx3EtP0tml9F41Z8Nz5IyfYUul20yksKvb6KOyarJv+BWdNI+3NVfop3crkO2TfFNSuYE7ja9l+T35mH/ZMH13ziTT4S9qZqgr5otk+xpNPmWeUSKg2vklvVlWNPTm2ymcqVK78bT1eqYF+9Iz5VNOxIZPpNYVnMU+k5rPhrxWulDlN0fQr+cy61g8on/m9TA+u9X8PWoPavjRT3TW9NxbbRQtbOtGSnUJ6rjoUmqHRi/5GE1v7k4qhQu1mnNJrIil8ImtqYJz2s+EOBgrXSrTmyN+pcyS8uifedTD8Hxas/dIatE5+Ih+epKQvGP6zpzR0JUNo6ld9UzaUJUb1Qj8krZFmfYHLUUtbEtuSjWV6LgotSNkkEzHpjcnd5WCXFrNMb4m2pgNo9tRdXf9iV/zz5ZI5VaDAr/cRk8+mhVYpnLLGWvaWlbQmMoq96XQ6YVdqIr+ua7mdcLOm/y+2Eyph1Ut3doyghp7pLYh+mNvta6zad+6j6m82pnaLrolb6vvcoyhOrZKcu0YQum7HA9XdSF3pQ1V+WSPqJ3mUujoxHpkr3AS7f+VJyfw9DRRW2icf0VyUqTvx6vItXI7+vaf51d/TWnJscT11LuEmtRFutDPmZxp1FxeQO2Kqkjh0pYWPTkpnMO8SNpFw6vpg2Oz7Z4sEqlfGUfmm2uid9GMbq9QsQzxkg15NXif5hzM+Px2ZlkdkPT/IzbKkmnWr2w2y1ZyzElEHDqNqDvxIOcSqFL3f2hQpUjaqb1fYrmTz8mIORmBQ6ejcCee4FyiCur+rwGqFMkil5Nv4/TBCBy/cg/JNkVQro4vfGt5pHt2bD7KrfQ8jsHxXbtx9GYKitRojjcaZvccy3hc2r8DB87fB4pVR9NWjVHOUX7paQpA/uXW/mkxkbcn9+3D0Sux0Nh5oPJrzdC4inveTZDxgrO6fHQJuHnyTxw5ew1347WwdS+FavUb4dWyT5+YQvvgIg7uOYzztxOhci2Fmr7NUN/bNB2cdXQJN3HyzyM4e+0u4rW2cC9VDfUbvYqyzk9JifYBLh7cg8PnbyNR5YpSNX3RrL73k4np8tKz7RPJuH3mMA4di0RMAuBQrAxqNmiEOt658Lx40V6cOXwIxyJjkCByoliZmmjQqA68LXxGOnu+8r2tZQVGXpe9Nu4S/jzwFy7cegS4lsUrTZqijpet/Goq3aPLOBh+AOdjVShZ1w+tfDzzsQ+txYPIP3HgrwuIfpgCG3dvVKpdD69WLY6MKc0/z2e/zNu8SIo5hUMHT+DKvUQonDxRwUfES9WKPr++eQFnSR3It2CXPR3nM7MG15uCjcsn/3Ges7zA9erlxWVfcHHZMEvqAJ9SZowxxhhjjDFW6HCwyxhjjDHGGGOs0OFglzHGGGOMMcZYocPBLmOMMcYYY4yxQsfiCaoYY4wxxhhjjLGChCeoYowxxhhjjDH2UuFHDxUQnM/MGlxvCjYun/zHec7yAterlxeXfcHFZcMsqQM8sssYY4wxxhhjrNDhYJcxxhhjjDHGWKHDwS5jjDHGGGOMsUKHg13GGGOMMcYYY4UOB7uMMcYYY4wxxgodno25gOB8ZtbgelOw5Xv5aB/g4sG9+PPCbSSq3FC2ThM09fGCrfxy/tHiwcWD2PvnBdxOVMGtbB00aeoDr3xICO8TLC9wvXp5cdkXXFw2zJI6kHcju0mb0K+ULWyKd8cvcfI6luuSNvVDKVsbFO/+i7ymYNM9+BcHdu7FqdsaeQ17rnQP8PeifmjgaQu1+ztYGSuvZ8/RI6x9zwtqhWRoxNMvCkc/zLqklbc10eH+gZnoXKssqjXrgHf7fIB+PTujdd3yqNRyNLbcSL+9hR6txXteaigySYckKeDoNwvpk6K7fwAzO9dC2WrN0OHdPvigX090bl0X5Su1xOgtN0QYzBhjjDGWP/Iu2NU9QuyDFKQ8eoBHHNfkGd2jWDxIScGjB4/kNQWZDlFLPsDrrVrinRl/4rG8lj0fmhth+CqwPpoOCMaR24+hSYxHAu+rz5/uP9yOjoVGURy1W/rD3z/d0qYJqrgaz2SaaM7+gG4dRmLNvwrU6joW3y9ZhkXffIr2VVS4ET4dPboG4YQVO5zuv9uIjtVAUbw2WqZPh1jaNKmCNEnRnMUP3Tpg5Jp/oajVFWO/X4Jli77Bp+2rQHUjHNN7dEWQNQlhjDHGGLMGZUO/iQWbZZTwE3VylAi2b9LCu/I6liVr8znhp07kKIFs31worynINHTpm6akhoqqDN9PyfJaZj3r6o2WboV+Tk081SSpilK9996henb6fbUNzb8tb8JyhVXlo42mH1vZEGxa0tybWnnl09yl1d08SCGpqdrA7XTP7C3a6yvpnRJKgsKDevx2X15rOW30j9TKBmTTci5ZkpS7q7uRh0IidbWBtD1tQmjlOyVICQV59PiNcp4Sy1m3TzD2dFyvXl5c9gUXlw2zpA7k/wRVyTdxbM8eHL+VLP7QIPrwSkwd/gHe7zMQY3/cgUtJxs3YM8pxPifj5vG92HcqRmwt3hH9J1bNGIkP+/TGgBEzsProfeiMG6b67xr+3r0Lhy9nMqqsvYez+3Zi7+nbxssWEy7h0B9/YP/FB+IPEm/9C9u3bsXWbX/g0OUE/RYs3zxGxE+LccK9PaZuPYqI+Z1QTiW/xF4897Zg1dY7IIcWGPx5SxQxa9UV3p0xpGsFqHR3EbZpr1ijQ1zkQewM24tTMRlHWJNuHMXusH04cy/D3m6Be9iyaivukANaDP4cLdMmBJ2HdEUFlQ53wzZh73/yesYYY4yxvCQHvVnSb2LBZhllMbKbvGcoVVKpqPLQ9RQ6rgV5qcU28ndAUpBbo3G094G88UvE2nzOamQ3x/mcvIeGVlKRus4o2rR2OP2vuIok0/ZikewqUreQC5Qib66XuPF9wyiOXYdlFC+vM9GcmkT11SB17dF0RLwpcXMf8lKkfl7qoiCvPpvkd7GcMuVjzmgp9sIpupog/5nwM73txCO7ecGq8snhyG7Sjg+pjFLsa/Un0SmNvNJM/JruJOJO8fpk8VcKHZv0GjlIEtnXG09/Jhq3MbgfSgMqiv3etjZ9EZFkWJWjkd2kHfRhGSVBXZ8mZZ4Q6l5EYXh98ulMXs8l1u0TjD0d16uXF5d9wcVlwyypA/k/sivSRNAhZs1AdP/mKuqPXo3DF6/g9PYgBJZVIu5wEEb8cNowusieRc7zWV9ltJcXoFePObhcfTCCd5/B5QsRWDGkIdweR+LXYYOx+IrZ9DJyHRP1SPxvWqbap99G/6+N71AsWhqMme9WhQpKlAwYj8VLlmDJ0qVYNKypfkuWbxRwq1QTZRzkP1kBRdAk3MWtmzcRE/tflm3iw8jLiNFJsCldHmLXzsC2bHmUFOt1t6LEXyr4DP8Og2rZIOmfWfhs7hn5c+OxZ/JnWHpJQuUPvsMX/0s3bTJpkHD3Fm7ejEHsf1mk5GEkLsfoINmURvnME4LyxoQgKopbeMYYY4zlvecQ7Orp8OiOAwKX7cb6iZ3RoGJZ1Gg9HPMmBMBVSsbRsDDcsuYqOpZOzvNZFx8H29azEPbHt+jdvDrKVfof/u/blRjb1AEUtxPLVl2wajZVhVsdtOvZC4F1PSCJ/3Oq9gbe690bvd/viXa1XeWtGGMG+kmfHodjWGVPlPT2hldRZzgVq4KmPSZg7Vnzy/61uHsvFjoS+5SrqwhlM5KcHOEo/tUlyLcbOPpi9Hf9UUX1CPunjUDwZS2SDn+NT+adha5cL8z80g/me6QxKcNQ2bMkvL29UNTZCcWqNEWPCWthnhTt3XuI1ZH4Ple4Zp4QOBoTgkfxPCczY4wxxvLecwp2AXWTIfjq7TJIPf+vQLGGr6GKkqC7dR3X+cR/rshxPqubYMTcD1HTTv5bT1kBnTrUh5o0OHn4T7wI8z4z9sJSuKFe+154t1c/DPzkM3w2fBD6dvZDZeVVHFg1CV1838RXh01RJiE5SX9fvgSlUmUITNOT7O1hq38hJfUeXdeWEzGzVzkoYv/Al59Owphhs3AsxRvdgqYgwOxeW4VbPbTv9S569RuITz77DMMH9UVnv8pQXj2AVZO6wPfNr2BKCiUnwZASpRKqzBMCe2NC8JgnZGaMMcZYPnhuwS70z2mU/9NEcnKGo1hJj5P5sTS5Jcf5rIKNjfyfTyjgVakC3BSExyJAvsWDMozlIVs0GLQQK0MWYe63QQiaOQeLV4fh5Pn9+Lp1cSD2AKaPDpafbytBrVaLfwkpmhTjrQPpkAhyU8QLko35Gawi8J8yA928gVu/T8K3hxLhFTgd0wM90x4UbBtg0MKVCFk0F98GBWHmnMVYHXYS5/d/DWNSpmN08CXD1R6SSIchJSkaw/dlQCLINSYEdnbP79CTGe2/P+LtGlVQuXLl1KVKDQTOOcfPBWbW0f6LH9+ugSrmdapyFdQInINzXKkKNW5PCjYun5dPwepxKFLDMsPtoCxvWJHPkoM97PRvEx1qDZcNY/nP7TUMndgTlVWEhMPh2Ge4xEKCi4uz+F+xLi4OKYYN06K4eOgHXyW3IsYVMkXxZvBvVMR4EJDsUc23EbwsPCK4vTYUE3tWhooScDh8n+FqD8nFBc76k2gJcYjLPCGINyYERYqktkEFgo0Tinh6wMPDfPFEUecMZ/4Ys5ANnIp4pqtTHvAs6ixeYYUatycFG5fPS6dgBbuswNLej8VDneinurrBzVRrTKPGuowTVDHGcp+qbFmUFPsfpTxE3CP9DfcKFC9dAo4KQsr1q7iWyWnp5CuXcF2sV5apKK8xiv1jPCZsuAubshXhrUrAnukjsPKapZMlqFC2bEnx7eJ7H8ZBnxRF8dIo4SjWpFzH1cwTgkvGhKBiBf0YcMGhLNcTi3btx4EDB1KX/buw+P0KZreAMJYDynLouWgX9pvXqQP7sWvx+6jAlapQ4/akYOPyeflwsMvSojjcy/CMzcc4ceQ44kkJj8rV4CHXGsnBwTDaq3twF3fS9W0Trl3H/Qz9ZhEcywGyTptJZ5gx9lSay5dxXR9YOpVAqaLGHVFdszaqKiVozh9CxJ30O10yjuw5hDidCuXrN5DXCXHhmDh8CSKl6hi4PBxz3y0NKWYjxoxai5gM+21mNLh8+Tp04hDiVKIUDElR10TtqkpImvM4FHFHvJZW8pE9OBSng6p8fTSwdAiZMcYYY+wZcI+DpZXyN4J6jcBWs2maddHrMefnf6FReKBVW1+YHkqiqlARZfWd7ON/IDQqNXhNPrcEfQcshflTiowUcHRyEAGvFnevX8d/8lrGWCpNdCQuZzYL3ONzCJ72EyI1ChR7owNayI+OUlZsiwAfNRAfjvnz/k6zX2kvLcM3q65Ap66Bd7rWl9cmYP9Xw7DgPKF8rxkY06wM2k+ZjPYehJurv8DYrffl7TSIjryc6YR0j88FY9pPkaJNKIY3OrSAISnKimgb4AM14hE+fx7+TpsQLPtmFa7o1KjxTlfU56vFGGOMMZYPONhlaUl20J39Hm/7vonBMxYi+IcJePeN/vjlhg4ujYdheICTvKHo25Zpj06+4u9H4RjT4f8wcd4SzJ/cB82bf4iwIg1QxyVj9XKtUwcVlIS4P2ZgWNASLJ0zAeOXn5JfZflDiyurhqJD2wAEBIil0zc4mCRWa45i3rvGdW0DR2IdP//rOdDg7IKuqFWhDtr1H4uZC5Zh5coQ/DjtE7zTsCmGbL0DqURbTPnybTy5A1dVEwNGdUcZZRL+mfoWWvb9Ej8sXYZFM4YioNVQhN5TodL7UzC0njHC/O/wdAydewqaEm/jq0n+cBfrFN7vYvrY1+Gqu4xln03CLn2EqzmLBV1roUKddug/diYWLFuJlSE/Yton76Bh0yHYekdCibZT8OXbppSoUHPAKHQvo0TSP1PxVsu++PKHpVi2aAaGBrTC0NB7UFV6H1OG1uN7FhljjDGWPygb+k0s2CyjxPXUu4Sa1EW60M8P5HVC8uExVMdWSa4dQ+iuvM5EG7OE2rsqybbOaDqcLK98SVibz4nre1MJtZqKdPlZXmOU43xO3kNDKqoINq/TtA1B1KGCPennmjGkS1KTV5PPaGOURt44VdLZpfReNWcSYa28rS2VbjORwq5uo4/Kqsm+4Vd0MkXeWE9zhX56twLZ6mfUMbxHSeUG7pRfZDllXb1JpsNf1CT1kzLIuEi2r9HkU+YFx6xhys+ciA2fSK0rOJMyXflISheq/OYI+vVcgryluUf0z7weVNNNmbrf6t+j9qCGH/1EZxPlzbRRtLCtGynVJajjokuUZo9OPkbTm7uTSuFCreZcEitiKXxia6rgnPYzAYmULpXpzRG/UmZJefTPPOpRU3yHefpFG+LR8CP66UlC8o7pOxnLTVyvXl5c9gUXlw2zpA5I+v8RG2VJf4+lXjabsWf03PP58V4MrdES319rjrlXtmOg63Uc3rkPZ+4pULxaY/g1KgtHedMMHsfg+K7dOHozBUVqNMcbDUvD/CEnGcXj0v4dOHD+PlCsOpq2aoxyWX44exrePws2q8tHl4CbJ//EkbPXcDdeC1v3UqhWvxFeLev81MtxtA8u4uCewzh/OxEq11Ko6dsM9b3l652tpEu4iZN/HsHZa3cRr7WFe6lqqN/oVZR1fkpKtA9w8eAeHD5/G4kqV5Sq6Ytm9b2NlzvnMd4nWF7gevXy4rIvuLhsmCV1gIPdAuK553P6YLcEX+H+IuD9s2Dj8sl/nOcsL3C9enlx2RdcXDbMkjrAEQ1jjDHGGGOMsUKHg13GGGOMMcYYY4UOB7vMSFUVnT4djdHj+qN5Ea4WjDHGGGOMsRcb37NbQHA+M2twvSnYuHzyH+c5ywtcr15eXPYFF5cNs6QOWBzsMsYYY4wxxhhjBcnTwlm+XpUxxhhjjDHGWLR4thUAAAEhSURBVKGT7cguY4wxxhhjjDH2ouGRXcYYY4wxxhhjhQ4Hu4wxxhhjjDHGCh0OdhljjDHGGGOMFToc7DLGGGOMMcYYK3Q42GWMMcYYY4wxVuhwsMsYY4wxxhhjrNDhYJcxxhhjjDHGWKHDwS5jjDHGGGOMsUKHg13GGGOMMcYYY4UOB7uMMcYYY4wxxgodDnYZY4wxxhhjjBU6HOwyxhhjjDHGGCt0ONhljDHGGGOMMVbocLDLGGOMMcYYY6zQ4WCXMcYYY4wxxlihw8EuY4wxxhhjjLFCh4NdxhhjjDHGGGOFDge7jDHGGGOMMcYKHQ52GWOMMcYYY4wVOhzsMsYYY4wxxhgrdDjYZYwxxhhjjDFW6HCwyxhjjDHGGGOskAH+H5yU3vkoK5R6AAAAAElFTkSuQmCCZu4T4aqYDfRwRv6JAYuhq6u+EorFEiQ9JpIN1z6xLtRvLYY4jzWzSgLZc+wZ1hGumx6iQP1fsG3XBKRx6aR8Sly6C3q2LAR5pD927LuBvTtPIFpSFY59mibrHzwz5bP00alcGRUU5W3p06sI+uTaFYvQsMgs1zImIiIiIu3BADARERFliSzUB/OnbsLVSCHhg0QEb9yME7Fy6FRqDNvKJmg2ciX+/nsTNm1KMawehobKO1/69fHj6k3423s0WvCmaTpJUK2fE741kiN87wKsvC2FiZ0LBlh8KYAugo6OjirAkZAQn+yGnwzhAXtx7PmnNbBjTs6Ah9dtyCs7Y+6Eb1Gh03RM62QK+fMtGDvRV9WcYXYRl7JHe2WmeHcEi+cdR4SQriILxf6ZSxAYL0LJ9r3QVsgrmVmHUpLh5eEx6DRgJW5KLDFs417MaFUszT8aDE1NYaJ4MfHKUfh/EnSPw81jp/FcJoaReXUhjTIvGL6ebnBzUw/ztiqbagauTU9K8/0oUJuR5YPh6eyBQNhg4VpNv7/28PJRhYDh4eypWEIjJz9HLpCFw3/JAuy5EyMkJJE+3Iq1h8IhExWAtW0jKFuMV0rvtU8W7o8lC/bg07eW4uHWtTgULoOogDVsG2nemfIM2UscHtMJA1behMRyGDbunYFWxXi7hVIQl0SnnnYoInoL/+Ue8D4eDUm1rujVKPlDaRkvn6WbSXO0sNZX/DwHYs3KS4gVkpW/18Hr3TDU656i9E5EREREeYXI2tqaD/gRUbaQy9WXE+U45bRmPigoSDUmIu0kEqlrJWnO2fRIDPoNjepPxbUiVnDo3hkt6lVBUXEEgk9uhfeGADyXl0OfdaewvnfZtJ88e7cFPUv1wXZ5V2wM3Y4+yZrBy4sys5+V3v3dDab9d0HSYzNebOmJpN30Gn/3qIYB219DJimDgTtuYHXnZBFO6Q1Mb2yFXy9bYGzARcxqqL7RGLVvCGp28caLYi0xZtE09KoO3Dm4BFNm7keIThxeRzXBH8GH4V5eceTencGvzVpixpUi6LnhAv7ure5fWHrnT7Rr5AG/GAv8dPAsFrZMu91p9efficS2y/HMdyiKCelpifBzh037P3EzoSBqdnbFIPtvUFz6HBd2r8LqQ/cQW7IDlp3YhSFmScHuDK8TfxzuNVtj0ZPmWPzwEIaV1t4b9pnLN1I83DQS7hvuqvvZloXiit8lxXlZAnVaWaOMjuJ99b/B4CWz0VX53eP88KNFWyx9LINBhQZoXiuV4K8yOPbjMkxrXwKICcBYGzvMDYqHiWUPDP/eEY3Ni0Mn5hmu/rsGniuO4pnEEmMOBWBWUyPhDfKmzJ7X6ecLN5G6iea0uPrI4WUvzGRg+WBfN5g7KJZ09YE86Q0UguFpaw5lt8BJ751znyOjMrXPpbcxu2ltjL9UHPUcuqNLKytUVFwu3wQHYLv3Bpx8loACtUdi34n5aKm8jGbg2ie9PRtNa4/HpeL1FL+HXdDKqiJM8AbBAdsVv4cn8SyhAGqP3IcT81sq0klbZSZfxfn9CIu2S/FYZoAKDZqjVirBX2Xw/8dlU9C+hPb+zuR3OX8dV4jYhr4WvbFJ+dCUSBd1fz2Hs1PqfNQVRobKZ4jHcfeaaL3oCZovfojDw0qr3yTV8o0MYdudUK/333guLoeWP/yEPnUM8fTkOizbcAl6FpUQdfMByo0JwNWZDdTvoyVy5diQVmMeoNxmaWmpGivznmZIPq+ZJiLKLv7+/sJU9mEAmIiyjaYgrhynnNbMMwBMpN00f8Boztl0kT2D79ThGLVoP26+SUiqqSASw7B8cwyd/Rdm9qmRLFiZiti9cKncDesxADserEKnpHbw8qRM7WeF2D2DUKnHRug470LwivbJmgsEog8OR73Oy/C8xhj8e3oGmiRvjld6H57f1cXoMzXx26kTGF9buM0oC4HP2G4YtPAUwlTRQRHEBauhx/QV6HXbCb3W18SSO3sxpBTwZEUnWP5wCAU6LkHA9iGo/CHmGo8rc75Dy4knIG3hicsHhid77WOxe1xQpccGxDmuxf0tfdIRAInH/R1j4eK+BMefxSXLW3oo2cAJM5b/jsF1UgacM7hO/FlMbPAtZj+yh/e9XXD+UlT6P5S5fBOPs+Pqoemc6+oAcCpE+g0w9UIgJtZS5Is4Hwyt2hnezxKT1TpKQWSAZnOv4vgodT3R+Ae7Men7n/HX4QeIliVbSyRBIbO2+N/vS/Bbh4qf9POc12T2vKbMy9w+l+LR3kkYPnYpDt5689F5IdIpjBodR+B3z/FoW16ZY2UZu/bhEfZOGo6xSw/iVvLfQ2WNvsI10HHE7/Ac3xaqtyatlZl8FeczFFU7e+NZYtrriAyaYe7VIxiV7KEl0i65cx2PxsGf6qPbkjuIK9QK8wIPwqN6ijyR7vKZOgB8dmIDfDv7Eey972GXpiCTVvlG9gYn5/RF3ykH8SRO/T1FuqVgO/wvrOh0Co5t/0KhX8/gzMTaqte0BX9jiXmAchsDwESU2xgAJiKtpimIK8cppzXzDAATaTfNHzCaczZD4kJx7fQpXLn3Eu/FBVHKoj5sG5qhCG90fyJL+znbyRD14BT8A27jjU4Z1G1phzolteygxYXh+qlAXHn4GnF6RVHJ0ha235h+vo/jzKyj5bQr36QkQ+SD8zh94TaevYmD2LAoylWvj8Z1K8A4n1R20+7jkzdlbZ/HIezGGZy+fA+hMYBh8Qqo1bAxLMsapd1aRXoprj83zpzG5XuhiIEhileohYaNLVHWKJ+cDF85nsv5V34qn8U+Owe/EzfwUlYE1Wxbo0lF7W6lg+clMQ9QbmMAmIhyGwPARKTVNAVx5TjltGaeAWAi7ab5A0ZzzlLO4H6mzGC+0W48PrmP+5xyAvNV/sVjr714bIh5gHIbA8BElNtyIgDMR5CJiIiIiIiIiIiIiIiIiPIIBoCJiIiIiIiIiIiIiIiIiPIIBoCJiIiIiIiIiIiIiIiIiPIIBoCJiIiIiIiIiIiIiIiIiPIIkbW1NXvPJ6JsIZerLyfKccppzXxQUJBqTETaSSQSCVNERERERERE2kNzb4kop1laWqrGynskmiH5vGaaiCi7+Pv7C1PZhzWAiYiIiIiIiIiIiIiIiIjyCNYAJqJsk7LWb/JpzTxrABNpN80TrJpzlnIG9zNlBvONduPxyX3c55QTmK/yLx577cVjQ8wDlNtYA5iIchtrABMRERERERERERERERERUZoYACYiIiIiIiIiIiIiIiIiyiMYACYiIiIiIiIiIiIiIiIiyiMYACYiIiIiItI2wb7wdLOFrdDPmHKwdfOEb7Dw+mf5ws1WWM9WsY6Qmina8jmIiIiIiIiIKN0YACYiIiIiItImvm4QmTvAY3kg4Oqq+N8VNorkwOUecDB3+2IgNdhzOpSrqgTeECYyQVs+BxERERERERFlCAPARERERKTVYl8/xoPnkUgU5onyuuA712Dj6oO7cjkCvLzgpRgC5D5wVb26HNM9P1P9NtgTzh5CwFZIyixt+RxERNpOFnEeG2bNwc7bQmlF+hj/Lp6OpUdCIVOn5DHRCNoyG5NnbcaVaOW8DC+OeWHa1EU4+FCqWoKIiIiI/lsia2truTBNRJQlcrn6cqIcp5zWzAcFBanGRKSdlM10KmnO2UyLC0FQ4BnceByORKNSqFK7ERpWKwod4eXk3j2/glOngvAwQgrDkhZo1Kwxqpjk7WfUsms/x4UEIfDMDTwOT4RRqSqo3aghqhVNbS9/xeJPYmTtllj4qBWWPvaFm2lO5Y1I3PDdg9ORVWDXtSkq6AnJWiTbzs90in0RhNPnbuLR61jom1ZDo28bonLBz+z/2BBcPXUKQQ/DEadjgrI1G6GpdXkYCS/ndblxfII9bWGuCqr6QO5lL6R+zNdNBIflNlh4dyJumDtgOVzhI/dC6ktnjrZ8jizv83fPcUWVZyMgNSwJi0bN0LiKSbY8JZ0ff9vyity+1pL2yPSxl4XD54dG6LK7LtZe3Yw+pnLc+csBTUY+xeCjFzG3ib6wYB4Sdxg/WLTDsmdl8P2Bu1hq9w4rHUpjqK8MtnNv4tjoqpAIi2YHnpfEPEC5zdLSUjVW5j3NkHxeM01ElF38/f2FqezDv0CJiIgo+7y7g50TOqNWmQqwatUFfQa6YEAPB9jWKIPy9fthjt9zaOoExN7ehjHtq6Fsxbqw6+6EIUMGoW/HpqhWqS6cVgThnbAcferdnZ2Y0LkWylSwQqsufTDQZQB6ONiiRpnyqN9vDvye56WaFzJIFV9HLpciMYtfSxZxBwF+x3Et7NO6xLJn6/E/x4EY3L83pvvHCal5jCwCF1YMQcOS+tAt0h0b3gjpKby7vR3jO9VEaUX+atm5tyJ/DUSfDjawqFgPziuuIEZYLkk0Lq8YjAYVK6JOq67o7zIEg516oF2DqqhoPQgrgz5dg3JIsCemLwdsFq6Fu5mQlpJiGVV/vraeSFl/Vxm0FYls8bmKvemSns/xX4q9jW1j2qNa2Yqoa9cdTkOGYFDfjmharRLqOq1AUBZ+gPjbRum91lJeIUP4gfFwX/0IFoNGoqupGNJ7y+E+yQ+y1u4Y3igPBn9VElXlM4hLoFRJZahXMa+s6iwyhGmZYtka/M2SuGMYXdMIErEQwBGLIdE1QKFS5mjUeTgW+T9BvLBopsX+gyFl9aFXog82RwppqYnZjv4l9KBXaiB2xQppn4jD0RHVYKBXBF1WheTR2uNERESUWxgAJiIiouwRcx7zOjVDz1n/4LbMHB3/Nw1/eq/B6qVzMaZ/I+jf3IRxXYdh42vlwpHYNs4F8/6NQOVOP2HW0jVYs2wmfmxVDuLIIGwY1gu/Hudt8tTEnJ+HTs16YtY/tyEz74j/TfsT3mtWY+ncMejfSB83N41D12EbhaUpiQyPVw1FK7vW6D737Cc3+8QmNdCogRmq1LRF/cp5rBa1QuKzw5jhWB/N3LxxLiweie+jEZNqm9rh2PSzE2YfeI0qnT0wW3luLpkCl8amQMQVrB/WDaMOJL+7KcPLncPQ6cfVuJhoiUGz1mLPoX+x7++FcG9ZEm8vrcWPPcbjCGPA2eLuDXWHujY1zVXjjwXD09kDgXDFxM9FXc3cMVHZJnOgB5yTR3p93eCwXDF2nfjFoG22fI7/UOS2cXCZ9y8iKnfCT7OWYs2aZZj5YyuUE0ciaMMw9Pr1eCYDtfxty+/Sf62lPCP6KKaMWIX7Rt/BfVhD6MueYN2oyTj0tjL6j+6HCnn0rlvcBX8EhMlh8q0z+tXUgSzsMPwvJUCnYg8MaV9YWEoLSJ/h/uP3kIlLok4be9i3awe7ZlYoJ3qG8//8BY92NujtHZy1bkZkUXgTmYCEqAhEfe6NEqMQGaVYLiIC0WlGduWIioxEQsI7RLzNcmiaiIiI8jkGgImIiCgbROHIRCdM9H8JceXe8D5zAXsWTcRwF2cM/H40Zq87hhtXtmNMO3OYqKoE6KNq29FYe/YWzu9YiLHfO8PZbRz+8v0H4631gYS72Ln1DPJoPczMizqCiU4T4f9SjMq9vXHmwh4smjgcLs4D8f3o2Vh37AaubB+DduYmwgqUROiSQDmVWtNxxq0x88Qd3AvaAtdqWlNvJRvIEOI7Fi2tHfCrTwRq9u8Oa4PPNVVmiFqdxmH1mVs4t/13jFGemz9MgvfhnRj5ja7i3LyPzSv24UOFNlkodnhtx1OZCTrM34sVY53QqY0d2vdxx8K9azC0igQJ9/Zg22mezVnni93KAC1s0LN9KoFV33lQtspss3D0F5tZtvdS9+Mb6DFP8a5KvnBTR3/hk0aTzkmy73P8V/SrtsXotWdx6/wOLBz7PZyd3TDuL1/8M95a8euUgLs7t+JMprIsf9vyr4xeaymviDnojY3BCZDUbgm7MmJIH2zBKp9XQGEb2DXJo50gyF5gy/xVuG3YFBP++B5mkkRcXbYAe8LLoc/86WinRfHfD3TqYtgmH/j4+OCg/2nceHQbe3+qiwKJT7Hn1+nYHyUsR0RERJSHMABMREREWSa9vxrTV95CgqQKBi9bCmcLA+GVJIZmXTFry1x0Vt0UMoCN2yQMsCrycWFErwbaNK8IibJWYUjIh+aiSUmK+6unY+WtBEiqDMaypc74dDcbwqzrLGyZ21mYTxL//BT+XjAew4c4w3nwDxg1zQv7r79R7OmU4vD88jEcu/JCFaRIDDmDDTNHYuhAFwybuAT/3v+4zbqYh+fg7xeA229Sr8qQGHYdxw8fw7Wwj49m+j9PGt49wYWjR3DmQSp37KSvcfOEH45fD1PnoZj7OH3wIE4GRyhm5IpVz+OQry98DxzE6QeaqqlxeHHlKPwC7iAilQ+RU/sv58UjcONKBBXphJm+lxC4rCsqfbaCswEau/4K57opzk2j+ujqYK44N+WIefwALzSHU/YUj58nQC4uhWo1in28ToGaqFlJkSKPQXQU+2vLqmDP6VDFXVOtoRsMT3Wby1ibrlq39hi90EYxXg4HN8W5ILy3q8+X++jN3s/x3zCwccOkAVYo8vEPEGq0aY6KEkW2fhmCECGPyyLv4ZTfYRy/FvppM6Gxz3Dp6GGcuPFauBbwty3/yui1lvIGGd6GhCJKcQEQSXSgI1IUQZ4/Q6hM8Zuno5NKM8hRuO27DJM9hmLQoKHwmOyJbedCPql9+u7JaWz/aypGDxsCZycX/PDLLKw98RiflCDinuPysWO48kJZ4ojDk+Mr8dv/hmCQ2xj8vvs6ktrriMKtvQsxxm0whvw0GV5HHqnKKKl69wBH18zCLz8MhvNAV4yc5o0jDz/ecvzFJfjdJxG2ExbDvbYeEL4XC7yCULLP75jnWPLruNGoVx7tJ7mjjbFIcc0/i8DrqdS2Tce+ICIiItJmX0W5jIiIiLSZFA92bMXJGEDHyhnDWmal9mkCXr2KhExRRDEtXUp7+g/TBtIH2LH1JGKgAyvnYUj/bo7DrbUusK7ZFP1HzcJf3uuwbtUyLJj0PTrWrYnWk/wQljyKGX8Gc3vYwa7HHBzwnYQ2dZvBacIfWLl2NZbMGI521i0x6YTmlmI8ri8biLZ2zdHq5/2IFlKTvMbmH5qh5XcdMG6fJkCSwc+Thli/SXBo3RotRuz6pE9a6a0lcGqt+A59PHEpUbHs0RlwdGgPp2VXFTlMiqfbPNDRwQEO9g5wnH5EvZLie8/p3gZ2rYbh748+QE7uv9ygh1a/HcPVC9sx1q68Yi4LhJrTImNjGGsqtokroEpFA4gU+dPf9/pHN6dlIYfgdyVRsXx92FpnacsU7AlnZbXatGroCrVuXSe6I71hVzP3tVDHgBXngrrKLkZ/Ofqb7Z9DmyS8eoVIxfksNi2NUsIPkOzh33Dv9B1aNGyPGeeS5/A38PVojoatOmDY+juKa8vn8Lct78vGay19RRTndMcxmD95MuaPd0QZsSIn1HPB9GmTMHXuD2ia/EE96WNsHfJ/9u4DsKlqj+P4L+kCykaWyN4gRTayp9gyC7JEqMyq7KGyZBbZS5BNARERZQsUFMqeDgRkyt4bainQlbykTaUDfIy21vD9vHdN7slNejh35OT87zmnrErV/Ug+M5bKb/1yzf68p5pX9NDw36NCwA+1Z2QN5c9fQU27DNb4GfO1aNF8zRjbX22rFVe1gVtkvZUtSsjeMWpaq5aajvbT2gG1VKpGJw2dOlfzZ41R78blVa3PJt1+eFQLvMqpTKOeGjPLV3OnDNOHtUvLfcyvcQLK9w/NUssSxVSj7QBNWvSD1q/+WlMGd1Att9LqsPi0LVBtUkBQNjX6fJHm9SwWcayH3zaq6Acz9O1ET2X+L7Uypkij1C6RFZrYt6k9XVkAAAAkbQSAAQDACwrU7l0HFGp2UO4qNVTgBXq83D8wTZNW3ZDZKb88m70pF1s6LAJ3a9eBUJkdcqtKjQJ62mIO2PSJPDvN1+HgPGo49DvtOnZO5//cq+Ujm6mg8zVtGdFKHyw8bwvORrLG+UzXlqpzy3E6V7q/luw9qbOHf9RYz5xyCNirsR9/qcMRLV/OKvlOIxVyCtdVv6XaGLsz7o21Wu4fIHPqamrk8UpExfN58vNYEcHIR8M6Rxf5ivU/ka85V+yu2fPmanyrgpZyc9CrHoM0x9dXvvPmaXaPytYtI0TGN62fGbEaIWHLLzEYlTZfUeVIYVt9XqZr+vnXswq3lGB2t5LKEvUrwphZTXu2UyHnEP02ylPNRm3RFcu/LezSBg1s3lurbqdWxU+Hyys7Pzue20k/eee3zqlbQZP+fFwPXdvwzU8TwI0hn+o2s0aAI/3foG2C5SOJuH9A0yat0g2zk/J7NtObti8gx+K9NLHL63J++Jsm9ZmqI7Zz997W4eoz77QM+TtqYt9//r7iu+1lEE/XWvznOOSora5Dhqhr7RyRN3e4FlOzvkM1oHVpRR8J+f7GEeoz/4QcKw3Stks3dfXKLd2+sE/fDG2u4umi7qoK1JGfzyprw/6a89MfuhoUprD7V/Xbwk5ySx6gfeMHaObx6GMIWOs5Jl1b2kWtJl1Xlc9X68Dpk9o1t62KJAvSgSld1bxeXXmvSanWs7fq2Jk/tG54HWXRTUv9ZZC+uhSt9nJ3o/o27aIlZzPJc/JOXbx9Xddu39afa/qrotNRzfuwg6Yes/5tozJW/UBDetVVHltl1CFfI336WTu9meG/9F1v0o0fV2vbHZOMGUqpfOFot208dVkAAAAkbbTEAACAFxN2QacvBMtsqVbkyp//qQOTVoGH/bRw/jz5zpqs4V0bqWy1ftoSkkeNxi3U0Mpxh5F+mYVdOK0LwWZL7S2X8ud/ylIOP615PnN0PDSlKg9bqSWDmurNgjmUPV9ZefZdpJU+1ZTafF1rJs3RwVgBSVPgDaXwXKAtK4eoadm8ylmktnpNHyyPNAYF79+ojVciGw0d32iuJsWcZL6+Xkt/jN6z1aQb61ZosyUpbc3mamCNGL5Afl6EMa2b6rXxkmeJTDJY/pey0Ftq3bat2r7fRvWK/UNX6kQov/+KkP2z5bv9oeRcVC1bl4/Ruy1NzTFaveADlXS9qDX9a6lIsXJ64436Gv17BnmOWaOVfUuLs/l5WYOuHrbhmXc+ZshlC7+VEa9X0BGN9faW99+Lj/6I2OAP+USs++lkxHoUP42N6M1bwfI/a0dgb0vKkyRkPv4lgYflt3C+5vnO0uThXdWobDX12xKiPI3GaeHQytGOWVdV7D9RnQo4KnDHSH0894zCH+7V6J7TddSUS17jh8YZkYHvNgAxhevC/oO6Gu6g1+u3VvkMkeMAuGQprRb9PlVj69jzETKq3fLT+mWJj9rXKqpM1suFSyaVeG+M+tVNK0PwAe3Zdz9y07+ZFHjTVU2+2qgln9STW+68erPdRPm8k1mGkKPy//VV9f3hJ01rX0UFcxWVe7+p6lnexXKh2qmN26M+y6SzX4/SvBNm5W43U/O7valMEVXNZMrlMUwzepWW41875Pv1/v9uz1fTbR3b7Cc/Pz+tWb5Qkz99R9VaL9B5YzbVHz5QDf6+jr8EZQEAAF4aBIABAMCLMQUq8J7ZOvmZXFO6PkPlIlh7pnirbdt2au/dQ4OmrtKRoLRyc2+qBmWyEzCKxRQYqMhidlVK16crZdM1P63Z80BKU0sd2heNNSSlowq2eV81UklhR7bK/2KsgKRTJXUb0UQ5oo1VanylnMoUcJDZdEUXL9qavRyLqnmTknIy39SPy358NDSh6abWLt+sAEMG1WleVxmtSS+Sn39BopTff0HIYU3tM0UHQh2Uu42PepaMWRLWnuD5mvroy361ldlo0t1j+3T4Zrhcc76hMq+/ppT84nhOJzW5YlTQ9U89bsRlq5MnIsOru3bN0qxZ0ZddsoZ3La9oV8T6Sv0ZsR7JzzvqsxdogW0+YJ/JjwvNJmw+/i3Be6bIu21btWvvrR6DpmrVkSCldXNX0wZllD32F1Camhoy3ku5jHe0YWhvDRvQQ5N+D1W2FmPl45E+1vce320AYnPQK1kzK7khTAe+m6kt156192hyZcuWUUZzqALu/mVLe8SpYlcN98webXj5VCpdurClpmJU5ib91LdCtLtUHLKrZPEsls+6r6uXbkTOSW66rg1rdinImFVvNalieXd0DspXqbyyO4Tpz19+0x1b6n9O6D5NaOohDw8P1W/SRj3GrNKVvK00eu0ufdfROkKMzctQFgAA4KVBcwwAAHgxRic5Oxkks0kPHwTbEp+Gi6r0XyY/v3Va+8NyLZrho851MunsilFqV7WUGkz+XbH7OLzMjE7Oiizmh3raYg49dkSnQs1yzOOm4qltidGlLqIiORxlDr+gM2djz2BpkCFqRMIohpRK5WrNRIiCQ2xpclCB5k1VzsWsWz8u1Xpba5jJOvzzlr9kyOyhFu7pItJeLD+JL3HKL6m7q+1DvDR4a4BcinbRrDH1lD7WLwjT7R0aXb+kqn7qL4eKnTVz5fca3aaEkp34Xv3qllGtgRufal5nRGcNuuaPmE+3wiRr0PXJgzPn674zcij0OMs6dYrYopPWRaxHG7b55GT5RHTXtQ7XnM/yGQMjtt3Vw0sxY8AJnI9/kUuV/lrm56d1a3/Q8kUz5NO5jjKdXaFR7aqqVIPJ+j3WF1B6dx+NaZFNurJCwybs0YMsnho16nHzXfLdBiCuDI17qXMJVwX9Mk7uRUuqce8v9dOpINurMYVd+0XfT+wn75YNVadGVVWuVE1dvrtoC9Y+5gvVUuGIWeUwKmWKZBGjnhgNxlivGZQ84jVLPSfUVhkJO6UTZ0It1+e78vu0hipWrBhjqd5jha6GmxUecFu3/6sjHzsVUtNBn+vzYQPUuXFJZXQyK+DUIZ1/4Pgo+Gv1MpQFAAB4aRAABgAAL8aYRZkzWpuRTLp0/twzDYfmkqOMar/tLo96nnrXe4Cm/PCzto6spjThl7R+YC/NPkXLShRjlsyKLOZLOn/u6UrZHHhPQdb5bJOnVMqYrX+RDCmUIrnl0RysB08VkYjWiGi2fnAkh9zvqGmF5DLf+UlL1922pJh0fc1ybQ006tV6zVXb1n0i/vOTsBKr/JKuhzo8vY1ajP1ND7J4aPySUaoZGct/JPyEZrbyVH+/23q9x0r97D9FnRq+o08W7NHvqz9R+dS3tGOkdZ7kC7Y34Gn4eUcGXVWhgl4/MjbacMqPFr/nHkf5pCZ72ebyXRA176+7Zq6LCAGrh9dkyxaREjYf/zKXHCpT+225e9ST57veGjDlB/28daSqpQnXpfUD1Wv2qchgSxRjRlVxL2+7AcKg5IUqqvzfk2HHxHcbgDhSVZHPj5s0q1tt5Qo9rJUTuqhO0QKq2mu5zvxdrTPp8ppeqlikvJr3Hquv/Y/q2r1QmRK6ymB+oPsP/+GPpMiu4hWqqV79N/VqtJFN/lOMuVS7Wz/1+8xHU5ft1q4ZjZQ16HdN/6CXvrsaLaieKGVhemwcP4r15ikrQ5w7CQEAAJ4NAWAAAPBijJlUvGg2OShMJ3ft0KUX6unnquIffST3dEaZg/Zqyy76SUUxZiquotkcpLCT2rXjkp6mmA0pUyqFte3orzu6/bi2rHBLeoDlBWNavZLhBRqZjNnVuFkVpTQHaNOytboRfl1rlm9VoDGHGraorhS2zeI1P1G9XUxmPe6j4kOilV+SFKbTX7dXgx5rdDV1JQ1eukgfFnGxvfZIyM4vNX7jTRkLeuuLke7K+ndjqKNefXuEFn5WRSnMN7Ru/nJbOp7Jrl2xhlN+tKx8znGUT/qNjQzqdhoYcy5f948VMRL0rh4aG3sy4ATIR1LkWvwjfeSeTkZzkPZu2RWzp+6dDRo0eJVuOudU3myOCto6Sh9/feGprsV8twGwMmYoqw6TN+jo2QNaMfJdFUt+Vdsmva/2U05E3nByZ6U+7TRZPwdm1zszftGlKyf0+75d2rlzi75s/lq0IZ7jmSGVUltHKLHU51pM22z5ezvjLjs2a3n/qrGGRP6vclY+r7HqU8VVpqsrNHb6wUc3sCZkWTilUHJny2eb7urmjSfdCBSsu3eCZDY4KGXqVDTaAgCAF0JdAgAAvCAXlW1YR685mPVg53z57n+WYaAfw+gkp4gailFGB3sLqr0Al7JqWOc1OZgfaOd8Xz1NMTsVKqQ8jgaFnf5Vv96IG6YIv7hXv5wLlzFVUb1RKPa8rs/CqKyNmql6arMC/JdpzZHVWr79nhzyeqplpUczXsZnfgwpUihZRBvaTcVuQwu6cFG343y8dUjmyKCxKfzpet8lXvklNSZdXtVZ9Tst1tnkpfXJ9ys0IPr8gdHcO/GnrNMZO+QppMJx4sMOeu2NospkNMt0+6YtDU/DfWb0IZQfvzxpLt5H3DUzYtuYQy7nc58Z+RlxPiCfuu+M+dkJmY+kySinyC8gGY0Oj3rsK0D+Q3rJ95RBhTt/Jf+prZTdcE2rB/TTsmtPFwLmuw1AFId0RdWw70L99GVjvWK4p10btsg6fkrwfn/tuG6SY/F2Gtz+DaVNrBY753wqmNdFhvALOnIkwJZo5xzyyuvDBspkCNGBr2Zqc9Ro3AlZFs4FVSiPo6UCeUg7tt18/A1EQbu047eHMjvmlVuxlLZEAACA50MAGAAAvLAU1bupa8VU1pYrTejYV+uuxA2whVz4SZ+36aqFF0wy3fbXtPGrdCLO1GfhOvvdAv142yRD8lKqWM46vi4ipVD1bl0VWcwT1LHvOsUt5hBd+Olztem6MGLNmMVddcsmk+5v1tSx23Q3ItXGdE1rP5+mXSEGZa7bXHUeH997asbMDdSsVjoZ/vLXrB5zte2egwo2bq5y0eKi8Zkfxzx5ldPBoLADG7Tu/KOCCD7mq/be83Q2TtkY5ZoyhQyGcN28ePGp5uBMzPJLOky6sfFTNWg9R0cd3NR50WqNqJHhiT8aUmTKpDSWF8MObJF/nCB5sI5u3aPLJkvZ5y9kSwP+Zabb8p82XqvifgEp/Ox3WvDjbZkMyVWqYjlFfQMF7RihHjOPy5zbS2MGVFGOBj4a3iCTzJeXqO9Av4jAjRXfbQAez6Rbp0/pVoy6iVEp06aRi8FSp0meTNbqksHRUY7W+0NCQxUSbeQR0+2dWr31csxh6eNVOtVyr6CUuqdNM6fpl5dkkIJ0dTuqaS5HhZ9fqlmrbtgCsglYFo6vy7NhUTmbA7Tu8wFafTn2Hr2rnaOH6tuLJrm4NVWzN2LMTgwAAPDMCAADAIAX51BYXWeOU0PrsJj7J6tRiXJq1nukps37SgtmjdeAdrVUtOjbGrj0sG6HS+Yb+7Swn6fc8pdW424+muq7UAt9v9Dg9tVVyXulrppS6PUPB6t93v/qRGMJw6FwV80c11DZHIO0f3IjlSjXTL1HTtO8rxZo1vgBalerqIq+PVBLD9vCEQ751H5wRxVyDtUfkxuqYuOPNW72As2fMVJdPSrpXd/TMmeuq2GDGyn21K7PLoPqNq+jDIZA7fHfp/uOxdSkRUnFaLqKx/w45GigxhVTSoH+GtDwPQ2Z7qsZw9upatUPtDF9WbmljlvNTePmpjwOZgVsGKMeY301b8pgDfrqD9urj5Go5ZdQwnV2cXc1rOshDw/L0nicdj+0JIft1/RWkWl1PT/R8iu24G3wZst5OFG/Bprlkt5FJ75sp3rW90Vf6jbRZ2tvRGyerGZHtX09mUyXvlGHWu/qs+lLtHbjJm1Y9ZXGdXFX/ZG/KTRZMX3Qo1HE9sC/znxD+xb2k6dbfpVu3E0+U321cKGvvhjcXtUreWvlVZNSvP6h5TzIGznc6v29GtV9qv4Iy6omI4bJ3XqyG7Op1aiBqpHGpDML+mjY5kDrlny3vdSe8VqLl8xdrehSXIXLNle/qdbvyZ+0et4Qte61WJfN6VWrQc2I4YSdS9RS1SwOCv1jpnoPXqKdBw9o59Ixal3VUzPPuUQEixOGUTnaDNJHxZPpwT4f1a3RTj5zl2v9pk1av3KhvhjUSfVKFlK7ZXYWGU5RWR3eKyYn8y35zVmscxHx2BcoC8v5/mVL2zXg76WuGvb81vbZjirRY4w+KppcoSd81aJMZbXuP0Gzv1oo3ynD9ZF7ObmP2KuglCXVe2JPFSf+CwAAXpChVKlSCTVtGoCXjHUYwKjH2M+j1g8ePBjxCCBpsg6RaxV1zj6r4NOrNaJXP01dd1R3QqN9hsFFWUo1VpdhI/Wxe045h5/T6kFd1Hf6Bh27ExptDleDHNMWVv2eEzS5fx1lt9OGjxcr52CdXj1CvfpN1bqjdxSzmLOoVOMuGjbyY7nnjOp6G6LTy/qqXfdp2nYp+FFZG5yVuUwbjZg1Qe2LR5vFLGSfBpapolHn3DX31Ap5ZbClW5mua55nAXXckFOfbvtZI8rGGvb43gZ1K91E004EK3WNsdq1oYcKxYlzxF9+go/NV0fPblp0LDCy14blOMv+Vj/Nm1Vey6rU1/wsQ7RvR3+9HnUcWY67b7xqqN03pxUc8YcdlKvzjzoztcY//J1ELL//4/mOmxDt61dSlUYfjnGsRGdwKaNhv+7SwKKWggpep455G2rupbAnz61sSKbKYw5pW5/ICWRDzqzUoA9668uNZ3TPFO1dBgelzldHXSdM05B6OWPeDGCHXvT6iWf3fGUernOrB6lL3+nacCzWNdQxrQrX76kJk/urTsQXkEkXZjeQ24c/Knn9adq5tINy/31NC9GB0W+p+sDtCq82Wb+v76Lcerm/2+xFolxrkSQl3HU8TEdmt5Jnn6X68y/T39cGQ7JsqtZjphb61FW2iGuLSVfX9VWTtpO0+3rkNcRgTKWCTX00u/lxtWm+UEWmndCaDlmsG1uqHANVpsoonXOfq1MrvBS9yhH4bXPlfG+lMnb7SYcmVInoYRwpTL8PLa8Kw46r4uQ/tKFLzr97hoRfWKeh3t00ccPpWN/njkqT720NXrJCPUv8O8fvc++bh6vULk9TfR3sqQWnl6hlrBFbws/OUqPSnbUutI5mHl+tDlkiS+OZyiJ4i3q/4aGJxx9Y8heZ9IhBTm8M1N6fhylq8/BrWzShR0+NWXZAN2N8CTkrS5l3NWDyeH1UPj09dmKhnoXE5ubmFvFoPfailujrUc8BIL74+/vbnsUfAsAA4k1URdz6GPt51DoBYCBpi/oBE3XOPq/ga4e0a89hnb9xT+ZUWVWgxJsqWyB93ABQ8HUd2btHv5+6piCl0Cs5iqpseTdlc7XvJo/4KedgXTu0S3sOn9eNe2alylpAJd4sqwLpn9AwZynrw7t36cDZWwp2Tq9cbhVV8fVM0RoEE1l85Sfkmg5s3qL9l0OVvkhVvVUuux7NOvw493R6x0/aefy29EphVa5VQblcbS/9kyRQfvF1fiYMkwLO/KI9vx7XpTvBMqZIr9cKlVb5EjmU8iVpwUza+8c+vViZB+v6kb3a8/spXQuSUrySQ0XLlpdbNtcXb3R/Sb/b7AXn8ssrofd9eMBp7dv5i/68Eiilyak3KlWWW5Y4E+jLFHhGu/136vgdR71aorpqFc+ciDdRhevuqX3a+cufuvpXqJzTZVO+YqVUsmBGxc1p4vl3zsuELYuH1/7Qnt0HdfbWAxlTZlae4pbfS4Uy/Ht18ySOazMSGwFgAImNADCAJC2qIm59jP08ap0AMJC0Rf2AiTpnkTAoZzwPjpukjf2T+ChzJASOq5cX+z7pYt+AYwCJjQAwgMSWEAFgbkEGAAAAAAAAAAAAADtBABgAAAAAAAAAAAAA7AQBYAAAAAAAAAAAAACwEwSAAQAAAAAAAAAAAMBOGEqVKsXs+QDihdkceTmxPsZ+HrV+8ODBiEcASZPBYLA9AwAAAAAg6YhqWwISmpubW8SjtY0kaom+HvUcAOKLv7+/7Vn8oQcwAAAAAAAAAAAAANgJegADiDexe/1Gfx61Tg9gIGmLuoM16pxFwqCc8Tw4bpI29k/io8yREDiuXl7s+6SLfQOOASQ2egADSGz0AAYAAAAAAAAAAAAAPBEBYAAAAAAAAAAAAACwEwSAAQAAAAAAAAAAAMBOEAAGAAAAgKTipJ8me1dURdv8Ytalovdk+Z20vf6P/ORd0fa+ipb32FKfS1LJBwAAAAAAeGYEgAEAAPBSe3jrvM5cDlCYbR34N4Q/vK3L89+VIb+HeszaJXXqZPl/J1WwvLZrVg955Pf+v4HUk5N9ZH1rhF1HbE+eg5930sgHAPxHmO7+oq9Hjtby47baRPh5/TTVR9M3X5MpMiXhPLyl82cuK+BFKzJhd3X5zCXdCbGtR7ing0tGafDIb3XgnnXdpCtbZ2r4sC+04Wx4xBYAAABImggAAwCA+BNyS8e2rdI383311ZK12nH0uoJtL8X28MpBbVm9RAvmLdC3a/foTGCCN48BcYXsUP8KeZU3TzPNvf4SHIMPr+rQ5hUR5+i8Rcu18Zez4tRLGhySpdf9gHOq0Gmd/jSbtXPmTM20LDvN69QpYotZ8pn8D91vT06WVw9bwNaW9LxOnvgjSeQjwd2/rAOblmnh3Lmav3iNdp0OiLdAzf3LB7Rp2ULNnTtfi9fs0ukATrSXw0NdObhFq5cs0LwF32rtnjNcY18Gptta/2lLtZv0q4LTWZvZwnViRke16L1YZ5KlTeCGtxDt6F9BefPmUbO5121pVgE64veVfL/dofMxArpPEq5jY95Wrjy5VWPE77Y0i+A9mv7JQA377BPN2GOt1Qdo7ejuGjS4j4Z/f9byLgAAACRVBIABAEA8CNHJ73upRr4cKlqtkVq1bS+vFvVUuehrylainb46+ah56P7xperfoIiy5nhD1Ru20Pvt3lfLehVUIGdJec0+oCDbdogrZOdAlUzjKKPRWWkLNtfsY/+/q0fYkRlqnDeVnIxGOWf2lO+Ff68lOmR7P7mlcpDRNpys0ego55SvKOcbb6n98CU6cOffyJtJ4ZbD02wOV5g9t2KGX9PWca1UMkcOFa/ROOIcbfdeE9Uum0+5G/vq8j8Ufcgfk1U3Ryo5OzorVf4uWv+kuzrwwvJ136mdM92Vz7YeyV0fT7L2v7V2pv0z4vFx/Mb20C5V0KSPG9lSnl9SyUeCeXhc339aVwWz5VSJWu+oTYcOavtufVUqmEsl2szWwfu27Z7Dw+Pf69O6BZUtZwnVeqeNOnRoq3frV1LBXCXUZvZBvcBHI0m7r+NL+6tBkazK8UZ1NWzxvtq931L1KhRQzpJemn2A2o39Mun2+v7qPu+cCrTtpcaZjAo/NUvdB22SqWZ3dSnnYtsu4ZgiKzIKj1aRMV1aqK6e76v9ey3k4/80X9yW94dH1ivDQkMjHiOFRdSTZMyoLJkdItetdQZDCmV6NYOsKQAAAEiaCAADAIAXFrStvxq1nqQtV9OofNshmjpvgXynDFe3JiWU7Phq/XgwqiHpthb3bqNR628pT8MeGjV9vuZPG6p25TNJdw9oYecm6rM+wLYtYgs7d1QnAk0yOht1/89lGjp2vQJtrz3eXf0werhWnwmTk4sUevtP/Xnl3xvoOOzCCZ0OsuQ/c3HVdnfX229VVbkCKXX38Eb5DmqpCpU6a9UVukrFO9N1retRSx6fLNZhlzfVYcRcLVv7k9avXKjJA9qqeu4Utg0fI/y05vYZqvVXgyVzmIKuXtUdew6U/1ednCyfWVKFSQvUPWbU9hHLNhHz+VacrNj9d/28rTdlVNQ/dex9Kk+TjyQg4Pt+ajf2J93N3UDdRk7X/Pkz9PlHNfSaMUAHv+6s5p9te85AbYC+79dOY3+6q9wNummk9Ttuxuf6qMZrMgYc1Nedm+uzbYSA7dLtxerdZpTW38qjhj1Gafr8+Zo2tJ0iqzcL1blJH1G9sVP3tmhoT1+ddn1L3TuXlYvpgr7qM1g//pVb733cSjn+pVY3Y5rCKlcmn/IUqajSuR1tqc8u+Fd/7bxuVpoqXmpVxNFSpdgo//2hcszZVB3qprVtBQAAgKSIADAAAHhBAVrzpa+Ohjjq9d4r9NPcwer8fhu17TJQk7/fq5N/7tTwms62bVOoaIN+mrf3mH5eOkGffuAlrw8Hae7G5er1upMUelrfzl6jO7at8XgpKtdTjTRmXVnhqxXXnhwwNV1Yolkrr8hYuKEaFH7+xr/45liisxavW6d16zdp+2+ndfHAArUp4KQHR2ar2+ANtq0QX+76DdBHMw4rvGBHfb/PX7P6t1Njj1qq0/A9dRs+W99PbKFXH/urwKQr3/XT8I33lLeNt2r/Q5wYCevPI5ET6lYokj/iMaaTmuxl7XXbSQP/Keqar7sGWsdk3tVDXtEjvX7e8phleew08P8GbeMlH0mAS946+njBPh37ZZkm9f1AXl7e6veln37oX0ouCtWfy7/T3ufq6e6ivHU+1oJ9x/TLsknqa/2O8+6nL/1+UP9S1rtw/tTy7/Y+cWoE/IelKKoG/eZp77GftXTCp/rAy0sfDpqrjct7KbJ6861mr6F2Y4+CNszVopOhcihWXbUsX6bhZ5bId91NKW0F1XrT1bbVvyBlTX2+/YROHVyiTgWfs5+u6YqWjPPV8RSVNGDiB8rnEKZDM8Zr1e3X1HKcj94m/gsAAJCkEQAGAAAvJvyyTp29J5MhtYqXLa7YMaJk2Qoqd5qoKkcyle/0mbxKpItZCXEtrcYe+eUgs4LOn9EVehj+I0M6D3nVt3Yr2qB5i580/1qYDs+bI//A5KrwfhsVeWLb331d2LNUXw77WJ07eKlNuw/1ycgF2n7+oe31SKaAU9q9aaO2/XFNcaaSe3hJ+7ds1PYjt55j/kyjUhVprUlDGyq9MVyXNvxgS38k5PJufTO+v7pY8ufV/kP1GT5Taw/f+ce/9TzvsUumS/p2yrc6b35N740drQZZn6ER+M56DR64XNezNNfIQRXkarClI5H5aaU1QKsKalb3MYFVv7GyTrlbYdLHcrclPYn7zMh5fHf1GGv5VCs/eUdGf7Vu5v97d/zl49+WrIK3BrV+QxFTdf7NWYVrV1VOyyliunFVV20X1me79iVTBe9Bav1GrO8458KqXTWn5TvOpBtXrzJnpj1KVl6dPvNSiZgHlaV601ge+S0HlTlI589cYd/bHZP+unotYp5ng4OjHC3fk+GXL+maySw5Oj4aHjnorH7236Sdx59QDwm7rsPbNmrrH9ejHSNPVz97smBdObBFm3ae0N04f/Shzm+bpxG9vdW+/Uca8MUaHXvMkDIhv03ThHVhqjhgqroXc5Zur9b4mQeVueUEjfXMTIMiAABAEkd9DQAAvBhDBmXM4CSDKUD7Nu3UXVvyMzObIx4MKVMqJYGmf2ZIqTpt31Eu4wPtXDBfBx83qvPD7Zr11e8KS1tH7VrlfHyl7+EejayRX/krNFWXweM1Y/4iLZo/Q2P7t1W14tU0cMujvWk6+426N3hL1crW1Yifozc+3pFfj6oqW6OeOi88oeizxj2LVIUK6TVr4OX2dVuKVbCOLWinUkUq6b0+I/Xl3K/0le8MjR/0geqXKKKagzbpepxGzed5jx27tUFrdwbJmK2uWtR6lq46Qdox8lMtOJtWdYf6yPMVfjb8W05O9lFE3PWxPXRPanLkmMta8FS9bqPm8Z0lD28/+dk+u9O6mf83aBu/+UiaQm/eVIDl+mDMlFVZbJGb+Ln2hermzQCZLFfiTFmzMGfmSyayemNQSkv9huqNvbGc0/U/1bjBgzWuv2fEaBrOJdvJZ/ggDRvzoSoli9wq5PAMvV+nlqrW6K219yLTorv17YeqXP0t1eu3RresdZRnqJ89UchejX6ntmrV6Kxvold8TFe1tlclFa/eXgMnzJKv73R93r2BSpf10rdno1coTQoIyqZGny/SvJ7FZB3LJ/y2UUU/mKFvJ3oqM9UCAACAJI8qGwAAeDHGV/T2O7WU3himP2e0VL1e3+hQ3K4G/8x0TT//au3J6qjsbiWVhRrK/5Ws8vtqWdRRYYcWae5j5pS8tXKmlpwx69XGHdQ40xOanAOP6OezWdWw/xz99MdVBYWF6f7V37Swk5uSB+zT+AEzddzWFcWxeC9N7PK6nB/+pkl9puqIrY3w3tbh6jPvtAz5O2pi3zflEpn8zEIuXNR1y98yps9kS5ECNn0iz07zdTg4jxoO/U67jp3T+T/3avnIZirofE1bRrTSBwvPx+hN8zzvsWfBh37VHw8kpyIlVcI5WNcPb9WqxfM1d+5CLd98WNfjdGmMFHJgkj6edsRynPXVKK8n3ECAhHdysrys3Wqf1EPX1uu208Duetqwa77uCxQZA/aQR2SXXX38/6O/8Z6PJOf+AU2btEo3zE7K79lMb9ouZvFx7bt/YJomrbohs1N+eTZ7/usk/ntM137Wr2ctX26O2eVWMgvXUjvkkKO2ug4Zoq61c0Te3OFaTM36DtWA1qUVdduVc8l31KiQk8Kv+mnpxthdbW9o7XJ/BZhTq1ojD0Xcb/UM9bN/EnnzgTnqHksLk64u6a4Ok3/VX6nLqPP8HTp+5qi2zuup0gHfaYTvgWg3sxiVseoHGtKrrvLYZhFxyNdIn37WTm9m4EgGAAD4L6DWBgAAXpBR2b2+0PS2RZTCdEM7J76nUgVKq9ln3+j3208XZgvZP1u+2x9KzkXVsnX5iF4G+D8c31Cb98rJxXRWS+euizlvcvgZfTN7jW46FFSrjrWe3KM6YzstP/2Llvi0V62imWTtqOKSqYTeG9NPddMaFHxgj/b9HVt2VcX+E9WpgKMCd4zUx3PPKPzhXo3uOV1HTbnkNX6oqqexbfqsgo9o9pRVumZyUNbaHpFp4ac1z2eOjoemVOVhK7VkUFO9WTCHsucrK8++i7TSp5pSm69rzaQ5j3pAP8977NzDCxct5So5XFqqNm+8pteKVVOjd9uqQ4c2alLTTXmLemrsztsxA+LhpzT743HaF/6GeoztoiQ0ffTL5aSfvPNb59StoEl/Pq6Hrm345qcJ4MaQT3WbWSPAkf5v0DbB8vEvCzwsv4XzNc93liYP76pGZaup35YQ5Wk0TguHVo64HkZ69mtf4GE/LZw/T76zJmt410YqW62ftoTkUaNxCzW08qNPhr0L0f7Zvoqs3rRU6/LUbl5aljpb8ybF5GSpg6xf+qMCbMlWphvrtGKzJSVtTTVvYLtJ4JnqZ8/AUk/6epqlvmVOrRrDF2uyV0UVyFVIVd4fr/Ubv1C9Vx3opQ4AAGBHCAADAIAX55BTTWft1M6v+sg9n6vCb+7X9z7vqUyBsmo/53c9ZlqxR0IOa2qfKToQ6qDcbXzUsyQNpE/HQflatVGNVGZdXzNP3196FMIL+91Xc7ffV7JybdWu9HOUZ/JsypbRKHNogO7+FS00mKamhoz3Ui7jHW0Y2lvDBvTQpN9Dla3FWPl4pH/qiqXp+m9auXixFn/zlWZP6K9Wlaqrz8Y7MmZrqOH9IyNIpmt+WrPngeVv1lKH9kVj3RTgqIJt3rf82y3/1iNb5X8xMo/P8x77ZtJfdwMVbjYr6I9tOuBaWz3HL9CKdeu1dslU9ar1mkJOrVS/5j20MmLMycj3XP62r3z8g5Sv01j1KUNfxX+HNejqYRueeedjhly28FsZ8XoFHdFYb295/7346I+IDf6QT8S6n05GrEfx09iI3rwVLP+zdgT2tqQ8SULm498VvGeKvNtarpHtvdVj0FStOhKktG7uatqgjLLHjtE+07UvWHumeKtt23Zq791Dg6au0pGgtHJzb6oGZbJHCyzD3oUcnqo+Uw4o1CG32vj0FNWbl5mjijZvopJOZt38cZl+/HsEZ5Nurl2uzQEGZajTXHUz2pKf5En1s6cVsF1bfwuRXKvq3eZ5YgxHn6xIR/l0LG7JKQAAAOwFAWAAABA/jGlV/L2xWnf4uLbP7qO6BVLKdOtXzfugjprPOK7Hj1R3V9uHeGnw1gC5FO2iWWPqKT21k6dmfPUdeXlklCFwk+YvPGEr4yBtnPWV/ghPo7fav6d8/3eyyTBd++V7TeznrZYN66hG1cqqVK2LvrsY+WmmWO2L6d19NKZFNunKCg2bsEcPsnhq1Khnmwsu9LcZ6vDuu3q3lZc69R6pxb8F6bXq3fXVTwv1fp7IDIceO6JToWY55nFT8dQRSTGlLqIiORxlDr+gM2cjByx8nvfYO7PZugMNcvWYqv27v9Honm3UyL2OPJp11vjV36p7YUeFX16pr9bYWqNvr9OggSt149V3NWpgNaWKTEWiOqnJFaOCrn/qcSMuW508ERle3bVrlmbNir7skjW8a3lFuyLWV+rPiPVIft5Rn71AC2zzAftMflxoNmHz8W9zqdJfy/z8tG7tD1q+aIZ8OtdRprMrNKpdVZVqMFm/x+pd9/TXPhdV6b9Mfn7rtPaH5Vo0w0ed62TS2RWj1K5qKTWY/Luep+Me/mPubtcQr8HaGuCiol1maUy9p79JCvbJoUBzNS3nIvOtH7V0vW3cFpN1+Oct+suQWR4t3JUuMtXm2epnTyPs3Gmdt9STHLIXVuHHjNri4GBf/X/DT0xTkyIFlD9//kdLgSLynHLsCb9LAAAA7Au/QQAAQPxyflUV2o/Vmt92aUbjHHIwXdePPmO1IU6L90Mdnt5GLcb+pgdZPDR+ySjVjNnyhf8rneq+76nsxmD9/NU8/Rwima4t06ylF6WsjdW+yf+Zb9B0WWt6VVSR8s3Ve+zX8j96TfdCTfp7qrjHMWZUFffytkC9QckLVVT5Z5y02amYl8ZPm67pM2Zr/rdrtP3oef25aaJaFk5h20IyB95TkDUjyVM+fghrQwqlSG55NAfrge3Yep732DejXFMkixjOMdzoELfnYbKSeqvqq3IwP9Sp46csCSHaM7afFp5PpZq9e6mibunGjRuRy50ghVrL1hymoFs3dCsgOOaw0Ygn1qBr/oj5dCtMsgZdnzw4c77uO2U2W+d2jL2sU6eILTppXcR6tGGbT06WT0R3XetwzfksnzEwYttdPbwUMwacwPlIClxyqEztt+XuUU+e73prwJQf9PPWkaqWJlyX1g9Ur9mnYgYInuHa55KjjGq/7S6Pep5613uApvzws7aOrKY04Ze0fmAvzT5F6MGuPTys6W1aaOxvD5TFY7yWjKoZK7CHl5JDbr3TtIKSm+/op6XrdNuSZLq+Rsu3Bsr4aj01rx3tlqvnqZ89BdO9e3pg+RBD8uRK8WxVt/8m55RKnzmTMmWKvmRWhlR0xwcAAC+Hl6HKBwAA/g2ur6v9pD6q7GxQ+PUD+vVM9AbvMJ3+ur0a9Fijq6krafDSRfqwCEPNPg/X6m3VoqCjwk4s1pyNAfpz4Rytv2NU/nc7qM7/6b55Z+Wn6jT5ZwVmf0czfrmkKyd+175dO7Vzy5dq/toTug7f2aBBg1fppnNO5c3mqKCto/Tx1xeeKRhozFZRXh9+oA+8O8ireV1VLJA+zpCDhpQplcIaufzrjm4/rsUz3JIeYHnBmFavZIiM9j7Pe+yda6ZMSmU0W87By7oUJ+ZkkKtrcst/La+HW/Zg+AVt335cIaY7+rFHcWWO3mD6WnutvGeWOWiVOubIpIxZ3TUlxjmN+ODnHRl0VYUKev3I2GjDKT9a/J57HOWTmuxlm8t3QdS8v+6auS4iBKweXpMtW0RK2HwkXa7FP9JH7ulkNAdp75ZdMXvqvtC1z1XFP/pI7umMlnNor7bsog+w3Qo7ra/bN1CPNVeVutJgLV30oajeIJJR2Rs3U5WUZgVsWqa1N8J1fc1ybQ00KkfDFqr+6B6456ufPQVjipRKbqn+mP+6q7svwV1cDrnaaPbmHdq501J2UcuOzZrzfszhrwEAAOwVAWAAAJBgjKlTK3VEC4ujnP6O8Jl0eVVn1e+0WGeTl9Yn36/QgAqPGYcOT8e5tLzeKyUX0yWtnOWj8XP36KFLWbVtVzbWHLixBWu//w5dNzmqeLvBav9G2qeoGAbIf0gv+Z4yqHDnr+Q/tZWyG65p9YB+WnYtflsSnQoVUh5Hg8JO/6pfb8T97PCLe/XLuXAZUxXVG4Ui/6XP8x5751S4SMQw4GHHf9NvcSbjDtCx45cVbnBS9tw5JYfMKt+4jVq2bKEWLWItzSorp5NBBqecqtTMst7SXcXT03yaYHbtijWc8qNl5XOOo3zSb2xkULfTwJhz+bp/rIiRoHf10NjYkwEnQD6SNqOcnCKvhEajQ0Tv+UjxcO0zOinyo40y2tkwq7AxXdaqzvXVafFZJS/9ib5fMUBUbxCdMWsjNaueWuYAfy1bc0Srl2/XPYe88mxZKdooHc9TP3s6jrlzK4fluzz84iEdjHPteqhr1wNeuJcxAAAAkg4CwAAA4IWYrq3TuGGLdSjAlvC3MJ1c9K22PzTLMVd5VcxtDRaZdGPjp2rQeo6OOrip86LVGlEjAxWSF+Kggq3aqIqrWbdXj9ec4+FKU6udWhf4f8E5gxwdHSMCHKGhIdEa/Ey6vXO1tl6O27szaMcI9Zh5XObcXhozoIpyNPDR8AaZZL68RH0H+kUMZxhfjFncVbdsMun+Zk0du022GWojma5p7efTtCvEoMx1m6uOrYH9ed5j7xzy1lbNwk5SwE+aM/+45ax8JGjvVE3bdE9KXlZ1amW0pKRU5V5z9M03i7V4caxlXmdZi1YupfXRvMX6Zu7HqkZgI965z4w+hPLjlyfNxfuIu2ZGbBtzyOV87jMjPyPOB+RT950xPzsh8/GvM92W/7TxWnUiyJbwSPjZ77Tgx9syGZKrVMVyso4Yb/W01z7TbX9NG79KcT86XGe/W6Afb5tkSF5KFctFfTLshumGNn7aQK3nHJWDW2ctWj1CNTJQu0Esxsxq0KyW0hn+kv+sHpq77Z4cCjZW83LRb0p79vrZU0tTVdVKuUjBuzR/zn49tCVbg84nF3qr48xTMeoJAAAA+G/jFwkAAHghpmv7tNinlUoXKCnPzkM1ee5CLZw3RYPbV1e1nht0xyG7mg3ro4rWtq3gzZb0ifo10CyX9C468WU71fPwkEf0pW4Tfbb2RuSH46kYczTX+2+nl8EabDFmUaMO7yjr/63lOatErarK4hCqP2b21uAlO3XwwE4tHdNaVT1n6pyLS7Tebxb392pU96n6IyyrmowYJnfrhIbGbGo1aqBqpDHpzII+GrY5ThfT5+eQT+0Hd1QhZ0v+JjdUxcYfa9zsBZo/Y6S6elTSu76nZc5cV8MGN3o0t+LzvMfeOZZQxx4eesXwl7b091C9HmM1e8E8TR3cRtXqfa5fHySXm+W87WjtJgy8DMw3tG9hP3m65Vfpxt3kM9VXCxf66ovB7VW9krdWXjUpxesfWr6r8kYOEfoM1z7zjX1a2M9TbvlLq3E3H031tXwf+n4R8X1YyXulrppS6PUPB6t9Xs43exO82bJfJ/6qQLOL0ruc0Jft6sWs21iWuk0+09rHjE6Bl0sG601oGQwK3OOvffcdVaxJC5WMMQ/GM9bPnoVDbrXu1kSvGoP120hP1e0+TnN8p2lIu6qq1H6pQgvkV1paCQEAAOyGoVSpUozwAiBeWHuDRD3Gfh61fvDgwYhHAEmTwRDZpBR1zj4V0yX5DeuiPl+s1dE7oY96KhiMSpG9qjqO+lKftyysiKnNgtepY96Gmnsp7MlDzBmSqfKYQ9rWJ/oYpfblucrZ4uGqtsrVdJEcvVbo5Oy60YYLlO5t6KKSDWfocuFP9dOeEXoz+pyD4ac1+a0S+nhvEQ3ZvV39i9laGk1Xta5vE7WdtFvXQ615MciYqqCa+sxW8+Nt1HxhEU07sVodskgXZjeQ24c/Knn9adq5tIMiOnRHCNGB0W+p+sDtCq82Wb+v7xLttZgermqnPE2/VrDnAp1e0lL/vwNpiE4v66t23adp26XgaMeWszKXaaMRsyaoffHYEx0/43tC9mlgmSoadc5dc0+tkFcGW3oS9LzHjUzX5e/jpXajNujcg6j3Wvd1Xnn0nKIZg95Wtv8Xj3q4Wu1yN9FCtdayM75qEP3gQ4Tn3j94bs9X5uE6t3qQuvSdrg3H7iji0mdjcEyrwvV7asLk/qqT3XqdND3btU/ntHpQF/WdvkHHon8fWs43x7SFVb/nBE3uX0cRH40k63mOq+B1HZW34VxdCnvyewzJKmvMoc3qww03SVbiXMfvaUO30moy7YSCU9fQ2F0b1KNQrGPiqetn1mhtiPYNLKMqo87Jfe4prYiqyDypfmO6ox2j39W7QzfoQnDkv9PglEUVu3yp2Q12y7POl0r92V7tHVgs4rWkgu9YcAwgsbm5uUU8Wo+9qCX6etRzAIgv/v7+tmfxhwAwgHgTVRG3PsZ+HrVOABhI2qJ+wESds88k+Jr+2LNbB07d0ANjKmUpUFoVy+ZTOhq643ihco53JgWe2S3/ncd1x/FVlaheS8UzJ7GdFnxdh3fv0oGztxTsnF653Cqq4uuZ/nmO4+d5TxL3osdNyLVD2r59v87eCVOyTPlVpkoFFUhHICK+JK3z+uXwYmUerOtH9mrP76d0LUhK8UoOFS1bXm7ZXF98mCzL9efI3j36/dQ1BSmFXslRVGXLuymbK13r/gs4l19eL1P97OGln7Vp+xHdMKVTwYo19WZOV9srSRPnJTgGkNgIAANIbASAASRpURVx62Ps51HrBICBpC3qB0zUOYuEQTnjeXDcJG3sn8RHmSMhcFy9vNj3SRf7BhwDSGwEgAEktoQIAHMLMgAAAAAAAAAAAADYCQLAAAAAAAAAAAAAAGAnCAADAAAAAAAAAAAAgJ0gAAwAAAAAAAAAAAAAdsJQqlQpZs8HEC/M5sjLifUx9vOo9YMHD0Y8AkiaDAaD7RkAAAAAAElHVNsSkNDc3NwiHq1tJFFL9PWo5wAQX/z9/W3P4g89gAEAAAAAAAAAAADATtADGEC8id3rN/rzqHV6AANJW9QdrFHnLBIG5YznwXGTtLF/Eh9ljoTAcfXyYt8nXewbcAwgsdEDGEBiowcwAAAAAAAAAAAAAOCJCAADAAAAAAAAAAAAgJ0gAAwAAAAAAAAAAAAAdoIAMAAAAAAAAAAAAADYCQLAAAAASNIe3jqvM5cDFGZbBwAASEpMd3/R1yNHa/lxW20l/Lx+muqj6ZuvyRSZYmfu6eCSURo88lsduGddN+nK1pkaPuwLbTgbHrEFAAAA/l2GUqVKmW3PAeCFmM2RlxPrY+znUesHDx6MeASQNBkMhojHqHP2uQVf1cFde3Xk/G2FuWZRnmLlVLZgejnaXn7ZxVc5B189qF17j+j87TC5ZsmjYuXKqmB6OyvlkB3qVay6Jp2roenn/eSdKaHuXwzQEb9V2hOQR7UaV1IOZ1tyEhJv5+czeairh3Zr96FzuhPspLTZC6pkuZLKlYr7SGNL9P0Tflcnd2/Tvj+v64FjWuV0q6TKxbPIxfZy4gnX3ZO7tW3fn7r+wFFpc7qpUuXiypIIGXnhMr9/WQd279bBs3cVniKzCpSrrPJ50sTLXdL3Lx/Q7t0HdfZuuFJkLqBylcsrTxrOm/+Cf+dai6Tgufe96bbWfVhOjVaW0IJD36plJrNOfOmhN3tdVPstv2nMm4l/ZU5wwRv1YYG3NePSq/pg/Z+aXuu+5nhkVUc/kyqOOaqtH+eVg23T+MB5CY4BJDY3N7eIR+uxF7VEX496DgDxxd/f3/Ys/vALFAAAxJ/7J7R8QEMVfTWH3qjRSC3fb6fWTT1UsfCryl66lUZvuqy4fQJMuvvrbHUom1kuTun0ztd3bOl4kvsnlmtAw6J6NccbqtGopd5v11pNPSqq8KvZVbrVaG26bE89L0wKt/xzzOZwhb3gP8t094R2btqmP67H7UtsurRQXT3fV/v3WsjHP9iWamdMd/Xr7A4qm9lFTune0T+fauG6tnWcWpXMoRzFa6hxq7Zq3+49NaldVvlyN5bvZfvsz5T4ArWsdRY5GR81LEVfjK7VNel07APfpNs7x6vp6zlVqEpDtWrXUR3aNFXtErmVr2Z/rb30nCdK4DK1zuIk42PyYTAY5Vp9kmJnxXR7p8Y3fV05C1VRw1bt1LFDGzWtXUK589VU/7WXHnO9TyIeHtf3n9ZVwWw5VaLWO2rToYPavltflQrmUok2s3Xwvm275/Dw+Pf6tG5BZctZQrXeaaMOHdrq3fqVVDBXCbWZfVAv8NH4r3imay3++yzX5PX91X3eORVo20uNMxkVfmqWug/aJFPN7upSzg6DvxHCIupnMmZUlszWUK9l3Vo1MKRQplczxGvw94UEb9XHRVzlEPU9azTKwSmZUmfJr3INu+gL/wsKsW363B7+oA7ZXOScsaW+DbClPU7QUr2X0VnOWd7Xioe2tDiCtaVnQSVzTqdGvlctRxcAAMDzIwAMAADiR9AvGtugspqN/EHHTflVv+twTZk7X/Omj9Gn75WTy9HF6te4sxbdsm1vFXZJG0d4qnRlb839+bpCwh7oXhAD/f6ToF/GqkHlZhr5w3GZ8tdX1+FTNHf+PE0f86neK+eio4v7qXHnRbat8YhJ5307qkatmnpnzL44jX3GNIVVrkw+5SlSUaVz219f9bBLGzXCs7Qqe8/Vz9dDFPbgnp58qpl0fV0P1fL4RIsPu+jNDiM0d9la/bR+pRZOHqC21XMrhW1LvCDTfV2/ekdhxowqVtNd7u6xljqVVCBNzJ4FYUe/VIuGn2jpCaNebz5QX/gu0OxxvdWggKMu+Y/Su83H6uBztGab7l/X1TthMmYsppqx82FZ6lQqoBhZCTuqL1s01CdLT8j4enMN/MJXC2aPU+8GBeR4yV+j3m2usc+TkUQQ8H0/tRv7k+7mbqBuI6dr/vwZ+vyjGnrNGKCDX3dW88+2PWegNkDf92unsT/dVe4G3TRy+nzNn/G5PqrxmowBB/V15+b6bBshYHv2bNda2IV7WzS0p69Ou76l7p3LysV0QV/1Gawf/8qt9z5upRx22uoW/Ku/dl43K00VL7Uq4ijT9Y3y3x8qx5xN1aFuWttWSUD4JZ0+/0AmY2YVr235Pnv7bdWq/IZeM1zSLz98qR5vV1CLuSdfbJoRU6DuBIQqNPCuAv/pg8ICFRBo2e7uXd17YmTXrMCAAIWG3tfdv5LmdygAAPjvIAAMAADiQaA2D2yjgf43ZMzdQnP3/qpVXwxUl3Zeev+DjzXqq606cmCpPn07v9LYugSYrvqpb/VS8vhsne4WeU/vlEomBlD6PwI3a2CbgfK/YVTuFnO199dV+mJgF7Xzel8ffDxKX209ogNLP9Xb+dPY3oBHbFMSWJ89bui4lDX1+fYTOnVwiToVTDL9VuKBSVf9+qp6KQ99tu6uirz3jkol+z9n2l0/Dfhohg6HF1TH7/fJf1Z/tWvsoVp1Guq9bsM1+/uJavEqPyPilYObvBeu0bp162Isa5cPl0eG6GV9S8uH+WjTbQcV+vA7+S8arq5t26hD73FasWmGmmQ16q/dEzV69fN3OXRw89bCNTHzsW7dWi0f7qHoWbm1fJh8Nt2WQ6EP9Z3/Ig3v2lZtOvTWuBWbNKNJVhn/2q2Jo1crKXZ+dMlbRx8v2KdjvyzTpL4fyMvLW/2+9NMP/UvJRaH6c/l32vtcAwG4KG+dj7Vg3zH9smyS+n7gJS/vfvrS7wf1L+Uihf6p5d/tlZ2OMfCSe45rLexC0Ia5WnQyVA7FqquW5bsx/MwS+a67KaWtoFpvutq2sjOmK1oyzlfHU1TSgIkfKJ9DmA7NGK9Vt19Ty3E+ejsJxX//5lhCnRdHfqdt8N+jI+eOa3W3EkoedlGrPvPR2kDbdgAAAHaElhsAAPDCwk/Pk8+cYwp1yKP2M6bLq0Ay2yuPpMjXWCOXjFFDW6NQyK5FmnMwnRp87qf9u2aocS5mCP5n4To9z0dzjoXKIU97zZjupbjFnEL5Go/UkjENbeuPhFzerW/G91eXDl7yav+h+gyfqbWH7zxmaLlgXf59q7YeuBIRpAi7uldff95LHd9vp84Dp+mn0zHHrAs6+7P8N+3U8TuP78oQdv2wtm3cqj+uxxwM9unz8wT3L+jXLZu198xjWuzCb+no9k3advh65BC0Qae1Z8MG7Th517Jitrz1F/3o5ye/9Ru050yQdQuLYF05sEWbdp7Q3cdkIqHKL+GFaNeiOTqYroE+99uvXTMa659PNZMufTtF354367X3xmp0g6xJZxhHSLfWarHfDZlTVFPXT2sqfbRfc8ZsTdWteR45mm5q4w/bLCkmBZzarU0bt+mPa3F7ET28tF9bNm7XkVtPfdZFc0trF/vphjmFqnX9VDVjZkRNuzVXHkeTbm78QUmxw2uyCt4a1PoNpYvxa9hZhWtXVU7LAW+6cVVXbZcsU8Ap7d60Udv+uBZ3mNCHl7R/y0ZtP3LLdi1Ipgreg9T6jXQxf2g7F1btqjkt55JJN65eTbpDY+MFPOu1FvbBpL+uXlOg5QJgcHCUo8FSBbl8SddMZsnR8THfn4E67jdDg3t0VNu2HdVj8GR9//PVOL1P71/Yo6VfDtPHnTvIq007ffjJSC3Yfl5xahDBl/X71q06cMVa4wjWhW1zNKRrB7X1/lQTVh7Wo9GIA3Vs9SR96t1eHboN1szN5yLqKI91/4y2zB+pTz5sL6/3O6nX8LnafDbmXw75bZomrAtTxQFT1b2Ys3R7tcbPPKjMLSdorGfm/0ZDo3N21R3UXbVTGizX/H3adfgxvW2foiwAAACSsv9EvQwAACRl4Tqz7DvtCJIc3/BS5+pP1/vUucYQbT30q5b2raXszrZEPFn4GS37boeC5Kg3vDrrKYvZIljHFrRTqSKV9F6fkfpy7lf6yneGxg/6QPVLFFHNQZt0PXr8J2SvxjStpVpNR2u93yDVLlFZbQZM1JwF8zRtRBe9Xaq6Bm2PalIM0eEZ76tOraqq0Xut7tlSH7mlbz+srOpv1VO/NVEBkmfMzxM83DRIHjVrqlrPFZYyiSn82DS1qWn5N7ScrP1hlm23jJCnR121mXFIoZbj9eL3PVTfw0Me7h7y9Nkc+SbLv3v0O7VVq0ZnfRMjAwlZfonBWTWGbNWhX5eqb63slrX/55Y2rN2pIGM21W1RS0mxE8/LLHj/bv12zyzHwpVVNU4vbGeVrFRaqY0m3TlyyLJu0tlvuqvBW9VUtu4I/Ry9zfqOn3pULasa9Tpr4YlQW+IzCN6v3b/dk9mxsCpXfTXOj0rnkpVUOrVRpjtHdOjsfyfcGXrzpgIs57MxU1ZliRqt4uw36t7gLVUrW1cjYhai/HpUVdka9dR54QnLteWfhOrmzQDLHjEqU9Ys3FRhl571Wgv7YDmn63+qcYMHa1x/T1kvy84l28ln+CANG/OhKkW/US/8vL7rUFal6n4knxlL5bd+uWZ/3lPNK3po+O9RIeCH2jOyhvLnr6CmXQZr/Iz5WrRovmaM7a+21Yqr2sAtst7KFiVk7xg1rVVLTUf7ae2AWipVo5OGTp2r+bPGqHfj8qrWZ5NuPzyqBV7lVKZRT42Z5au5U4bpw9ql5T7m1zgB5fuHZqlliWKq0XaAJi36QetXf60pgzuolltpdVh82haoNikgKJsafb5I83oWizjWw28bVfSDGfp2oqcy/5daGVOkUWqXyJ76sceGebqyAAAASNoIAAMAgBcUqN27DijU7KDcVWqowFP2eDGmzaeiOZhJ9KkF7tauA6EyO+RWlRoF9LQdiwI2fSLPTvN1ODiPGg79TruOndP5P/dq+chmKuh8TVtGtNIHC8/bgrORrCMkm64tVeeW43SudH8t2XtSZw//qLGeOeUQsFdjP/5ShyNavpxV8p1GKuQUrqt+S7UxdmfcG2u13D9A5tTV1MjjlYiK5/Pk57EihnF+NKxzdJGvWP8T+Zpzxe6aPW+uxrcqaCk3B73qMUhzfH3lO2+eZveobN0yQuTI0NbPjFiNkLDllxiMSpuvqJ76VAs+pF//eCA5FVHJEs4Kvn5YW1ct1vy5c7Vw+WYdvs58dAnDrLCgm7py+bKu3bn/xIblv06d0TWTQc7Zc0f0VI3NJWduvWrtwXrlvGXNUcV7TVSX15318LdJ6jP1iO1z72nr8D6ad9qg/B0nqu+bLhGpfzOHKejmFV2+fE137j8hJ3+d0plrJhmcsyv34zOi3JEZ0fnziXawv5j7BzRt0irdMDspv2czRRWLY/FemtjldTk//E2T+kzVEds/597W4eoz77QM+TtqYt83FasUY7h/YJomrbohs1N+eTb7523xX/WM11rYDYcctdV1yBB1rZ0j8uYO12Jq1neoBrQuHeMmqvsbR6jP/BNyrDRI2y7d1NUrt3T7wj59M7S5iqeLGi48UEd+PqusDftrzk9/6GpQmMLuX9VvCzvJLXmA9o0foJnHo99UY63nmHRtaRe1mnRdVT5frQOnT2rX3LYqkixIB6Z0VfN6deW9JqVaz96qY2f+0LrhdZRFNy31l0H66lK02svdjerbtIuWnM0kz8k7dfH2dV27fVt/rumvik5HNe/DDpp6zPq3jcpY9QMN6VVXeWyVUYd8jfTpZ+30ZowpC5I6k278uFrb7phkzFBK5QtHu23jqcsCAAAgaSMADAAAXkzYBZ2+ECyzpVqRK3/+pw5M4tmEXTitC8FmS+0tl/Lnf8pSDj+teT5zdDw0pSoPW6klg5rqzYI5lD1fWXn2XaSVPtWU2nxdaybN0cFYMRpT4A2l8FygLSuHqGnZvMpZpLZ6TR8sjzQGBe/fqI1XIhsNHd9oribFnGS+vl5Lf4zes9WkG+tWaLMlKW3N5mqQxVLtfIH8vAhjWjfVa+MlzxKZZLD8L2Wht9S6bVu1fb+N6hX7h67UiVB+Sc7DC7p4zZI3h0ta2uYNvfZaMVVr9K7aduigNk1qyi1vUXmO3anbSTT7/0nWdv8Qf/XIn1mvZsumLBlSKeUrBVT53cFadjR6//Zw3bx1Ryaz5RhOk+ax11pDSldZZ5w0BdnuxnCtqP4TO6mAY6B2jPxYc8+E6+He0eo5/ahMubw0fmh1RT8DIrPSQ/kzv6ps2bIoQ6qUeqVAZb07eJmiZyX85i3dMZktfy+N0jw+I3KNzIgC7yXRRvLAw/JbOF/zfGdp8vCualS2mvptCVGeRuO0cGhlPeq456qK/SeqUwFHBe4YqY/nnlH4w70a3XO6jppyyWv80DgjMgQe9tPC+fPkO2uyhndtpLLV+mlLSB41GrdQQyvHnSIBgL0L14X9B3U13EGv12+t8hkib5xxyVJaLfp9qsZ/30iTUe2Wn9YvS3zUvlZRZbJeLlwyqcR7Y9SvbloZgg9oz77Y4+qbFHjTVU2+2qgln9STW+68erPdRPm8k1mGkKPy//VV9f3hJ01rX0UFcxWVe7+p6lnexXKh2qmN26M+y6SzX4/SvBNm5W43U/O7valMEdf2ZMrlMUwzepWW41875Pv1/v9uz1fTbR3b7Cc/Pz+tWb5Qkz99R9VaL9B5YzbVHz5QDf6+jr8EZQEAAF4aBIABAMCLMQUq8J7ZOvmZXFO6UrlIIKbAQEUWs6tSuj5dKZuu+WnNngdSmlrq0L5orCEpHVWwzfuqkUoKO7JV/hdjRfScKqnbiCbKEa1zn/GVcipTwEFm0xVdvGhr9nIsquZNSsrJfFM/Lvvx0dCEpptau3yzAgwZVKd5XWW0Jr1Ifv4FiVJ+SYzpr7sKDDfLHPSHth1wVe2e47VgxTqtX7tEU3vV0mshp7SyX3P1WHnL9g68EGNalWrgpVZeHdS5Zx/16dVF7ZtWV36Hc9q5eJiaVXxbI/ZGRV7NCn5onbXRIAcHx4hgbWyG5MkVMZpl6KOe2mlqDtF4r1wy3tmgob2HaUCPSfo9NJtajPWRR7S5e41pS6mBVyt5deisnn36qFeX9mpaPb8czu3U4mHNVPHtEYrKijn4YcT8kQYHh4g5L+MwJFfyyIwoJIl2Gg/eM0XebduqXXtv9Rg0VauOBCmtm7uaNiij7LFjtGlqash4L+Uy3tGGob01bEAPTfo9VNlajJWPR/pY33vB2jPFW23btlN77x4aNHWVjgSllZt7UzUokz1aYBnAy8NBr2TNrOSGMB34bqa2XHvWG2OSK1u2jDKaQxVw9y9b2iNOFbtquGf2aMPLp1Lp0oUtNRWjMjfpp74Vot2l4pBdJYtnsXzWfV29dCNyTnLTdW1Ys0tBxqx6q0kVy7ujc1C+SuWV3SFMf/7ym+7YUv9zQvdpQlMPeXh4qH6TNuoxZpWu5G2l0Wt36buO1hFibF6GsgAAAC8N2mgBAMCLMTrJ2ckgmU16+MAaEkBCMDo5K7KYH+ppizn02BGdCjXLMY+biqe2JUaXuoiK5HCUOfyCzpyNPYOlQYbYgR1DSqVytWYiRMF/B3UcVKB5U5VzMevWj0u13tYaZrIO/7zlLxkye6iFe7qItBfLT+JLnPJLYszWwSQtWXX10NT9u/XN6J5q08hddTyaqfP41fq2e2E5hl/Wyq/WRG6PF+Sisl1m6ev5szV1wliNHT9Fc5Zs1KHjOzS6dkbpzk6N6j9XpyNa6A1ycnKyPJoVGhZq+W9c5tAQWQ5ZGZyjhxnTy91njFpkk66sGKYJex4oi+cojfLMHPPHoEtZdZn1tebPnqoJY8dq/JQ5WrLxkI7vGK3IrIxS/7mnI4IFBks+InISGhbx9+IwhyokMiNKlixp/uR0qdJfy/z8tG7tD1q+aIZ8OtdRprMrNKpdVZVqMFm/x+pkl97dR2MiC1HDJuzRgyyeGjXqcfNduqhK/2Xy81untT8s16IZPupcJ5POrhildlVLqcHk3xW7/x4A+5ehcS91LuGqoF/Gyb1oSTXu/aV+OhV9lIdHwq79ou8n9pN3y4aqU6OqKleqpi7fXbQFax9zg5ylwhGzymFUyhTJrDURGQ3GWK8ZlDziNUs9J+pmobBTOnHG8r1iviu/T2uoYsWKMZbqPVboarhZ4QG3dftZY9dJhVMhNR30uT4fNkCdG5dURiezAk4d0vkHjo+Cv1YvQ1kAAICXBgFgAADwYoxZlDmjtRnJpEvnzzEcWgIxZsmsyGK+pPPnnq6UzYH3FGQNziRPqZQxW/8iGVIoRXLLozlYD54qIhGtETHaRLkOud9R0wrJZb7zk5auu21JMen6muXaGmjUq/Waq7at+0T85ydhJVb5JSVG1xRKZs1kuFEOcboqJlPJt6rqVQezHp46bktDgkhbRt2HtFF+R7OC9vpre8SIzgalTp3K8l9LWkCAHneLhDnAcsxaHg1p00cm2BgzVpF7eVtPVUNyFapYXtZR2Z9G2jLdNaRNfjmag7TXf7usWTGkTq1UluPEHBSggMdnRPciM6L06R938iQBLjlUpvbbcveoJ893vTVgyg/6eetIVUsTrkvrB6rX7FORwZYoxoyq4l5ekZ2mDUpeqKLKP6EQXXKUUe233eVRz1Pveg/QlB9+1taR1ZQm/JLWD+yl2aeIGgAvnVRV5PPjJs3qVlu5Qg9r5YQuqlO0gKr2Wq4zf1frTLq8ppcqFimv5r3H6mv/o7p2L1SmhK4ymB/o/sN/+CMpsqt4hWqqV//NiHnm/5OMuVS7Wz/1+8xHU5ft1q4ZjZQ16HdN/6CXvrsaLaieKGVhemwcP4rZVkc0xLmTEAAA4NkQAAYAAC/GmEnFi2aTg8J0ctcOXfqHBg08P2Om4iqazUEKO6ldOy5F9NL8fwwpUyqFte3orzu6/bi2rHBLeoDlBWNavZLhBRqZjNnVuFkVpTQHaNOytboRfl1rlm9VoDGHGraorhS2zeI1P1G9XUzmx/aEjA+JVn5JiWsmZUpllNmyDy9fihukMri6Krnln2oOJ4CV0Bxz5tSrll9r5tC/FBBoPeONypg9q1yNZoVePKcLj9kFwWdP66Il3SFHXltKpDsbBmnwqptyzplX2RyDtHXUx/r6wtNerB2VM+erlr9u+bt/BciaFWPG7MrqakkJvahzj8+ITkdmRHnzWPsK/ze4Fv9IH7mnk9Ea7N6yK2ZP3TsbNGjwKt10zqm82RwVtHWUPv76wlNdi63zCBf/6CO5p7OUWdBebdlFH2DgZWTMUFYdJm/Q0bMHtGLkuyqW/Kq2TXpf7aeciLzh5M5Kfdppsn4OzK53ZvyiS1dO6Pd9u7Rz5xZ92fy1aEM8xzNDKqW2jlBiqc+1mLbZ8vd2xl12bNby/lVjDYn8X+WsfF5j1aeKq0xXV2js9IOPbmBNyLJwSqHkzpbPNt3VzRuP+e6MEKy7d4JkNjgoZepUNNoCAIAXQl0CAAC8IBeVbVhHrzmY9WDnfPnuZxjoBOFSVg3rvCYH8wPtnO+rpylmp0KFlMfRoLDTv+rXG3HDFOEX9+qXc+EypiqqNwrFnOH22RiVtVEzVU9tVoD/Mq05slrLt9+TQ15Ptaz0qBtpfObHkCKyp6rp7k3FbkMLunBRt+N8vHVI5sigsekpg5eJV35JiFNhFclnvdHguH77LaLbaQwBx47rcrhBTtlz21KQUMLOnJF1amljyqx6LUPkzzanosVU0MFyTB7fo11xjslg/bx1jwJMjspduqwtzSLAX0N6+eqUobA6f+Wvqa2yy3BttQb0W6ZrcQ/rxwjTmTMXZbKc5ymzvqaIrDgVVbGCDjJYjpM9u27ECYIG/7xVewJMcsxdWmWftqtxkmCUk1Nkfo1Gy78v4plVgPyH9JLvKYMKd/5K/lNbKbvhmlYP6KdlT1eIlg90UuRHG2W07EMALy+HdEXVsO9C/fRlY71iuKddG7bIOn5K8H5/7bhuuXYWb6fB7d9Q2sS6fDrnU8G8LjKEX9CRIwG2RDvnkFdeHzZQJkOIDnw1U5ujRuNOyLJwLqhCeRwtFchD2rHt5uNvIArapR2/PZTZMa/ciqW0JQIAADyf/9KvcQAAkESlqN5NXSumsrZcaULHvlp3JW6ALeTCT/q8TVctfOpeZ4gphap366rIYp6gjn3XKW4xh+jCT5+rTdeFEWvGLO6qWzaZdH+zpo7dprsRqTama1r7+TTtCjEoc93mqpPGlv6cjJkbqFmtdDL85a9ZPeZq2z0HFWzcXOWixUXjMz+OefIqpzUQdmCD1p1/VBDBx3zV3nuezsYpG6NcU6aQwRCumxcvPtUcnIlZfkmGQ17VrllYTgrQT3Pm63j00caD9mrqtE26p+QqW6eWLREvIuzqKZ2JG2e3nMrHNHfkIp0KM+qVtxqqmq0bvUPeuvIo7iTd89eM6b/GOI7DTy/QuMVnZXIqoneal7alBmnHiB6aedys3F5jNKBKDjXwGa4Gmcy6vKSvBvpZQw5WYbp66kzE8M6xhRybq5GLTinM+Irealgtske/5Tip61Hccpzck/+M6fo1Zka0YNxinTU5qcg7zVU6qd0bYbot/2njtepE3Lk3w89+pwU/3pbJkFylKpazHOmRgnaMUI+Zx2XO7aUxA6ooRwMfDW+QSebLS9R3oF9E4MbKdNtf08avUtyPDtfZ7xbox9smGZKXUsVyUZ8M4OVg0q3Tp3QrRt3EqJRp08jFYKnTJE8m66XS4OgoR+v9IaGhCok28ojp9k6t3no55rD08SqdarlXUErLNX3TzGn65SUZpCBd3Y5qmstR4eeXataqqJuZErAsHF+XZ8OicjYHaN3nA7T6cuw9elc7Rw/VtxdNcnFrqmZvxJidGAAA4JkRAAYAAC/OobC6zhynhtZhMfdPVqMS5dSs90hNm/eVFswarwHtaqlo0bc1cOlh3ba1dYSfXazuDevKw8PDsjTWuN0PLalh2j+9VWRaXU99svxK5MaI4FC4q2aOaxgxhOv+yY1Uolwz9R45TfO+WqBZ4weoXa2iKvr2QC09bAtHOORT+8EdVcg5VH9MbqiKjT/WuNkLNH/GSHX1qKR3fU/LnLmuhg1upHSR73gBGVS3eR1lMARqj/8+3XcspiYtSipG01U85schRwM1rphSCvTXgIbvach0X80Y3k5Vq36gjenLyi113GpuGjc35XEwK2DDGPUY66t5UwZr0Fd/2F59jEQtv4QSrrOLu6thXet5Zlkaj1PkqbZf01tFptX1/ETLr0TdmOGoEh17yOMVg/7a0l8e9XporOXfPG/qYLWpVk+f//pAyd06a2jHfLbt8fzCdHRmc72ex031Og3U+JkL9PXX8zVtZE+9U66yuvndkCFrXfkMbaK/Z/R1LCrvfi2Vw+Ghfvu8vmq2H6ov5y3Q7DHd5VGru9bdclS+933UvVRk1PX+3lHqPvUPhWVtohHD3COOU2O2Vho1sIbSmM5oQZ9h2myN+oYd1czmryuPWz11GjheMxd8ra/nT9PInu+oXOVu8rthUNa6PhraJConjirq3U8tczjo4W+fq37N9hr65TwtmD1G3T1qqfu6W3LM9758upeKCGokKeYb2rewnzzd8qt0427ymeqrhQt99cXg9qpeyVsrr5qU4vUPNbh93sjhVu/v1ajuU/VHWFY1GTFM7pGFqFajBqpGGpPOLOijYRGFaP3ofVrYz1Nu+UurcTcfTfVdqIW+X1g+q7oqea/UVVMKvf7hYLXPm2ADueJf86zXWrxc7mpFl+IqXLa5+k1dorUbf9LqeUPUutdiXTanV60GNSOGE3YuUUtVszgo9I+Z6j14iXYePKCdS8eodVVPzTznEhEsThhG5WgzSB8VT6YH+3xUt0Y7+cxdrvWbNmn9yoX6YlAn1StZSO2W2VlkOEVldXivmJzMt+Q3Z7HORfxGeYGysJzvX7a0XQP+XuqqYc9vbZ9tqWP1GKOPiiZX6AlftShTWa37T9DsrxbKd8pwfeReTu4j9iooZUn1nthTxYn/AgCAF2QoVapUQk2bBuAlYzZHXk6sj7GfR60fPHgw4hFA0mQdItcq6px9VsGnV2tEr36auu6o7oRG+wyDi7KUaqwuw0bqY/ecEQGBkH39VLLSaB2Ovl10lveUGfar9g0sakuwHy9WzsE6vXqEevWbqnVH7yhmMWdRqcZdNGzkx3LPGRV2CdHpZX3Vrvs0bbsU/Gi+XIOzMpdpoxGzJqh98WizmIXs08AyVTTqnLvmnlohrwy2dCvTdc3zLKCOG3Lq020/a0TZWKGdexvUrXQTTTsRrNQ1xmrXhh4qFCfOEX/5CT42Xx09u2nRscDIXhuWYyb7W/00b1Z5LatSX/OzDNG+Hf31elQDWvg5feNVQ+2+Oa3giD/soFydf9SZqTX+4e8kYvn9H8933IRoX7+SqjT6cIxjJTqDSxkN+3WXBhaNKiiTrvv7yKvdKG049+Dvf7PBmEp5PXpqyoxBets6HzVieJ79c3fzUDXrMF7+ZwIVHu1tBofUylfbWyMmDVHTglGzaEe5p/0zvNW63xIduRv+aP84ZVLZDhM1f8K7KmQded10QbMbuOnDH5Or/rSdWtoh96P5I0MOaPRb1TVwe7iqTf5dP3VJp81Dm6nDeH+dCXz0mZZPlUPqfKrtPUKThjRV7Kzc2z9D3q37acmRu4/yb3BSprIdNHH+BL0bkZGE83znRLjOrR6kLn2na8OxWNdQx7QqXL+nJkzurzrZreeDSRdmN5Dbhz8qef1p2rm0g3I/KkQdGP2Wqg/crvBqk/X7+i7KrXNaPaiL+k7foGN3QmOUo2Pawqrfc4Im96+jiI9GkpV411okNS9WP/snYToyu5U8+yzVn3+ZHl23k2VTtR4ztdCnriK/Vk26uq6vmrSdpN3XI68h1u/egk19NLv5cbVpvlBFpp3Qmg5ZrBtbqhwDVabKKJ1zn6tTK7wUvcoR+G1z5XxvpTJ2+0mHJlSJdjNOmH4fWl4Vhh1Xxcl/aEOXnH/3DAm/sE5Dvbtp4obTumeKVgYGR6XJ97YGL1mhniX+neP3uffNw1Vql6epvg721ILTS9Qy1ogt4WdnqVHpzloXWkczj69WB9u0Bc9UFsFb1PsND008bqkzxcmeQU5vDNTen4cpavPwa1s0oUdPjVl2QDdjfAk5K0uZdzVg8nh9VD49PXZiSbjzE3g8Nze3iEfrsRe1RF+Peg4A8cXf39/2LP4QAAYQb6Iq4tbH2M+j1gkAA0lb1A+YqHP2eQVfO6Rdew7r/I17MqfKqgIl3lTZAulj9gZ9icVPOQfr2qFd2nP4vG7cMytV1gIq8WZZFUj/hFIOvq7Du3fpwNlbCnZOr1xuFVXx9Uz/Xu+8+MpPyDUd2LxF+y+HKn2RqnqrXHb9c8jpnk7v+Ek7j9+WXimsyrUqKJer7aV/kgTKL77Oz6dmKdtD27dr/9k7CkuWSfnLVFGFAukeBRERw3PvH1OQLh/ap5+PXtDNe+FySfeaCpUur5I5U/1j42/43ZPavXWvjl9/IMc0r6loxSoqnS12sPjZmIIu69C+n3X0wk3dC3dRutcKqXT5ksqZ6h9yEn5XJ3dv1d7j1/XAMY1eK1pRVUpnixwqOoG92DkRrOtH9mrP76d0LUhK8UoOFS1bXm7ZXF+80d1yvTiyd49+P3VNQZaSeCVHUZUt76ZsrjTn/xck+rUWSUZC7/vwgNPat/MX/XklUEqTU29Uqiy3LC62Vx8xBZ7Rbv+dOn7HUa+WqK5axTMnYh06XHdP7dPOX/7U1b9C5Zwum/IVK6WSBTMqbk4Tz79zXiZsWTy89of27D6os7ceyJgys/IUt/xeKpTh36ubJ3Fcm5HYCAADSGwEgAEkaVEVcetj7OdR6wSAgaQt6gdM1DmLhEE543lw3CRt7J/ER5kjIXBcvbzY90kX+wYcA0hsBIABJLaECABzCzIAAAAAAAAAAAAA2AkCwAAAAAAAAAAAAABgJwgAAwAAAAAAAAAAAICdIAAMAAAAAAAAAAAAAHbCUKpUKWbPBxAvzObIy4n1MfbzqPWDBw9GPAJImgwGg+0ZAAAAAABJR1TbEpDQ3NzcIh6tbSRRS/T1qOcAEF/8/f1tz+IPPYABAAAAAAAAAAAAwE7QAxhAvInd6zf686h1egADSVvUHaxR5ywSBuWM58Fxk7SxfxIfZY6EwHH18mLfJ13sG3AMILHRAxhAYqMHMAAAAAAAAAAAAADgiQgAAwAAAAAAAAAAAICdIAAMAAAAAAAAAAAAAHaCADAAAAAAAAAAAAAA2AkCwAAAAAAAAAAAAABgJwgAAwAAAMB/TfhdndyxWt/Mm6O5C5dq44GrCra9lLjCdffkDq3+Zp7mzF2opRsP6Oq/kxEAAAAAAGBDABgAALy4hz+ow2sucs7YUt8G2NIQ7x7+0EGvuTgrY8tvbSlJm+nuCe3ctE1/XA+zpeBfZbqrX2d3UNnMLnJK946+vmNLx78oUMtaZ5GT0SCDIe5idK2uSafDbdtGMen2zvFq+npOFarSUK3adVSHNk1Vu0Ru5avZX2svxd7+KQUuU+ssTjI+Jh8Gg1Gu1ScpdlZMt3dqfNPXlbNQFTVs1U4dO7RR09ollDtfTfVfe0nPmRMAAAAAAPCCCAADAIAXZwrUnbuhCg28q0BifQnGFHhHd0NDFXg30JaSlJl03rejatSqqXfG7FOILRX/jrBLGzXCs7Qqe8/Vz9dDFPbgnoI4V/99pvu6fvWOwowZVaymu9zdYy11KqlAGoNt40hhR79Ui4afaOkJo15vPlBf+C7Q7HG91aCAoy75j9K7zcfq4HOccKb713X1TpiMGYupZux8WJY6lQooRlbCjurLFg31ydITMr7eXAO/8NWC2ePUu0EBOV7y16h3m2vs82QEAAAAAAC8MALAAAAASABmmc2WxfrM8oh/i0lX/fqqeikPfbburoq8945KJYsZUEQS4OAm74VrtG7duhjL2uXD5ZEh+k+2W1o+zEebbjuo0IffyX/RcHVt20Ydeo/Tik0z1CSrUX/tnqjRq5+/e7eDm7cWromZj3Xr1mr5cA9Fz8qt5cPks+m2HAp9qO/8F2l417Zq06G3xq3YpBlNssr4125NHL1adDQHAAAAACDxEQAGAAAJJ/iyft+6VQeuWCeEDNPVvV/r814d9X67zho47Sedfhi5GV7QM5dzsC4f2Kbtf1yzbG15x9V9WjzmE33Qrq28Px6jJftvyxS54SP3L+jXLZu198xjeh+H39LR7Zu07fD1yCFfg05rz4YN2nHyrmXFbHnrL/rRz09+6zdoz5kg6xZINCHatWiODqZroM/99mvXjMbK5Wh7Cf89t9Zqsd8NmVNUU9dPayp9tF9zxmxN1a15HjmabmrjD9ssKSYFnNqtTRu36Y9rcXviPry0X1s2bteRW3HO9qdwS2sX++mGOYWqdf1UNWNmRE27NVceR5NubvxB2+7b0gEAAAAAQKIhAAwAABJMyN4xalqrlpqOXi+/QbVVonIbDZg4RwvmTdOILm+rVPVB2s6cwS/smcs5ZK/GvFNTNVtN1vrlvVXFraJafTpWM+fN16xxn6plhbJqteBkRHA4ysNNg+RRs6aq9Vyh2CHc8GPT1KZmLdVqOVn7LW96uGWEPD3qqs2MQwpVuC5+30P1PTzk4e4hT5/NtnchcTirxpCtOvTrUvWtld2yhv+y4P279ds9sxwLV1bVV2P/lHNWyUqlldpo0p0jhyzrJp39prsavFVNZeuO0M/RbwS546ceVcuqRr3OWngi1Jb4DIL3a/dv92R2LKzKVV+N86PSuWQllU5tlOnOER06y0zAAAAAAAAkNgLAAAAgAVmHADbp2tLOajnunEr3X6K9J8/q8I9j5ZnTQQF7x+rjLw/HCDTieTx7OVtHZQ4/M1Ne707RmcJdNXfLEZ35c5cWdiuntCGn9F2PrpoTPXATMYzzo2Gdo4t8xfqfyNecK3bX7HlzNb5VQTnKQa96DNIcX1/5zpun2T0qW7dEojEqbb6iypHCtookyqywoJu6cvmyrt25/8Rr4l+nzuiaySDn7LllObXjcMmZW69a0k1XzlvWHFW810R1ed1ZD3+bpD5Tj9g+9562Du+jeacNyt9xovq+6RKR+jdzmIJuXtHly9d05/4TcvLXKZ25ZpLBObtyPz4jyh2ZEZ0/zxUeAAAAAIDERgAYAAAkMJMCb6SQ54ItWjmkqcrmzakitXtp+mAPpTEEa//GjbryPCOQIpZnL2fTvQC51J6kjRsmqG3VwsqV7029N+FrDaycQuaATVqw+M/IIZ2fkTGtm+q18ZJniUwyWP6XstBbat22rdq+30b1iqWxbQUggnVK5hB/9cifWa9my6YsGVIp5SsFVPndwVp2NHp/+3DdvHVHJrPlnEqTRo8byduQ0lWulkdTkG2odteK6j+xkwo4BmrHyI8190y4Hu4drZ7Tj8qUy0vjh1ZX9DMyMis9lD/zq8qWLYsypEqpVwpU1ruDlyl6VsJv3tIdk9ny99IozeMzItfIjCjwHj2AAQAAAABIbASAAQBAgnOq1E0jmuTQo35iRr1SrowKOJhlunJRF+kgFi+euZydKunjqR+oaDLbupVDHjVuWFpO5jAd2rtPj5nxF0B8MaZVqQZeauXVQZ179lGfXl3Uvml15Xc4p52Lh6lZxbc1Ym9U5NWs4IfWeb4NcnBwjAjWxmZInlwu1hdCH835m6bmEI33yiXjnQ0a2nuYBvSYpN9Ds6nFWB95RJu715i2lBp4tZJXh87q2aePenVpr6bV88vh3E4tHtZMFd8eoaismIMfKiInDg5yfHxGlDwyIwqJO/0wAAAAAABIYASAAQBAwjNY+4HGZEiZSq6WRHNIsIgPxJNnLmdHOceZFNaoLPnyKK3RrJArF3WFzntAAnJR2S6z9PX82Zo6YazGjp+iOUs26tDxHRpdO6N0Z6dG9Z+r0xHnoUFOTk6WR7NCw0Ijh12PxRwaolDLCwbn6Hd1pJe7zxi1yCZdWTFME/Y8UBbPURrlmTnmj0GXsuoy62vNnz1VE8aO1fgpc7Rk4yEd3zFakVkZpf5zT0eMCmCw5CMiJ6FhEX8vDnOoQiIzomTJktZPzvAT09SkSAHlz5//0VKgiDynHHuuEQ8Ay0GlaU2KqED0Yyp/ARXxnKJjHFR2jetJ0sb+AQAALzsCwAAA4N9hfBSqjJheFgnjOcrZkCK5klnfFhaqMPYNkPjSllH3IW2U39GsoL3+2h7RFd+g1KlTWf5rSQsIUGjEhjGZA+7J2knXkDZ9ZIKNMWMVuZdPH/njz5BchSqWV5an/CWYtkx3DWmTX47mIO313x4xKoAhdWqlst5YEhSggMdnRPciM6L06R9dg5IE55RKnzmTMmWKvmRWhlRx7oYBnpKzUqbPHOuYyqTMGVJZXoFd43qStLF/AADAS44AMAAAAGIIv31Hf5kkQ5q0ShtVW4zqXWwyP7bnIYD45Zgzp161nH/m0L8UEGidwNuojNmzytVoVujFc7rwmO5LwWdP66Il3SFHXltKpDsbBmnwqptyzplX2RyDtHXUx/r6wtNOvu6onDlftfx1y9/9K0DWrBgzZldWV0tK6EWde3xGdDoyI8qbx9pXOOlwyNVGszfv0M6dOx8tOzZrzvt5og2fDzwDh1xqM3uzdkQ/pnbu0OY57ysPB5Vd43qStLF/AADAy44AMAAAwMvKHKBbt2IHgUJ08OcDumd2UKb8hZTJVls0pEgR0SvYdPembsSK9wRduKjbcWJJBhlsQWNT+GMCRAD+UdiZM7poDbamzKrXMkSeiE5Fi6mgg0Fhx/do143YJ12wft66RwEmR+UuXdaWZhHgryG9fHXKUFidv/LX1FbZZbi2WgP6LdO1OOft44TpzJmLMll+OqbM+poisuJUVMUKOsgQdlx7dt2wvBZT8M9btSfAJMfcpVX2absaAwAAAACAeMOvcQAAgJdV6K8a6/Wx/K48Ct+Yrq7UlG9OKMyYSbXqVpSLLd0xT17ltAaeDmzQuvOPArrBx3zV3nuezsaJ8RrlmjKFDIZw3bx4UfdtqQAeCbt6SmcihneOJeSY5o5cpFNhRr3yVkNVSxGZ7JC3rjyKO0n3/DVj+q8xzqvw0ws0bvFZmZyK6J3mpW2pQdoxoodmHjcrt9cYDaiSQw18hqtBJrMuL+mrgX63bduF6eqpMxHDO8cWcmyuRi46ZbkmvKK3GlZTRFYc8qquR3E56Z78Z0zXrzEzogXjFuusyUlF3mmu0oy0CQAAAABAoiMADAAA8LIyJJPp6BdqUvFtdR0zS3O/HKxWb3XSt5dMSl2hh3p5pLRtKDnkaKDGFS3rgf4a0PA9DZnuqxnD26lq1Q+0MX1ZuaWOW61M4+amPA5mBWwYox5jfTVvymAN+uoP26tIHOE6u7i7Gtb1kIeHZWk8TrsfWpLD9mt6q8i0up6faHm0mwCQWMJ0dGZzvZ7HTfU6DdT4mQv09dfzNW1kT71TrrK6+d2QIWtd+Qxtor9n9HUsKu9+LZXD4aF++7y+arYfqi/nLdDsMd3lUau71t1yVL73fdS9VGTU9f7eUeo+9Q+FZW2iEcPclc6SZszWSqMG1lAa0xkt6DNMm61R37Cjmtn8deVxq6dOA8dr5oKv9fX8aRrZ8x2Vq9xNfjcMylrXR0ObROXEUUW9+6llDgc9/O1z1a/ZXkO/nKcFs8eou0ctdV93S4753pdP91LMgQoAAAAAwL+AADAAAHhxRlelSe0oJ9fUSuloS7NKlkquDg5KniqlnGPXOpxSKlVyBzmmTKUUEZPL4v8xuqZRakcnuaZ+FJiN8Lzl7PSmPvt2tN4y7NCXn3qrQ5dh+vaP+8pUqbe+/qa3ikXflw759MG0L/ReIVfdO/Sthn7UXh8O/kaXSwzQslWfqUI6y99wTankts2tnMt8pIHN88g56IAWfNJe7bqN0MJ9122vInGE6/rBTfLz84tcNvymy2FmS/J1HfjJlua3RUfijuGNBOeo7FXqq2Lqs1o/Z4T6fPC+Wrduq879J2n5oRDlrtNHizd/q44Fos9UaFSmxlO1YkpLFUl5U3t9h6hLu/fV6dMv9NPF1Cr7wTyt/qK+MlqvA6YLWjR8qg6EZVH9oSPV9O+hmB1UwHuc+lZOK/OJefp8wRlLVrKrSv2KSn12veaM6KMP3m+t1m07q/+k5ToUklt1+izW5m87KnpWjJkaa+qKKWpZJKVu7vXVkC7t9H6nT/XFTxeVuuwHmrf6C9WPyAgAAAAAAEhshlKlSpltzwHghZjNkZcT62Ps51HrBw8ejHgEkDRZ52y1ijpnkTD+9XIO2abuRWrqiwtVNfXsj+qc5qL2btquI7eMyliogqqXzylX26ZxhFzTgc1btP9yqNIXqaq3ymVXMttLj3dPp3f8pJ3Hb0uvFFblWhWU64kfjn/C+Zm0Pff+MQXp8qF9+vnoBd28Fy6XdK+pUOnyKpkz1T/erRt+96R2b92r49cfyDHNaypasYpKZ7ONFf2cTEGXdWjfzzp64abuhbso3WuFVLp8SeVM9Q85Cb+rk7u3au/x63rgmEavFa2oKqWzRQ4VncA4J5AQOK5eXuz7pIt9A44BJDY3N7eIR+uxF7VEX496DgDxxd/f3/Ys/hAABhBvoiri1sfYz6PWCQADSVvUD5iocxYJ418v59gB4Kz00vsv4PxM2tg/iY8yR0LguHp5se+TLvYNOAaQ2AgAA0hsCREAprUPAAAAAAAAAAAAAOwEAWAAAAAAAAAAAAAAsBMEgAEAAF42jgXVuHd/9f+sk6qmpzoIAAAAAAAA2BNa/AAAAF42xsyq+uFQjRjYTK+72NIAAAAAAAAA2AVDqVKlmD0fQLwwmyMvJ9bH2M+j1g8ePBjxCCBpMhgMtmcAAAAAACQdUW1LQEJzc3OLeLS2kUQt0dejngNAfPH397c9iz/0AAYAAAAAAAAAAAAAO0EPYADxJnav3+jPo9bpAQwAAAAAAAAgqaIHMIDERg9gAAAAAAAAAAAAAMATEQAGAAAAAAAAAAAAADtBABgAAAAAAAAAAAAA7AQBYAAAAAAAAAAAAACwEwSAAQAAAAAAAAAAAMBOEAAGAAAAAAAAAAAAADtBABgAAAAAAAAAAAAA7AQBYAAAAAAAAAAAAACwEwSAAQAAAAAAAAAAAMBOEAAGAAAAAAAAAAAAADtBABgAAAAAAAAAAAAA7AQBYAAAAAAAAAAAAACwEwSAAQAAAAAAAAAAAMBOEAAGAAAAAAAAAAAAADtBABgAAAAAAAAAAAAA7AQBYAAAAAAAAAAAAACwEwSAAQAAAAAAAAAAAMBOEAAGAAAAAAAAAAAAADtBABgAAAAAAAAAAAAA7AQBYAAAAAAAAAAAAACwEwSAAQAAAAAAAAAAAMBOEAAGAAAAAAAAAAAAADtBABgAAAAAAAAAAAAA7AQBYAAAAAAAAAAAAACwEwSAAQAAAAAAAAAAAMBOEAAGAAAAAAAAAAAAADtBABgAAAAAAAAAAAAA7AQBYAAAAAAAAAAAAACwEwSAAQAAAAAAAAAAAMBOEAAGAAAAAAAAAAAAADtBABgAAAAAAAAAAAAA7AQBYAAAAAAAAAAAAACwEwSAAQAAAAAAAAAAAMBOEAAGAAAAAAAAAAAAADtBABgAAAAAAAAAAAAA7AQBYAAAAAAAAAAAAACwEwSAAQAAAAAAAAAAAMBOEAAGAAAAAAAAAAAAADtBABgAAAAAAAAAAAAA7AQBYAAAAAAAAAAAAACwEwSAAQAAAAAAAAAAAMBOEAAGAAAAAAAAAAAAADtBABgAAAAAAAAAAAAA7AQBYAAAAAAAAAAAAACwEwSAAQAAAAAAAAAAAMBOEAAGAAAAAAAAAAAAADtBABgAAAAAAAAAAAAA7AQBYAAAAAAAAAAAAACwEwSAAQAAAAAAAAAAAMBOEAAGAAAAAAAAAAAAADtBABgAAAAAAAAAAAAA7AQBYAAAAAAAAAAAAACwEwSAAQAAAAAAAAAAAMBOEAAGAAAAAAAAAAAAADtBABgAAAAAAAAAAAAA7AQBYAAAAAAAAAAAAACwEwSAAQAAAAAAAAAAAMBOEAAGAAAAAAAAAAAAADtBABgAAAAAAAAAAAAA7AQBYAAAAAAAAAAAAACwEwSAAQAAAAAAAAAAAMBOEAAGAAAAAAAAAAAAADtBABgAAAAAAAAAAAAA7AQBYAAAAAAAAAAAAACwEwSAAQAAAAAAAAAAAMBOEAAGAAAAAAAAAAAAADtBABgAAAAAAAAAAAAA7AQBYAAAAAAAAAAAAACwEwSAAQAAAAAAAAAAAMBOEAAGAAAAAAAAAAAAADtBABgAAAAAAAAAAAAA7AQBYAAAAAAAAAAAAACwEwSAAQAAAAAAAAAAAMBOEAAGAAAAAAAAAAAAADtBABgAAAAAAAAAAAAA7AQBYAAAAAAAAAAAAACwEwSAAQAAAAAAAAAAAMBOEAAGAAAAAAAAAAAAADtBABgAAAAAAAAAAAAA7AQBYAAAAAAAAAAAAACwEwSAAQAAAAAAAAAAAMBOEAAGAAAAAAAAAAAAADtBABgAAAAAAAAAAAAA7AQBYAAAAAAAAAAAAACwEwSAAQAAAAAAAAAAAMBOEAAGAAAAAAAAAAAAADtBABgAAAAAAAAAAAAA7AQBYAAAAAAAAAAAAACwEwSAAQAAAAAAAAAAAMBOEAAGAAAAAAAAAAAAADtBABgAAAAAAAAAAAAA7AQBYAAAAAAAAAAAAACwEwSAAQAAAAAAAAAAAMBOEAAGAAAAAAAAAAAAADtBABgAAAAAAAAAAAAA7AQBYAAAAAAAAAAAAACwEwSAAQAAAAAAAAAAAMBOEAAGAAAAAAAAAAAAADtBABgAAAAAAAAAAAAA7AQBYAAAAAAAAAAAAACwEwSAAQAAAAAAAAAAAMBOEAAGAAAAAAAAAAAAADtBABgAAAAAAAAAAAAA7AQBYAAAAAAAAAAAAACwEwSAAQAAAAAAAAAAAMBOEAAGAAAAAAAAAAAAADtBABgAAAAAAAAAAAAA7AQBYAAAAAAAAAAAAACwEwSAAQAAAAAAAAAAAMBOEAAGAAAAAAAAAAAAADtBABgAAAAAAAAAAAAA7AQBYAAAAAAAAAAAAACwEwSAAQAAAAAAAAAAAMBOEAAGAAAAAAAAAAAAADtBABgAAAAAAAAAAAAA7AQBYAAAAAAAAAAAAACwEwSAAQAAAAAAAAAAAMBOEAAGAAAAAAAAAAAAADtBABgAAAAAAAAAAAAA7AQBYAAAAAAAAAAAAACwEwSAAQAAAAAAAAAAAMBOEAAGAAAAAAAAAAAAADtBABgAAAAAAAAAAAAA7AQBYAAAAAAAAAAAAACwEwSAAQAAAAAAAAAAAMBOEAAGAAAAAAAAAAAAADtBABgAAAAAAAAAAAAA7AQBYAAAAAAAAAAAAACwEwSAAQAAAAAAAAAAAMBOEAAGAAAAAAAAAAAAADtBABgAAAAAAAAAAAAA7AQBYAAAAAAAAAAAAACwEwSAAQAAAAAAAAAAAMBOEAAGAAAAAAAAAAAAADtBABgAAAAAAAAAAAAA7AQBYAAAAAAAAAAAAACwEwSAAQAAAAAAAAAAAMBOEAAGAAAAAAAAAAAAADtBABgAAAAAAAAAAAAA7AQBYAAAAAAAAAAAAACwEwSAAQAAAAAAAAAAAMBOEAAGAAAAAAAAAAAAADtBABgAAAAAAAAAAAAA7AQBYAAAAAAAAAAAAACwEwSAAQAAAAAAAAAAAMBOEAAGAAAAAAAAAAAAADtBABgAAAAAAAAAAAAA7AQBYAAAAAAAAAAAAACwEwSAAQAAAAAAAAAAAMBOEAAGAAAAAAAAAAAAADtBABgAAAAAAAAAAAAA7AQBYAAAAAAAAAAAAACwEwSAAQAAAAAAAAAAAMBOEAAGAAAAAAAAAAAAADtBABgAAAAAAAAAAAAA7AQBYAAAAAAAAAAAAACwEwSAAQAAAAAAAAAAAMBOEAAGAAAAAAAAAAAAADtBABgAAAAAAAAAAAAA7AQBYAAAAAAAAAAAAACwEwSAAQAAAAAAAAAAAMBOEAAGAAAAAAAAAAAAADtBABgAAAAAAAAAAAAA7AQBYAAAAAAAAAAAAACwEwSAAQAAAAAAAAAAAMBOEAAGAAAAAAAAAAAAADtBABgAAAAAAADA/9q7w9TGYSiMovUsqFC8oK6tG/EWCt2QB7d2cUU8yVA5kT7OAaOX5H8QulUKAEAIARgAAAAAAAAghAAMAAAAAAAAEEIABgAAAAAAAAghAAMAAAAAAACEEIABAAAAAAAAQgjAAAAAAAAAACEEYAAAAAAAAIAQAjAAAAAAAABACAEYAAAAAAAAIIQADAAAAAAAABBCAAYAAAAAAAAIIQADAAAAAAAAhBCAAQAAAAAAAEIIwAAAAAAAAAAhBGAAAAAAAACAEAIwAAAAAAAAQAgBGAAAAAAAACCEAAwAAAAAAAAQQgAGAAAAAAAACCEAAwAAAAAAAIQQgAEAAAAAAABCCMAAAAAAAAAAIQRgAAAAAAAAgBACMAAAAAAAAEAIARgAAAAAAAAghAAMAAAAAAAAEEIABgAAAAAAAAghAAMAAAAAAACEEIABAAAAAAAAQgjAAAAAAAAAACEEYAAAAAAAAIAQAjBwF8MwrBMAAAAAQLucZQK9G8ZxnNcZ4Ffm+evrZFn/Z96UrwEAAAAAaisD7/J6e+/WGaCWaZrWqR4BGKhmH3e39WjerwAAAAAAj1KG3TL2XvocoBYBGGjapcB76b39CgAAAADwaEeRd1mPPgOoQQAGmnYt9pYrAAAAAEArjkLv0QpQwxkB+M+6Apxuv0HaHgAAAACARynPKp1ZAgncAAaquvXWr1vAAAAAAEAryvBbBmGBGDiLn4AGmncp+B7NAAAAAAAt2QfeS7MADNQmAANduBaBAQAAAABaJv4C9+J/AANdKTdJ+wcAAAAAoBVH55fOMoEeuQEMnKK88esGMAAAAADQizL8CsHAWfwENNAd4RcAAAAA6JXwC5zNT0AD3Vk2SDZJAAAAAEBPnGsCPXMDGAAAAAAAAOAB3AAGAAAAAAAA4JAADAAAAAAAABBCAAYAAAAAAAAIIQADAAAAAAAAhBCAAQAAAAAAAEIM4zjO6wxwmnn2VQMAAAAA9GEYhnUCONc0TetUjxvAwKmW8Cv+AgAAAAA9ca4J9MwNYOAU5ebIZgkAAAAA6EV5A9iNYOAsZ9wAFoCB6vax9yj8CsIAAAAAQCuOAu/+fREYOIOfgAa6Uobg/QMAAAAA0Iqj80tnmUCP3AAGqto2REebpPf393UCAAAAAGjLy8vLOl2+/esWMFCbG8BAd/ZBeB+CAQAAAABasz/HdJ4J9EoABqopN0Y2SgAAAABAj5x1Aj0TgIG7sTkCAAAAAFrmDBNIIAADp/KXcQAAAABAT5xpAr0TgIG7sWECAAAAAFrmDBNIIAADp9hvlGyaAAAAAICeON8EeiYAAwAAAAAAAIQQgIG78FdyAAAAAEAPnGUCvROAAQAAAAAAAEIIwAAAAAAAAAAhBGAAAAAAAACAEAIwAAAAAAAAQAgBGAAAAAAAACCEAAwAAAAAAAAQQgAGAAAAAAAACCEAAwAAAAAAAIQQgAEAAAAAAABCCMAAAAAAAAAAIQRgAAAAAAAAgBACMAAAAAAAAEAIARgAAAAAAAAghAAMAAAAAAAAEEIABgAAAAAAAAghAAMAAAAAAACEEIABAAAAAAAAQgjAAAAAAAAAACEEYAAAAAAAAIAQAjAAAAAAAABACAEYAAAAAAAAIIQADAAAAAAAABBCAAYAAAAAAAAIIQADAAAAAAAAhBCAAQAAAAAAAEIM4zjO6wzwK/P89XWyrOW8vf74+PhcAQAAAABa8/z8/LkOw/D97F9vM0At0zSt00+vr6/rdOzt7W2dfnIDGAAAAAAAAKAhR3F386/PBWAAAAAAAACAxhxF3mtxWAAGAAAAAAAAaFAZe6/F34UADAAAAAAAANCoLfreEn8XAjAAAAAAAABAw26NvwsBGAAAAAAAACCEAAwAAAAAAAAQQgAGAAAAAAAACCEAAwAAAAAAAIQQgAEAAAAAAABCCMAAAAAAAAAAEZ6e/gJBlSacvntlKwAAAABJRU5ErkJggg==)"
      ]
    },
    {
      "cell_type": "code",
      "execution_count": null,
      "metadata": {
        "id": "XSGrbwohiLaZ"
      },
      "outputs": [],
      "source": [
        "model = models.Sequential()\n",
        "model.add(layers.Conv2D(filters=16, kernel_size=(3, 3), strides=1, padding=\"SAME\", activation='relu', input_shape=(50, 50, 3)))\n",
        "model.add(layers.MaxPooling2D(pool_size= (3, 3), strides=2, padding=\"VALID\"))\n",
        "model.add(layers.Conv2D(filters=128, kernel_size=(3, 3), strides=1, padding=\"SAME\", activation='relu'))\n",
        "model.add(layers.MaxPooling2D(pool_size= (3, 3), strides=2, padding=\"VALID\"))\n",
        "model.add(layers.Flatten())\n",
        "model.add(layers.Dense(16, activation='relu'))\n",
        "model.add(layers.Dense(1, activation='sigmoid'))"
      ]
    },
    {
      "cell_type": "code",
      "execution_count": null,
      "metadata": {
        "colab": {
          "base_uri": "https://localhost:8080/"
        },
        "id": "Btu8ATXzlHwl",
        "outputId": "80192c9f-f3a8-4eed-c1e6-91d6ee5c4930"
      },
      "outputs": [
        {
          "name": "stdout",
          "output_type": "stream",
          "text": [
            "Model: \"sequential_1\"\n",
            "_________________________________________________________________\n",
            " Layer (type)                Output Shape              Param #   \n",
            "=================================================================\n",
            " conv2d_2 (Conv2D)           (None, 50, 50, 16)        448       \n",
            "                                                                 \n",
            " max_pooling2d_2 (MaxPooling  (None, 24, 24, 16)       0         \n",
            " 2D)                                                             \n",
            "                                                                 \n",
            " conv2d_3 (Conv2D)           (None, 24, 24, 128)       18560     \n",
            "                                                                 \n",
            " max_pooling2d_3 (MaxPooling  (None, 11, 11, 128)      0         \n",
            " 2D)                                                             \n",
            "                                                                 \n",
            " flatten_1 (Flatten)         (None, 15488)             0         \n",
            "                                                                 \n",
            " dense_2 (Dense)             (None, 16)                247824    \n",
            "                                                                 \n",
            " dense_3 (Dense)             (None, 1)                 17        \n",
            "                                                                 \n",
            "=================================================================\n",
            "Total params: 266,849\n",
            "Trainable params: 266,849\n",
            "Non-trainable params: 0\n",
            "_________________________________________________________________\n"
          ]
        }
      ],
      "source": [
        "model.summary()"
      ]
    },
    {
      "cell_type": "code",
      "execution_count": null,
      "metadata": {
        "id": "7_HobxGBllgd"
      },
      "outputs": [],
      "source": [
        "model.compile(optimizer='adam',\n",
        "              loss=tf.keras.losses.BinaryCrossentropy(),\n",
        "              metrics=[tf.keras.metrics.Precision(), tf.keras.metrics.Recall(), tf.keras.metrics.AUC()])"
      ]
    },
    {
      "cell_type": "code",
      "execution_count": null,
      "metadata": {
        "colab": {
          "base_uri": "https://localhost:8080/"
        },
        "id": "pldu2MpgXSJN",
        "outputId": "0b419dae-d398-45f2-9c8d-229e2e5601fe"
      },
      "outputs": [
        {
          "name": "stdout",
          "output_type": "stream",
          "text": [
            "Epoch 1/10\n",
            "1388/1388 [==============================] - 52s 37ms/step - loss: 0.5357 - precision_1: 0.7221 - recall_1: 0.6539 - auc_1: 0.8043 - val_loss: 0.4645 - val_precision_1: 0.8176 - val_recall_1: 0.6697 - val_auc_1: 0.8699\n",
            "Epoch 2/10\n",
            "1388/1388 [==============================] - 52s 38ms/step - loss: 0.4339 - precision_1: 0.7774 - recall_1: 0.7743 - auc_1: 0.8794 - val_loss: 0.4106 - val_precision_1: 0.7528 - val_recall_1: 0.8721 - val_auc_1: 0.9010\n",
            "Epoch 3/10\n",
            "1388/1388 [==============================] - 49s 36ms/step - loss: 0.3893 - precision_1: 0.8043 - recall_1: 0.8092 - auc_1: 0.9044 - val_loss: 0.4369 - val_precision_1: 0.8870 - val_recall_1: 0.6495 - val_auc_1: 0.9146\n",
            "Epoch 4/10\n",
            "1388/1388 [==============================] - 48s 35ms/step - loss: 0.3711 - precision_1: 0.8152 - recall_1: 0.8195 - auc_1: 0.9134 - val_loss: 0.3858 - val_precision_1: 0.7612 - val_recall_1: 0.9112 - val_auc_1: 0.9261\n",
            "Epoch 5/10\n",
            "1388/1388 [==============================] - 48s 35ms/step - loss: 0.3538 - precision_1: 0.8263 - recall_1: 0.8202 - auc_1: 0.9215 - val_loss: 0.3813 - val_precision_1: 0.8809 - val_recall_1: 0.7262 - val_auc_1: 0.9235\n",
            "Epoch 6/10\n",
            "1388/1388 [==============================] - 48s 35ms/step - loss: 0.3496 - precision_1: 0.8312 - recall_1: 0.8261 - auc_1: 0.9236 - val_loss: 0.3353 - val_precision_1: 0.8313 - val_recall_1: 0.8346 - val_auc_1: 0.9293\n",
            "Epoch 7/10\n",
            "1388/1388 [==============================] - 48s 35ms/step - loss: 0.3340 - precision_1: 0.8394 - recall_1: 0.8368 - auc_1: 0.9302 - val_loss: 0.3185 - val_precision_1: 0.8478 - val_recall_1: 0.8399 - val_auc_1: 0.9376\n",
            "Epoch 8/10\n",
            "1388/1388 [==============================] - 48s 35ms/step - loss: 0.3306 - precision_1: 0.8383 - recall_1: 0.8392 - auc_1: 0.9318 - val_loss: 0.3417 - val_precision_1: 0.8198 - val_recall_1: 0.8620 - val_auc_1: 0.9284\n",
            "Epoch 9/10\n",
            "1388/1388 [==============================] - 49s 35ms/step - loss: 0.3294 - precision_1: 0.8377 - recall_1: 0.8382 - auc_1: 0.9323 - val_loss: 0.3109 - val_precision_1: 0.8878 - val_recall_1: 0.7988 - val_auc_1: 0.9433\n",
            "Epoch 10/10\n",
            "1388/1388 [==============================] - 48s 34ms/step - loss: 0.3160 - precision_1: 0.8473 - recall_1: 0.8468 - auc_1: 0.9378 - val_loss: 0.3000 - val_precision_1: 0.8730 - val_recall_1: 0.8334 - val_auc_1: 0.9446\n"
          ]
        }
      ],
      "source": [
        "history = model.fit(datagen.flow(X_train, y_train, batch_size=32,\n",
        "         subset='training'),\n",
        "         validation_data=datagen.flow(X_train, y_train,\n",
        "         batch_size=32, subset='validation'),\n",
        "         validation_batch_size = 32,\n",
        "         epochs=10)"
      ]
    },
    {
      "cell_type": "code",
      "execution_count": null,
      "metadata": {
        "colab": {
          "base_uri": "https://localhost:8080/"
        },
        "id": "VCD4IewaqJ53",
        "outputId": "6d3c3580-8697-4d56-bf32-5283a0d66bb8"
      },
      "outputs": [
        {
          "name": "stdout",
          "output_type": "stream",
          "text": [
            "347/347 [==============================] - 9s 26ms/step - loss: 0.3022 - precision_1: 0.8651 - recall_1: 0.8292 - auc_1: 0.9440\n"
          ]
        }
      ],
      "source": [
        "result = model.evaluate(datagen.flow(X_train, y_train,\n",
        "         batch_size=32, subset='validation'))"
      ]
    },
    {
      "cell_type": "code",
      "execution_count": null,
      "metadata": {
        "id": "ohAB3ofsPqAk"
      },
      "outputs": [],
      "source": [
        "sample_data = datagen.flow(X_train, y_train,\n",
        "         batch_size=32, subset='validation').next()"
      ]
    },
    {
      "cell_type": "code",
      "execution_count": null,
      "metadata": {
        "id": "0GyUqOsISczN"
      },
      "outputs": [],
      "source": [
        "def predictor(prob):\n",
        "  if prob>=0.5:\n",
        "    return 1\n",
        "  else:\n",
        "    return 0"
      ]
    },
    {
      "cell_type": "code",
      "execution_count": null,
      "metadata": {
        "id": "SriV76qOP_PU"
      },
      "outputs": [],
      "source": [
        "predicted = list(map(predictor, model.predict(sample_data[0])))"
      ]
    },
    {
      "cell_type": "code",
      "execution_count": null,
      "metadata": {
        "id": "PgQ6USQvRInL"
      },
      "outputs": [],
      "source": [
        "output_dataframe = pd.DataFrame({'Predicted':predicted,'Original':sample_data[1]})"
      ]
    },
    {
      "cell_type": "code",
      "execution_count": null,
      "metadata": {
        "colab": {
          "base_uri": "https://localhost:8080/",
          "height": 1000
        },
        "id": "BQZv6KBZTfgB",
        "outputId": "938bfd6b-d075-49fb-cf74-3d90b29eee9b"
      },
      "outputs": [
        {
          "data": {
            "text/html": [
              "\n",
              "  <div id=\"df-9d088ca8-bd3b-4e8a-bbc6-83ef24c8df58\">\n",
              "    <div class=\"colab-df-container\">\n",
              "      <div>\n",
              "<style scoped>\n",
              "    .dataframe tbody tr th:only-of-type {\n",
              "        vertical-align: middle;\n",
              "    }\n",
              "\n",
              "    .dataframe tbody tr th {\n",
              "        vertical-align: top;\n",
              "    }\n",
              "\n",
              "    .dataframe thead th {\n",
              "        text-align: right;\n",
              "    }\n",
              "</style>\n",
              "<table border=\"1\" class=\"dataframe\">\n",
              "  <thead>\n",
              "    <tr style=\"text-align: right;\">\n",
              "      <th></th>\n",
              "      <th>Predicted</th>\n",
              "      <th>Original</th>\n",
              "    </tr>\n",
              "  </thead>\n",
              "  <tbody>\n",
              "    <tr>\n",
              "      <th>0</th>\n",
              "      <td>0</td>\n",
              "      <td>0.0</td>\n",
              "    </tr>\n",
              "    <tr>\n",
              "      <th>1</th>\n",
              "      <td>0</td>\n",
              "      <td>0.0</td>\n",
              "    </tr>\n",
              "    <tr>\n",
              "      <th>2</th>\n",
              "      <td>0</td>\n",
              "      <td>0.0</td>\n",
              "    </tr>\n",
              "    <tr>\n",
              "      <th>3</th>\n",
              "      <td>1</td>\n",
              "      <td>1.0</td>\n",
              "    </tr>\n",
              "    <tr>\n",
              "      <th>4</th>\n",
              "      <td>0</td>\n",
              "      <td>0.0</td>\n",
              "    </tr>\n",
              "    <tr>\n",
              "      <th>5</th>\n",
              "      <td>1</td>\n",
              "      <td>1.0</td>\n",
              "    </tr>\n",
              "    <tr>\n",
              "      <th>6</th>\n",
              "      <td>1</td>\n",
              "      <td>1.0</td>\n",
              "    </tr>\n",
              "    <tr>\n",
              "      <th>7</th>\n",
              "      <td>0</td>\n",
              "      <td>0.0</td>\n",
              "    </tr>\n",
              "    <tr>\n",
              "      <th>8</th>\n",
              "      <td>0</td>\n",
              "      <td>0.0</td>\n",
              "    </tr>\n",
              "    <tr>\n",
              "      <th>9</th>\n",
              "      <td>1</td>\n",
              "      <td>1.0</td>\n",
              "    </tr>\n",
              "    <tr>\n",
              "      <th>10</th>\n",
              "      <td>1</td>\n",
              "      <td>1.0</td>\n",
              "    </tr>\n",
              "    <tr>\n",
              "      <th>11</th>\n",
              "      <td>0</td>\n",
              "      <td>0.0</td>\n",
              "    </tr>\n",
              "    <tr>\n",
              "      <th>12</th>\n",
              "      <td>0</td>\n",
              "      <td>0.0</td>\n",
              "    </tr>\n",
              "    <tr>\n",
              "      <th>13</th>\n",
              "      <td>1</td>\n",
              "      <td>1.0</td>\n",
              "    </tr>\n",
              "    <tr>\n",
              "      <th>14</th>\n",
              "      <td>0</td>\n",
              "      <td>0.0</td>\n",
              "    </tr>\n",
              "    <tr>\n",
              "      <th>15</th>\n",
              "      <td>0</td>\n",
              "      <td>0.0</td>\n",
              "    </tr>\n",
              "    <tr>\n",
              "      <th>16</th>\n",
              "      <td>1</td>\n",
              "      <td>0.0</td>\n",
              "    </tr>\n",
              "    <tr>\n",
              "      <th>17</th>\n",
              "      <td>0</td>\n",
              "      <td>0.0</td>\n",
              "    </tr>\n",
              "    <tr>\n",
              "      <th>18</th>\n",
              "      <td>0</td>\n",
              "      <td>0.0</td>\n",
              "    </tr>\n",
              "    <tr>\n",
              "      <th>19</th>\n",
              "      <td>1</td>\n",
              "      <td>1.0</td>\n",
              "    </tr>\n",
              "    <tr>\n",
              "      <th>20</th>\n",
              "      <td>0</td>\n",
              "      <td>0.0</td>\n",
              "    </tr>\n",
              "    <tr>\n",
              "      <th>21</th>\n",
              "      <td>1</td>\n",
              "      <td>1.0</td>\n",
              "    </tr>\n",
              "    <tr>\n",
              "      <th>22</th>\n",
              "      <td>0</td>\n",
              "      <td>0.0</td>\n",
              "    </tr>\n",
              "    <tr>\n",
              "      <th>23</th>\n",
              "      <td>1</td>\n",
              "      <td>1.0</td>\n",
              "    </tr>\n",
              "    <tr>\n",
              "      <th>24</th>\n",
              "      <td>1</td>\n",
              "      <td>1.0</td>\n",
              "    </tr>\n",
              "    <tr>\n",
              "      <th>25</th>\n",
              "      <td>0</td>\n",
              "      <td>0.0</td>\n",
              "    </tr>\n",
              "    <tr>\n",
              "      <th>26</th>\n",
              "      <td>0</td>\n",
              "      <td>0.0</td>\n",
              "    </tr>\n",
              "    <tr>\n",
              "      <th>27</th>\n",
              "      <td>1</td>\n",
              "      <td>1.0</td>\n",
              "    </tr>\n",
              "    <tr>\n",
              "      <th>28</th>\n",
              "      <td>1</td>\n",
              "      <td>1.0</td>\n",
              "    </tr>\n",
              "    <tr>\n",
              "      <th>29</th>\n",
              "      <td>0</td>\n",
              "      <td>0.0</td>\n",
              "    </tr>\n",
              "    <tr>\n",
              "      <th>30</th>\n",
              "      <td>0</td>\n",
              "      <td>0.0</td>\n",
              "    </tr>\n",
              "    <tr>\n",
              "      <th>31</th>\n",
              "      <td>0</td>\n",
              "      <td>1.0</td>\n",
              "    </tr>\n",
              "  </tbody>\n",
              "</table>\n",
              "</div>\n",
              "      <button class=\"colab-df-convert\" onclick=\"convertToInteractive('df-9d088ca8-bd3b-4e8a-bbc6-83ef24c8df58')\"\n",
              "              title=\"Convert this dataframe to an interactive table.\"\n",
              "              style=\"display:none;\">\n",
              "        \n",
              "  <svg xmlns=\"http://www.w3.org/2000/svg\" height=\"24px\"viewBox=\"0 0 24 24\"\n",
              "       width=\"24px\">\n",
              "    <path d=\"M0 0h24v24H0V0z\" fill=\"none\"/>\n",
              "    <path d=\"M18.56 5.44l.94 2.06.94-2.06 2.06-.94-2.06-.94-.94-2.06-.94 2.06-2.06.94zm-11 1L8.5 8.5l.94-2.06 2.06-.94-2.06-.94L8.5 2.5l-.94 2.06-2.06.94zm10 10l.94 2.06.94-2.06 2.06-.94-2.06-.94-.94-2.06-.94 2.06-2.06.94z\"/><path d=\"M17.41 7.96l-1.37-1.37c-.4-.4-.92-.59-1.43-.59-.52 0-1.04.2-1.43.59L10.3 9.45l-7.72 7.72c-.78.78-.78 2.05 0 2.83L4 21.41c.39.39.9.59 1.41.59.51 0 1.02-.2 1.41-.59l7.78-7.78 2.81-2.81c.8-.78.8-2.07 0-2.86zM5.41 20L4 18.59l7.72-7.72 1.47 1.35L5.41 20z\"/>\n",
              "  </svg>\n",
              "      </button>\n",
              "      \n",
              "  <style>\n",
              "    .colab-df-container {\n",
              "      display:flex;\n",
              "      flex-wrap:wrap;\n",
              "      gap: 12px;\n",
              "    }\n",
              "\n",
              "    .colab-df-convert {\n",
              "      background-color: #E8F0FE;\n",
              "      border: none;\n",
              "      border-radius: 50%;\n",
              "      cursor: pointer;\n",
              "      display: none;\n",
              "      fill: #1967D2;\n",
              "      height: 32px;\n",
              "      padding: 0 0 0 0;\n",
              "      width: 32px;\n",
              "    }\n",
              "\n",
              "    .colab-df-convert:hover {\n",
              "      background-color: #E2EBFA;\n",
              "      box-shadow: 0px 1px 2px rgba(60, 64, 67, 0.3), 0px 1px 3px 1px rgba(60, 64, 67, 0.15);\n",
              "      fill: #174EA6;\n",
              "    }\n",
              "\n",
              "    [theme=dark] .colab-df-convert {\n",
              "      background-color: #3B4455;\n",
              "      fill: #D2E3FC;\n",
              "    }\n",
              "\n",
              "    [theme=dark] .colab-df-convert:hover {\n",
              "      background-color: #434B5C;\n",
              "      box-shadow: 0px 1px 3px 1px rgba(0, 0, 0, 0.15);\n",
              "      filter: drop-shadow(0px 1px 2px rgba(0, 0, 0, 0.3));\n",
              "      fill: #FFFFFF;\n",
              "    }\n",
              "  </style>\n",
              "\n",
              "      <script>\n",
              "        const buttonEl =\n",
              "          document.querySelector('#df-9d088ca8-bd3b-4e8a-bbc6-83ef24c8df58 button.colab-df-convert');\n",
              "        buttonEl.style.display =\n",
              "          google.colab.kernel.accessAllowed ? 'block' : 'none';\n",
              "\n",
              "        async function convertToInteractive(key) {\n",
              "          const element = document.querySelector('#df-9d088ca8-bd3b-4e8a-bbc6-83ef24c8df58');\n",
              "          const dataTable =\n",
              "            await google.colab.kernel.invokeFunction('convertToInteractive',\n",
              "                                                     [key], {});\n",
              "          if (!dataTable) return;\n",
              "\n",
              "          const docLinkHtml = 'Like what you see? Visit the ' +\n",
              "            '<a target=\"_blank\" href=https://colab.research.google.com/notebooks/data_table.ipynb>data table notebook</a>'\n",
              "            + ' to learn more about interactive tables.';\n",
              "          element.innerHTML = '';\n",
              "          dataTable['output_type'] = 'display_data';\n",
              "          await google.colab.output.renderOutput(dataTable, element);\n",
              "          const docLink = document.createElement('div');\n",
              "          docLink.innerHTML = docLinkHtml;\n",
              "          element.appendChild(docLink);\n",
              "        }\n",
              "      </script>\n",
              "    </div>\n",
              "  </div>\n",
              "  "
            ],
            "text/plain": [
              "    Predicted  Original\n",
              "0           0       0.0\n",
              "1           0       0.0\n",
              "2           0       0.0\n",
              "3           1       1.0\n",
              "4           0       0.0\n",
              "5           1       1.0\n",
              "6           1       1.0\n",
              "7           0       0.0\n",
              "8           0       0.0\n",
              "9           1       1.0\n",
              "10          1       1.0\n",
              "11          0       0.0\n",
              "12          0       0.0\n",
              "13          1       1.0\n",
              "14          0       0.0\n",
              "15          0       0.0\n",
              "16          1       0.0\n",
              "17          0       0.0\n",
              "18          0       0.0\n",
              "19          1       1.0\n",
              "20          0       0.0\n",
              "21          1       1.0\n",
              "22          0       0.0\n",
              "23          1       1.0\n",
              "24          1       1.0\n",
              "25          0       0.0\n",
              "26          0       0.0\n",
              "27          1       1.0\n",
              "28          1       1.0\n",
              "29          0       0.0\n",
              "30          0       0.0\n",
              "31          0       1.0"
            ]
          },
          "execution_count": 98,
          "metadata": {},
          "output_type": "execute_result"
        }
      ],
      "source": [
        "output_dataframe"
      ]
    },
    {
      "cell_type": "code",
      "execution_count": null,
      "metadata": {
        "colab": {
          "base_uri": "https://localhost:8080/"
        },
        "id": "ye_NI0xv2UH3",
        "outputId": "307e22a0-ac16-45d1-9e99-06767f86888e"
      },
      "outputs": [
        {
          "name": "stdout",
          "output_type": "stream",
          "text": [
            "Precision:  0.8650760054588318\n",
            "Recall:  0.829184353351593\n",
            "F1 score:  0.8467500103584988\n",
            "AUC:  0.943962037563324\n"
          ]
        }
      ],
      "source": [
        "print('Precision: ',result[1])\n",
        "print('Recall: ',result[2])\n",
        "print('F1 score: ',(2*result[1]*result[2])/(result[1]+result[2]))\n",
        "print('AUC: ',result[3])"
      ]
    },
    {
      "cell_type": "code",
      "execution_count": null,
      "metadata": {
        "colab": {
          "base_uri": "https://localhost:8080/",
          "height": 282
        },
        "id": "pEl4eqWp5GJM",
        "outputId": "68d58709-8ad0-433c-c603-38233919b12c"
      },
      "outputs": [
        {
          "data": {
            "text/plain": [
              "<matplotlib.legend.Legend at 0x7f7fb393bb90>"
            ]
          },
          "execution_count": 100,
          "metadata": {},
          "output_type": "execute_result"
        },
        {
          "data": {
            "image/png": "[encoded data removed]",
            "text/plain": [
              "<Figure size 432x288 with 1 Axes>"
            ]
          },
          "metadata": {
            "needs_background": "light"
          },
          "output_type": "display_data"
        }
      ],
      "source": [
        "pd.DataFrame(history.history).plot()\n",
        "plt.legend(bbox_to_anchor=(1.0, 1.0))"
      ]
    },
    {
      "cell_type": "markdown",
      "metadata": {
        "id": "kScT5gXRMsdL"
      },
      "source": [
        "### Part B. GoogLeNet Architecture (inception module layers)"
      ]
    },
    {
      "cell_type": "code",
      "execution_count": null,
      "metadata": {
        "id": "jOwdqIcUNjDI"
      },
      "outputs": [],
      "source": [
        "input_layer = layers.Input(shape=(50, 50, 3))\n",
        "\n",
        "x = layers.Conv2D(filters=16, kernel_size=(3, 3), strides=1, padding=\"SAME\", activation='relu', input_shape=(50, 50, 3))(input_layer)\n",
        "x = layers.MaxPooling2D(pool_size= (3, 3), strides=2, padding=\"VALID\")(x)\n",
        "x = layers.Conv2D(filters=128, kernel_size=(3, 3), strides=1, padding=\"SAME\", activation='relu')(x)\n",
        "x = layers.MaxPooling2D(pool_size= (3, 3), strides=2, padding=\"VALID\")(x)\n",
        "\n",
        "# inception module layers\n",
        "\n",
        "conv_1x1 = layers.Conv2D(filters=64, kernel_size=(1, 1), strides=1, padding='same', activation='relu')(x)\n",
        "\n",
        "conv_3x3 = layers.Conv2D(filters=64, kernel_size=(1, 1), strides=1, padding='same', activation='relu')(x)\n",
        "conv_3x3 = layers.Conv2D(filters=64, kernel_size=(3, 3), strides=1, padding='same', activation='relu')(conv_3x3)\n",
        "\n",
        "conv_5x5 = layers.Conv2D(filters=64, kernel_size=(1, 1), strides=1, padding='same', activation='relu')(x)\n",
        "conv_5x5 = layers.Conv2D(filters=64, kernel_size=(5, 5), strides=1, padding='same', activation='relu')(conv_5x5)\n",
        "\n",
        "pool_proj = layers.MaxPool2D(pool_size=(3, 3), strides=(1, 1), padding='same')(x)\n",
        "pool_proj = layers.Conv2D(filters =64, kernel_size=(1, 1), padding='same', activation='relu')(pool_proj)\n",
        "\n",
        "x = layers.concatenate([conv_1x1, conv_3x3, conv_5x5, pool_proj], axis=3, name='inception')\n",
        "\n",
        "\n",
        "# inception module layers end\n",
        "\n",
        "x = layers.MaxPool2D(pool_size=(11, 11), strides=(11, 11), padding='valid')(x)\n",
        "\n",
        "x = layers.Flatten()(x)\n",
        "x = layers.Dense(16, activation='relu')(x)\n",
        "\n",
        "output = layers.Dense(1, activation='sigmoid')(x)\n",
        "\n",
        "model = models.Model(inputs=[input_layer], outputs=[output])"
      ]
    },
    {
      "cell_type": "code",
      "execution_count": null,
      "metadata": {
        "colab": {
          "base_uri": "https://localhost:8080/"
        },
        "id": "uXL3sSpjf3xw",
        "outputId": "bf85aa0b-2f20-4491-9eaa-c17511d81dde"
      },
      "outputs": [
        {
          "name": "stdout",
          "output_type": "stream",
          "text": [
            "Model: \"model\"\n",
            "__________________________________________________________________________________________________\n",
            " Layer (type)                   Output Shape         Param #     Connected to                     \n",
            "==================================================================================================\n",
            " input_1 (InputLayer)           [(None, 50, 50, 3)]  0           []                               \n",
            "                                                                                                  \n",
            " conv2d (Conv2D)                (None, 50, 50, 16)   448         ['input_1[0][0]']                \n",
            "                                                                                                  \n",
            " max_pooling2d (MaxPooling2D)   (None, 24, 24, 16)   0           ['conv2d[0][0]']                 \n",
            "                                                                                                  \n",
            " conv2d_1 (Conv2D)              (None, 24, 24, 128)  18560       ['max_pooling2d[0][0]']          \n",
            "                                                                                                  \n",
            " max_pooling2d_1 (MaxPooling2D)  (None, 11, 11, 128)  0          ['conv2d_1[0][0]']               \n",
            "                                                                                                  \n",
            " conv2d_3 (Conv2D)              (None, 11, 11, 64)   8256        ['max_pooling2d_1[0][0]']        \n",
            "                                                                                                  \n",
            " conv2d_5 (Conv2D)              (None, 11, 11, 64)   8256        ['max_pooling2d_1[0][0]']        \n",
            "                                                                                                  \n",
            " max_pooling2d_2 (MaxPooling2D)  (None, 11, 11, 128)  0          ['max_pooling2d_1[0][0]']        \n",
            "                                                                                                  \n",
            " conv2d_2 (Conv2D)              (None, 11, 11, 64)   8256        ['max_pooling2d_1[0][0]']        \n",
            "                                                                                                  \n",
            " conv2d_4 (Conv2D)              (None, 11, 11, 64)   36928       ['conv2d_3[0][0]']               \n",
            "                                                                                                  \n",
            " conv2d_6 (Conv2D)              (None, 11, 11, 64)   102464      ['conv2d_5[0][0]']               \n",
            "                                                                                                  \n",
            " conv2d_7 (Conv2D)              (None, 11, 11, 64)   8256        ['max_pooling2d_2[0][0]']        \n",
            "                                                                                                  \n",
            " inception (Concatenate)        (None, 11, 11, 256)  0           ['conv2d_2[0][0]',               \n",
            "                                                                  'conv2d_4[0][0]',               \n",
            "                                                                  'conv2d_6[0][0]',               \n",
            "                                                                  'conv2d_7[0][0]']               \n",
            "                                                                                                  \n",
            " max_pooling2d_3 (MaxPooling2D)  (None, 1, 1, 256)   0           ['inception[0][0]']              \n",
            "                                                                                                  \n",
            " flatten (Flatten)              (None, 256)          0           ['max_pooling2d_3[0][0]']        \n",
            "                                                                                                  \n",
            " dense (Dense)                  (None, 16)           4112        ['flatten[0][0]']                \n",
            "                                                                                                  \n",
            " dense_1 (Dense)                (None, 1)            17          ['dense[0][0]']                  \n",
            "                                                                                                  \n",
            "==================================================================================================\n",
            "Total params: 195,553\n",
            "Trainable params: 195,553\n",
            "Non-trainable params: 0\n",
            "__________________________________________________________________________________________________\n"
          ]
        }
      ],
      "source": [
        "model.summary()"
      ]
    },
    {
      "cell_type": "code",
      "execution_count": null,
      "metadata": {
        "id": "ibTQvGSBh1MZ"
      },
      "outputs": [],
      "source": [
        "model.compile(optimizer='adam',\n",
        "              loss=tf.keras.losses.BinaryCrossentropy(),\n",
        "              metrics=[tf.keras.metrics.Precision(), tf.keras.metrics.Recall(), tf.keras.metrics.AUC()])"
      ]
    },
    {
      "cell_type": "code",
      "execution_count": null,
      "metadata": {
        "colab": {
          "base_uri": "https://localhost:8080/"
        },
        "id": "EirTvDUggBG2",
        "outputId": "a6954021-1775-4a82-9182-f907dd7afdfc"
      },
      "outputs": [
        {
          "name": "stdout",
          "output_type": "stream",
          "text": [
            "Epoch 1/10\n",
            "1388/1388 [==============================] - 66s 39ms/step - loss: 0.4903 - precision: 0.7531 - recall: 0.6981 - auc: 0.8411 - val_loss: 0.4671 - val_precision: 0.6987 - val_recall: 0.8442 - val_auc: 0.8666\n",
            "Epoch 2/10\n",
            "1388/1388 [==============================] - 51s 37ms/step - loss: 0.3939 - precision: 0.7999 - recall: 0.8145 - auc: 0.9024 - val_loss: 0.3357 - val_precision: 0.8528 - val_recall: 0.8238 - val_auc: 0.9311\n",
            "Epoch 3/10\n",
            "1388/1388 [==============================] - 52s 38ms/step - loss: 0.3646 - precision: 0.8176 - recall: 0.8298 - auc: 0.9172 - val_loss: 0.3258 - val_precision: 0.8644 - val_recall: 0.8133 - val_auc: 0.9355\n",
            "Epoch 4/10\n",
            "1388/1388 [==============================] - 52s 38ms/step - loss: 0.3416 - precision: 0.8298 - recall: 0.8398 - auc: 0.9275 - val_loss: 0.3490 - val_precision: 0.7626 - val_recall: 0.9169 - val_auc: 0.9383\n",
            "Epoch 5/10\n",
            "1388/1388 [==============================] - 50s 36ms/step - loss: 0.3312 - precision: 0.8398 - recall: 0.8402 - auc: 0.9318 - val_loss: 0.3820 - val_precision: 0.7453 - val_recall: 0.8885 - val_auc: 0.9200\n",
            "Epoch 6/10\n",
            "1388/1388 [==============================] - 52s 37ms/step - loss: 0.3174 - precision: 0.8483 - recall: 0.8474 - auc: 0.9374 - val_loss: 0.2893 - val_precision: 0.8669 - val_recall: 0.8421 - val_auc: 0.9472\n",
            "Epoch 7/10\n",
            "1388/1388 [==============================] - 50s 36ms/step - loss: 0.3104 - precision: 0.8537 - recall: 0.8478 - auc: 0.9399 - val_loss: 0.3048 - val_precision: 0.8100 - val_recall: 0.8992 - val_auc: 0.9465\n",
            "Epoch 8/10\n",
            "1388/1388 [==============================] - 51s 37ms/step - loss: 0.3084 - precision: 0.8534 - recall: 0.8500 - auc: 0.9407 - val_loss: 0.2828 - val_precision: 0.8307 - val_recall: 0.9018 - val_auc: 0.9530\n",
            "Epoch 9/10\n",
            "1388/1388 [==============================] - 50s 36ms/step - loss: 0.2968 - precision: 0.8591 - recall: 0.8532 - auc: 0.9451 - val_loss: 0.2869 - val_precision: 0.9123 - val_recall: 0.7919 - val_auc: 0.9524\n",
            "Epoch 10/10\n",
            "1388/1388 [==============================] - 51s 37ms/step - loss: 0.2890 - precision: 0.8637 - recall: 0.8585 - auc: 0.9479 - val_loss: 0.2663 - val_precision: 0.9028 - val_recall: 0.8333 - val_auc: 0.9565\n"
          ]
        }
      ],
      "source": [
        "history = model.fit(datagen.flow(X_train, y_train, batch_size=32,\n",
        "         subset='training'),\n",
        "         validation_data=datagen.flow(X_train, y_train,\n",
        "         batch_size=32, subset='validation'),\n",
        "         validation_batch_size = 32,\n",
        "         epochs=10)"
      ]
    },
    {
      "cell_type": "code",
      "execution_count": null,
      "metadata": {
        "colab": {
          "base_uri": "https://localhost:8080/"
        },
        "id": "ytunlo9Zh-JK",
        "outputId": "e2cbfb18-efe8-45a3-9b14-1c3b0f2953cb"
      },
      "outputs": [
        {
          "name": "stdout",
          "output_type": "stream",
          "text": [
            "347/347 [==============================] - 9s 27ms/step - loss: 0.2621 - precision: 0.9079 - recall: 0.8323 - auc: 0.9578\n"
          ]
        }
      ],
      "source": [
        "result = model.evaluate(datagen.flow(X_train, y_train,\n",
        "         batch_size=32, subset='validation'))"
      ]
    },
    {
      "cell_type": "code",
      "execution_count": null,
      "metadata": {
        "id": "9Oed-bgRqDCz"
      },
      "outputs": [],
      "source": [
        "sample_data = datagen.flow(X_train, y_train,\n",
        "         batch_size=32, subset='validation').next()"
      ]
    },
    {
      "cell_type": "code",
      "execution_count": null,
      "metadata": {
        "id": "cJsQS5gdqGut"
      },
      "outputs": [],
      "source": [
        "def predictor(prob):\n",
        "  if prob>=0.5:\n",
        "    return 1\n",
        "  else:\n",
        "    return 0"
      ]
    },
    {
      "cell_type": "code",
      "execution_count": null,
      "metadata": {
        "id": "5kJacxCFqKCm"
      },
      "outputs": [],
      "source": [
        "predicted = list(map(predictor, model.predict(sample_data[0])))"
      ]
    },
    {
      "cell_type": "code",
      "execution_count": null,
      "metadata": {
        "id": "6BG4B_77qNmN"
      },
      "outputs": [],
      "source": [
        "output_dataframe = pd.DataFrame({'Predicted':predicted,'Original':sample_data[1]})"
      ]
    },
    {
      "cell_type": "code",
      "execution_count": null,
      "metadata": {
        "colab": {
          "base_uri": "https://localhost:8080/",
          "height": 1000
        },
        "id": "1EMjlDKau3bu",
        "outputId": "a7df7aa0-35b9-4b9f-d00c-785bf58002c5"
      },
      "outputs": [
        {
          "data": {
            "text/html": [
              "\n",
              "  <div id=\"df-c6a44d71-5127-4298-9176-c7ff56091078\">\n",
              "    <div class=\"colab-df-container\">\n",
              "      <div>\n",
              "<style scoped>\n",
              "    .dataframe tbody tr th:only-of-type {\n",
              "        vertical-align: middle;\n",
              "    }\n",
              "\n",
              "    .dataframe tbody tr th {\n",
              "        vertical-align: top;\n",
              "    }\n",
              "\n",
              "    .dataframe thead th {\n",
              "        text-align: right;\n",
              "    }\n",
              "</style>\n",
              "<table border=\"1\" class=\"dataframe\">\n",
              "  <thead>\n",
              "    <tr style=\"text-align: right;\">\n",
              "      <th></th>\n",
              "      <th>Predicted</th>\n",
              "      <th>Original</th>\n",
              "    </tr>\n",
              "  </thead>\n",
              "  <tbody>\n",
              "    <tr>\n",
              "      <th>0</th>\n",
              "      <td>1</td>\n",
              "      <td>1.0</td>\n",
              "    </tr>\n",
              "    <tr>\n",
              "      <th>1</th>\n",
              "      <td>0</td>\n",
              "      <td>0.0</td>\n",
              "    </tr>\n",
              "    <tr>\n",
              "      <th>2</th>\n",
              "      <td>0</td>\n",
              "      <td>0.0</td>\n",
              "    </tr>\n",
              "    <tr>\n",
              "      <th>3</th>\n",
              "      <td>0</td>\n",
              "      <td>0.0</td>\n",
              "    </tr>\n",
              "    <tr>\n",
              "      <th>4</th>\n",
              "      <td>0</td>\n",
              "      <td>1.0</td>\n",
              "    </tr>\n",
              "    <tr>\n",
              "      <th>5</th>\n",
              "      <td>1</td>\n",
              "      <td>1.0</td>\n",
              "    </tr>\n",
              "    <tr>\n",
              "      <th>6</th>\n",
              "      <td>1</td>\n",
              "      <td>1.0</td>\n",
              "    </tr>\n",
              "    <tr>\n",
              "      <th>7</th>\n",
              "      <td>0</td>\n",
              "      <td>0.0</td>\n",
              "    </tr>\n",
              "    <tr>\n",
              "      <th>8</th>\n",
              "      <td>0</td>\n",
              "      <td>0.0</td>\n",
              "    </tr>\n",
              "    <tr>\n",
              "      <th>9</th>\n",
              "      <td>1</td>\n",
              "      <td>1.0</td>\n",
              "    </tr>\n",
              "    <tr>\n",
              "      <th>10</th>\n",
              "      <td>0</td>\n",
              "      <td>0.0</td>\n",
              "    </tr>\n",
              "    <tr>\n",
              "      <th>11</th>\n",
              "      <td>0</td>\n",
              "      <td>0.0</td>\n",
              "    </tr>\n",
              "    <tr>\n",
              "      <th>12</th>\n",
              "      <td>0</td>\n",
              "      <td>0.0</td>\n",
              "    </tr>\n",
              "    <tr>\n",
              "      <th>13</th>\n",
              "      <td>1</td>\n",
              "      <td>1.0</td>\n",
              "    </tr>\n",
              "    <tr>\n",
              "      <th>14</th>\n",
              "      <td>0</td>\n",
              "      <td>0.0</td>\n",
              "    </tr>\n",
              "    <tr>\n",
              "      <th>15</th>\n",
              "      <td>1</td>\n",
              "      <td>1.0</td>\n",
              "    </tr>\n",
              "    <tr>\n",
              "      <th>16</th>\n",
              "      <td>0</td>\n",
              "      <td>0.0</td>\n",
              "    </tr>\n",
              "    <tr>\n",
              "      <th>17</th>\n",
              "      <td>0</td>\n",
              "      <td>0.0</td>\n",
              "    </tr>\n",
              "    <tr>\n",
              "      <th>18</th>\n",
              "      <td>1</td>\n",
              "      <td>1.0</td>\n",
              "    </tr>\n",
              "    <tr>\n",
              "      <th>19</th>\n",
              "      <td>0</td>\n",
              "      <td>0.0</td>\n",
              "    </tr>\n",
              "    <tr>\n",
              "      <th>20</th>\n",
              "      <td>0</td>\n",
              "      <td>0.0</td>\n",
              "    </tr>\n",
              "    <tr>\n",
              "      <th>21</th>\n",
              "      <td>1</td>\n",
              "      <td>1.0</td>\n",
              "    </tr>\n",
              "    <tr>\n",
              "      <th>22</th>\n",
              "      <td>0</td>\n",
              "      <td>0.0</td>\n",
              "    </tr>\n",
              "    <tr>\n",
              "      <th>23</th>\n",
              "      <td>0</td>\n",
              "      <td>0.0</td>\n",
              "    </tr>\n",
              "    <tr>\n",
              "      <th>24</th>\n",
              "      <td>0</td>\n",
              "      <td>0.0</td>\n",
              "    </tr>\n",
              "    <tr>\n",
              "      <th>25</th>\n",
              "      <td>1</td>\n",
              "      <td>1.0</td>\n",
              "    </tr>\n",
              "    <tr>\n",
              "      <th>26</th>\n",
              "      <td>1</td>\n",
              "      <td>1.0</td>\n",
              "    </tr>\n",
              "    <tr>\n",
              "      <th>27</th>\n",
              "      <td>0</td>\n",
              "      <td>0.0</td>\n",
              "    </tr>\n",
              "    <tr>\n",
              "      <th>28</th>\n",
              "      <td>0</td>\n",
              "      <td>0.0</td>\n",
              "    </tr>\n",
              "    <tr>\n",
              "      <th>29</th>\n",
              "      <td>0</td>\n",
              "      <td>0.0</td>\n",
              "    </tr>\n",
              "    <tr>\n",
              "      <th>30</th>\n",
              "      <td>1</td>\n",
              "      <td>0.0</td>\n",
              "    </tr>\n",
              "    <tr>\n",
              "      <th>31</th>\n",
              "      <td>0</td>\n",
              "      <td>1.0</td>\n",
              "    </tr>\n",
              "  </tbody>\n",
              "</table>\n",
              "</div>\n",
              "      <button class=\"colab-df-convert\" onclick=\"convertToInteractive('df-c6a44d71-5127-4298-9176-c7ff56091078')\"\n",
              "              title=\"Convert this dataframe to an interactive table.\"\n",
              "              style=\"display:none;\">\n",
              "        \n",
              "  <svg xmlns=\"http://www.w3.org/2000/svg\" height=\"24px\"viewBox=\"0 0 24 24\"\n",
              "       width=\"24px\">\n",
              "    <path d=\"M0 0h24v24H0V0z\" fill=\"none\"/>\n",
              "    <path d=\"M18.56 5.44l.94 2.06.94-2.06 2.06-.94-2.06-.94-.94-2.06-.94 2.06-2.06.94zm-11 1L8.5 8.5l.94-2.06 2.06-.94-2.06-.94L8.5 2.5l-.94 2.06-2.06.94zm10 10l.94 2.06.94-2.06 2.06-.94-2.06-.94-.94-2.06-.94 2.06-2.06.94z\"/><path d=\"M17.41 7.96l-1.37-1.37c-.4-.4-.92-.59-1.43-.59-.52 0-1.04.2-1.43.59L10.3 9.45l-7.72 7.72c-.78.78-.78 2.05 0 2.83L4 21.41c.39.39.9.59 1.41.59.51 0 1.02-.2 1.41-.59l7.78-7.78 2.81-2.81c.8-.78.8-2.07 0-2.86zM5.41 20L4 18.59l7.72-7.72 1.47 1.35L5.41 20z\"/>\n",
              "  </svg>\n",
              "      </button>\n",
              "      \n",
              "  <style>\n",
              "    .colab-df-container {\n",
              "      display:flex;\n",
              "      flex-wrap:wrap;\n",
              "      gap: 12px;\n",
              "    }\n",
              "\n",
              "    .colab-df-convert {\n",
              "      background-color: #E8F0FE;\n",
              "      border: none;\n",
              "      border-radius: 50%;\n",
              "      cursor: pointer;\n",
              "      display: none;\n",
              "      fill: #1967D2;\n",
              "      height: 32px;\n",
              "      padding: 0 0 0 0;\n",
              "      width: 32px;\n",
              "    }\n",
              "\n",
              "    .colab-df-convert:hover {\n",
              "      background-color: #E2EBFA;\n",
              "      box-shadow: 0px 1px 2px rgba(60, 64, 67, 0.3), 0px 1px 3px 1px rgba(60, 64, 67, 0.15);\n",
              "      fill: #174EA6;\n",
              "    }\n",
              "\n",
              "    [theme=dark] .colab-df-convert {\n",
              "      background-color: #3B4455;\n",
              "      fill: #D2E3FC;\n",
              "    }\n",
              "\n",
              "    [theme=dark] .colab-df-convert:hover {\n",
              "      background-color: #434B5C;\n",
              "      box-shadow: 0px 1px 3px 1px rgba(0, 0, 0, 0.15);\n",
              "      filter: drop-shadow(0px 1px 2px rgba(0, 0, 0, 0.3));\n",
              "      fill: #FFFFFF;\n",
              "    }\n",
              "  </style>\n",
              "\n",
              "      <script>\n",
              "        const buttonEl =\n",
              "          document.querySelector('#df-c6a44d71-5127-4298-9176-c7ff56091078 button.colab-df-convert');\n",
              "        buttonEl.style.display =\n",
              "          google.colab.kernel.accessAllowed ? 'block' : 'none';\n",
              "\n",
              "        async function convertToInteractive(key) {\n",
              "          const element = document.querySelector('#df-c6a44d71-5127-4298-9176-c7ff56091078');\n",
              "          const dataTable =\n",
              "            await google.colab.kernel.invokeFunction('convertToInteractive',\n",
              "                                                     [key], {});\n",
              "          if (!dataTable) return;\n",
              "\n",
              "          const docLinkHtml = 'Like what you see? Visit the ' +\n",
              "            '<a target=\"_blank\" href=https://colab.research.google.com/notebooks/data_table.ipynb>data table notebook</a>'\n",
              "            + ' to learn more about interactive tables.';\n",
              "          element.innerHTML = '';\n",
              "          dataTable['output_type'] = 'display_data';\n",
              "          await google.colab.output.renderOutput(dataTable, element);\n",
              "          const docLink = document.createElement('div');\n",
              "          docLink.innerHTML = docLinkHtml;\n",
              "          element.appendChild(docLink);\n",
              "        }\n",
              "      </script>\n",
              "    </div>\n",
              "  </div>\n",
              "  "
            ],
            "text/plain": [
              "    Predicted  Original\n",
              "0           1       1.0\n",
              "1           0       0.0\n",
              "2           0       0.0\n",
              "3           0       0.0\n",
              "4           0       1.0\n",
              "5           1       1.0\n",
              "6           1       1.0\n",
              "7           0       0.0\n",
              "8           0       0.0\n",
              "9           1       1.0\n",
              "10          0       0.0\n",
              "11          0       0.0\n",
              "12          0       0.0\n",
              "13          1       1.0\n",
              "14          0       0.0\n",
              "15          1       1.0\n",
              "16          0       0.0\n",
              "17          0       0.0\n",
              "18          1       1.0\n",
              "19          0       0.0\n",
              "20          0       0.0\n",
              "21          1       1.0\n",
              "22          0       0.0\n",
              "23          0       0.0\n",
              "24          0       0.0\n",
              "25          1       1.0\n",
              "26          1       1.0\n",
              "27          0       0.0\n",
              "28          0       0.0\n",
              "29          0       0.0\n",
              "30          1       0.0\n",
              "31          0       1.0"
            ]
          },
          "execution_count": 67,
          "metadata": {},
          "output_type": "execute_result"
        }
      ],
      "source": [
        "output_dataframe"
      ]
    },
    {
      "cell_type": "code",
      "execution_count": null,
      "metadata": {
        "colab": {
          "base_uri": "https://localhost:8080/"
        },
        "id": "h4s6YSVmiDUP",
        "outputId": "6a157b07-2566-4854-db36-fe97ba19b788"
      },
      "outputs": [
        {
          "name": "stdout",
          "output_type": "stream",
          "text": [
            "Precision:  0.9079478979110718\n",
            "Recall:  0.8322700262069702\n",
            "F1 score:  0.8684634381891974\n",
            "AUC:  0.9578379988670349\n"
          ]
        }
      ],
      "source": [
        "print('Precision: ',result[1])\n",
        "print('Recall: ',result[2])\n",
        "print('F1 score: ',(2*result[1]*result[2])/(result[1]+result[2]))\n",
        "print('AUC: ',result[3])"
      ]
    },
    {
      "cell_type": "code",
      "execution_count": null,
      "metadata": {
        "colab": {
          "base_uri": "https://localhost:8080/",
          "height": 282
        },
        "id": "LypJVgYJiF6j",
        "outputId": "3fa6a83c-f0ae-4ccb-f33f-82ac211f3982"
      },
      "outputs": [
        {
          "data": {
            "text/plain": [
              "<matplotlib.legend.Legend at 0x7f4cb63a8650>"
            ]
          },
          "execution_count": 66,
          "metadata": {},
          "output_type": "execute_result"
        },
        {
          "data": {
            "image/png": "[encoded data removed]",
            "text/plain": [
              "<Figure size 432x288 with 1 Axes>"
            ]
          },
          "metadata": {
            "needs_background": "light"
          },
          "output_type": "display_data"
        }
      ],
      "source": [
        "pd.DataFrame(history.history).plot()\n",
        "plt.legend(bbox_to_anchor=(1.0, 1.0))"
      ]
    },
    {
      "cell_type": "markdown",
      "metadata": {
        "id": "M8XVsV-bn13S"
      },
      "source": [
        "### Part C. Transfer Learning with ResNet"
      ]
    },
    {
      "cell_type": "code",
      "execution_count": null,
      "metadata": {
        "id": "tz7K3Oe8vQV8"
      },
      "outputs": [],
      "source": [
        "base_model = tf.keras.applications.ResNet152(weights = 'imagenet', include_top = False, input_shape = (50,50,3))\n",
        "for layer in base_model.layers: # freezing the layers of base model\n",
        "  layer.trainable = False       # so, that weights of base model are not updated initially"
      ]
    },
    {
      "cell_type": "code",
      "execution_count": null,
      "metadata": {
        "id": "o_5Uk10Dw_fx"
      },
      "outputs": [],
      "source": [
        "x = layers.Flatten()(base_model.output)\n",
        "x = layers.Dense(1000, activation='relu')(x)\n",
        "output = layers.Dense(1, activation = 'sigmoid')(x)\n",
        "model = models.Model(inputs=base_model.input, outputs=output)"
      ]
    },
    {
      "cell_type": "code",
      "execution_count": null,
      "metadata": {
        "colab": {
          "base_uri": "https://localhost:8080/"
        },
        "id": "v9IWtbHexevj",
        "outputId": "f67886fd-d32a-4dbe-a403-f3d07db489ad"
      },
      "outputs": [
        {
          "name": "stdout",
          "output_type": "stream",
          "text": [
            "Model: \"model_1\"\n",
            "__________________________________________________________________________________________________\n",
            " Layer (type)                   Output Shape         Param #     Connected to                     \n",
            "==================================================================================================\n",
            " input_2 (InputLayer)           [(None, 50, 50, 3)]  0           []                               \n",
            "                                                                                                  \n",
            " conv1_pad (ZeroPadding2D)      (None, 56, 56, 3)    0           ['input_2[0][0]']                \n",
            "                                                                                                  \n",
            " conv1_conv (Conv2D)            (None, 25, 25, 64)   9472        ['conv1_pad[0][0]']              \n",
            "                                                                                                  \n",
            " conv1_bn (BatchNormalization)  (None, 25, 25, 64)   256         ['conv1_conv[0][0]']             \n",
            "                                                                                                  \n",
            " conv1_relu (Activation)        (None, 25, 25, 64)   0           ['conv1_bn[0][0]']               \n",
            "                                                                                                  \n",
            " pool1_pad (ZeroPadding2D)      (None, 27, 27, 64)   0           ['conv1_relu[0][0]']             \n",
            "                                                                                                  \n",
            " pool1_pool (MaxPooling2D)      (None, 13, 13, 64)   0           ['pool1_pad[0][0]']              \n",
            "                                                                                                  \n",
            " conv2_block1_1_conv (Conv2D)   (None, 13, 13, 64)   4160        ['pool1_pool[0][0]']             \n",
            "                                                                                                  \n",
            " conv2_block1_1_bn (BatchNormal  (None, 13, 13, 64)  256         ['conv2_block1_1_conv[0][0]']    \n",
            " ization)                                                                                         \n",
            "                                                                                                  \n",
            " conv2_block1_1_relu (Activatio  (None, 13, 13, 64)  0           ['conv2_block1_1_bn[0][0]']      \n",
            " n)                                                                                               \n",
            "                                                                                                  \n",
            " conv2_block1_2_conv (Conv2D)   (None, 13, 13, 64)   36928       ['conv2_block1_1_relu[0][0]']    \n",
            "                                                                                                  \n",
            " conv2_block1_2_bn (BatchNormal  (None, 13, 13, 64)  256         ['conv2_block1_2_conv[0][0]']    \n",
            " ization)                                                                                         \n",
            "                                                                                                  \n",
            " conv2_block1_2_relu (Activatio  (None, 13, 13, 64)  0           ['conv2_block1_2_bn[0][0]']      \n",
            " n)                                                                                               \n",
            "                                                                                                  \n",
            " conv2_block1_0_conv (Conv2D)   (None, 13, 13, 256)  16640       ['pool1_pool[0][0]']             \n",
            "                                                                                                  \n",
            " conv2_block1_3_conv (Conv2D)   (None, 13, 13, 256)  16640       ['conv2_block1_2_relu[0][0]']    \n",
            "                                                                                                  \n",
            " conv2_block1_0_bn (BatchNormal  (None, 13, 13, 256)  1024       ['conv2_block1_0_conv[0][0]']    \n",
            " ization)                                                                                         \n",
            "                                                                                                  \n",
            " conv2_block1_3_bn (BatchNormal  (None, 13, 13, 256)  1024       ['conv2_block1_3_conv[0][0]']    \n",
            " ization)                                                                                         \n",
            "                                                                                                  \n",
            " conv2_block1_add (Add)         (None, 13, 13, 256)  0           ['conv2_block1_0_bn[0][0]',      \n",
            "                                                                  'conv2_block1_3_bn[0][0]']      \n",
            "                                                                                                  \n",
            " conv2_block1_out (Activation)  (None, 13, 13, 256)  0           ['conv2_block1_add[0][0]']       \n",
            "                                                                                                  \n",
            " conv2_block2_1_conv (Conv2D)   (None, 13, 13, 64)   16448       ['conv2_block1_out[0][0]']       \n",
            "                                                                                                  \n",
            " conv2_block2_1_bn (BatchNormal  (None, 13, 13, 64)  256         ['conv2_block2_1_conv[0][0]']    \n",
            " ization)                                                                                         \n",
            "                                                                                                  \n",
            " conv2_block2_1_relu (Activatio  (None, 13, 13, 64)  0           ['conv2_block2_1_bn[0][0]']      \n",
            " n)                                                                                               \n",
            "                                                                                                  \n",
            " conv2_block2_2_conv (Conv2D)   (None, 13, 13, 64)   36928       ['conv2_block2_1_relu[0][0]']    \n",
            "                                                                                                  \n",
            " conv2_block2_2_bn (BatchNormal  (None, 13, 13, 64)  256         ['conv2_block2_2_conv[0][0]']    \n",
            " ization)                                                                                         \n",
            "                                                                                                  \n",
            " conv2_block2_2_relu (Activatio  (None, 13, 13, 64)  0           ['conv2_block2_2_bn[0][0]']      \n",
            " n)                                                                                               \n",
            "                                                                                                  \n",
            " conv2_block2_3_conv (Conv2D)   (None, 13, 13, 256)  16640       ['conv2_block2_2_relu[0][0]']    \n",
            "                                                                                                  \n",
            " conv2_block2_3_bn (BatchNormal  (None, 13, 13, 256)  1024       ['conv2_block2_3_conv[0][0]']    \n",
            " ization)                                                                                         \n",
            "                                                                                                  \n",
            " conv2_block2_add (Add)         (None, 13, 13, 256)  0           ['conv2_block1_out[0][0]',       \n",
            "                                                                  'conv2_block2_3_bn[0][0]']      \n",
            "                                                                                                  \n",
            " conv2_block2_out (Activation)  (None, 13, 13, 256)  0           ['conv2_block2_add[0][0]']       \n",
            "                                                                                                  \n",
            " conv2_block3_1_conv (Conv2D)   (None, 13, 13, 64)   16448       ['conv2_block2_out[0][0]']       \n",
            "                                                                                                  \n",
            " conv2_block3_1_bn (BatchNormal  (None, 13, 13, 64)  256         ['conv2_block3_1_conv[0][0]']    \n",
            " ization)                                                                                         \n",
            "                                                                                                  \n",
            " conv2_block3_1_relu (Activatio  (None, 13, 13, 64)  0           ['conv2_block3_1_bn[0][0]']      \n",
            " n)                                                                                               \n",
            "                                                                                                  \n",
            " conv2_block3_2_conv (Conv2D)   (None, 13, 13, 64)   36928       ['conv2_block3_1_relu[0][0]']    \n",
            "                                                                                                  \n",
            " conv2_block3_2_bn (BatchNormal  (None, 13, 13, 64)  256         ['conv2_block3_2_conv[0][0]']    \n",
            " ization)                                                                                         \n",
            "                                                                                                  \n",
            " conv2_block3_2_relu (Activatio  (None, 13, 13, 64)  0           ['conv2_block3_2_bn[0][0]']      \n",
            " n)                                                                                               \n",
            "                                                                                                  \n",
            " conv2_block3_3_conv (Conv2D)   (None, 13, 13, 256)  16640       ['conv2_block3_2_relu[0][0]']    \n",
            "                                                                                                  \n",
            " conv2_block3_3_bn (BatchNormal  (None, 13, 13, 256)  1024       ['conv2_block3_3_conv[0][0]']    \n",
            " ization)                                                                                         \n",
            "                                                                                                  \n",
            " conv2_block3_add (Add)         (None, 13, 13, 256)  0           ['conv2_block2_out[0][0]',       \n",
            "                                                                  'conv2_block3_3_bn[0][0]']      \n",
            "                                                                                                  \n",
            " conv2_block3_out (Activation)  (None, 13, 13, 256)  0           ['conv2_block3_add[0][0]']       \n",
            "                                                                                                  \n",
            " conv3_block1_1_conv (Conv2D)   (None, 7, 7, 128)    32896       ['conv2_block3_out[0][0]']       \n",
            "                                                                                                  \n",
            " conv3_block1_1_bn (BatchNormal  (None, 7, 7, 128)   512         ['conv3_block1_1_conv[0][0]']    \n",
            " ization)                                                                                         \n",
            "                                                                                                  \n",
            " conv3_block1_1_relu (Activatio  (None, 7, 7, 128)   0           ['conv3_block1_1_bn[0][0]']      \n",
            " n)                                                                                               \n",
            "                                                                                                  \n",
            " conv3_block1_2_conv (Conv2D)   (None, 7, 7, 128)    147584      ['conv3_block1_1_relu[0][0]']    \n",
            "                                                                                                  \n",
            " conv3_block1_2_bn (BatchNormal  (None, 7, 7, 128)   512         ['conv3_block1_2_conv[0][0]']    \n",
            " ization)                                                                                         \n",
            "                                                                                                  \n",
            " conv3_block1_2_relu (Activatio  (None, 7, 7, 128)   0           ['conv3_block1_2_bn[0][0]']      \n",
            " n)                                                                                               \n",
            "                                                                                                  \n",
            " conv3_block1_0_conv (Conv2D)   (None, 7, 7, 512)    131584      ['conv2_block3_out[0][0]']       \n",
            "                                                                                                  \n",
            " conv3_block1_3_conv (Conv2D)   (None, 7, 7, 512)    66048       ['conv3_block1_2_relu[0][0]']    \n",
            "                                                                                                  \n",
            " conv3_block1_0_bn (BatchNormal  (None, 7, 7, 512)   2048        ['conv3_block1_0_conv[0][0]']    \n",
            " ization)                                                                                         \n",
            "                                                                                                  \n",
            " conv3_block1_3_bn (BatchNormal  (None, 7, 7, 512)   2048        ['conv3_block1_3_conv[0][0]']    \n",
            " ization)                                                                                         \n",
            "                                                                                                  \n",
            " conv3_block1_add (Add)         (None, 7, 7, 512)    0           ['conv3_block1_0_bn[0][0]',      \n",
            "                                                                  'conv3_block1_3_bn[0][0]']      \n",
            "                                                                                                  \n",
            " conv3_block1_out (Activation)  (None, 7, 7, 512)    0           ['conv3_block1_add[0][0]']       \n",
            "                                                                                                  \n",
            " conv3_block2_1_conv (Conv2D)   (None, 7, 7, 128)    65664       ['conv3_block1_out[0][0]']       \n",
            "                                                                                                  \n",
            " conv3_block2_1_bn (BatchNormal  (None, 7, 7, 128)   512         ['conv3_block2_1_conv[0][0]']    \n",
            " ization)                                                                                         \n",
            "                                                                                                  \n",
            " conv3_block2_1_relu (Activatio  (None, 7, 7, 128)   0           ['conv3_block2_1_bn[0][0]']      \n",
            " n)                                                                                               \n",
            "                                                                                                  \n",
            " conv3_block2_2_conv (Conv2D)   (None, 7, 7, 128)    147584      ['conv3_block2_1_relu[0][0]']    \n",
            "                                                                                                  \n",
            " conv3_block2_2_bn (BatchNormal  (None, 7, 7, 128)   512         ['conv3_block2_2_conv[0][0]']    \n",
            " ization)                                                                                         \n",
            "                                                                                                  \n",
            " conv3_block2_2_relu (Activatio  (None, 7, 7, 128)   0           ['conv3_block2_2_bn[0][0]']      \n",
            " n)                                                                                               \n",
            "                                                                                                  \n",
            " conv3_block2_3_conv (Conv2D)   (None, 7, 7, 512)    66048       ['conv3_block2_2_relu[0][0]']    \n",
            "                                                                                                  \n",
            " conv3_block2_3_bn (BatchNormal  (None, 7, 7, 512)   2048        ['conv3_block2_3_conv[0][0]']    \n",
            " ization)                                                                                         \n",
            "                                                                                                  \n",
            " conv3_block2_add (Add)         (None, 7, 7, 512)    0           ['conv3_block1_out[0][0]',       \n",
            "                                                                  'conv3_block2_3_bn[0][0]']      \n",
            "                                                                                                  \n",
            " conv3_block2_out (Activation)  (None, 7, 7, 512)    0           ['conv3_block2_add[0][0]']       \n",
            "                                                                                                  \n",
            " conv3_block3_1_conv (Conv2D)   (None, 7, 7, 128)    65664       ['conv3_block2_out[0][0]']       \n",
            "                                                                                                  \n",
            " conv3_block3_1_bn (BatchNormal  (None, 7, 7, 128)   512         ['conv3_block3_1_conv[0][0]']    \n",
            " ization)                                                                                         \n",
            "                                                                                                  \n",
            " conv3_block3_1_relu (Activatio  (None, 7, 7, 128)   0           ['conv3_block3_1_bn[0][0]']      \n",
            " n)                                                                                               \n",
            "                                                                                                  \n",
            " conv3_block3_2_conv (Conv2D)   (None, 7, 7, 128)    147584      ['conv3_block3_1_relu[0][0]']    \n",
            "                                                                                                  \n",
            " conv3_block3_2_bn (BatchNormal  (None, 7, 7, 128)   512         ['conv3_block3_2_conv[0][0]']    \n",
            " ization)                                                                                         \n",
            "                                                                                                  \n",
            " conv3_block3_2_relu (Activatio  (None, 7, 7, 128)   0           ['conv3_block3_2_bn[0][0]']      \n",
            " n)                                                                                               \n",
            "                                                                                                  \n",
            " conv3_block3_3_conv (Conv2D)   (None, 7, 7, 512)    66048       ['conv3_block3_2_relu[0][0]']    \n",
            "                                                                                                  \n",
            " conv3_block3_3_bn (BatchNormal  (None, 7, 7, 512)   2048        ['conv3_block3_3_conv[0][0]']    \n",
            " ization)                                                                                         \n",
            "                                                                                                  \n",
            " conv3_block3_add (Add)         (None, 7, 7, 512)    0           ['conv3_block2_out[0][0]',       \n",
            "                                                                  'conv3_block3_3_bn[0][0]']      \n",
            "                                                                                                  \n",
            " conv3_block3_out (Activation)  (None, 7, 7, 512)    0           ['conv3_block3_add[0][0]']       \n",
            "                                                                                                  \n",
            " conv3_block4_1_conv (Conv2D)   (None, 7, 7, 128)    65664       ['conv3_block3_out[0][0]']       \n",
            "                                                                                                  \n",
            " conv3_block4_1_bn (BatchNormal  (None, 7, 7, 128)   512         ['conv3_block4_1_conv[0][0]']    \n",
            " ization)                                                                                         \n",
            "                                                                                                  \n",
            " conv3_block4_1_relu (Activatio  (None, 7, 7, 128)   0           ['conv3_block4_1_bn[0][0]']      \n",
            " n)                                                                                               \n",
            "                                                                                                  \n",
            " conv3_block4_2_conv (Conv2D)   (None, 7, 7, 128)    147584      ['conv3_block4_1_relu[0][0]']    \n",
            "                                                                                                  \n",
            " conv3_block4_2_bn (BatchNormal  (None, 7, 7, 128)   512         ['conv3_block4_2_conv[0][0]']    \n",
            " ization)                                                                                         \n",
            "                                                                                                  \n",
            " conv3_block4_2_relu (Activatio  (None, 7, 7, 128)   0           ['conv3_block4_2_bn[0][0]']      \n",
            " n)                                                                                               \n",
            "                                                                                                  \n",
            " conv3_block4_3_conv (Conv2D)   (None, 7, 7, 512)    66048       ['conv3_block4_2_relu[0][0]']    \n",
            "                                                                                                  \n",
            " conv3_block4_3_bn (BatchNormal  (None, 7, 7, 512)   2048        ['conv3_block4_3_conv[0][0]']    \n",
            " ization)                                                                                         \n",
            "                                                                                                  \n",
            " conv3_block4_add (Add)         (None, 7, 7, 512)    0           ['conv3_block3_out[0][0]',       \n",
            "                                                                  'conv3_block4_3_bn[0][0]']      \n",
            "                                                                                                  \n",
            " conv3_block4_out (Activation)  (None, 7, 7, 512)    0           ['conv3_block4_add[0][0]']       \n",
            "                                                                                                  \n",
            " conv3_block5_1_conv (Conv2D)   (None, 7, 7, 128)    65664       ['conv3_block4_out[0][0]']       \n",
            "                                                                                                  \n",
            " conv3_block5_1_bn (BatchNormal  (None, 7, 7, 128)   512         ['conv3_block5_1_conv[0][0]']    \n",
            " ization)                                                                                         \n",
            "                                                                                                  \n",
            " conv3_block5_1_relu (Activatio  (None, 7, 7, 128)   0           ['conv3_block5_1_bn[0][0]']      \n",
            " n)                                                                                               \n",
            "                                                                                                  \n",
            " conv3_block5_2_conv (Conv2D)   (None, 7, 7, 128)    147584      ['conv3_block5_1_relu[0][0]']    \n",
            "                                                                                                  \n",
            " conv3_block5_2_bn (BatchNormal  (None, 7, 7, 128)   512         ['conv3_block5_2_conv[0][0]']    \n",
            " ization)                                                                                         \n",
            "                                                                                                  \n",
            " conv3_block5_2_relu (Activatio  (None, 7, 7, 128)   0           ['conv3_block5_2_bn[0][0]']      \n",
            " n)                                                                                               \n",
            "                                                                                                  \n",
            " conv3_block5_3_conv (Conv2D)   (None, 7, 7, 512)    66048       ['conv3_block5_2_relu[0][0]']    \n",
            "                                                                                                  \n",
            " conv3_block5_3_bn (BatchNormal  (None, 7, 7, 512)   2048        ['conv3_block5_3_conv[0][0]']    \n",
            " ization)                                                                                         \n",
            "                                                                                                  \n",
            " conv3_block5_add (Add)         (None, 7, 7, 512)    0           ['conv3_block4_out[0][0]',       \n",
            "                                                                  'conv3_block5_3_bn[0][0]']      \n",
            "                                                                                                  \n",
            " conv3_block5_out (Activation)  (None, 7, 7, 512)    0           ['conv3_block5_add[0][0]']       \n",
            "                                                                                                  \n",
            " conv3_block6_1_conv (Conv2D)   (None, 7, 7, 128)    65664       ['conv3_block5_out[0][0]']       \n",
            "                                                                                                  \n",
            " conv3_block6_1_bn (BatchNormal  (None, 7, 7, 128)   512         ['conv3_block6_1_conv[0][0]']    \n",
            " ization)                                                                                         \n",
            "                                                                                                  \n",
            " conv3_block6_1_relu (Activatio  (None, 7, 7, 128)   0           ['conv3_block6_1_bn[0][0]']      \n",
            " n)                                                                                               \n",
            "                                                                                                  \n",
            " conv3_block6_2_conv (Conv2D)   (None, 7, 7, 128)    147584      ['conv3_block6_1_relu[0][0]']    \n",
            "                                                                                                  \n",
            " conv3_block6_2_bn (BatchNormal  (None, 7, 7, 128)   512         ['conv3_block6_2_conv[0][0]']    \n",
            " ization)                                                                                         \n",
            "                                                                                                  \n",
            " conv3_block6_2_relu (Activatio  (None, 7, 7, 128)   0           ['conv3_block6_2_bn[0][0]']      \n",
            " n)                                                                                               \n",
            "                                                                                                  \n",
            " conv3_block6_3_conv (Conv2D)   (None, 7, 7, 512)    66048       ['conv3_block6_2_relu[0][0]']    \n",
            "                                                                                                  \n",
            " conv3_block6_3_bn (BatchNormal  (None, 7, 7, 512)   2048        ['conv3_block6_3_conv[0][0]']    \n",
            " ization)                                                                                         \n",
            "                                                                                                  \n",
            " conv3_block6_add (Add)         (None, 7, 7, 512)    0           ['conv3_block5_out[0][0]',       \n",
            "                                                                  'conv3_block6_3_bn[0][0]']      \n",
            "                                                                                                  \n",
            " conv3_block6_out (Activation)  (None, 7, 7, 512)    0           ['conv3_block6_add[0][0]']       \n",
            "                                                                                                  \n",
            " conv3_block7_1_conv (Conv2D)   (None, 7, 7, 128)    65664       ['conv3_block6_out[0][0]']       \n",
            "                                                                                                  \n",
            " conv3_block7_1_bn (BatchNormal  (None, 7, 7, 128)   512         ['conv3_block7_1_conv[0][0]']    \n",
            " ization)                                                                                         \n",
            "                                                                                                  \n",
            " conv3_block7_1_relu (Activatio  (None, 7, 7, 128)   0           ['conv3_block7_1_bn[0][0]']      \n",
            " n)                                                                                               \n",
            "                                                                                                  \n",
            " conv3_block7_2_conv (Conv2D)   (None, 7, 7, 128)    147584      ['conv3_block7_1_relu[0][0]']    \n",
            "                                                                                                  \n",
            " conv3_block7_2_bn (BatchNormal  (None, 7, 7, 128)   512         ['conv3_block7_2_conv[0][0]']    \n",
            " ization)                                                                                         \n",
            "                                                                                                  \n",
            " conv3_block7_2_relu (Activatio  (None, 7, 7, 128)   0           ['conv3_block7_2_bn[0][0]']      \n",
            " n)                                                                                               \n",
            "                                                                                                  \n",
            " conv3_block7_3_conv (Conv2D)   (None, 7, 7, 512)    66048       ['conv3_block7_2_relu[0][0]']    \n",
            "                                                                                                  \n",
            " conv3_block7_3_bn (BatchNormal  (None, 7, 7, 512)   2048        ['conv3_block7_3_conv[0][0]']    \n",
            " ization)                                                                                         \n",
            "                                                                                                  \n",
            " conv3_block7_add (Add)         (None, 7, 7, 512)    0           ['conv3_block6_out[0][0]',       \n",
            "                                                                  'conv3_block7_3_bn[0][0]']      \n",
            "                                                                                                  \n",
            " conv3_block7_out (Activation)  (None, 7, 7, 512)    0           ['conv3_block7_add[0][0]']       \n",
            "                                                                                                  \n",
            " conv3_block8_1_conv (Conv2D)   (None, 7, 7, 128)    65664       ['conv3_block7_out[0][0]']       \n",
            "                                                                                                  \n",
            " conv3_block8_1_bn (BatchNormal  (None, 7, 7, 128)   512         ['conv3_block8_1_conv[0][0]']    \n",
            " ization)                                                                                         \n",
            "                                                                                                  \n",
            " conv3_block8_1_relu (Activatio  (None, 7, 7, 128)   0           ['conv3_block8_1_bn[0][0]']      \n",
            " n)                                                                                               \n",
            "                                                                                                  \n",
            " conv3_block8_2_conv (Conv2D)   (None, 7, 7, 128)    147584      ['conv3_block8_1_relu[0][0]']    \n",
            "                                                                                                  \n",
            " conv3_block8_2_bn (BatchNormal  (None, 7, 7, 128)   512         ['conv3_block8_2_conv[0][0]']    \n",
            " ization)                                                                                         \n",
            "                                                                                                  \n",
            " conv3_block8_2_relu (Activatio  (None, 7, 7, 128)   0           ['conv3_block8_2_bn[0][0]']      \n",
            " n)                                                                                               \n",
            "                                                                                                  \n",
            " conv3_block8_3_conv (Conv2D)   (None, 7, 7, 512)    66048       ['conv3_block8_2_relu[0][0]']    \n",
            "                                                                                                  \n",
            " conv3_block8_3_bn (BatchNormal  (None, 7, 7, 512)   2048        ['conv3_block8_3_conv[0][0]']    \n",
            " ization)                                                                                         \n",
            "                                                                                                  \n",
            " conv3_block8_add (Add)         (None, 7, 7, 512)    0           ['conv3_block7_out[0][0]',       \n",
            "                                                                  'conv3_block8_3_bn[0][0]']      \n",
            "                                                                                                  \n",
            " conv3_block8_out (Activation)  (None, 7, 7, 512)    0           ['conv3_block8_add[0][0]']       \n",
            "                                                                                                  \n",
            " conv4_block1_1_conv (Conv2D)   (None, 4, 4, 256)    131328      ['conv3_block8_out[0][0]']       \n",
            "                                                                                                  \n",
            " conv4_block1_1_bn (BatchNormal  (None, 4, 4, 256)   1024        ['conv4_block1_1_conv[0][0]']    \n",
            " ization)                                                                                         \n",
            "                                                                                                  \n",
            " conv4_block1_1_relu (Activatio  (None, 4, 4, 256)   0           ['conv4_block1_1_bn[0][0]']      \n",
            " n)                                                                                               \n",
            "                                                                                                  \n",
            " conv4_block1_2_conv (Conv2D)   (None, 4, 4, 256)    590080      ['conv4_block1_1_relu[0][0]']    \n",
            "                                                                                                  \n",
            " conv4_block1_2_bn (BatchNormal  (None, 4, 4, 256)   1024        ['conv4_block1_2_conv[0][0]']    \n",
            " ization)                                                                                         \n",
            "                                                                                                  \n",
            " conv4_block1_2_relu (Activatio  (None, 4, 4, 256)   0           ['conv4_block1_2_bn[0][0]']      \n",
            " n)                                                                                               \n",
            "                                                                                                  \n",
            " conv4_block1_0_conv (Conv2D)   (None, 4, 4, 1024)   525312      ['conv3_block8_out[0][0]']       \n",
            "                                                                                                  \n",
            " conv4_block1_3_conv (Conv2D)   (None, 4, 4, 1024)   263168      ['conv4_block1_2_relu[0][0]']    \n",
            "                                                                                                  \n",
            " conv4_block1_0_bn (BatchNormal  (None, 4, 4, 1024)  4096        ['conv4_block1_0_conv[0][0]']    \n",
            " ization)                                                                                         \n",
            "                                                                                                  \n",
            " conv4_block1_3_bn (BatchNormal  (None, 4, 4, 1024)  4096        ['conv4_block1_3_conv[0][0]']    \n",
            " ization)                                                                                         \n",
            "                                                                                                  \n",
            " conv4_block1_add (Add)         (None, 4, 4, 1024)   0           ['conv4_block1_0_bn[0][0]',      \n",
            "                                                                  'conv4_block1_3_bn[0][0]']      \n",
            "                                                                                                  \n",
            " conv4_block1_out (Activation)  (None, 4, 4, 1024)   0           ['conv4_block1_add[0][0]']       \n",
            "                                                                                                  \n",
            " conv4_block2_1_conv (Conv2D)   (None, 4, 4, 256)    262400      ['conv4_block1_out[0][0]']       \n",
            "                                                                                                  \n",
            " conv4_block2_1_bn (BatchNormal  (None, 4, 4, 256)   1024        ['conv4_block2_1_conv[0][0]']    \n",
            " ization)                                                                                         \n",
            "                                                                                                  \n",
            " conv4_block2_1_relu (Activatio  (None, 4, 4, 256)   0           ['conv4_block2_1_bn[0][0]']      \n",
            " n)                                                                                               \n",
            "                                                                                                  \n",
            " conv4_block2_2_conv (Conv2D)   (None, 4, 4, 256)    590080      ['conv4_block2_1_relu[0][0]']    \n",
            "                                                                                                  \n",
            " conv4_block2_2_bn (BatchNormal  (None, 4, 4, 256)   1024        ['conv4_block2_2_conv[0][0]']    \n",
            " ization)                                                                                         \n",
            "                                                                                                  \n",
            " conv4_block2_2_relu (Activatio  (None, 4, 4, 256)   0           ['conv4_block2_2_bn[0][0]']      \n",
            " n)                                                                                               \n",
            "                                                                                                  \n",
            " conv4_block2_3_conv (Conv2D)   (None, 4, 4, 1024)   263168      ['conv4_block2_2_relu[0][0]']    \n",
            "                                                                                                  \n",
            " conv4_block2_3_bn (BatchNormal  (None, 4, 4, 1024)  4096        ['conv4_block2_3_conv[0][0]']    \n",
            " ization)                                                                                         \n",
            "                                                                                                  \n",
            " conv4_block2_add (Add)         (None, 4, 4, 1024)   0           ['conv4_block1_out[0][0]',       \n",
            "                                                                  'conv4_block2_3_bn[0][0]']      \n",
            "                                                                                                  \n",
            " conv4_block2_out (Activation)  (None, 4, 4, 1024)   0           ['conv4_block2_add[0][0]']       \n",
            "                                                                                                  \n",
            " conv4_block3_1_conv (Conv2D)   (None, 4, 4, 256)    262400      ['conv4_block2_out[0][0]']       \n",
            "                                                                                                  \n",
            " conv4_block3_1_bn (BatchNormal  (None, 4, 4, 256)   1024        ['conv4_block3_1_conv[0][0]']    \n",
            " ization)                                                                                         \n",
            "                                                                                                  \n",
            " conv4_block3_1_relu (Activatio  (None, 4, 4, 256)   0           ['conv4_block3_1_bn[0][0]']      \n",
            " n)                                                                                               \n",
            "                                                                                                  \n",
            " conv4_block3_2_conv (Conv2D)   (None, 4, 4, 256)    590080      ['conv4_block3_1_relu[0][0]']    \n",
            "                                                                                                  \n",
            " conv4_block3_2_bn (BatchNormal  (None, 4, 4, 256)   1024        ['conv4_block3_2_conv[0][0]']    \n",
            " ization)                                                                                         \n",
            "                                                                                                  \n",
            " conv4_block3_2_relu (Activatio  (None, 4, 4, 256)   0           ['conv4_block3_2_bn[0][0]']      \n",
            " n)                                                                                               \n",
            "                                                                                                  \n",
            " conv4_block3_3_conv (Conv2D)   (None, 4, 4, 1024)   263168      ['conv4_block3_2_relu[0][0]']    \n",
            "                                                                                                  \n",
            " conv4_block3_3_bn (BatchNormal  (None, 4, 4, 1024)  4096        ['conv4_block3_3_conv[0][0]']    \n",
            " ization)                                                                                         \n",
            "                                                                                                  \n",
            " conv4_block3_add (Add)         (None, 4, 4, 1024)   0           ['conv4_block2_out[0][0]',       \n",
            "                                                                  'conv4_block3_3_bn[0][0]']      \n",
            "                                                                                                  \n",
            " conv4_block3_out (Activation)  (None, 4, 4, 1024)   0           ['conv4_block3_add[0][0]']       \n",
            "                                                                                                  \n",
            " conv4_block4_1_conv (Conv2D)   (None, 4, 4, 256)    262400      ['conv4_block3_out[0][0]']       \n",
            "                                                                                                  \n",
            " conv4_block4_1_bn (BatchNormal  (None, 4, 4, 256)   1024        ['conv4_block4_1_conv[0][0]']    \n",
            " ization)                                                                                         \n",
            "                                                                                                  \n",
            " conv4_block4_1_relu (Activatio  (None, 4, 4, 256)   0           ['conv4_block4_1_bn[0][0]']      \n",
            " n)                                                                                               \n",
            "                                                                                                  \n",
            " conv4_block4_2_conv (Conv2D)   (None, 4, 4, 256)    590080      ['conv4_block4_1_relu[0][0]']    \n",
            "                                                                                                  \n",
            " conv4_block4_2_bn (BatchNormal  (None, 4, 4, 256)   1024        ['conv4_block4_2_conv[0][0]']    \n",
            " ization)                                                                                         \n",
            "                                                                                                  \n",
            " conv4_block4_2_relu (Activatio  (None, 4, 4, 256)   0           ['conv4_block4_2_bn[0][0]']      \n",
            " n)                                                                                               \n",
            "                                                                                                  \n",
            " conv4_block4_3_conv (Conv2D)   (None, 4, 4, 1024)   263168      ['conv4_block4_2_relu[0][0]']    \n",
            "                                                                                                  \n",
            " conv4_block4_3_bn (BatchNormal  (None, 4, 4, 1024)  4096        ['conv4_block4_3_conv[0][0]']    \n",
            " ization)                                                                                         \n",
            "                                                                                                  \n",
            " conv4_block4_add (Add)         (None, 4, 4, 1024)   0           ['conv4_block3_out[0][0]',       \n",
            "                                                                  'conv4_block4_3_bn[0][0]']      \n",
            "                                                                                                  \n",
            " conv4_block4_out (Activation)  (None, 4, 4, 1024)   0           ['conv4_block4_add[0][0]']       \n",
            "                                                                                                  \n",
            " conv4_block5_1_conv (Conv2D)   (None, 4, 4, 256)    262400      ['conv4_block4_out[0][0]']       \n",
            "                                                                                                  \n",
            " conv4_block5_1_bn (BatchNormal  (None, 4, 4, 256)   1024        ['conv4_block5_1_conv[0][0]']    \n",
            " ization)                                                                                         \n",
            "                                                                                                  \n",
            " conv4_block5_1_relu (Activatio  (None, 4, 4, 256)   0           ['conv4_block5_1_bn[0][0]']      \n",
            " n)                                                                                               \n",
            "                                                                                                  \n",
            " conv4_block5_2_conv (Conv2D)   (None, 4, 4, 256)    590080      ['conv4_block5_1_relu[0][0]']    \n",
            "                                                                                                  \n",
            " conv4_block5_2_bn (BatchNormal  (None, 4, 4, 256)   1024        ['conv4_block5_2_conv[0][0]']    \n",
            " ization)                                                                                         \n",
            "                                                                                                  \n",
            " conv4_block5_2_relu (Activatio  (None, 4, 4, 256)   0           ['conv4_block5_2_bn[0][0]']      \n",
            " n)                                                                                               \n",
            "                                                                                                  \n",
            " conv4_block5_3_conv (Conv2D)   (None, 4, 4, 1024)   263168      ['conv4_block5_2_relu[0][0]']    \n",
            "                                                                                                  \n",
            " conv4_block5_3_bn (BatchNormal  (None, 4, 4, 1024)  4096        ['conv4_block5_3_conv[0][0]']    \n",
            " ization)                                                                                         \n",
            "                                                                                                  \n",
            " conv4_block5_add (Add)         (None, 4, 4, 1024)   0           ['conv4_block4_out[0][0]',       \n",
            "                                                                  'conv4_block5_3_bn[0][0]']      \n",
            "                                                                                                  \n",
            " conv4_block5_out (Activation)  (None, 4, 4, 1024)   0           ['conv4_block5_add[0][0]']       \n",
            "                                                                                                  \n",
            " conv4_block6_1_conv (Conv2D)   (None, 4, 4, 256)    262400      ['conv4_block5_out[0][0]']       \n",
            "                                                                                                  \n",
            " conv4_block6_1_bn (BatchNormal  (None, 4, 4, 256)   1024        ['conv4_block6_1_conv[0][0]']    \n",
            " ization)                                                                                         \n",
            "                                                                                                  \n",
            " conv4_block6_1_relu (Activatio  (None, 4, 4, 256)   0           ['conv4_block6_1_bn[0][0]']      \n",
            " n)                                                                                               \n",
            "                                                                                                  \n",
            " conv4_block6_2_conv (Conv2D)   (None, 4, 4, 256)    590080      ['conv4_block6_1_relu[0][0]']    \n",
            "                                                                                                  \n",
            " conv4_block6_2_bn (BatchNormal  (None, 4, 4, 256)   1024        ['conv4_block6_2_conv[0][0]']    \n",
            " ization)                                                                                         \n",
            "                                                                                                  \n",
            " conv4_block6_2_relu (Activatio  (None, 4, 4, 256)   0           ['conv4_block6_2_bn[0][0]']      \n",
            " n)                                                                                               \n",
            "                                                                                                  \n",
            " conv4_block6_3_conv (Conv2D)   (None, 4, 4, 1024)   263168      ['conv4_block6_2_relu[0][0]']    \n",
            "                                                                                                  \n",
            " conv4_block6_3_bn (BatchNormal  (None, 4, 4, 1024)  4096        ['conv4_block6_3_conv[0][0]']    \n",
            " ization)                                                                                         \n",
            "                                                                                                  \n",
            " conv4_block6_add (Add)         (None, 4, 4, 1024)   0           ['conv4_block5_out[0][0]',       \n",
            "                                                                  'conv4_block6_3_bn[0][0]']      \n",
            "                                                                                                  \n",
            " conv4_block6_out (Activation)  (None, 4, 4, 1024)   0           ['conv4_block6_add[0][0]']       \n",
            "                                                                                                  \n",
            " conv4_block7_1_conv (Conv2D)   (None, 4, 4, 256)    262400      ['conv4_block6_out[0][0]']       \n",
            "                                                                                                  \n",
            " conv4_block7_1_bn (BatchNormal  (None, 4, 4, 256)   1024        ['conv4_block7_1_conv[0][0]']    \n",
            " ization)                                                                                         \n",
            "                                                                                                  \n",
            " conv4_block7_1_relu (Activatio  (None, 4, 4, 256)   0           ['conv4_block7_1_bn[0][0]']      \n",
            " n)                                                                                               \n",
            "                                                                                                  \n",
            " conv4_block7_2_conv (Conv2D)   (None, 4, 4, 256)    590080      ['conv4_block7_1_relu[0][0]']    \n",
            "                                                                                                  \n",
            " conv4_block7_2_bn (BatchNormal  (None, 4, 4, 256)   1024        ['conv4_block7_2_conv[0][0]']    \n",
            " ization)                                                                                         \n",
            "                                                                                                  \n",
            " conv4_block7_2_relu (Activatio  (None, 4, 4, 256)   0           ['conv4_block7_2_bn[0][0]']      \n",
            " n)                                                                                               \n",
            "                                                                                                  \n",
            " conv4_block7_3_conv (Conv2D)   (None, 4, 4, 1024)   263168      ['conv4_block7_2_relu[0][0]']    \n",
            "                                                                                                  \n",
            " conv4_block7_3_bn (BatchNormal  (None, 4, 4, 1024)  4096        ['conv4_block7_3_conv[0][0]']    \n",
            " ization)                                                                                         \n",
            "                                                                                                  \n",
            " conv4_block7_add (Add)         (None, 4, 4, 1024)   0           ['conv4_block6_out[0][0]',       \n",
            "                                                                  'conv4_block7_3_bn[0][0]']      \n",
            "                                                                                                  \n",
            " conv4_block7_out (Activation)  (None, 4, 4, 1024)   0           ['conv4_block7_add[0][0]']       \n",
            "                                                                                                  \n",
            " conv4_block8_1_conv (Conv2D)   (None, 4, 4, 256)    262400      ['conv4_block7_out[0][0]']       \n",
            "                                                                                                  \n",
            " conv4_block8_1_bn (BatchNormal  (None, 4, 4, 256)   1024        ['conv4_block8_1_conv[0][0]']    \n",
            " ization)                                                                                         \n",
            "                                                                                                  \n",
            " conv4_block8_1_relu (Activatio  (None, 4, 4, 256)   0           ['conv4_block8_1_bn[0][0]']      \n",
            " n)                                                                                               \n",
            "                                                                                                  \n",
            " conv4_block8_2_conv (Conv2D)   (None, 4, 4, 256)    590080      ['conv4_block8_1_relu[0][0]']    \n",
            "                                                                                                  \n",
            " conv4_block8_2_bn (BatchNormal  (None, 4, 4, 256)   1024        ['conv4_block8_2_conv[0][0]']    \n",
            " ization)                                                                                         \n",
            "                                                                                                  \n",
            " conv4_block8_2_relu (Activatio  (None, 4, 4, 256)   0           ['conv4_block8_2_bn[0][0]']      \n",
            " n)                                                                                               \n",
            "                                                                                                  \n",
            " conv4_block8_3_conv (Conv2D)   (None, 4, 4, 1024)   263168      ['conv4_block8_2_relu[0][0]']    \n",
            "                                                                                                  \n",
            " conv4_block8_3_bn (BatchNormal  (None, 4, 4, 1024)  4096        ['conv4_block8_3_conv[0][0]']    \n",
            " ization)                                                                                         \n",
            "                                                                                                  \n",
            " conv4_block8_add (Add)         (None, 4, 4, 1024)   0           ['conv4_block7_out[0][0]',       \n",
            "                                                                  'conv4_block8_3_bn[0][0]']      \n",
            "                                                                                                  \n",
            " conv4_block8_out (Activation)  (None, 4, 4, 1024)   0           ['conv4_block8_add[0][0]']       \n",
            "                                                                                                  \n",
            " conv4_block9_1_conv (Conv2D)   (None, 4, 4, 256)    262400      ['conv4_block8_out[0][0]']       \n",
            "                                                                                                  \n",
            " conv4_block9_1_bn (BatchNormal  (None, 4, 4, 256)   1024        ['conv4_block9_1_conv[0][0]']    \n",
            " ization)                                                                                         \n",
            "                                                                                                  \n",
            " conv4_block9_1_relu (Activatio  (None, 4, 4, 256)   0           ['conv4_block9_1_bn[0][0]']      \n",
            " n)                                                                                               \n",
            "                                                                                                  \n",
            " conv4_block9_2_conv (Conv2D)   (None, 4, 4, 256)    590080      ['conv4_block9_1_relu[0][0]']    \n",
            "                                                                                                  \n",
            " conv4_block9_2_bn (BatchNormal  (None, 4, 4, 256)   1024        ['conv4_block9_2_conv[0][0]']    \n",
            " ization)                                                                                         \n",
            "                                                                                                  \n",
            " conv4_block9_2_relu (Activatio  (None, 4, 4, 256)   0           ['conv4_block9_2_bn[0][0]']      \n",
            " n)                                                                                               \n",
            "                                                                                                  \n",
            " conv4_block9_3_conv (Conv2D)   (None, 4, 4, 1024)   263168      ['conv4_block9_2_relu[0][0]']    \n",
            "                                                                                                  \n",
            " conv4_block9_3_bn (BatchNormal  (None, 4, 4, 1024)  4096        ['conv4_block9_3_conv[0][0]']    \n",
            " ization)                                                                                         \n",
            "                                                                                                  \n",
            " conv4_block9_add (Add)         (None, 4, 4, 1024)   0           ['conv4_block8_out[0][0]',       \n",
            "                                                                  'conv4_block9_3_bn[0][0]']      \n",
            "                                                                                                  \n",
            " conv4_block9_out (Activation)  (None, 4, 4, 1024)   0           ['conv4_block9_add[0][0]']       \n",
            "                                                                                                  \n",
            " conv4_block10_1_conv (Conv2D)  (None, 4, 4, 256)    262400      ['conv4_block9_out[0][0]']       \n",
            "                                                                                                  \n",
            " conv4_block10_1_bn (BatchNorma  (None, 4, 4, 256)   1024        ['conv4_block10_1_conv[0][0]']   \n",
            " lization)                                                                                        \n",
            "                                                                                                  \n",
            " conv4_block10_1_relu (Activati  (None, 4, 4, 256)   0           ['conv4_block10_1_bn[0][0]']     \n",
            " on)                                                                                              \n",
            "                                                                                                  \n",
            " conv4_block10_2_conv (Conv2D)  (None, 4, 4, 256)    590080      ['conv4_block10_1_relu[0][0]']   \n",
            "                                                                                                  \n",
            " conv4_block10_2_bn (BatchNorma  (None, 4, 4, 256)   1024        ['conv4_block10_2_conv[0][0]']   \n",
            " lization)                                                                                        \n",
            "                                                                                                  \n",
            " conv4_block10_2_relu (Activati  (None, 4, 4, 256)   0           ['conv4_block10_2_bn[0][0]']     \n",
            " on)                                                                                              \n",
            "                                                                                                  \n",
            " conv4_block10_3_conv (Conv2D)  (None, 4, 4, 1024)   263168      ['conv4_block10_2_relu[0][0]']   \n",
            "                                                                                                  \n",
            " conv4_block10_3_bn (BatchNorma  (None, 4, 4, 1024)  4096        ['conv4_block10_3_conv[0][0]']   \n",
            " lization)                                                                                        \n",
            "                                                                                                  \n",
            " conv4_block10_add (Add)        (None, 4, 4, 1024)   0           ['conv4_block9_out[0][0]',       \n",
            "                                                                  'conv4_block10_3_bn[0][0]']     \n",
            "                                                                                                  \n",
            " conv4_block10_out (Activation)  (None, 4, 4, 1024)  0           ['conv4_block10_add[0][0]']      \n",
            "                                                                                                  \n",
            " conv4_block11_1_conv (Conv2D)  (None, 4, 4, 256)    262400      ['conv4_block10_out[0][0]']      \n",
            "                                                                                                  \n",
            " conv4_block11_1_bn (BatchNorma  (None, 4, 4, 256)   1024        ['conv4_block11_1_conv[0][0]']   \n",
            " lization)                                                                                        \n",
            "                                                                                                  \n",
            " conv4_block11_1_relu (Activati  (None, 4, 4, 256)   0           ['conv4_block11_1_bn[0][0]']     \n",
            " on)                                                                                              \n",
            "                                                                                                  \n",
            " conv4_block11_2_conv (Conv2D)  (None, 4, 4, 256)    590080      ['conv4_block11_1_relu[0][0]']   \n",
            "                                                                                                  \n",
            " conv4_block11_2_bn (BatchNorma  (None, 4, 4, 256)   1024        ['conv4_block11_2_conv[0][0]']   \n",
            " lization)                                                                                        \n",
            "                                                                                                  \n",
            " conv4_block11_2_relu (Activati  (None, 4, 4, 256)   0           ['conv4_block11_2_bn[0][0]']     \n",
            " on)                                                                                              \n",
            "                                                                                                  \n",
            " conv4_block11_3_conv (Conv2D)  (None, 4, 4, 1024)   263168      ['conv4_block11_2_relu[0][0]']   \n",
            "                                                                                                  \n",
            " conv4_block11_3_bn (BatchNorma  (None, 4, 4, 1024)  4096        ['conv4_block11_3_conv[0][0]']   \n",
            " lization)                                                                                        \n",
            "                                                                                                  \n",
            " conv4_block11_add (Add)        (None, 4, 4, 1024)   0           ['conv4_block10_out[0][0]',      \n",
            "                                                                  'conv4_block11_3_bn[0][0]']     \n",
            "                                                                                                  \n",
            " conv4_block11_out (Activation)  (None, 4, 4, 1024)  0           ['conv4_block11_add[0][0]']      \n",
            "                                                                                                  \n",
            " conv4_block12_1_conv (Conv2D)  (None, 4, 4, 256)    262400      ['conv4_block11_out[0][0]']      \n",
            "                                                                                                  \n",
            " conv4_block12_1_bn (BatchNorma  (None, 4, 4, 256)   1024        ['conv4_block12_1_conv[0][0]']   \n",
            " lization)                                                                                        \n",
            "                                                                                                  \n",
            " conv4_block12_1_relu (Activati  (None, 4, 4, 256)   0           ['conv4_block12_1_bn[0][0]']     \n",
            " on)                                                                                              \n",
            "                                                                                                  \n",
            " conv4_block12_2_conv (Conv2D)  (None, 4, 4, 256)    590080      ['conv4_block12_1_relu[0][0]']   \n",
            "                                                                                                  \n",
            " conv4_block12_2_bn (BatchNorma  (None, 4, 4, 256)   1024        ['conv4_block12_2_conv[0][0]']   \n",
            " lization)                                                                                        \n",
            "                                                                                                  \n",
            " conv4_block12_2_relu (Activati  (None, 4, 4, 256)   0           ['conv4_block12_2_bn[0][0]']     \n",
            " on)                                                                                              \n",
            "                                                                                                  \n",
            " conv4_block12_3_conv (Conv2D)  (None, 4, 4, 1024)   263168      ['conv4_block12_2_relu[0][0]']   \n",
            "                                                                                                  \n",
            " conv4_block12_3_bn (BatchNorma  (None, 4, 4, 1024)  4096        ['conv4_block12_3_conv[0][0]']   \n",
            " lization)                                                                                        \n",
            "                                                                                                  \n",
            " conv4_block12_add (Add)        (None, 4, 4, 1024)   0           ['conv4_block11_out[0][0]',      \n",
            "                                                                  'conv4_block12_3_bn[0][0]']     \n",
            "                                                                                                  \n",
            " conv4_block12_out (Activation)  (None, 4, 4, 1024)  0           ['conv4_block12_add[0][0]']      \n",
            "                                                                                                  \n",
            " conv4_block13_1_conv (Conv2D)  (None, 4, 4, 256)    262400      ['conv4_block12_out[0][0]']      \n",
            "                                                                                                  \n",
            " conv4_block13_1_bn (BatchNorma  (None, 4, 4, 256)   1024        ['conv4_block13_1_conv[0][0]']   \n",
            " lization)                                                                                        \n",
            "                                                                                                  \n",
            " conv4_block13_1_relu (Activati  (None, 4, 4, 256)   0           ['conv4_block13_1_bn[0][0]']     \n",
            " on)                                                                                              \n",
            "                                                                                                  \n",
            " conv4_block13_2_conv (Conv2D)  (None, 4, 4, 256)    590080      ['conv4_block13_1_relu[0][0]']   \n",
            "                                                                                                  \n",
            " conv4_block13_2_bn (BatchNorma  (None, 4, 4, 256)   1024        ['conv4_block13_2_conv[0][0]']   \n",
            " lization)                                                                                        \n",
            "                                                                                                  \n",
            " conv4_block13_2_relu (Activati  (None, 4, 4, 256)   0           ['conv4_block13_2_bn[0][0]']     \n",
            " on)                                                                                              \n",
            "                                                                                                  \n",
            " conv4_block13_3_conv (Conv2D)  (None, 4, 4, 1024)   263168      ['conv4_block13_2_relu[0][0]']   \n",
            "                                                                                                  \n",
            " conv4_block13_3_bn (BatchNorma  (None, 4, 4, 1024)  4096        ['conv4_block13_3_conv[0][0]']   \n",
            " lization)                                                                                        \n",
            "                                                                                                  \n",
            " conv4_block13_add (Add)        (None, 4, 4, 1024)   0           ['conv4_block12_out[0][0]',      \n",
            "                                                                  'conv4_block13_3_bn[0][0]']     \n",
            "                                                                                                  \n",
            " conv4_block13_out (Activation)  (None, 4, 4, 1024)  0           ['conv4_block13_add[0][0]']      \n",
            "                                                                                                  \n",
            " conv4_block14_1_conv (Conv2D)  (None, 4, 4, 256)    262400      ['conv4_block13_out[0][0]']      \n",
            "                                                                                                  \n",
            " conv4_block14_1_bn (BatchNorma  (None, 4, 4, 256)   1024        ['conv4_block14_1_conv[0][0]']   \n",
            " lization)                                                                                        \n",
            "                                                                                                  \n",
            " conv4_block14_1_relu (Activati  (None, 4, 4, 256)   0           ['conv4_block14_1_bn[0][0]']     \n",
            " on)                                                                                              \n",
            "                                                                                                  \n",
            " conv4_block14_2_conv (Conv2D)  (None, 4, 4, 256)    590080      ['conv4_block14_1_relu[0][0]']   \n",
            "                                                                                                  \n",
            " conv4_block14_2_bn (BatchNorma  (None, 4, 4, 256)   1024        ['conv4_block14_2_conv[0][0]']   \n",
            " lization)                                                                                        \n",
            "                                                                                                  \n",
            " conv4_block14_2_relu (Activati  (None, 4, 4, 256)   0           ['conv4_block14_2_bn[0][0]']     \n",
            " on)                                                                                              \n",
            "                                                                                                  \n",
            " conv4_block14_3_conv (Conv2D)  (None, 4, 4, 1024)   263168      ['conv4_block14_2_relu[0][0]']   \n",
            "                                                                                                  \n",
            " conv4_block14_3_bn (BatchNorma  (None, 4, 4, 1024)  4096        ['conv4_block14_3_conv[0][0]']   \n",
            " lization)                                                                                        \n",
            "                                                                                                  \n",
            " conv4_block14_add (Add)        (None, 4, 4, 1024)   0           ['conv4_block13_out[0][0]',      \n",
            "                                                                  'conv4_block14_3_bn[0][0]']     \n",
            "                                                                                                  \n",
            " conv4_block14_out (Activation)  (None, 4, 4, 1024)  0           ['conv4_block14_add[0][0]']      \n",
            "                                                                                                  \n",
            " conv4_block15_1_conv (Conv2D)  (None, 4, 4, 256)    262400      ['conv4_block14_out[0][0]']      \n",
            "                                                                                                  \n",
            " conv4_block15_1_bn (BatchNorma  (None, 4, 4, 256)   1024        ['conv4_block15_1_conv[0][0]']   \n",
            " lization)                                                                                        \n",
            "                                                                                                  \n",
            " conv4_block15_1_relu (Activati  (None, 4, 4, 256)   0           ['conv4_block15_1_bn[0][0]']     \n",
            " on)                                                                                              \n",
            "                                                                                                  \n",
            " conv4_block15_2_conv (Conv2D)  (None, 4, 4, 256)    590080      ['conv4_block15_1_relu[0][0]']   \n",
            "                                                                                                  \n",
            " conv4_block15_2_bn (BatchNorma  (None, 4, 4, 256)   1024        ['conv4_block15_2_conv[0][0]']   \n",
            " lization)                                                                                        \n",
            "                                                                                                  \n",
            " conv4_block15_2_relu (Activati  (None, 4, 4, 256)   0           ['conv4_block15_2_bn[0][0]']     \n",
            " on)                                                                                              \n",
            "                                                                                                  \n",
            " conv4_block15_3_conv (Conv2D)  (None, 4, 4, 1024)   263168      ['conv4_block15_2_relu[0][0]']   \n",
            "                                                                                                  \n",
            " conv4_block15_3_bn (BatchNorma  (None, 4, 4, 1024)  4096        ['conv4_block15_3_conv[0][0]']   \n",
            " lization)                                                                                        \n",
            "                                                                                                  \n",
            " conv4_block15_add (Add)        (None, 4, 4, 1024)   0           ['conv4_block14_out[0][0]',      \n",
            "                                                                  'conv4_block15_3_bn[0][0]']     \n",
            "                                                                                                  \n",
            " conv4_block15_out (Activation)  (None, 4, 4, 1024)  0           ['conv4_block15_add[0][0]']      \n",
            "                                                                                                  \n",
            " conv4_block16_1_conv (Conv2D)  (None, 4, 4, 256)    262400      ['conv4_block15_out[0][0]']      \n",
            "                                                                                                  \n",
            " conv4_block16_1_bn (BatchNorma  (None, 4, 4, 256)   1024        ['conv4_block16_1_conv[0][0]']   \n",
            " lization)                                                                                        \n",
            "                                                                                                  \n",
            " conv4_block16_1_relu (Activati  (None, 4, 4, 256)   0           ['conv4_block16_1_bn[0][0]']     \n",
            " on)                                                                                              \n",
            "                                                                                                  \n",
            " conv4_block16_2_conv (Conv2D)  (None, 4, 4, 256)    590080      ['conv4_block16_1_relu[0][0]']   \n",
            "                                                                                                  \n",
            " conv4_block16_2_bn (BatchNorma  (None, 4, 4, 256)   1024        ['conv4_block16_2_conv[0][0]']   \n",
            " lization)                                                                                        \n",
            "                                                                                                  \n",
            " conv4_block16_2_relu (Activati  (None, 4, 4, 256)   0           ['conv4_block16_2_bn[0][0]']     \n",
            " on)                                                                                              \n",
            "                                                                                                  \n",
            " conv4_block16_3_conv (Conv2D)  (None, 4, 4, 1024)   263168      ['conv4_block16_2_relu[0][0]']   \n",
            "                                                                                                  \n",
            " conv4_block16_3_bn (BatchNorma  (None, 4, 4, 1024)  4096        ['conv4_block16_3_conv[0][0]']   \n",
            " lization)                                                                                        \n",
            "                                                                                                  \n",
            " conv4_block16_add (Add)        (None, 4, 4, 1024)   0           ['conv4_block15_out[0][0]',      \n",
            "                                                                  'conv4_block16_3_bn[0][0]']     \n",
            "                                                                                                  \n",
            " conv4_block16_out (Activation)  (None, 4, 4, 1024)  0           ['conv4_block16_add[0][0]']      \n",
            "                                                                                                  \n",
            " conv4_block17_1_conv (Conv2D)  (None, 4, 4, 256)    262400      ['conv4_block16_out[0][0]']      \n",
            "                                                                                                  \n",
            " conv4_block17_1_bn (BatchNorma  (None, 4, 4, 256)   1024        ['conv4_block17_1_conv[0][0]']   \n",
            " lization)                                                                                        \n",
            "                                                                                                  \n",
            " conv4_block17_1_relu (Activati  (None, 4, 4, 256)   0           ['conv4_block17_1_bn[0][0]']     \n",
            " on)                                                                                              \n",
            "                                                                                                  \n",
            " conv4_block17_2_conv (Conv2D)  (None, 4, 4, 256)    590080      ['conv4_block17_1_relu[0][0]']   \n",
            "                                                                                                  \n",
            " conv4_block17_2_bn (BatchNorma  (None, 4, 4, 256)   1024        ['conv4_block17_2_conv[0][0]']   \n",
            " lization)                                                                                        \n",
            "                                                                                                  \n",
            " conv4_block17_2_relu (Activati  (None, 4, 4, 256)   0           ['conv4_block17_2_bn[0][0]']     \n",
            " on)                                                                                              \n",
            "                                                                                                  \n",
            " conv4_block17_3_conv (Conv2D)  (None, 4, 4, 1024)   263168      ['conv4_block17_2_relu[0][0]']   \n",
            "                                                                                                  \n",
            " conv4_block17_3_bn (BatchNorma  (None, 4, 4, 1024)  4096        ['conv4_block17_3_conv[0][0]']   \n",
            " lization)                                                                                        \n",
            "                                                                                                  \n",
            " conv4_block17_add (Add)        (None, 4, 4, 1024)   0           ['conv4_block16_out[0][0]',      \n",
            "                                                                  'conv4_block17_3_bn[0][0]']     \n",
            "                                                                                                  \n",
            " conv4_block17_out (Activation)  (None, 4, 4, 1024)  0           ['conv4_block17_add[0][0]']      \n",
            "                                                                                                  \n",
            " conv4_block18_1_conv (Conv2D)  (None, 4, 4, 256)    262400      ['conv4_block17_out[0][0]']      \n",
            "                                                                                                  \n",
            " conv4_block18_1_bn (BatchNorma  (None, 4, 4, 256)   1024        ['conv4_block18_1_conv[0][0]']   \n",
            " lization)                                                                                        \n",
            "                                                                                                  \n",
            " conv4_block18_1_relu (Activati  (None, 4, 4, 256)   0           ['conv4_block18_1_bn[0][0]']     \n",
            " on)                                                                                              \n",
            "                                                                                                  \n",
            " conv4_block18_2_conv (Conv2D)  (None, 4, 4, 256)    590080      ['conv4_block18_1_relu[0][0]']   \n",
            "                                                                                                  \n",
            " conv4_block18_2_bn (BatchNorma  (None, 4, 4, 256)   1024        ['conv4_block18_2_conv[0][0]']   \n",
            " lization)                                                                                        \n",
            "                                                                                                  \n",
            " conv4_block18_2_relu (Activati  (None, 4, 4, 256)   0           ['conv4_block18_2_bn[0][0]']     \n",
            " on)                                                                                              \n",
            "                                                                                                  \n",
            " conv4_block18_3_conv (Conv2D)  (None, 4, 4, 1024)   263168      ['conv4_block18_2_relu[0][0]']   \n",
            "                                                                                                  \n",
            " conv4_block18_3_bn (BatchNorma  (None, 4, 4, 1024)  4096        ['conv4_block18_3_conv[0][0]']   \n",
            " lization)                                                                                        \n",
            "                                                                                                  \n",
            " conv4_block18_add (Add)        (None, 4, 4, 1024)   0           ['conv4_block17_out[0][0]',      \n",
            "                                                                  'conv4_block18_3_bn[0][0]']     \n",
            "                                                                                                  \n",
            " conv4_block18_out (Activation)  (None, 4, 4, 1024)  0           ['conv4_block18_add[0][0]']      \n",
            "                                                                                                  \n",
            " conv4_block19_1_conv (Conv2D)  (None, 4, 4, 256)    262400      ['conv4_block18_out[0][0]']      \n",
            "                                                                                                  \n",
            " conv4_block19_1_bn (BatchNorma  (None, 4, 4, 256)   1024        ['conv4_block19_1_conv[0][0]']   \n",
            " lization)                                                                                        \n",
            "                                                                                                  \n",
            " conv4_block19_1_relu (Activati  (None, 4, 4, 256)   0           ['conv4_block19_1_bn[0][0]']     \n",
            " on)                                                                                              \n",
            "                                                                                                  \n",
            " conv4_block19_2_conv (Conv2D)  (None, 4, 4, 256)    590080      ['conv4_block19_1_relu[0][0]']   \n",
            "                                                                                                  \n",
            " conv4_block19_2_bn (BatchNorma  (None, 4, 4, 256)   1024        ['conv4_block19_2_conv[0][0]']   \n",
            " lization)                                                                                        \n",
            "                                                                                                  \n",
            " conv4_block19_2_relu (Activati  (None, 4, 4, 256)   0           ['conv4_block19_2_bn[0][0]']     \n",
            " on)                                                                                              \n",
            "                                                                                                  \n",
            " conv4_block19_3_conv (Conv2D)  (None, 4, 4, 1024)   263168      ['conv4_block19_2_relu[0][0]']   \n",
            "                                                                                                  \n",
            " conv4_block19_3_bn (BatchNorma  (None, 4, 4, 1024)  4096        ['conv4_block19_3_conv[0][0]']   \n",
            " lization)                                                                                        \n",
            "                                                                                                  \n",
            " conv4_block19_add (Add)        (None, 4, 4, 1024)   0           ['conv4_block18_out[0][0]',      \n",
            "                                                                  'conv4_block19_3_bn[0][0]']     \n",
            "                                                                                                  \n",
            " conv4_block19_out (Activation)  (None, 4, 4, 1024)  0           ['conv4_block19_add[0][0]']      \n",
            "                                                                                                  \n",
            " conv4_block20_1_conv (Conv2D)  (None, 4, 4, 256)    262400      ['conv4_block19_out[0][0]']      \n",
            "                                                                                                  \n",
            " conv4_block20_1_bn (BatchNorma  (None, 4, 4, 256)   1024        ['conv4_block20_1_conv[0][0]']   \n",
            " lization)                                                                                        \n",
            "                                                                                                  \n",
            " conv4_block20_1_relu (Activati  (None, 4, 4, 256)   0           ['conv4_block20_1_bn[0][0]']     \n",
            " on)                                                                                              \n",
            "                                                                                                  \n",
            " conv4_block20_2_conv (Conv2D)  (None, 4, 4, 256)    590080      ['conv4_block20_1_relu[0][0]']   \n",
            "                                                                                                  \n",
            " conv4_block20_2_bn (BatchNorma  (None, 4, 4, 256)   1024        ['conv4_block20_2_conv[0][0]']   \n",
            " lization)                                                                                        \n",
            "                                                                                                  \n",
            " conv4_block20_2_relu (Activati  (None, 4, 4, 256)   0           ['conv4_block20_2_bn[0][0]']     \n",
            " on)                                                                                              \n",
            "                                                                                                  \n",
            " conv4_block20_3_conv (Conv2D)  (None, 4, 4, 1024)   263168      ['conv4_block20_2_relu[0][0]']   \n",
            "                                                                                                  \n",
            " conv4_block20_3_bn (BatchNorma  (None, 4, 4, 1024)  4096        ['conv4_block20_3_conv[0][0]']   \n",
            " lization)                                                                                        \n",
            "                                                                                                  \n",
            " conv4_block20_add (Add)        (None, 4, 4, 1024)   0           ['conv4_block19_out[0][0]',      \n",
            "                                                                  'conv4_block20_3_bn[0][0]']     \n",
            "                                                                                                  \n",
            " conv4_block20_out (Activation)  (None, 4, 4, 1024)  0           ['conv4_block20_add[0][0]']      \n",
            "                                                                                                  \n",
            " conv4_block21_1_conv (Conv2D)  (None, 4, 4, 256)    262400      ['conv4_block20_out[0][0]']      \n",
            "                                                                                                  \n",
            " conv4_block21_1_bn (BatchNorma  (None, 4, 4, 256)   1024        ['conv4_block21_1_conv[0][0]']   \n",
            " lization)                                                                                        \n",
            "                                                                                                  \n",
            " conv4_block21_1_relu (Activati  (None, 4, 4, 256)   0           ['conv4_block21_1_bn[0][0]']     \n",
            " on)                                                                                              \n",
            "                                                                                                  \n",
            " conv4_block21_2_conv (Conv2D)  (None, 4, 4, 256)    590080      ['conv4_block21_1_relu[0][0]']   \n",
            "                                                                                                  \n",
            " conv4_block21_2_bn (BatchNorma  (None, 4, 4, 256)   1024        ['conv4_block21_2_conv[0][0]']   \n",
            " lization)                                                                                        \n",
            "                                                                                                  \n",
            " conv4_block21_2_relu (Activati  (None, 4, 4, 256)   0           ['conv4_block21_2_bn[0][0]']     \n",
            " on)                                                                                              \n",
            "                                                                                                  \n",
            " conv4_block21_3_conv (Conv2D)  (None, 4, 4, 1024)   263168      ['conv4_block21_2_relu[0][0]']   \n",
            "                                                                                                  \n",
            " conv4_block21_3_bn (BatchNorma  (None, 4, 4, 1024)  4096        ['conv4_block21_3_conv[0][0]']   \n",
            " lization)                                                                                        \n",
            "                                                                                                  \n",
            " conv4_block21_add (Add)        (None, 4, 4, 1024)   0           ['conv4_block20_out[0][0]',      \n",
            "                                                                  'conv4_block21_3_bn[0][0]']     \n",
            "                                                                                                  \n",
            " conv4_block21_out (Activation)  (None, 4, 4, 1024)  0           ['conv4_block21_add[0][0]']      \n",
            "                                                                                                  \n",
            " conv4_block22_1_conv (Conv2D)  (None, 4, 4, 256)    262400      ['conv4_block21_out[0][0]']      \n",
            "                                                                                                  \n",
            " conv4_block22_1_bn (BatchNorma  (None, 4, 4, 256)   1024        ['conv4_block22_1_conv[0][0]']   \n",
            " lization)                                                                                        \n",
            "                                                                                                  \n",
            " conv4_block22_1_relu (Activati  (None, 4, 4, 256)   0           ['conv4_block22_1_bn[0][0]']     \n",
            " on)                                                                                              \n",
            "                                                                                                  \n",
            " conv4_block22_2_conv (Conv2D)  (None, 4, 4, 256)    590080      ['conv4_block22_1_relu[0][0]']   \n",
            "                                                                                                  \n",
            " conv4_block22_2_bn (BatchNorma  (None, 4, 4, 256)   1024        ['conv4_block22_2_conv[0][0]']   \n",
            " lization)                                                                                        \n",
            "                                                                                                  \n",
            " conv4_block22_2_relu (Activati  (None, 4, 4, 256)   0           ['conv4_block22_2_bn[0][0]']     \n",
            " on)                                                                                              \n",
            "                                                                                                  \n",
            " conv4_block22_3_conv (Conv2D)  (None, 4, 4, 1024)   263168      ['conv4_block22_2_relu[0][0]']   \n",
            "                                                                                                  \n",
            " conv4_block22_3_bn (BatchNorma  (None, 4, 4, 1024)  4096        ['conv4_block22_3_conv[0][0]']   \n",
            " lization)                                                                                        \n",
            "                                                                                                  \n",
            " conv4_block22_add (Add)        (None, 4, 4, 1024)   0           ['conv4_block21_out[0][0]',      \n",
            "                                                                  'conv4_block22_3_bn[0][0]']     \n",
            "                                                                                                  \n",
            " conv4_block22_out (Activation)  (None, 4, 4, 1024)  0           ['conv4_block22_add[0][0]']      \n",
            "                                                                                                  \n",
            " conv4_block23_1_conv (Conv2D)  (None, 4, 4, 256)    262400      ['conv4_block22_out[0][0]']      \n",
            "                                                                                                  \n",
            " conv4_block23_1_bn (BatchNorma  (None, 4, 4, 256)   1024        ['conv4_block23_1_conv[0][0]']   \n",
            " lization)                                                                                        \n",
            "                                                                                                  \n",
            " conv4_block23_1_relu (Activati  (None, 4, 4, 256)   0           ['conv4_block23_1_bn[0][0]']     \n",
            " on)                                                                                              \n",
            "                                                                                                  \n",
            " conv4_block23_2_conv (Conv2D)  (None, 4, 4, 256)    590080      ['conv4_block23_1_relu[0][0]']   \n",
            "                                                                                                  \n",
            " conv4_block23_2_bn (BatchNorma  (None, 4, 4, 256)   1024        ['conv4_block23_2_conv[0][0]']   \n",
            " lization)                                                                                        \n",
            "                                                                                                  \n",
            " conv4_block23_2_relu (Activati  (None, 4, 4, 256)   0           ['conv4_block23_2_bn[0][0]']     \n",
            " on)                                                                                              \n",
            "                                                                                                  \n",
            " conv4_block23_3_conv (Conv2D)  (None, 4, 4, 1024)   263168      ['conv4_block23_2_relu[0][0]']   \n",
            "                                                                                                  \n",
            " conv4_block23_3_bn (BatchNorma  (None, 4, 4, 1024)  4096        ['conv4_block23_3_conv[0][0]']   \n",
            " lization)                                                                                        \n",
            "                                                                                                  \n",
            " conv4_block23_add (Add)        (None, 4, 4, 1024)   0           ['conv4_block22_out[0][0]',      \n",
            "                                                                  'conv4_block23_3_bn[0][0]']     \n",
            "                                                                                                  \n",
            " conv4_block23_out (Activation)  (None, 4, 4, 1024)  0           ['conv4_block23_add[0][0]']      \n",
            "                                                                                                  \n",
            " conv4_block24_1_conv (Conv2D)  (None, 4, 4, 256)    262400      ['conv4_block23_out[0][0]']      \n",
            "                                                                                                  \n",
            " conv4_block24_1_bn (BatchNorma  (None, 4, 4, 256)   1024        ['conv4_block24_1_conv[0][0]']   \n",
            " lization)                                                                                        \n",
            "                                                                                                  \n",
            " conv4_block24_1_relu (Activati  (None, 4, 4, 256)   0           ['conv4_block24_1_bn[0][0]']     \n",
            " on)                                                                                              \n",
            "                                                                                                  \n",
            " conv4_block24_2_conv (Conv2D)  (None, 4, 4, 256)    590080      ['conv4_block24_1_relu[0][0]']   \n",
            "                                                                                                  \n",
            " conv4_block24_2_bn (BatchNorma  (None, 4, 4, 256)   1024        ['conv4_block24_2_conv[0][0]']   \n",
            " lization)                                                                                        \n",
            "                                                                                                  \n",
            " conv4_block24_2_relu (Activati  (None, 4, 4, 256)   0           ['conv4_block24_2_bn[0][0]']     \n",
            " on)                                                                                              \n",
            "                                                                                                  \n",
            " conv4_block24_3_conv (Conv2D)  (None, 4, 4, 1024)   263168      ['conv4_block24_2_relu[0][0]']   \n",
            "                                                                                                  \n",
            " conv4_block24_3_bn (BatchNorma  (None, 4, 4, 1024)  4096        ['conv4_block24_3_conv[0][0]']   \n",
            " lization)                                                                                        \n",
            "                                                                                                  \n",
            " conv4_block24_add (Add)        (None, 4, 4, 1024)   0           ['conv4_block23_out[0][0]',      \n",
            "                                                                  'conv4_block24_3_bn[0][0]']     \n",
            "                                                                                                  \n",
            " conv4_block24_out (Activation)  (None, 4, 4, 1024)  0           ['conv4_block24_add[0][0]']      \n",
            "                                                                                                  \n",
            " conv4_block25_1_conv (Conv2D)  (None, 4, 4, 256)    262400      ['conv4_block24_out[0][0]']      \n",
            "                                                                                                  \n",
            " conv4_block25_1_bn (BatchNorma  (None, 4, 4, 256)   1024        ['conv4_block25_1_conv[0][0]']   \n",
            " lization)                                                                                        \n",
            "                                                                                                  \n",
            " conv4_block25_1_relu (Activati  (None, 4, 4, 256)   0           ['conv4_block25_1_bn[0][0]']     \n",
            " on)                                                                                              \n",
            "                                                                                                  \n",
            " conv4_block25_2_conv (Conv2D)  (None, 4, 4, 256)    590080      ['conv4_block25_1_relu[0][0]']   \n",
            "                                                                                                  \n",
            " conv4_block25_2_bn (BatchNorma  (None, 4, 4, 256)   1024        ['conv4_block25_2_conv[0][0]']   \n",
            " lization)                                                                                        \n",
            "                                                                                                  \n",
            " conv4_block25_2_relu (Activati  (None, 4, 4, 256)   0           ['conv4_block25_2_bn[0][0]']     \n",
            " on)                                                                                              \n",
            "                                                                                                  \n",
            " conv4_block25_3_conv (Conv2D)  (None, 4, 4, 1024)   263168      ['conv4_block25_2_relu[0][0]']   \n",
            "                                                                                                  \n",
            " conv4_block25_3_bn (BatchNorma  (None, 4, 4, 1024)  4096        ['conv4_block25_3_conv[0][0]']   \n",
            " lization)                                                                                        \n",
            "                                                                                                  \n",
            " conv4_block25_add (Add)        (None, 4, 4, 1024)   0           ['conv4_block24_out[0][0]',      \n",
            "                                                                  'conv4_block25_3_bn[0][0]']     \n",
            "                                                                                                  \n",
            " conv4_block25_out (Activation)  (None, 4, 4, 1024)  0           ['conv4_block25_add[0][0]']      \n",
            "                                                                                                  \n",
            " conv4_block26_1_conv (Conv2D)  (None, 4, 4, 256)    262400      ['conv4_block25_out[0][0]']      \n",
            "                                                                                                  \n",
            " conv4_block26_1_bn (BatchNorma  (None, 4, 4, 256)   1024        ['conv4_block26_1_conv[0][0]']   \n",
            " lization)                                                                                        \n",
            "                                                                                                  \n",
            " conv4_block26_1_relu (Activati  (None, 4, 4, 256)   0           ['conv4_block26_1_bn[0][0]']     \n",
            " on)                                                                                              \n",
            "                                                                                                  \n",
            " conv4_block26_2_conv (Conv2D)  (None, 4, 4, 256)    590080      ['conv4_block26_1_relu[0][0]']   \n",
            "                                                                                                  \n",
            " conv4_block26_2_bn (BatchNorma  (None, 4, 4, 256)   1024        ['conv4_block26_2_conv[0][0]']   \n",
            " lization)                                                                                        \n",
            "                                                                                                  \n",
            " conv4_block26_2_relu (Activati  (None, 4, 4, 256)   0           ['conv4_block26_2_bn[0][0]']     \n",
            " on)                                                                                              \n",
            "                                                                                                  \n",
            " conv4_block26_3_conv (Conv2D)  (None, 4, 4, 1024)   263168      ['conv4_block26_2_relu[0][0]']   \n",
            "                                                                                                  \n",
            " conv4_block26_3_bn (BatchNorma  (None, 4, 4, 1024)  4096        ['conv4_block26_3_conv[0][0]']   \n",
            " lization)                                                                                        \n",
            "                                                                                                  \n",
            " conv4_block26_add (Add)        (None, 4, 4, 1024)   0           ['conv4_block25_out[0][0]',      \n",
            "                                                                  'conv4_block26_3_bn[0][0]']     \n",
            "                                                                                                  \n",
            " conv4_block26_out (Activation)  (None, 4, 4, 1024)  0           ['conv4_block26_add[0][0]']      \n",
            "                                                                                                  \n",
            " conv4_block27_1_conv (Conv2D)  (None, 4, 4, 256)    262400      ['conv4_block26_out[0][0]']      \n",
            "                                                                                                  \n",
            " conv4_block27_1_bn (BatchNorma  (None, 4, 4, 256)   1024        ['conv4_block27_1_conv[0][0]']   \n",
            " lization)                                                                                        \n",
            "                                                                                                  \n",
            " conv4_block27_1_relu (Activati  (None, 4, 4, 256)   0           ['conv4_block27_1_bn[0][0]']     \n",
            " on)                                                                                              \n",
            "                                                                                                  \n",
            " conv4_block27_2_conv (Conv2D)  (None, 4, 4, 256)    590080      ['conv4_block27_1_relu[0][0]']   \n",
            "                                                                                                  \n",
            " conv4_block27_2_bn (BatchNorma  (None, 4, 4, 256)   1024        ['conv4_block27_2_conv[0][0]']   \n",
            " lization)                                                                                        \n",
            "                                                                                                  \n",
            " conv4_block27_2_relu (Activati  (None, 4, 4, 256)   0           ['conv4_block27_2_bn[0][0]']     \n",
            " on)                                                                                              \n",
            "                                                                                                  \n",
            " conv4_block27_3_conv (Conv2D)  (None, 4, 4, 1024)   263168      ['conv4_block27_2_relu[0][0]']   \n",
            "                                                                                                  \n",
            " conv4_block27_3_bn (BatchNorma  (None, 4, 4, 1024)  4096        ['conv4_block27_3_conv[0][0]']   \n",
            " lization)                                                                                        \n",
            "                                                                                                  \n",
            " conv4_block27_add (Add)        (None, 4, 4, 1024)   0           ['conv4_block26_out[0][0]',      \n",
            "                                                                  'conv4_block27_3_bn[0][0]']     \n",
            "                                                                                                  \n",
            " conv4_block27_out (Activation)  (None, 4, 4, 1024)  0           ['conv4_block27_add[0][0]']      \n",
            "                                                                                                  \n",
            " conv4_block28_1_conv (Conv2D)  (None, 4, 4, 256)    262400      ['conv4_block27_out[0][0]']      \n",
            "                                                                                                  \n",
            " conv4_block28_1_bn (BatchNorma  (None, 4, 4, 256)   1024        ['conv4_block28_1_conv[0][0]']   \n",
            " lization)                                                                                        \n",
            "                                                                                                  \n",
            " conv4_block28_1_relu (Activati  (None, 4, 4, 256)   0           ['conv4_block28_1_bn[0][0]']     \n",
            " on)                                                                                              \n",
            "                                                                                                  \n",
            " conv4_block28_2_conv (Conv2D)  (None, 4, 4, 256)    590080      ['conv4_block28_1_relu[0][0]']   \n",
            "                                                                                                  \n",
            " conv4_block28_2_bn (BatchNorma  (None, 4, 4, 256)   1024        ['conv4_block28_2_conv[0][0]']   \n",
            " lization)                                                                                        \n",
            "                                                                                                  \n",
            " conv4_block28_2_relu (Activati  (None, 4, 4, 256)   0           ['conv4_block28_2_bn[0][0]']     \n",
            " on)                                                                                              \n",
            "                                                                                                  \n",
            " conv4_block28_3_conv (Conv2D)  (None, 4, 4, 1024)   263168      ['conv4_block28_2_relu[0][0]']   \n",
            "                                                                                                  \n",
            " conv4_block28_3_bn (BatchNorma  (None, 4, 4, 1024)  4096        ['conv4_block28_3_conv[0][0]']   \n",
            " lization)                                                                                        \n",
            "                                                                                                  \n",
            " conv4_block28_add (Add)        (None, 4, 4, 1024)   0           ['conv4_block27_out[0][0]',      \n",
            "                                                                  'conv4_block28_3_bn[0][0]']     \n",
            "                                                                                                  \n",
            " conv4_block28_out (Activation)  (None, 4, 4, 1024)  0           ['conv4_block28_add[0][0]']      \n",
            "                                                                                                  \n",
            " conv4_block29_1_conv (Conv2D)  (None, 4, 4, 256)    262400      ['conv4_block28_out[0][0]']      \n",
            "                                                                                                  \n",
            " conv4_block29_1_bn (BatchNorma  (None, 4, 4, 256)   1024        ['conv4_block29_1_conv[0][0]']   \n",
            " lization)                                                                                        \n",
            "                                                                                                  \n",
            " conv4_block29_1_relu (Activati  (None, 4, 4, 256)   0           ['conv4_block29_1_bn[0][0]']     \n",
            " on)                                                                                              \n",
            "                                                                                                  \n",
            " conv4_block29_2_conv (Conv2D)  (None, 4, 4, 256)    590080      ['conv4_block29_1_relu[0][0]']   \n",
            "                                                                                                  \n",
            " conv4_block29_2_bn (BatchNorma  (None, 4, 4, 256)   1024        ['conv4_block29_2_conv[0][0]']   \n",
            " lization)                                                                                        \n",
            "                                                                                                  \n",
            " conv4_block29_2_relu (Activati  (None, 4, 4, 256)   0           ['conv4_block29_2_bn[0][0]']     \n",
            " on)                                                                                              \n",
            "                                                                                                  \n",
            " conv4_block29_3_conv (Conv2D)  (None, 4, 4, 1024)   263168      ['conv4_block29_2_relu[0][0]']   \n",
            "                                                                                                  \n",
            " conv4_block29_3_bn (BatchNorma  (None, 4, 4, 1024)  4096        ['conv4_block29_3_conv[0][0]']   \n",
            " lization)                                                                                        \n",
            "                                                                                                  \n",
            " conv4_block29_add (Add)        (None, 4, 4, 1024)   0           ['conv4_block28_out[0][0]',      \n",
            "                                                                  'conv4_block29_3_bn[0][0]']     \n",
            "                                                                                                  \n",
            " conv4_block29_out (Activation)  (None, 4, 4, 1024)  0           ['conv4_block29_add[0][0]']      \n",
            "                                                                                                  \n",
            " conv4_block30_1_conv (Conv2D)  (None, 4, 4, 256)    262400      ['conv4_block29_out[0][0]']      \n",
            "                                                                                                  \n",
            " conv4_block30_1_bn (BatchNorma  (None, 4, 4, 256)   1024        ['conv4_block30_1_conv[0][0]']   \n",
            " lization)                                                                                        \n",
            "                                                                                                  \n",
            " conv4_block30_1_relu (Activati  (None, 4, 4, 256)   0           ['conv4_block30_1_bn[0][0]']     \n",
            " on)                                                                                              \n",
            "                                                                                                  \n",
            " conv4_block30_2_conv (Conv2D)  (None, 4, 4, 256)    590080      ['conv4_block30_1_relu[0][0]']   \n",
            "                                                                                                  \n",
            " conv4_block30_2_bn (BatchNorma  (None, 4, 4, 256)   1024        ['conv4_block30_2_conv[0][0]']   \n",
            " lization)                                                                                        \n",
            "                                                                                                  \n",
            " conv4_block30_2_relu (Activati  (None, 4, 4, 256)   0           ['conv4_block30_2_bn[0][0]']     \n",
            " on)                                                                                              \n",
            "                                                                                                  \n",
            " conv4_block30_3_conv (Conv2D)  (None, 4, 4, 1024)   263168      ['conv4_block30_2_relu[0][0]']   \n",
            "                                                                                                  \n",
            " conv4_block30_3_bn (BatchNorma  (None, 4, 4, 1024)  4096        ['conv4_block30_3_conv[0][0]']   \n",
            " lization)                                                                                        \n",
            "                                                                                                  \n",
            " conv4_block30_add (Add)        (None, 4, 4, 1024)   0           ['conv4_block29_out[0][0]',      \n",
            "                                                                  'conv4_block30_3_bn[0][0]']     \n",
            "                                                                                                  \n",
            " conv4_block30_out (Activation)  (None, 4, 4, 1024)  0           ['conv4_block30_add[0][0]']      \n",
            "                                                                                                  \n",
            " conv4_block31_1_conv (Conv2D)  (None, 4, 4, 256)    262400      ['conv4_block30_out[0][0]']      \n",
            "                                                                                                  \n",
            " conv4_block31_1_bn (BatchNorma  (None, 4, 4, 256)   1024        ['conv4_block31_1_conv[0][0]']   \n",
            " lization)                                                                                        \n",
            "                                                                                                  \n",
            " conv4_block31_1_relu (Activati  (None, 4, 4, 256)   0           ['conv4_block31_1_bn[0][0]']     \n",
            " on)                                                                                              \n",
            "                                                                                                  \n",
            " conv4_block31_2_conv (Conv2D)  (None, 4, 4, 256)    590080      ['conv4_block31_1_relu[0][0]']   \n",
            "                                                                                                  \n",
            " conv4_block31_2_bn (BatchNorma  (None, 4, 4, 256)   1024        ['conv4_block31_2_conv[0][0]']   \n",
            " lization)                                                                                        \n",
            "                                                                                                  \n",
            " conv4_block31_2_relu (Activati  (None, 4, 4, 256)   0           ['conv4_block31_2_bn[0][0]']     \n",
            " on)                                                                                              \n",
            "                                                                                                  \n",
            " conv4_block31_3_conv (Conv2D)  (None, 4, 4, 1024)   263168      ['conv4_block31_2_relu[0][0]']   \n",
            "                                                                                                  \n",
            " conv4_block31_3_bn (BatchNorma  (None, 4, 4, 1024)  4096        ['conv4_block31_3_conv[0][0]']   \n",
            " lization)                                                                                        \n",
            "                                                                                                  \n",
            " conv4_block31_add (Add)        (None, 4, 4, 1024)   0           ['conv4_block30_out[0][0]',      \n",
            "                                                                  'conv4_block31_3_bn[0][0]']     \n",
            "                                                                                                  \n",
            " conv4_block31_out (Activation)  (None, 4, 4, 1024)  0           ['conv4_block31_add[0][0]']      \n",
            "                                                                                                  \n",
            " conv4_block32_1_conv (Conv2D)  (None, 4, 4, 256)    262400      ['conv4_block31_out[0][0]']      \n",
            "                                                                                                  \n",
            " conv4_block32_1_bn (BatchNorma  (None, 4, 4, 256)   1024        ['conv4_block32_1_conv[0][0]']   \n",
            " lization)                                                                                        \n",
            "                                                                                                  \n",
            " conv4_block32_1_relu (Activati  (None, 4, 4, 256)   0           ['conv4_block32_1_bn[0][0]']     \n",
            " on)                                                                                              \n",
            "                                                                                                  \n",
            " conv4_block32_2_conv (Conv2D)  (None, 4, 4, 256)    590080      ['conv4_block32_1_relu[0][0]']   \n",
            "                                                                                                  \n",
            " conv4_block32_2_bn (BatchNorma  (None, 4, 4, 256)   1024        ['conv4_block32_2_conv[0][0]']   \n",
            " lization)                                                                                        \n",
            "                                                                                                  \n",
            " conv4_block32_2_relu (Activati  (None, 4, 4, 256)   0           ['conv4_block32_2_bn[0][0]']     \n",
            " on)                                                                                              \n",
            "                                                                                                  \n",
            " conv4_block32_3_conv (Conv2D)  (None, 4, 4, 1024)   263168      ['conv4_block32_2_relu[0][0]']   \n",
            "                                                                                                  \n",
            " conv4_block32_3_bn (BatchNorma  (None, 4, 4, 1024)  4096        ['conv4_block32_3_conv[0][0]']   \n",
            " lization)                                                                                        \n",
            "                                                                                                  \n",
            " conv4_block32_add (Add)        (None, 4, 4, 1024)   0           ['conv4_block31_out[0][0]',      \n",
            "                                                                  'conv4_block32_3_bn[0][0]']     \n",
            "                                                                                                  \n",
            " conv4_block32_out (Activation)  (None, 4, 4, 1024)  0           ['conv4_block32_add[0][0]']      \n",
            "                                                                                                  \n",
            " conv4_block33_1_conv (Conv2D)  (None, 4, 4, 256)    262400      ['conv4_block32_out[0][0]']      \n",
            "                                                                                                  \n",
            " conv4_block33_1_bn (BatchNorma  (None, 4, 4, 256)   1024        ['conv4_block33_1_conv[0][0]']   \n",
            " lization)                                                                                        \n",
            "                                                                                                  \n",
            " conv4_block33_1_relu (Activati  (None, 4, 4, 256)   0           ['conv4_block33_1_bn[0][0]']     \n",
            " on)                                                                                              \n",
            "                                                                                                  \n",
            " conv4_block33_2_conv (Conv2D)  (None, 4, 4, 256)    590080      ['conv4_block33_1_relu[0][0]']   \n",
            "                                                                                                  \n",
            " conv4_block33_2_bn (BatchNorma  (None, 4, 4, 256)   1024        ['conv4_block33_2_conv[0][0]']   \n",
            " lization)                                                                                        \n",
            "                                                                                                  \n",
            " conv4_block33_2_relu (Activati  (None, 4, 4, 256)   0           ['conv4_block33_2_bn[0][0]']     \n",
            " on)                                                                                              \n",
            "                                                                                                  \n",
            " conv4_block33_3_conv (Conv2D)  (None, 4, 4, 1024)   263168      ['conv4_block33_2_relu[0][0]']   \n",
            "                                                                                                  \n",
            " conv4_block33_3_bn (BatchNorma  (None, 4, 4, 1024)  4096        ['conv4_block33_3_conv[0][0]']   \n",
            " lization)                                                                                        \n",
            "                                                                                                  \n",
            " conv4_block33_add (Add)        (None, 4, 4, 1024)   0           ['conv4_block32_out[0][0]',      \n",
            "                                                                  'conv4_block33_3_bn[0][0]']     \n",
            "                                                                                                  \n",
            " conv4_block33_out (Activation)  (None, 4, 4, 1024)  0           ['conv4_block33_add[0][0]']      \n",
            "                                                                                                  \n",
            " conv4_block34_1_conv (Conv2D)  (None, 4, 4, 256)    262400      ['conv4_block33_out[0][0]']      \n",
            "                                                                                                  \n",
            " conv4_block34_1_bn (BatchNorma  (None, 4, 4, 256)   1024        ['conv4_block34_1_conv[0][0]']   \n",
            " lization)                                                                                        \n",
            "                                                                                                  \n",
            " conv4_block34_1_relu (Activati  (None, 4, 4, 256)   0           ['conv4_block34_1_bn[0][0]']     \n",
            " on)                                                                                              \n",
            "                                                                                                  \n",
            " conv4_block34_2_conv (Conv2D)  (None, 4, 4, 256)    590080      ['conv4_block34_1_relu[0][0]']   \n",
            "                                                                                                  \n",
            " conv4_block34_2_bn (BatchNorma  (None, 4, 4, 256)   1024        ['conv4_block34_2_conv[0][0]']   \n",
            " lization)                                                                                        \n",
            "                                                                                                  \n",
            " conv4_block34_2_relu (Activati  (None, 4, 4, 256)   0           ['conv4_block34_2_bn[0][0]']     \n",
            " on)                                                                                              \n",
            "                                                                                                  \n",
            " conv4_block34_3_conv (Conv2D)  (None, 4, 4, 1024)   263168      ['conv4_block34_2_relu[0][0]']   \n",
            "                                                                                                  \n",
            " conv4_block34_3_bn (BatchNorma  (None, 4, 4, 1024)  4096        ['conv4_block34_3_conv[0][0]']   \n",
            " lization)                                                                                        \n",
            "                                                                                                  \n",
            " conv4_block34_add (Add)        (None, 4, 4, 1024)   0           ['conv4_block33_out[0][0]',      \n",
            "                                                                  'conv4_block34_3_bn[0][0]']     \n",
            "                                                                                                  \n",
            " conv4_block34_out (Activation)  (None, 4, 4, 1024)  0           ['conv4_block34_add[0][0]']      \n",
            "                                                                                                  \n",
            " conv4_block35_1_conv (Conv2D)  (None, 4, 4, 256)    262400      ['conv4_block34_out[0][0]']      \n",
            "                                                                                                  \n",
            " conv4_block35_1_bn (BatchNorma  (None, 4, 4, 256)   1024        ['conv4_block35_1_conv[0][0]']   \n",
            " lization)                                                                                        \n",
            "                                                                                                  \n",
            " conv4_block35_1_relu (Activati  (None, 4, 4, 256)   0           ['conv4_block35_1_bn[0][0]']     \n",
            " on)                                                                                              \n",
            "                                                                                                  \n",
            " conv4_block35_2_conv (Conv2D)  (None, 4, 4, 256)    590080      ['conv4_block35_1_relu[0][0]']   \n",
            "                                                                                                  \n",
            " conv4_block35_2_bn (BatchNorma  (None, 4, 4, 256)   1024        ['conv4_block35_2_conv[0][0]']   \n",
            " lization)                                                                                        \n",
            "                                                                                                  \n",
            " conv4_block35_2_relu (Activati  (None, 4, 4, 256)   0           ['conv4_block35_2_bn[0][0]']     \n",
            " on)                                                                                              \n",
            "                                                                                                  \n",
            " conv4_block35_3_conv (Conv2D)  (None, 4, 4, 1024)   263168      ['conv4_block35_2_relu[0][0]']   \n",
            "                                                                                                  \n",
            " conv4_block35_3_bn (BatchNorma  (None, 4, 4, 1024)  4096        ['conv4_block35_3_conv[0][0]']   \n",
            " lization)                                                                                        \n",
            "                                                                                                  \n",
            " conv4_block35_add (Add)        (None, 4, 4, 1024)   0           ['conv4_block34_out[0][0]',      \n",
            "                                                                  'conv4_block35_3_bn[0][0]']     \n",
            "                                                                                                  \n",
            " conv4_block35_out (Activation)  (None, 4, 4, 1024)  0           ['conv4_block35_add[0][0]']      \n",
            "                                                                                                  \n",
            " conv4_block36_1_conv (Conv2D)  (None, 4, 4, 256)    262400      ['conv4_block35_out[0][0]']      \n",
            "                                                                                                  \n",
            " conv4_block36_1_bn (BatchNorma  (None, 4, 4, 256)   1024        ['conv4_block36_1_conv[0][0]']   \n",
            " lization)                                                                                        \n",
            "                                                                                                  \n",
            " conv4_block36_1_relu (Activati  (None, 4, 4, 256)   0           ['conv4_block36_1_bn[0][0]']     \n",
            " on)                                                                                              \n",
            "                                                                                                  \n",
            " conv4_block36_2_conv (Conv2D)  (None, 4, 4, 256)    590080      ['conv4_block36_1_relu[0][0]']   \n",
            "                                                                                                  \n",
            " conv4_block36_2_bn (BatchNorma  (None, 4, 4, 256)   1024        ['conv4_block36_2_conv[0][0]']   \n",
            " lization)                                                                                        \n",
            "                                                                                                  \n",
            " conv4_block36_2_relu (Activati  (None, 4, 4, 256)   0           ['conv4_block36_2_bn[0][0]']     \n",
            " on)                                                                                              \n",
            "                                                                                                  \n",
            " conv4_block36_3_conv (Conv2D)  (None, 4, 4, 1024)   263168      ['conv4_block36_2_relu[0][0]']   \n",
            "                                                                                                  \n",
            " conv4_block36_3_bn (BatchNorma  (None, 4, 4, 1024)  4096        ['conv4_block36_3_conv[0][0]']   \n",
            " lization)                                                                                        \n",
            "                                                                                                  \n",
            " conv4_block36_add (Add)        (None, 4, 4, 1024)   0           ['conv4_block35_out[0][0]',      \n",
            "                                                                  'conv4_block36_3_bn[0][0]']     \n",
            "                                                                                                  \n",
            " conv4_block36_out (Activation)  (None, 4, 4, 1024)  0           ['conv4_block36_add[0][0]']      \n",
            "                                                                                                  \n",
            " conv5_block1_1_conv (Conv2D)   (None, 2, 2, 512)    524800      ['conv4_block36_out[0][0]']      \n",
            "                                                                                                  \n",
            " conv5_block1_1_bn (BatchNormal  (None, 2, 2, 512)   2048        ['conv5_block1_1_conv[0][0]']    \n",
            " ization)                                                                                         \n",
            "                                                                                                  \n",
            " conv5_block1_1_relu (Activatio  (None, 2, 2, 512)   0           ['conv5_block1_1_bn[0][0]']      \n",
            " n)                                                                                               \n",
            "                                                                                                  \n",
            " conv5_block1_2_conv (Conv2D)   (None, 2, 2, 512)    2359808     ['conv5_block1_1_relu[0][0]']    \n",
            "                                                                                                  \n",
            " conv5_block1_2_bn (BatchNormal  (None, 2, 2, 512)   2048        ['conv5_block1_2_conv[0][0]']    \n",
            " ization)                                                                                         \n",
            "                                                                                                  \n",
            " conv5_block1_2_relu (Activatio  (None, 2, 2, 512)   0           ['conv5_block1_2_bn[0][0]']      \n",
            " n)                                                                                               \n",
            "                                                                                                  \n",
            " conv5_block1_0_conv (Conv2D)   (None, 2, 2, 2048)   2099200     ['conv4_block36_out[0][0]']      \n",
            "                                                                                                  \n",
            " conv5_block1_3_conv (Conv2D)   (None, 2, 2, 2048)   1050624     ['conv5_block1_2_relu[0][0]']    \n",
            "                                                                                                  \n",
            " conv5_block1_0_bn (BatchNormal  (None, 2, 2, 2048)  8192        ['conv5_block1_0_conv[0][0]']    \n",
            " ization)                                                                                         \n",
            "                                                                                                  \n",
            " conv5_block1_3_bn (BatchNormal  (None, 2, 2, 2048)  8192        ['conv5_block1_3_conv[0][0]']    \n",
            " ization)                                                                                         \n",
            "                                                                                                  \n",
            " conv5_block1_add (Add)         (None, 2, 2, 2048)   0           ['conv5_block1_0_bn[0][0]',      \n",
            "                                                                  'conv5_block1_3_bn[0][0]']      \n",
            "                                                                                                  \n",
            " conv5_block1_out (Activation)  (None, 2, 2, 2048)   0           ['conv5_block1_add[0][0]']       \n",
            "                                                                                                  \n",
            " conv5_block2_1_conv (Conv2D)   (None, 2, 2, 512)    1049088     ['conv5_block1_out[0][0]']       \n",
            "                                                                                                  \n",
            " conv5_block2_1_bn (BatchNormal  (None, 2, 2, 512)   2048        ['conv5_block2_1_conv[0][0]']    \n",
            " ization)                                                                                         \n",
            "                                                                                                  \n",
            " conv5_block2_1_relu (Activatio  (None, 2, 2, 512)   0           ['conv5_block2_1_bn[0][0]']      \n",
            " n)                                                                                               \n",
            "                                                                                                  \n",
            " conv5_block2_2_conv (Conv2D)   (None, 2, 2, 512)    2359808     ['conv5_block2_1_relu[0][0]']    \n",
            "                                                                                                  \n",
            " conv5_block2_2_bn (BatchNormal  (None, 2, 2, 512)   2048        ['conv5_block2_2_conv[0][0]']    \n",
            " ization)                                                                                         \n",
            "                                                                                                  \n",
            " conv5_block2_2_relu (Activatio  (None, 2, 2, 512)   0           ['conv5_block2_2_bn[0][0]']      \n",
            " n)                                                                                               \n",
            "                                                                                                  \n",
            " conv5_block2_3_conv (Conv2D)   (None, 2, 2, 2048)   1050624     ['conv5_block2_2_relu[0][0]']    \n",
            "                                                                                                  \n",
            " conv5_block2_3_bn (BatchNormal  (None, 2, 2, 2048)  8192        ['conv5_block2_3_conv[0][0]']    \n",
            " ization)                                                                                         \n",
            "                                                                                                  \n",
            " conv5_block2_add (Add)         (None, 2, 2, 2048)   0           ['conv5_block1_out[0][0]',       \n",
            "                                                                  'conv5_block2_3_bn[0][0]']      \n",
            "                                                                                                  \n",
            " conv5_block2_out (Activation)  (None, 2, 2, 2048)   0           ['conv5_block2_add[0][0]']       \n",
            "                                                                                                  \n",
            " conv5_block3_1_conv (Conv2D)   (None, 2, 2, 512)    1049088     ['conv5_block2_out[0][0]']       \n",
            "                                                                                                  \n",
            " conv5_block3_1_bn (BatchNormal  (None, 2, 2, 512)   2048        ['conv5_block3_1_conv[0][0]']    \n",
            " ization)                                                                                         \n",
            "                                                                                                  \n",
            " conv5_block3_1_relu (Activatio  (None, 2, 2, 512)   0           ['conv5_block3_1_bn[0][0]']      \n",
            " n)                                                                                               \n",
            "                                                                                                  \n",
            " conv5_block3_2_conv (Conv2D)   (None, 2, 2, 512)    2359808     ['conv5_block3_1_relu[0][0]']    \n",
            "                                                                                                  \n",
            " conv5_block3_2_bn (BatchNormal  (None, 2, 2, 512)   2048        ['conv5_block3_2_conv[0][0]']    \n",
            " ization)                                                                                         \n",
            "                                                                                                  \n",
            " conv5_block3_2_relu (Activatio  (None, 2, 2, 512)   0           ['conv5_block3_2_bn[0][0]']      \n",
            " n)                                                                                               \n",
            "                                                                                                  \n",
            " conv5_block3_3_conv (Conv2D)   (None, 2, 2, 2048)   1050624     ['conv5_block3_2_relu[0][0]']    \n",
            "                                                                                                  \n",
            " conv5_block3_3_bn (BatchNormal  (None, 2, 2, 2048)  8192        ['conv5_block3_3_conv[0][0]']    \n",
            " ization)                                                                                         \n",
            "                                                                                                  \n",
            " conv5_block3_add (Add)         (None, 2, 2, 2048)   0           ['conv5_block2_out[0][0]',       \n",
            "                                                                  'conv5_block3_3_bn[0][0]']      \n",
            "                                                                                                  \n",
            " conv5_block3_out (Activation)  (None, 2, 2, 2048)   0           ['conv5_block3_add[0][0]']       \n",
            "                                                                                                  \n",
            " flatten_1 (Flatten)            (None, 8192)         0           ['conv5_block3_out[0][0]']       \n",
            "                                                                                                  \n",
            " dense_2 (Dense)                (None, 1000)         8193000     ['flatten_1[0][0]']              \n",
            "                                                                                                  \n",
            " dense_3 (Dense)                (None, 1)            1001        ['dense_2[0][0]']                \n",
            "                                                                                                  \n",
            "==================================================================================================\n",
            "Total params: 66,564,945\n",
            "Trainable params: 8,194,001\n",
            "Non-trainable params: 58,370,944\n",
            "__________________________________________________________________________________________________\n"
          ]
        }
      ],
      "source": [
        "model.summary()"
      ]
    },
    {
      "cell_type": "code",
      "execution_count": null,
      "metadata": {
        "id": "ao7T3dO7xtiG"
      },
      "outputs": [],
      "source": [
        "model.compile(optimizer='adam',\n",
        "              loss=tf.keras.losses.BinaryCrossentropy(),\n",
        "              metrics=[tf.keras.metrics.Precision(), tf.keras.metrics.Recall(), tf.keras.metrics.AUC()])"
      ]
    },
    {
      "cell_type": "code",
      "execution_count": null,
      "metadata": {
        "colab": {
          "base_uri": "https://localhost:8080/"
        },
        "id": "1FfOfg76yIfO",
        "outputId": "54adf791-decb-4655-f78e-054add60d8f9"
      },
      "outputs": [
        {
          "name": "stdout",
          "output_type": "stream",
          "text": [
            "Epoch 1/10\n",
            "1388/1388 [==============================] - 98s 64ms/step - loss: 0.6641 - precision_1: 0.6033 - recall_1: 0.5793 - auc_1: 0.6835 - val_loss: 0.6149 - val_precision_1: 0.7191 - val_recall_1: 0.4478 - val_auc_1: 0.7407\n",
            "Epoch 2/10\n",
            "1388/1388 [==============================] - 86s 62ms/step - loss: 0.6109 - precision_1: 0.6299 - recall_1: 0.6180 - auc_1: 0.7220 - val_loss: 0.6002 - val_precision_1: 0.6471 - val_recall_1: 0.6576 - val_auc_1: 0.7478\n",
            "Epoch 3/10\n",
            "1388/1388 [==============================] - 87s 62ms/step - loss: 0.6006 - precision_1: 0.6430 - recall_1: 0.6326 - auc_1: 0.7359 - val_loss: 0.5927 - val_precision_1: 0.6199 - val_recall_1: 0.7360 - val_auc_1: 0.7562\n",
            "Epoch 4/10\n",
            "1388/1388 [==============================] - 85s 61ms/step - loss: 0.5968 - precision_1: 0.6465 - recall_1: 0.6289 - auc_1: 0.7401 - val_loss: 0.5852 - val_precision_1: 0.7222 - val_recall_1: 0.5562 - val_auc_1: 0.7643\n",
            "Epoch 5/10\n",
            "1388/1388 [==============================] - 87s 63ms/step - loss: 0.5898 - precision_1: 0.6581 - recall_1: 0.6345 - auc_1: 0.7485 - val_loss: 0.5835 - val_precision_1: 0.7001 - val_recall_1: 0.5924 - val_auc_1: 0.7638\n",
            "Epoch 6/10\n",
            "1388/1388 [==============================] - 87s 63ms/step - loss: 0.5888 - precision_1: 0.6600 - recall_1: 0.6392 - auc_1: 0.7495 - val_loss: 0.5760 - val_precision_1: 0.6895 - val_recall_1: 0.6358 - val_auc_1: 0.7674\n",
            "Epoch 7/10\n",
            "1388/1388 [==============================] - 86s 62ms/step - loss: 0.5851 - precision_1: 0.6597 - recall_1: 0.6377 - auc_1: 0.7534 - val_loss: 0.5745 - val_precision_1: 0.6865 - val_recall_1: 0.6473 - val_auc_1: 0.7685\n",
            "Epoch 8/10\n",
            "1388/1388 [==============================] - 85s 61ms/step - loss: 0.5813 - precision_1: 0.6725 - recall_1: 0.6415 - auc_1: 0.7582 - val_loss: 0.5922 - val_precision_1: 0.7551 - val_recall_1: 0.4756 - val_auc_1: 0.7683\n",
            "Epoch 9/10\n",
            "1388/1388 [==============================] - 87s 63ms/step - loss: 0.5811 - precision_1: 0.6719 - recall_1: 0.6375 - auc_1: 0.7579 - val_loss: 0.5691 - val_precision_1: 0.6660 - val_recall_1: 0.7002 - val_auc_1: 0.7735\n",
            "Epoch 10/10\n",
            "1388/1388 [==============================] - 85s 62ms/step - loss: 0.5785 - precision_1: 0.6758 - recall_1: 0.6396 - auc_1: 0.7612 - val_loss: 0.5749 - val_precision_1: 0.6520 - val_recall_1: 0.7165 - val_auc_1: 0.7701\n"
          ]
        }
      ],
      "source": [
        "history = model.fit(datagen.flow(X_train, y_train, batch_size=32,\n",
        "         subset='training'),\n",
        "         validation_data=datagen.flow(X_train, y_train,\n",
        "         batch_size=32, subset='validation'),\n",
        "         validation_batch_size = 32,\n",
        "         epochs=10)"
      ]
    },
    {
      "cell_type": "code",
      "execution_count": null,
      "metadata": {
        "colab": {
          "base_uri": "https://localhost:8080/"
        },
        "id": "7HsRn44PyM65",
        "outputId": "b4131f22-7f59-4ed0-c665-b642174c71bd"
      },
      "outputs": [
        {
          "name": "stdout",
          "output_type": "stream",
          "text": [
            "347/347 [==============================] - 17s 49ms/step - loss: 0.5747 - precision_1: 0.6499 - recall_1: 0.7197 - auc_1: 0.7706\n"
          ]
        }
      ],
      "source": [
        "result = model.evaluate(datagen.flow(X_train, y_train,\n",
        "         batch_size=32, subset='validation'))"
      ]
    },
    {
      "cell_type": "code",
      "execution_count": null,
      "metadata": {
        "id": "jCSiu1fVyP-z"
      },
      "outputs": [],
      "source": [
        "sample_data = datagen.flow(X_train, y_train,\n",
        "         batch_size=32, subset='validation').next()"
      ]
    },
    {
      "cell_type": "code",
      "execution_count": null,
      "metadata": {
        "id": "qS66fTaGyVeF"
      },
      "outputs": [],
      "source": [
        "def predictor(prob):\n",
        "  if prob>=0.5:\n",
        "    return 1\n",
        "  else:\n",
        "    return 0"
      ]
    },
    {
      "cell_type": "code",
      "execution_count": null,
      "metadata": {
        "id": "mzwwgccvyZtU"
      },
      "outputs": [],
      "source": [
        "predicted = list(map(predictor, model.predict(sample_data[0])))"
      ]
    },
    {
      "cell_type": "code",
      "execution_count": null,
      "metadata": {
        "id": "rJfQP7Lhyi0_"
      },
      "outputs": [],
      "source": [
        "output_dataframe = pd.DataFrame({'Predicted':predicted,'Original':sample_data[1]})"
      ]
    },
    {
      "cell_type": "code",
      "execution_count": null,
      "metadata": {
        "colab": {
          "base_uri": "https://localhost:8080/",
          "height": 1000
        },
        "id": "n9MzRszAHHFA",
        "outputId": "6df8bb68-c82e-4438-98f3-fe4246b256d5"
      },
      "outputs": [
        {
          "data": {
            "text/html": [
              "\n",
              "  <div id=\"df-8a344218-5c72-4b9c-a4e7-c6874f6f0683\">\n",
              "    <div class=\"colab-df-container\">\n",
              "      <div>\n",
              "<style scoped>\n",
              "    .dataframe tbody tr th:only-of-type {\n",
              "        vertical-align: middle;\n",
              "    }\n",
              "\n",
              "    .dataframe tbody tr th {\n",
              "        vertical-align: top;\n",
              "    }\n",
              "\n",
              "    .dataframe thead th {\n",
              "        text-align: right;\n",
              "    }\n",
              "</style>\n",
              "<table border=\"1\" class=\"dataframe\">\n",
              "  <thead>\n",
              "    <tr style=\"text-align: right;\">\n",
              "      <th></th>\n",
              "      <th>Predicted</th>\n",
              "      <th>Original</th>\n",
              "    </tr>\n",
              "  </thead>\n",
              "  <tbody>\n",
              "    <tr>\n",
              "      <th>0</th>\n",
              "      <td>0</td>\n",
              "      <td>1.0</td>\n",
              "    </tr>\n",
              "    <tr>\n",
              "      <th>1</th>\n",
              "      <td>1</td>\n",
              "      <td>1.0</td>\n",
              "    </tr>\n",
              "    <tr>\n",
              "      <th>2</th>\n",
              "      <td>0</td>\n",
              "      <td>0.0</td>\n",
              "    </tr>\n",
              "    <tr>\n",
              "      <th>3</th>\n",
              "      <td>1</td>\n",
              "      <td>1.0</td>\n",
              "    </tr>\n",
              "    <tr>\n",
              "      <th>4</th>\n",
              "      <td>1</td>\n",
              "      <td>1.0</td>\n",
              "    </tr>\n",
              "    <tr>\n",
              "      <th>5</th>\n",
              "      <td>0</td>\n",
              "      <td>1.0</td>\n",
              "    </tr>\n",
              "    <tr>\n",
              "      <th>6</th>\n",
              "      <td>1</td>\n",
              "      <td>0.0</td>\n",
              "    </tr>\n",
              "    <tr>\n",
              "      <th>7</th>\n",
              "      <td>0</td>\n",
              "      <td>0.0</td>\n",
              "    </tr>\n",
              "    <tr>\n",
              "      <th>8</th>\n",
              "      <td>0</td>\n",
              "      <td>0.0</td>\n",
              "    </tr>\n",
              "    <tr>\n",
              "      <th>9</th>\n",
              "      <td>0</td>\n",
              "      <td>0.0</td>\n",
              "    </tr>\n",
              "    <tr>\n",
              "      <th>10</th>\n",
              "      <td>1</td>\n",
              "      <td>1.0</td>\n",
              "    </tr>\n",
              "    <tr>\n",
              "      <th>11</th>\n",
              "      <td>1</td>\n",
              "      <td>0.0</td>\n",
              "    </tr>\n",
              "    <tr>\n",
              "      <th>12</th>\n",
              "      <td>1</td>\n",
              "      <td>0.0</td>\n",
              "    </tr>\n",
              "    <tr>\n",
              "      <th>13</th>\n",
              "      <td>1</td>\n",
              "      <td>0.0</td>\n",
              "    </tr>\n",
              "    <tr>\n",
              "      <th>14</th>\n",
              "      <td>0</td>\n",
              "      <td>0.0</td>\n",
              "    </tr>\n",
              "    <tr>\n",
              "      <th>15</th>\n",
              "      <td>0</td>\n",
              "      <td>1.0</td>\n",
              "    </tr>\n",
              "    <tr>\n",
              "      <th>16</th>\n",
              "      <td>1</td>\n",
              "      <td>1.0</td>\n",
              "    </tr>\n",
              "    <tr>\n",
              "      <th>17</th>\n",
              "      <td>0</td>\n",
              "      <td>1.0</td>\n",
              "    </tr>\n",
              "    <tr>\n",
              "      <th>18</th>\n",
              "      <td>0</td>\n",
              "      <td>0.0</td>\n",
              "    </tr>\n",
              "    <tr>\n",
              "      <th>19</th>\n",
              "      <td>0</td>\n",
              "      <td>1.0</td>\n",
              "    </tr>\n",
              "    <tr>\n",
              "      <th>20</th>\n",
              "      <td>0</td>\n",
              "      <td>0.0</td>\n",
              "    </tr>\n",
              "    <tr>\n",
              "      <th>21</th>\n",
              "      <td>0</td>\n",
              "      <td>0.0</td>\n",
              "    </tr>\n",
              "    <tr>\n",
              "      <th>22</th>\n",
              "      <td>1</td>\n",
              "      <td>0.0</td>\n",
              "    </tr>\n",
              "    <tr>\n",
              "      <th>23</th>\n",
              "      <td>1</td>\n",
              "      <td>0.0</td>\n",
              "    </tr>\n",
              "    <tr>\n",
              "      <th>24</th>\n",
              "      <td>0</td>\n",
              "      <td>0.0</td>\n",
              "    </tr>\n",
              "    <tr>\n",
              "      <th>25</th>\n",
              "      <td>1</td>\n",
              "      <td>0.0</td>\n",
              "    </tr>\n",
              "    <tr>\n",
              "      <th>26</th>\n",
              "      <td>1</td>\n",
              "      <td>0.0</td>\n",
              "    </tr>\n",
              "    <tr>\n",
              "      <th>27</th>\n",
              "      <td>0</td>\n",
              "      <td>0.0</td>\n",
              "    </tr>\n",
              "    <tr>\n",
              "      <th>28</th>\n",
              "      <td>1</td>\n",
              "      <td>1.0</td>\n",
              "    </tr>\n",
              "    <tr>\n",
              "      <th>29</th>\n",
              "      <td>1</td>\n",
              "      <td>0.0</td>\n",
              "    </tr>\n",
              "    <tr>\n",
              "      <th>30</th>\n",
              "      <td>0</td>\n",
              "      <td>0.0</td>\n",
              "    </tr>\n",
              "    <tr>\n",
              "      <th>31</th>\n",
              "      <td>1</td>\n",
              "      <td>1.0</td>\n",
              "    </tr>\n",
              "  </tbody>\n",
              "</table>\n",
              "</div>\n",
              "      <button class=\"colab-df-convert\" onclick=\"convertToInteractive('df-8a344218-5c72-4b9c-a4e7-c6874f6f0683')\"\n",
              "              title=\"Convert this dataframe to an interactive table.\"\n",
              "              style=\"display:none;\">\n",
              "        \n",
              "  <svg xmlns=\"http://www.w3.org/2000/svg\" height=\"24px\"viewBox=\"0 0 24 24\"\n",
              "       width=\"24px\">\n",
              "    <path d=\"M0 0h24v24H0V0z\" fill=\"none\"/>\n",
              "    <path d=\"M18.56 5.44l.94 2.06.94-2.06 2.06-.94-2.06-.94-.94-2.06-.94 2.06-2.06.94zm-11 1L8.5 8.5l.94-2.06 2.06-.94-2.06-.94L8.5 2.5l-.94 2.06-2.06.94zm10 10l.94 2.06.94-2.06 2.06-.94-2.06-.94-.94-2.06-.94 2.06-2.06.94z\"/><path d=\"M17.41 7.96l-1.37-1.37c-.4-.4-.92-.59-1.43-.59-.52 0-1.04.2-1.43.59L10.3 9.45l-7.72 7.72c-.78.78-.78 2.05 0 2.83L4 21.41c.39.39.9.59 1.41.59.51 0 1.02-.2 1.41-.59l7.78-7.78 2.81-2.81c.8-.78.8-2.07 0-2.86zM5.41 20L4 18.59l7.72-7.72 1.47 1.35L5.41 20z\"/>\n",
              "  </svg>\n",
              "      </button>\n",
              "      \n",
              "  <style>\n",
              "    .colab-df-container {\n",
              "      display:flex;\n",
              "      flex-wrap:wrap;\n",
              "      gap: 12px;\n",
              "    }\n",
              "\n",
              "    .colab-df-convert {\n",
              "      background-color: #E8F0FE;\n",
              "      border: none;\n",
              "      border-radius: 50%;\n",
              "      cursor: pointer;\n",
              "      display: none;\n",
              "      fill: #1967D2;\n",
              "      height: 32px;\n",
              "      padding: 0 0 0 0;\n",
              "      width: 32px;\n",
              "    }\n",
              "\n",
              "    .colab-df-convert:hover {\n",
              "      background-color: #E2EBFA;\n",
              "      box-shadow: 0px 1px 2px rgba(60, 64, 67, 0.3), 0px 1px 3px 1px rgba(60, 64, 67, 0.15);\n",
              "      fill: #174EA6;\n",
              "    }\n",
              "\n",
              "    [theme=dark] .colab-df-convert {\n",
              "      background-color: #3B4455;\n",
              "      fill: #D2E3FC;\n",
              "    }\n",
              "\n",
              "    [theme=dark] .colab-df-convert:hover {\n",
              "      background-color: #434B5C;\n",
              "      box-shadow: 0px 1px 3px 1px rgba(0, 0, 0, 0.15);\n",
              "      filter: drop-shadow(0px 1px 2px rgba(0, 0, 0, 0.3));\n",
              "      fill: #FFFFFF;\n",
              "    }\n",
              "  </style>\n",
              "\n",
              "      <script>\n",
              "        const buttonEl =\n",
              "          document.querySelector('#df-8a344218-5c72-4b9c-a4e7-c6874f6f0683 button.colab-df-convert');\n",
              "        buttonEl.style.display =\n",
              "          google.colab.kernel.accessAllowed ? 'block' : 'none';\n",
              "\n",
              "        async function convertToInteractive(key) {\n",
              "          const element = document.querySelector('#df-8a344218-5c72-4b9c-a4e7-c6874f6f0683');\n",
              "          const dataTable =\n",
              "            await google.colab.kernel.invokeFunction('convertToInteractive',\n",
              "                                                     [key], {});\n",
              "          if (!dataTable) return;\n",
              "\n",
              "          const docLinkHtml = 'Like what you see? Visit the ' +\n",
              "            '<a target=\"_blank\" href=https://colab.research.google.com/notebooks/data_table.ipynb>data table notebook</a>'\n",
              "            + ' to learn more about interactive tables.';\n",
              "          element.innerHTML = '';\n",
              "          dataTable['output_type'] = 'display_data';\n",
              "          await google.colab.output.renderOutput(dataTable, element);\n",
              "          const docLink = document.createElement('div');\n",
              "          docLink.innerHTML = docLinkHtml;\n",
              "          element.appendChild(docLink);\n",
              "        }\n",
              "      </script>\n",
              "    </div>\n",
              "  </div>\n",
              "  "
            ],
            "text/plain": [
              "    Predicted  Original\n",
              "0           0       1.0\n",
              "1           1       1.0\n",
              "2           0       0.0\n",
              "3           1       1.0\n",
              "4           1       1.0\n",
              "5           0       1.0\n",
              "6           1       0.0\n",
              "7           0       0.0\n",
              "8           0       0.0\n",
              "9           0       0.0\n",
              "10          1       1.0\n",
              "11          1       0.0\n",
              "12          1       0.0\n",
              "13          1       0.0\n",
              "14          0       0.0\n",
              "15          0       1.0\n",
              "16          1       1.0\n",
              "17          0       1.0\n",
              "18          0       0.0\n",
              "19          0       1.0\n",
              "20          0       0.0\n",
              "21          0       0.0\n",
              "22          1       0.0\n",
              "23          1       0.0\n",
              "24          0       0.0\n",
              "25          1       0.0\n",
              "26          1       0.0\n",
              "27          0       0.0\n",
              "28          1       1.0\n",
              "29          1       0.0\n",
              "30          0       0.0\n",
              "31          1       1.0"
            ]
          },
          "execution_count": 73,
          "metadata": {},
          "output_type": "execute_result"
        }
      ],
      "source": [
        "output_dataframe"
      ]
    },
    {
      "cell_type": "code",
      "execution_count": null,
      "metadata": {
        "colab": {
          "base_uri": "https://localhost:8080/"
        },
        "id": "lINHs7ERynlk",
        "outputId": "7075f1f1-0b7b-4710-d097-d95b9b063902"
      },
      "outputs": [
        {
          "name": "stdout",
          "output_type": "stream",
          "text": [
            "Precision:  0.6499001383781433\n",
            "Recall:  0.7196863293647766\n",
            "F1 score:  0.6830152838963668\n",
            "AUC:  0.7705585956573486\n"
          ]
        }
      ],
      "source": [
        "print('Precision: ',result[1])\n",
        "print('Recall: ',result[2])\n",
        "print('F1 score: ',(2*result[1]*result[2])/(result[1]+result[2]))\n",
        "print('AUC: ',result[3])"
      ]
    },
    {
      "cell_type": "code",
      "execution_count": 209,
      "metadata": {
        "id": "HtY_OZKXNlum"
      },
      "outputs": [],
      "source": [
        "# Now, we are not getting as much better results as we got\n",
        "# in previous two architecture, so let's try unfreezing the layers\n",
        "# of base model and fitting the model"
      ]
    },
    {
      "cell_type": "code",
      "execution_count": null,
      "metadata": {
        "id": "rd6CLSyGGrLc"
      },
      "outputs": [],
      "source": [
        "for layer in base_model.layers:\n",
        " layer.trainable = True\n",
        "\n",
        "model.compile(optimizer='adam',\n",
        "              loss=tf.keras.losses.BinaryCrossentropy(),\n",
        "              metrics=[tf.keras.metrics.Precision(), tf.keras.metrics.Recall(), tf.keras.metrics.AUC()])"
      ]
    },
    {
      "cell_type": "code",
      "execution_count": null,
      "metadata": {
        "colab": {
          "base_uri": "https://localhost:8080/"
        },
        "id": "nh7tGlGgG1Go",
        "outputId": "852f5491-1940-429c-f10a-7ca966dbde81"
      },
      "outputs": [
        {
          "name": "stdout",
          "output_type": "stream",
          "text": [
            "Epoch 1/10\n",
            "1388/1388 [==============================] - 230s 151ms/step - loss: 0.5245 - precision_2: 0.7626 - recall_2: 0.7774 - auc_2: 0.8608 - val_loss: 0.5104 - val_precision_2: 0.8900 - val_recall_2: 0.7484 - val_auc_2: 0.9173\n",
            "Epoch 2/10\n",
            "1388/1388 [==============================] - 207s 149ms/step - loss: 0.3674 - precision_2: 0.8346 - recall_2: 0.8171 - auc_2: 0.9173 - val_loss: 0.9092 - val_precision_2: 0.5752 - val_recall_2: 0.8446 - val_auc_2: 0.7030\n",
            "Epoch 3/10\n",
            "1388/1388 [==============================] - 206s 148ms/step - loss: 0.3590 - precision_2: 0.8307 - recall_2: 0.8255 - auc_2: 0.9195 - val_loss: 0.4486 - val_precision_2: 0.7097 - val_recall_2: 0.9618 - val_auc_2: 0.9291\n",
            "Epoch 4/10\n",
            "1388/1388 [==============================] - 210s 152ms/step - loss: 0.3757 - precision_2: 0.8265 - recall_2: 0.8149 - auc_2: 0.9135 - val_loss: 0.5226 - val_precision_2: 0.8591 - val_recall_2: 0.8249 - val_auc_2: 0.9271\n",
            "Epoch 5/10\n",
            "1388/1388 [==============================] - 210s 151ms/step - loss: 0.3366 - precision_2: 0.8432 - recall_2: 0.8352 - auc_2: 0.9295 - val_loss: 0.4616 - val_precision_2: 0.8126 - val_recall_2: 0.8745 - val_auc_2: 0.9260\n",
            "Epoch 6/10\n",
            "1388/1388 [==============================] - 209s 150ms/step - loss: 0.3480 - precision_2: 0.8402 - recall_2: 0.8319 - auc_2: 0.9258 - val_loss: 0.4162 - val_precision_2: 0.7534 - val_recall_2: 0.8989 - val_auc_2: 0.9064\n",
            "Epoch 7/10\n",
            "1388/1388 [==============================] - 208s 150ms/step - loss: 0.3600 - precision_2: 0.8236 - recall_2: 0.8272 - auc_2: 0.9200 - val_loss: 1.4280 - val_precision_2: 0.4488 - val_recall_2: 0.7997 - val_auc_2: 0.4921\n",
            "Epoch 8/10\n",
            "1388/1388 [==============================] - 207s 149ms/step - loss: 0.3884 - precision_2: 0.8079 - recall_2: 0.8177 - auc_2: 0.9075 - val_loss: 26.6600 - val_precision_2: 0.7707 - val_recall_2: 0.9266 - val_auc_2: 0.9326\n",
            "Epoch 9/10\n",
            "1388/1388 [==============================] - 208s 150ms/step - loss: 0.3584 - precision_2: 0.8187 - recall_2: 0.8325 - auc_2: 0.9205 - val_loss: 0.3291 - val_precision_2: 0.8091 - val_recall_2: 0.9007 - val_auc_2: 0.9384\n",
            "Epoch 10/10\n",
            "1388/1388 [==============================] - 208s 150ms/step - loss: 0.3557 - precision_2: 0.8313 - recall_2: 0.8289 - auc_2: 0.9225 - val_loss: 0.3362 - val_precision_2: 0.8569 - val_recall_2: 0.8114 - val_auc_2: 0.9312\n"
          ]
        }
      ],
      "source": [
        "history = model.fit(datagen.flow(X_train, y_train, batch_size=32,\n",
        "         subset='training'),\n",
        "         validation_data=datagen.flow(X_train, y_train,\n",
        "         batch_size=32, subset='validation'),\n",
        "         validation_batch_size = 32,\n",
        "         epochs=10)"
      ]
    },
    {
      "cell_type": "code",
      "execution_count": null,
      "metadata": {
        "colab": {
          "base_uri": "https://localhost:8080/"
        },
        "id": "-nFt9bprG6Yy",
        "outputId": "1cd95e13-c1b4-4045-ac90-2b51d5256e62"
      },
      "outputs": [
        {
          "name": "stdout",
          "output_type": "stream",
          "text": [
            "347/347 [==============================] - 17s 49ms/step - loss: 0.3372 - precision_2: 0.8543 - recall_2: 0.8110 - auc_2: 0.9306\n"
          ]
        }
      ],
      "source": [
        "result = model.evaluate(datagen.flow(X_train, y_train,\n",
        "         batch_size=32, subset='validation'))"
      ]
    },
    {
      "cell_type": "code",
      "execution_count": null,
      "metadata": {
        "id": "qV9iA98hG9BF"
      },
      "outputs": [],
      "source": [
        "sample_data = datagen.flow(X_train, y_train,\n",
        "         batch_size=32, subset='validation').next()"
      ]
    },
    {
      "cell_type": "code",
      "execution_count": null,
      "metadata": {
        "id": "yNlbtlsQG_bm"
      },
      "outputs": [],
      "source": [
        "def predictor(prob):\n",
        "  if prob>=0.5:\n",
        "    return 1\n",
        "  else:\n",
        "    return 0"
      ]
    },
    {
      "cell_type": "code",
      "execution_count": null,
      "metadata": {
        "id": "KQOUZL1kHCD7"
      },
      "outputs": [],
      "source": [
        "predicted = list(map(predictor, model.predict(sample_data[0])))"
      ]
    },
    {
      "cell_type": "code",
      "execution_count": null,
      "metadata": {
        "id": "7ATG6_wOHEwg"
      },
      "outputs": [],
      "source": [
        "output_dataframe = pd.DataFrame({'Predicted':predicted,'Original':sample_data[1]})"
      ]
    },
    {
      "cell_type": "code",
      "execution_count": null,
      "metadata": {
        "colab": {
          "base_uri": "https://localhost:8080/",
          "height": 1000
        },
        "id": "7q2mZrOBHQdw",
        "outputId": "18ef1936-12d9-484b-ebf1-9bfb685163f1"
      },
      "outputs": [
        {
          "data": {
            "text/html": [
              "\n",
              "  <div id=\"df-99a110ec-39a1-4cbb-832b-b11f6c730972\">\n",
              "    <div class=\"colab-df-container\">\n",
              "      <div>\n",
              "<style scoped>\n",
              "    .dataframe tbody tr th:only-of-type {\n",
              "        vertical-align: middle;\n",
              "    }\n",
              "\n",
              "    .dataframe tbody tr th {\n",
              "        vertical-align: top;\n",
              "    }\n",
              "\n",
              "    .dataframe thead th {\n",
              "        text-align: right;\n",
              "    }\n",
              "</style>\n",
              "<table border=\"1\" class=\"dataframe\">\n",
              "  <thead>\n",
              "    <tr style=\"text-align: right;\">\n",
              "      <th></th>\n",
              "      <th>Predicted</th>\n",
              "      <th>Original</th>\n",
              "    </tr>\n",
              "  </thead>\n",
              "  <tbody>\n",
              "    <tr>\n",
              "      <th>0</th>\n",
              "      <td>1</td>\n",
              "      <td>1.0</td>\n",
              "    </tr>\n",
              "    <tr>\n",
              "      <th>1</th>\n",
              "      <td>0</td>\n",
              "      <td>0.0</td>\n",
              "    </tr>\n",
              "    <tr>\n",
              "      <th>2</th>\n",
              "      <td>0</td>\n",
              "      <td>0.0</td>\n",
              "    </tr>\n",
              "    <tr>\n",
              "      <th>3</th>\n",
              "      <td>0</td>\n",
              "      <td>1.0</td>\n",
              "    </tr>\n",
              "    <tr>\n",
              "      <th>4</th>\n",
              "      <td>1</td>\n",
              "      <td>1.0</td>\n",
              "    </tr>\n",
              "    <tr>\n",
              "      <th>5</th>\n",
              "      <td>0</td>\n",
              "      <td>0.0</td>\n",
              "    </tr>\n",
              "    <tr>\n",
              "      <th>6</th>\n",
              "      <td>0</td>\n",
              "      <td>0.0</td>\n",
              "    </tr>\n",
              "    <tr>\n",
              "      <th>7</th>\n",
              "      <td>0</td>\n",
              "      <td>0.0</td>\n",
              "    </tr>\n",
              "    <tr>\n",
              "      <th>8</th>\n",
              "      <td>0</td>\n",
              "      <td>0.0</td>\n",
              "    </tr>\n",
              "    <tr>\n",
              "      <th>9</th>\n",
              "      <td>1</td>\n",
              "      <td>0.0</td>\n",
              "    </tr>\n",
              "    <tr>\n",
              "      <th>10</th>\n",
              "      <td>0</td>\n",
              "      <td>0.0</td>\n",
              "    </tr>\n",
              "    <tr>\n",
              "      <th>11</th>\n",
              "      <td>0</td>\n",
              "      <td>0.0</td>\n",
              "    </tr>\n",
              "    <tr>\n",
              "      <th>12</th>\n",
              "      <td>1</td>\n",
              "      <td>1.0</td>\n",
              "    </tr>\n",
              "    <tr>\n",
              "      <th>13</th>\n",
              "      <td>0</td>\n",
              "      <td>1.0</td>\n",
              "    </tr>\n",
              "    <tr>\n",
              "      <th>14</th>\n",
              "      <td>0</td>\n",
              "      <td>0.0</td>\n",
              "    </tr>\n",
              "    <tr>\n",
              "      <th>15</th>\n",
              "      <td>0</td>\n",
              "      <td>0.0</td>\n",
              "    </tr>\n",
              "    <tr>\n",
              "      <th>16</th>\n",
              "      <td>0</td>\n",
              "      <td>0.0</td>\n",
              "    </tr>\n",
              "    <tr>\n",
              "      <th>17</th>\n",
              "      <td>1</td>\n",
              "      <td>1.0</td>\n",
              "    </tr>\n",
              "    <tr>\n",
              "      <th>18</th>\n",
              "      <td>1</td>\n",
              "      <td>1.0</td>\n",
              "    </tr>\n",
              "    <tr>\n",
              "      <th>19</th>\n",
              "      <td>1</td>\n",
              "      <td>1.0</td>\n",
              "    </tr>\n",
              "    <tr>\n",
              "      <th>20</th>\n",
              "      <td>1</td>\n",
              "      <td>1.0</td>\n",
              "    </tr>\n",
              "    <tr>\n",
              "      <th>21</th>\n",
              "      <td>1</td>\n",
              "      <td>0.0</td>\n",
              "    </tr>\n",
              "    <tr>\n",
              "      <th>22</th>\n",
              "      <td>0</td>\n",
              "      <td>0.0</td>\n",
              "    </tr>\n",
              "    <tr>\n",
              "      <th>23</th>\n",
              "      <td>0</td>\n",
              "      <td>0.0</td>\n",
              "    </tr>\n",
              "    <tr>\n",
              "      <th>24</th>\n",
              "      <td>1</td>\n",
              "      <td>1.0</td>\n",
              "    </tr>\n",
              "    <tr>\n",
              "      <th>25</th>\n",
              "      <td>1</td>\n",
              "      <td>1.0</td>\n",
              "    </tr>\n",
              "    <tr>\n",
              "      <th>26</th>\n",
              "      <td>1</td>\n",
              "      <td>1.0</td>\n",
              "    </tr>\n",
              "    <tr>\n",
              "      <th>27</th>\n",
              "      <td>0</td>\n",
              "      <td>0.0</td>\n",
              "    </tr>\n",
              "    <tr>\n",
              "      <th>28</th>\n",
              "      <td>1</td>\n",
              "      <td>1.0</td>\n",
              "    </tr>\n",
              "    <tr>\n",
              "      <th>29</th>\n",
              "      <td>0</td>\n",
              "      <td>0.0</td>\n",
              "    </tr>\n",
              "    <tr>\n",
              "      <th>30</th>\n",
              "      <td>1</td>\n",
              "      <td>1.0</td>\n",
              "    </tr>\n",
              "    <tr>\n",
              "      <th>31</th>\n",
              "      <td>0</td>\n",
              "      <td>0.0</td>\n",
              "    </tr>\n",
              "  </tbody>\n",
              "</table>\n",
              "</div>\n",
              "      <button class=\"colab-df-convert\" onclick=\"convertToInteractive('df-99a110ec-39a1-4cbb-832b-b11f6c730972')\"\n",
              "              title=\"Convert this dataframe to an interactive table.\"\n",
              "              style=\"display:none;\">\n",
              "        \n",
              "  <svg xmlns=\"http://www.w3.org/2000/svg\" height=\"24px\"viewBox=\"0 0 24 24\"\n",
              "       width=\"24px\">\n",
              "    <path d=\"M0 0h24v24H0V0z\" fill=\"none\"/>\n",
              "    <path d=\"M18.56 5.44l.94 2.06.94-2.06 2.06-.94-2.06-.94-.94-2.06-.94 2.06-2.06.94zm-11 1L8.5 8.5l.94-2.06 2.06-.94-2.06-.94L8.5 2.5l-.94 2.06-2.06.94zm10 10l.94 2.06.94-2.06 2.06-.94-2.06-.94-.94-2.06-.94 2.06-2.06.94z\"/><path d=\"M17.41 7.96l-1.37-1.37c-.4-.4-.92-.59-1.43-.59-.52 0-1.04.2-1.43.59L10.3 9.45l-7.72 7.72c-.78.78-.78 2.05 0 2.83L4 21.41c.39.39.9.59 1.41.59.51 0 1.02-.2 1.41-.59l7.78-7.78 2.81-2.81c.8-.78.8-2.07 0-2.86zM5.41 20L4 18.59l7.72-7.72 1.47 1.35L5.41 20z\"/>\n",
              "  </svg>\n",
              "      </button>\n",
              "      \n",
              "  <style>\n",
              "    .colab-df-container {\n",
              "      display:flex;\n",
              "      flex-wrap:wrap;\n",
              "      gap: 12px;\n",
              "    }\n",
              "\n",
              "    .colab-df-convert {\n",
              "      background-color: #E8F0FE;\n",
              "      border: none;\n",
              "      border-radius: 50%;\n",
              "      cursor: pointer;\n",
              "      display: none;\n",
              "      fill: #1967D2;\n",
              "      height: 32px;\n",
              "      padding: 0 0 0 0;\n",
              "      width: 32px;\n",
              "    }\n",
              "\n",
              "    .colab-df-convert:hover {\n",
              "      background-color: #E2EBFA;\n",
              "      box-shadow: 0px 1px 2px rgba(60, 64, 67, 0.3), 0px 1px 3px 1px rgba(60, 64, 67, 0.15);\n",
              "      fill: #174EA6;\n",
              "    }\n",
              "\n",
              "    [theme=dark] .colab-df-convert {\n",
              "      background-color: #3B4455;\n",
              "      fill: #D2E3FC;\n",
              "    }\n",
              "\n",
              "    [theme=dark] .colab-df-convert:hover {\n",
              "      background-color: #434B5C;\n",
              "      box-shadow: 0px 1px 3px 1px rgba(0, 0, 0, 0.15);\n",
              "      filter: drop-shadow(0px 1px 2px rgba(0, 0, 0, 0.3));\n",
              "      fill: #FFFFFF;\n",
              "    }\n",
              "  </style>\n",
              "\n",
              "      <script>\n",
              "        const buttonEl =\n",
              "          document.querySelector('#df-99a110ec-39a1-4cbb-832b-b11f6c730972 button.colab-df-convert');\n",
              "        buttonEl.style.display =\n",
              "          google.colab.kernel.accessAllowed ? 'block' : 'none';\n",
              "\n",
              "        async function convertToInteractive(key) {\n",
              "          const element = document.querySelector('#df-99a110ec-39a1-4cbb-832b-b11f6c730972');\n",
              "          const dataTable =\n",
              "            await google.colab.kernel.invokeFunction('convertToInteractive',\n",
              "                                                     [key], {});\n",
              "          if (!dataTable) return;\n",
              "\n",
              "          const docLinkHtml = 'Like what you see? Visit the ' +\n",
              "            '<a target=\"_blank\" href=https://colab.research.google.com/notebooks/data_table.ipynb>data table notebook</a>'\n",
              "            + ' to learn more about interactive tables.';\n",
              "          element.innerHTML = '';\n",
              "          dataTable['output_type'] = 'display_data';\n",
              "          await google.colab.output.renderOutput(dataTable, element);\n",
              "          const docLink = document.createElement('div');\n",
              "          docLink.innerHTML = docLinkHtml;\n",
              "          element.appendChild(docLink);\n",
              "        }\n",
              "      </script>\n",
              "    </div>\n",
              "  </div>\n",
              "  "
            ],
            "text/plain": [
              "    Predicted  Original\n",
              "0           1       1.0\n",
              "1           0       0.0\n",
              "2           0       0.0\n",
              "3           0       1.0\n",
              "4           1       1.0\n",
              "5           0       0.0\n",
              "6           0       0.0\n",
              "7           0       0.0\n",
              "8           0       0.0\n",
              "9           1       0.0\n",
              "10          0       0.0\n",
              "11          0       0.0\n",
              "12          1       1.0\n",
              "13          0       1.0\n",
              "14          0       0.0\n",
              "15          0       0.0\n",
              "16          0       0.0\n",
              "17          1       1.0\n",
              "18          1       1.0\n",
              "19          1       1.0\n",
              "20          1       1.0\n",
              "21          1       0.0\n",
              "22          0       0.0\n",
              "23          0       0.0\n",
              "24          1       1.0\n",
              "25          1       1.0\n",
              "26          1       1.0\n",
              "27          0       0.0\n",
              "28          1       1.0\n",
              "29          0       0.0\n",
              "30          1       1.0\n",
              "31          0       0.0"
            ]
          },
          "execution_count": 82,
          "metadata": {},
          "output_type": "execute_result"
        }
      ],
      "source": [
        "output_dataframe"
      ]
    },
    {
      "cell_type": "code",
      "execution_count": null,
      "metadata": {
        "colab": {
          "base_uri": "https://localhost:8080/"
        },
        "id": "0JkT-n6cHUQE",
        "outputId": "7ea0609d-e1ac-4183-bbec-2ab1c1beecd3"
      },
      "outputs": [
        {
          "name": "stdout",
          "output_type": "stream",
          "text": [
            "Precision:  0.8542681932449341\n",
            "Recall:  0.8109793066978455\n",
            "F1 score:  0.8320610925590378\n",
            "AUC:  0.9305947422981262\n"
          ]
        }
      ],
      "source": [
        "print('Precision: ',result[1])\n",
        "print('Recall: ',result[2])\n",
        "print('F1 score: ',(2*result[1]*result[2])/(result[1]+result[2]))\n",
        "print('AUC: ',result[3])"
      ]
    },
    {
      "cell_type": "code",
      "execution_count": 210,
      "metadata": {
        "id": "nE6qMm9IOBL7"
      },
      "outputs": [],
      "source": [
        "# Precision, Recall, F1 score and AUC of previous 2 models is given below:\n",
        "\n",
        "# Baseline\n",
        "# Precision:  0.8650760054588318\n",
        "# Recall:  0.829184353351593\n",
        "# F1 score:  0.8467500103584988\n",
        "# AUC:  0.943962037563324\n",
        "\n",
        "# GoogLeNet\n",
        "# Precision:  0.9079478979110718\n",
        "# Recall:  0.8322700262069702\n",
        "# F1 score:  0.8684634381891974\n",
        "# AUC:  0.9578379988670349\n",
        "\n",
        "# If we compare all the 4 metrics ResNet is not performing\n",
        "# better than previous two models in any of the 4 metrics\n",
        "\n",
        "# So, ResNet is not performing good for our problem."
      ]
    },
    {
      "cell_type": "markdown",
      "metadata": {
        "id": "PimRbll7OQOw"
      },
      "source": [
        "# Experiments"
      ]
    },
    {
      "cell_type": "code",
      "execution_count": 61,
      "metadata": {
        "id": "Fy6kAWCHQ5jn"
      },
      "outputs": [],
      "source": [
        "# Till now GoogLeNet Architecture is giving the best recall and f1-score\n",
        "# Recall:  0.8322700262069702\n",
        "# F1 score:  0.8684634381891974\n",
        "\n",
        "# So, I am trying to use its basic architecture in my experiments with some modifications"
      ]
    },
    {
      "cell_type": "code",
      "execution_count": 80,
      "metadata": {
        "id": "Cc-CLpYdVL-M"
      },
      "outputs": [],
      "source": [
        "# Lets first apply regularization in the same architecture using early stopping"
      ]
    },
    {
      "cell_type": "code",
      "execution_count": 123,
      "metadata": {
        "id": "R7MeaFahWBYh"
      },
      "outputs": [],
      "source": [
        "early_stopping_cb = tf.keras.callbacks.EarlyStopping(patience=5, restore_best_weights=True)"
      ]
    },
    {
      "cell_type": "code",
      "execution_count": 82,
      "metadata": {
        "id": "BrwecK2aW5Ds"
      },
      "outputs": [],
      "source": [
        "input_layer = layers.Input(shape=(50, 50, 3))\n",
        "\n",
        "x = layers.Conv2D(filters=16, kernel_size=(3, 3), strides=1, padding=\"SAME\", activation='relu', input_shape=(50, 50, 3))(input_layer)\n",
        "x = layers.MaxPooling2D(pool_size= (3, 3), strides=2, padding=\"VALID\")(x)\n",
        "x = layers.Conv2D(filters=128, kernel_size=(3, 3), strides=1, padding=\"SAME\", activation='relu')(x)\n",
        "x = layers.MaxPooling2D(pool_size= (3, 3), strides=2, padding=\"VALID\")(x)\n",
        "\n",
        "# inception module layers\n",
        "\n",
        "conv_1x1 = layers.Conv2D(filters=64, kernel_size=(1, 1), strides=1, padding='same', activation='relu')(x)\n",
        "\n",
        "conv_3x3 = layers.Conv2D(filters=64, kernel_size=(1, 1), strides=1, padding='same', activation='relu')(x)\n",
        "conv_3x3 = layers.Conv2D(filters=64, kernel_size=(3, 3), strides=1, padding='same', activation='relu')(conv_3x3)\n",
        "\n",
        "conv_5x5 = layers.Conv2D(filters=64, kernel_size=(1, 1), strides=1, padding='same', activation='relu')(x)\n",
        "conv_5x5 = layers.Conv2D(filters=64, kernel_size=(5, 5), strides=1, padding='same', activation='relu')(conv_5x5)\n",
        "\n",
        "pool_proj = layers.MaxPool2D(pool_size=(3, 3), strides=(1, 1), padding='same')(x)\n",
        "pool_proj = layers.Conv2D(filters =64, kernel_size=(1, 1), padding='same', activation='relu')(pool_proj)\n",
        "\n",
        "x = layers.concatenate([conv_1x1, conv_3x3, conv_5x5, pool_proj], axis=3, name='inception')\n",
        "\n",
        "\n",
        "# inception module layers end\n",
        "\n",
        "x = layers.MaxPool2D(pool_size=(11, 11), strides=(11, 11), padding='valid')(x)\n",
        "\n",
        "x = layers.Flatten()(x)\n",
        "x = layers.Dense(16, activation='relu')(x)\n",
        "\n",
        "output = layers.Dense(1, activation='sigmoid')(x)\n",
        "\n",
        "model = models.Model(inputs=[input_layer], outputs=[output])"
      ]
    },
    {
      "cell_type": "code",
      "execution_count": 83,
      "metadata": {
        "id": "84phbU7tW9yR"
      },
      "outputs": [],
      "source": [
        "model.compile(optimizer='adam',\n",
        "              loss=tf.keras.losses.BinaryCrossentropy(),\n",
        "              metrics=[tf.keras.metrics.Precision(), tf.keras.metrics.Recall(), tf.keras.metrics.AUC()])"
      ]
    },
    {
      "cell_type": "code",
      "execution_count": 84,
      "metadata": {
        "colab": {
          "base_uri": "https://localhost:8080/"
        },
        "id": "G8vKTbV9XBgx",
        "outputId": "40cad15e-824b-4a7c-ff54-08f96b575554"
      },
      "outputs": [
        {
          "name": "stdout",
          "output_type": "stream",
          "text": [
            "Epoch 1/20\n",
            "1388/1388 [==============================] - 61s 43ms/step - loss: 0.4829 - precision_2: 0.7549 - recall_2: 0.7110 - auc_2: 0.8462 - val_loss: 0.4324 - val_precision_2: 0.7118 - val_recall_2: 0.9184 - val_auc_2: 0.9094\n",
            "Epoch 2/20\n",
            "1388/1388 [==============================] - 59s 42ms/step - loss: 0.3646 - precision_2: 0.8131 - recall_2: 0.8339 - auc_2: 0.9170 - val_loss: 0.3167 - val_precision_2: 0.8716 - val_recall_2: 0.8146 - val_auc_2: 0.9410\n",
            "Epoch 3/20\n",
            "1388/1388 [==============================] - 57s 41ms/step - loss: 0.3373 - precision_2: 0.8311 - recall_2: 0.8452 - auc_2: 0.9292 - val_loss: 0.3241 - val_precision_2: 0.8809 - val_recall_2: 0.7943 - val_auc_2: 0.9416\n",
            "Epoch 4/20\n",
            "1388/1388 [==============================] - 59s 42ms/step - loss: 0.3140 - precision_2: 0.8464 - recall_2: 0.8516 - auc_2: 0.9387 - val_loss: 0.2799 - val_precision_2: 0.8565 - val_recall_2: 0.8712 - val_auc_2: 0.9512\n",
            "Epoch 5/20\n",
            "1388/1388 [==============================] - 57s 41ms/step - loss: 0.3012 - precision_2: 0.8583 - recall_2: 0.8556 - auc_2: 0.9435 - val_loss: 0.2821 - val_precision_2: 0.8625 - val_recall_2: 0.8562 - val_auc_2: 0.9499\n",
            "Epoch 6/20\n",
            "1388/1388 [==============================] - 58s 42ms/step - loss: 0.2932 - precision_2: 0.8608 - recall_2: 0.8585 - auc_2: 0.9464 - val_loss: 0.3351 - val_precision_2: 0.9152 - val_recall_2: 0.7543 - val_auc_2: 0.9463\n",
            "Epoch 7/20\n",
            "1388/1388 [==============================] - 57s 41ms/step - loss: 0.2955 - precision_2: 0.8616 - recall_2: 0.8573 - auc_2: 0.9453 - val_loss: 0.2929 - val_precision_2: 0.8089 - val_recall_2: 0.9344 - val_auc_2: 0.9565\n",
            "Epoch 8/20\n",
            "1388/1388 [==============================] - 58s 42ms/step - loss: 0.2838 - precision_2: 0.8669 - recall_2: 0.8628 - auc_2: 0.9496 - val_loss: 0.3198 - val_precision_2: 0.8062 - val_recall_2: 0.9074 - val_auc_2: 0.9440\n",
            "Epoch 9/20\n",
            "1388/1388 [==============================] - 57s 41ms/step - loss: 0.2820 - precision_2: 0.8693 - recall_2: 0.8615 - auc_2: 0.9502 - val_loss: 0.2860 - val_precision_2: 0.8171 - val_recall_2: 0.9279 - val_auc_2: 0.9581\n"
          ]
        }
      ],
      "source": [
        "history = model.fit(datagen.flow(X_train, y_train, batch_size=32,\n",
        "         subset='training'),\n",
        "         validation_data=datagen.flow(X_train, y_train,\n",
        "         batch_size=32, subset='validation'),\n",
        "         callbacks=[early_stopping_cb],\n",
        "         validation_batch_size = 32,\n",
        "         epochs=20)"
      ]
    },
    {
      "cell_type": "code",
      "execution_count": 85,
      "metadata": {
        "colab": {
          "base_uri": "https://localhost:8080/"
        },
        "id": "R-m79Mq1XJrt",
        "outputId": "896a8811-9ff6-4ba3-ba12-e5d33f52799a"
      },
      "outputs": [
        {
          "name": "stdout",
          "output_type": "stream",
          "text": [
            "347/347 [==============================] - 11s 31ms/step - loss: 0.2816 - precision_2: 0.8535 - recall_2: 0.8731 - auc_2: 0.9505\n"
          ]
        }
      ],
      "source": [
        "result = model.evaluate(datagen.flow(X_train, y_train,\n",
        "         batch_size=32, subset='validation'))"
      ]
    },
    {
      "cell_type": "code",
      "execution_count": 94,
      "metadata": {
        "id": "I1xb5VkWg60X"
      },
      "outputs": [],
      "source": [
        "sample_data = datagen.flow(X_train, y_train,\n",
        "         batch_size=32, subset='validation').next()"
      ]
    },
    {
      "cell_type": "code",
      "execution_count": 95,
      "metadata": {
        "id": "yJJV2OFMhGcw"
      },
      "outputs": [],
      "source": [
        "def predictor(prob):\n",
        "  if prob>=0.5:\n",
        "    return 1\n",
        "  else:\n",
        "    return 0"
      ]
    },
    {
      "cell_type": "code",
      "execution_count": 96,
      "metadata": {
        "colab": {
          "base_uri": "https://localhost:8080/"
        },
        "id": "N_sS3hqKhLHg",
        "outputId": "7d934443-a9d1-4f61-df13-42c257188f48"
      },
      "outputs": [
        {
          "name": "stdout",
          "output_type": "stream",
          "text": [
            "1/1 [==============================] - 0s 145ms/step\n"
          ]
        }
      ],
      "source": [
        "predicted = list(map(predictor, model.predict(sample_data[0])))"
      ]
    },
    {
      "cell_type": "code",
      "execution_count": 97,
      "metadata": {
        "id": "vfnNULeJhPds"
      },
      "outputs": [],
      "source": [
        "output_dataframe = pd.DataFrame({'Predicted':predicted,'Original':sample_data[1]})"
      ]
    },
    {
      "cell_type": "code",
      "execution_count": 98,
      "metadata": {
        "colab": {
          "base_uri": "https://localhost:8080/",
          "height": 1000
        },
        "id": "DQ5WQWMNhS2R",
        "outputId": "32b026fe-666c-4e33-ee75-a18465fc8605"
      },
      "outputs": [
        {
          "data": {
            "text/html": [
              "\n",
              "  <div id=\"df-6f28a6ff-1cff-49cf-9474-7dc5eec5cc64\">\n",
              "    <div class=\"colab-df-container\">\n",
              "      <div>\n",
              "<style scoped>\n",
              "    .dataframe tbody tr th:only-of-type {\n",
              "        vertical-align: middle;\n",
              "    }\n",
              "\n",
              "    .dataframe tbody tr th {\n",
              "        vertical-align: top;\n",
              "    }\n",
              "\n",
              "    .dataframe thead th {\n",
              "        text-align: right;\n",
              "    }\n",
              "</style>\n",
              "<table border=\"1\" class=\"dataframe\">\n",
              "  <thead>\n",
              "    <tr style=\"text-align: right;\">\n",
              "      <th></th>\n",
              "      <th>Predicted</th>\n",
              "      <th>Original</th>\n",
              "    </tr>\n",
              "  </thead>\n",
              "  <tbody>\n",
              "    <tr>\n",
              "      <th>0</th>\n",
              "      <td>1</td>\n",
              "      <td>1.0</td>\n",
              "    </tr>\n",
              "    <tr>\n",
              "      <th>1</th>\n",
              "      <td>1</td>\n",
              "      <td>1.0</td>\n",
              "    </tr>\n",
              "    <tr>\n",
              "      <th>2</th>\n",
              "      <td>0</td>\n",
              "      <td>0.0</td>\n",
              "    </tr>\n",
              "    <tr>\n",
              "      <th>3</th>\n",
              "      <td>0</td>\n",
              "      <td>0.0</td>\n",
              "    </tr>\n",
              "    <tr>\n",
              "      <th>4</th>\n",
              "      <td>1</td>\n",
              "      <td>1.0</td>\n",
              "    </tr>\n",
              "    <tr>\n",
              "      <th>5</th>\n",
              "      <td>0</td>\n",
              "      <td>0.0</td>\n",
              "    </tr>\n",
              "    <tr>\n",
              "      <th>6</th>\n",
              "      <td>1</td>\n",
              "      <td>1.0</td>\n",
              "    </tr>\n",
              "    <tr>\n",
              "      <th>7</th>\n",
              "      <td>0</td>\n",
              "      <td>0.0</td>\n",
              "    </tr>\n",
              "    <tr>\n",
              "      <th>8</th>\n",
              "      <td>0</td>\n",
              "      <td>0.0</td>\n",
              "    </tr>\n",
              "    <tr>\n",
              "      <th>9</th>\n",
              "      <td>0</td>\n",
              "      <td>0.0</td>\n",
              "    </tr>\n",
              "    <tr>\n",
              "      <th>10</th>\n",
              "      <td>0</td>\n",
              "      <td>0.0</td>\n",
              "    </tr>\n",
              "    <tr>\n",
              "      <th>11</th>\n",
              "      <td>0</td>\n",
              "      <td>0.0</td>\n",
              "    </tr>\n",
              "    <tr>\n",
              "      <th>12</th>\n",
              "      <td>1</td>\n",
              "      <td>1.0</td>\n",
              "    </tr>\n",
              "    <tr>\n",
              "      <th>13</th>\n",
              "      <td>0</td>\n",
              "      <td>0.0</td>\n",
              "    </tr>\n",
              "    <tr>\n",
              "      <th>14</th>\n",
              "      <td>0</td>\n",
              "      <td>0.0</td>\n",
              "    </tr>\n",
              "    <tr>\n",
              "      <th>15</th>\n",
              "      <td>1</td>\n",
              "      <td>1.0</td>\n",
              "    </tr>\n",
              "    <tr>\n",
              "      <th>16</th>\n",
              "      <td>1</td>\n",
              "      <td>1.0</td>\n",
              "    </tr>\n",
              "    <tr>\n",
              "      <th>17</th>\n",
              "      <td>0</td>\n",
              "      <td>0.0</td>\n",
              "    </tr>\n",
              "    <tr>\n",
              "      <th>18</th>\n",
              "      <td>1</td>\n",
              "      <td>1.0</td>\n",
              "    </tr>\n",
              "    <tr>\n",
              "      <th>19</th>\n",
              "      <td>1</td>\n",
              "      <td>1.0</td>\n",
              "    </tr>\n",
              "    <tr>\n",
              "      <th>20</th>\n",
              "      <td>1</td>\n",
              "      <td>1.0</td>\n",
              "    </tr>\n",
              "    <tr>\n",
              "      <th>21</th>\n",
              "      <td>0</td>\n",
              "      <td>0.0</td>\n",
              "    </tr>\n",
              "    <tr>\n",
              "      <th>22</th>\n",
              "      <td>0</td>\n",
              "      <td>0.0</td>\n",
              "    </tr>\n",
              "    <tr>\n",
              "      <th>23</th>\n",
              "      <td>0</td>\n",
              "      <td>0.0</td>\n",
              "    </tr>\n",
              "    <tr>\n",
              "      <th>24</th>\n",
              "      <td>1</td>\n",
              "      <td>1.0</td>\n",
              "    </tr>\n",
              "    <tr>\n",
              "      <th>25</th>\n",
              "      <td>0</td>\n",
              "      <td>0.0</td>\n",
              "    </tr>\n",
              "    <tr>\n",
              "      <th>26</th>\n",
              "      <td>1</td>\n",
              "      <td>1.0</td>\n",
              "    </tr>\n",
              "    <tr>\n",
              "      <th>27</th>\n",
              "      <td>0</td>\n",
              "      <td>1.0</td>\n",
              "    </tr>\n",
              "    <tr>\n",
              "      <th>28</th>\n",
              "      <td>0</td>\n",
              "      <td>0.0</td>\n",
              "    </tr>\n",
              "    <tr>\n",
              "      <th>29</th>\n",
              "      <td>0</td>\n",
              "      <td>0.0</td>\n",
              "    </tr>\n",
              "    <tr>\n",
              "      <th>30</th>\n",
              "      <td>1</td>\n",
              "      <td>1.0</td>\n",
              "    </tr>\n",
              "    <tr>\n",
              "      <th>31</th>\n",
              "      <td>1</td>\n",
              "      <td>0.0</td>\n",
              "    </tr>\n",
              "  </tbody>\n",
              "</table>\n",
              "</div>\n",
              "      <button class=\"colab-df-convert\" onclick=\"convertToInteractive('df-6f28a6ff-1cff-49cf-9474-7dc5eec5cc64')\"\n",
              "              title=\"Convert this dataframe to an interactive table.\"\n",
              "              style=\"display:none;\">\n",
              "        \n",
              "  <svg xmlns=\"http://www.w3.org/2000/svg\" height=\"24px\"viewBox=\"0 0 24 24\"\n",
              "       width=\"24px\">\n",
              "    <path d=\"M0 0h24v24H0V0z\" fill=\"none\"/>\n",
              "    <path d=\"M18.56 5.44l.94 2.06.94-2.06 2.06-.94-2.06-.94-.94-2.06-.94 2.06-2.06.94zm-11 1L8.5 8.5l.94-2.06 2.06-.94-2.06-.94L8.5 2.5l-.94 2.06-2.06.94zm10 10l.94 2.06.94-2.06 2.06-.94-2.06-.94-.94-2.06-.94 2.06-2.06.94z\"/><path d=\"M17.41 7.96l-1.37-1.37c-.4-.4-.92-.59-1.43-.59-.52 0-1.04.2-1.43.59L10.3 9.45l-7.72 7.72c-.78.78-.78 2.05 0 2.83L4 21.41c.39.39.9.59 1.41.59.51 0 1.02-.2 1.41-.59l7.78-7.78 2.81-2.81c.8-.78.8-2.07 0-2.86zM5.41 20L4 18.59l7.72-7.72 1.47 1.35L5.41 20z\"/>\n",
              "  </svg>\n",
              "      </button>\n",
              "      \n",
              "  <style>\n",
              "    .colab-df-container {\n",
              "      display:flex;\n",
              "      flex-wrap:wrap;\n",
              "      gap: 12px;\n",
              "    }\n",
              "\n",
              "    .colab-df-convert {\n",
              "      background-color: #E8F0FE;\n",
              "      border: none;\n",
              "      border-radius: 50%;\n",
              "      cursor: pointer;\n",
              "      display: none;\n",
              "      fill: #1967D2;\n",
              "      height: 32px;\n",
              "      padding: 0 0 0 0;\n",
              "      width: 32px;\n",
              "    }\n",
              "\n",
              "    .colab-df-convert:hover {\n",
              "      background-color: #E2EBFA;\n",
              "      box-shadow: 0px 1px 2px rgba(60, 64, 67, 0.3), 0px 1px 3px 1px rgba(60, 64, 67, 0.15);\n",
              "      fill: #174EA6;\n",
              "    }\n",
              "\n",
              "    [theme=dark] .colab-df-convert {\n",
              "      background-color: #3B4455;\n",
              "      fill: #D2E3FC;\n",
              "    }\n",
              "\n",
              "    [theme=dark] .colab-df-convert:hover {\n",
              "      background-color: #434B5C;\n",
              "      box-shadow: 0px 1px 3px 1px rgba(0, 0, 0, 0.15);\n",
              "      filter: drop-shadow(0px 1px 2px rgba(0, 0, 0, 0.3));\n",
              "      fill: #FFFFFF;\n",
              "    }\n",
              "  </style>\n",
              "\n",
              "      <script>\n",
              "        const buttonEl =\n",
              "          document.querySelector('#df-6f28a6ff-1cff-49cf-9474-7dc5eec5cc64 button.colab-df-convert');\n",
              "        buttonEl.style.display =\n",
              "          google.colab.kernel.accessAllowed ? 'block' : 'none';\n",
              "\n",
              "        async function convertToInteractive(key) {\n",
              "          const element = document.querySelector('#df-6f28a6ff-1cff-49cf-9474-7dc5eec5cc64');\n",
              "          const dataTable =\n",
              "            await google.colab.kernel.invokeFunction('convertToInteractive',\n",
              "                                                     [key], {});\n",
              "          if (!dataTable) return;\n",
              "\n",
              "          const docLinkHtml = 'Like what you see? Visit the ' +\n",
              "            '<a target=\"_blank\" href=https://colab.research.google.com/notebooks/data_table.ipynb>data table notebook</a>'\n",
              "            + ' to learn more about interactive tables.';\n",
              "          element.innerHTML = '';\n",
              "          dataTable['output_type'] = 'display_data';\n",
              "          await google.colab.output.renderOutput(dataTable, element);\n",
              "          const docLink = document.createElement('div');\n",
              "          docLink.innerHTML = docLinkHtml;\n",
              "          element.appendChild(docLink);\n",
              "        }\n",
              "      </script>\n",
              "    </div>\n",
              "  </div>\n",
              "  "
            ],
            "text/plain": [
              "    Predicted  Original\n",
              "0           1       1.0\n",
              "1           1       1.0\n",
              "2           0       0.0\n",
              "3           0       0.0\n",
              "4           1       1.0\n",
              "5           0       0.0\n",
              "6           1       1.0\n",
              "7           0       0.0\n",
              "8           0       0.0\n",
              "9           0       0.0\n",
              "10          0       0.0\n",
              "11          0       0.0\n",
              "12          1       1.0\n",
              "13          0       0.0\n",
              "14          0       0.0\n",
              "15          1       1.0\n",
              "16          1       1.0\n",
              "17          0       0.0\n",
              "18          1       1.0\n",
              "19          1       1.0\n",
              "20          1       1.0\n",
              "21          0       0.0\n",
              "22          0       0.0\n",
              "23          0       0.0\n",
              "24          1       1.0\n",
              "25          0       0.0\n",
              "26          1       1.0\n",
              "27          0       1.0\n",
              "28          0       0.0\n",
              "29          0       0.0\n",
              "30          1       1.0\n",
              "31          1       0.0"
            ]
          },
          "execution_count": 98,
          "metadata": {},
          "output_type": "execute_result"
        }
      ],
      "source": [
        "output_dataframe"
      ]
    },
    {
      "cell_type": "code",
      "execution_count": 86,
      "metadata": {
        "colab": {
          "base_uri": "https://localhost:8080/"
        },
        "id": "Z1Zfzt-HXMX9",
        "outputId": "593358a1-f26c-4037-dde5-0d363022fce3"
      },
      "outputs": [
        {
          "name": "stdout",
          "output_type": "stream",
          "text": [
            "Precision:  0.8534842133522034\n",
            "Recall:  0.8730706572532654\n",
            "F1 score:  0.8631663386931737\n",
            "AUC:  0.9505361914634705\n"
          ]
        }
      ],
      "source": [
        "print('Precision: ',result[1])\n",
        "print('Recall: ',result[2])\n",
        "print('F1 score: ',(2*result[1]*result[2])/(result[1]+result[2]))\n",
        "print('AUC: ',result[3])"
      ]
    },
    {
      "cell_type": "code",
      "execution_count": 87,
      "metadata": {
        "id": "GcEjvQ3SbpTq"
      },
      "outputs": [],
      "source": [
        "# Previously we were getting around 83% recall\n",
        "# but now we are getting around 87% recall (good increase)."
      ]
    },
    {
      "cell_type": "code",
      "execution_count": 88,
      "metadata": {
        "id": "hYdd6T_QQY4J"
      },
      "outputs": [],
      "source": [
        "# architecture:\n",
        "# convo -> max -> convo -> max -> convo -> max -> inception -> max -> dense -> output"
      ]
    },
    {
      "cell_type": "code",
      "execution_count": 65,
      "metadata": {
        "id": "Pj2o1XRKOUXe"
      },
      "outputs": [],
      "source": [
        "input_layer = layers.Input(shape=(50, 50, 3))\n",
        "\n",
        "x = layers.Conv2D(filters=50, kernel_size=(5, 5), strides=2, padding=\"SAME\", activation='relu', input_shape=(50, 50, 3))(input_layer)\n",
        "x = layers.MaxPooling2D(pool_size= (5, 5), strides=1, padding=\"VALID\")(x)\n",
        "x = layers.Conv2D(filters=128, kernel_size=(3, 3), strides=2, padding=\"SAME\", activation='relu')(x)\n",
        "x = layers.MaxPooling2D(pool_size= (5, 5), strides=1, padding=\"VALID\")(x)\n",
        "x = layers.Conv2D(filters=200, kernel_size=(1, 1), strides=2, padding=\"SAME\", activation='relu')(x)\n",
        "x = layers.MaxPooling2D(pool_size= (1, 1), strides=1, padding=\"VALID\")(x)\n",
        "\n",
        "# inception module layers\n",
        "\n",
        "conv_1x1 = layers.Conv2D(filters=64, kernel_size=(1, 1), strides=1, padding='same', activation='relu')(x)\n",
        "\n",
        "conv_3x3 = layers.Conv2D(filters=64, kernel_size=(1, 1), strides=1, padding='same', activation='relu')(x)\n",
        "conv_3x3 = layers.Conv2D(filters=64, kernel_size=(3, 3), strides=1, padding='same', activation='relu')(conv_3x3)\n",
        "\n",
        "conv_5x5 = layers.Conv2D(filters=64, kernel_size=(1, 1), strides=1, padding='same', activation='relu')(x)\n",
        "conv_5x5 = layers.Conv2D(filters=64, kernel_size=(5, 5), strides=1, padding='same', activation='relu')(conv_5x5)\n",
        "\n",
        "pool_proj = layers.MaxPool2D(pool_size=(3, 3), strides=(1, 1), padding='same')(x)\n",
        "pool_proj = layers.Conv2D(filters =64, kernel_size=(1, 1), padding='same', activation='relu')(pool_proj)\n",
        "\n",
        "x = layers.concatenate([conv_1x1, conv_3x3, conv_5x5, pool_proj], axis=3, name='inception')\n",
        "\n",
        "# inception module layers end\n",
        "\n",
        "\n",
        "x = layers.MaxPool2D(pool_size=(4, 4), padding='valid')(x)\n",
        "\n",
        "x = layers.Flatten()(x)\n",
        "x = layers.Dense(16, activation='relu')(x)\n",
        "\n",
        "output = layers.Dense(1, activation='sigmoid')(x)\n",
        "\n",
        "model = models.Model(inputs=[input_layer], outputs=[output])"
      ]
    },
    {
      "cell_type": "code",
      "execution_count": 66,
      "metadata": {
        "colab": {
          "base_uri": "https://localhost:8080/"
        },
        "id": "OPTPAaX6RKrp",
        "outputId": "5c535627-ffce-43da-9f32-7de720b1da5f"
      },
      "outputs": [
        {
          "name": "stdout",
          "output_type": "stream",
          "text": [
            "Model: \"model_2\"\n",
            "__________________________________________________________________________________________________\n",
            " Layer (type)                   Output Shape         Param #     Connected to                     \n",
            "==================================================================================================\n",
            " input_5 (InputLayer)           [(None, 50, 50, 3)]  0           []                               \n",
            "                                                                                                  \n",
            " conv2d_30 (Conv2D)             (None, 25, 25, 50)   3800        ['input_5[0][0]']                \n",
            "                                                                                                  \n",
            " max_pooling2d_16 (MaxPooling2D  (None, 21, 21, 50)  0           ['conv2d_30[0][0]']              \n",
            " )                                                                                                \n",
            "                                                                                                  \n",
            " conv2d_31 (Conv2D)             (None, 11, 11, 128)  57728       ['max_pooling2d_16[0][0]']       \n",
            "                                                                                                  \n",
            " max_pooling2d_17 (MaxPooling2D  (None, 7, 7, 128)   0           ['conv2d_31[0][0]']              \n",
            " )                                                                                                \n",
            "                                                                                                  \n",
            " conv2d_32 (Conv2D)             (None, 4, 4, 200)    25800       ['max_pooling2d_17[0][0]']       \n",
            "                                                                                                  \n",
            " max_pooling2d_18 (MaxPooling2D  (None, 4, 4, 200)   0           ['conv2d_32[0][0]']              \n",
            " )                                                                                                \n",
            "                                                                                                  \n",
            " conv2d_34 (Conv2D)             (None, 4, 4, 64)     12864       ['max_pooling2d_18[0][0]']       \n",
            "                                                                                                  \n",
            " conv2d_36 (Conv2D)             (None, 4, 4, 64)     12864       ['max_pooling2d_18[0][0]']       \n",
            "                                                                                                  \n",
            " max_pooling2d_19 (MaxPooling2D  (None, 4, 4, 200)   0           ['max_pooling2d_18[0][0]']       \n",
            " )                                                                                                \n",
            "                                                                                                  \n",
            " conv2d_33 (Conv2D)             (None, 4, 4, 64)     12864       ['max_pooling2d_18[0][0]']       \n",
            "                                                                                                  \n",
            " conv2d_35 (Conv2D)             (None, 4, 4, 64)     36928       ['conv2d_34[0][0]']              \n",
            "                                                                                                  \n",
            " conv2d_37 (Conv2D)             (None, 4, 4, 64)     102464      ['conv2d_36[0][0]']              \n",
            "                                                                                                  \n",
            " conv2d_38 (Conv2D)             (None, 4, 4, 64)     12864       ['max_pooling2d_19[0][0]']       \n",
            "                                                                                                  \n",
            " inception (Concatenate)        (None, 4, 4, 256)    0           ['conv2d_33[0][0]',              \n",
            "                                                                  'conv2d_35[0][0]',              \n",
            "                                                                  'conv2d_37[0][0]',              \n",
            "                                                                  'conv2d_38[0][0]']              \n",
            "                                                                                                  \n",
            " max_pooling2d_20 (MaxPooling2D  (None, 1, 1, 256)   0           ['inception[0][0]']              \n",
            " )                                                                                                \n",
            "                                                                                                  \n",
            " flatten (Flatten)              (None, 256)          0           ['max_pooling2d_20[0][0]']       \n",
            "                                                                                                  \n",
            " dense_4 (Dense)                (None, 16)           4112        ['flatten[0][0]']                \n",
            "                                                                                                  \n",
            " dense_5 (Dense)                (None, 1)            17          ['dense_4[0][0]']                \n",
            "                                                                                                  \n",
            "==================================================================================================\n",
            "Total params: 282,305\n",
            "Trainable params: 282,305\n",
            "Non-trainable params: 0\n",
            "__________________________________________________________________________________________________\n"
          ]
        }
      ],
      "source": [
        "model.summary()"
      ]
    },
    {
      "cell_type": "code",
      "execution_count": 67,
      "metadata": {
        "id": "kEBNr0bWRQ6L"
      },
      "outputs": [],
      "source": [
        "model.compile(optimizer='adam',\n",
        "              loss=tf.keras.losses.BinaryCrossentropy(),\n",
        "              metrics=[tf.keras.metrics.Precision(), tf.keras.metrics.Recall(), tf.keras.metrics.AUC()])"
      ]
    },
    {
      "cell_type": "code",
      "execution_count": 71,
      "metadata": {
        "colab": {
          "base_uri": "https://localhost:8080/"
        },
        "id": "yqYYxnUCRrpu",
        "outputId": "81ba3fd8-3f12-4334-f21a-5d0f026da92f"
      },
      "outputs": [
        {
          "name": "stdout",
          "output_type": "stream",
          "text": [
            "Epoch 1/10\n",
            "1388/1388 [==============================] - 65s 39ms/step - loss: 0.5615 - precision: 0.7070 - recall: 0.5838 - auc: 0.7774 - val_loss: 0.4811 - val_precision: 0.7585 - val_recall: 0.7254 - val_auc: 0.8506\n",
            "Epoch 2/10\n",
            "1388/1388 [==============================] - 55s 39ms/step - loss: 0.4560 - precision: 0.7760 - recall: 0.7451 - auc: 0.8651 - val_loss: 0.3986 - val_precision: 0.8069 - val_recall: 0.7918 - val_auc: 0.9017\n",
            "Epoch 3/10\n",
            "1388/1388 [==============================] - 54s 39ms/step - loss: 0.4072 - precision: 0.8022 - recall: 0.7836 - auc: 0.8948 - val_loss: 0.4962 - val_precision: 0.6744 - val_recall: 0.9492 - val_auc: 0.9081\n",
            "Epoch 4/10\n",
            "1388/1388 [==============================] - 54s 39ms/step - loss: 0.3815 - precision: 0.8144 - recall: 0.8055 - auc: 0.9084 - val_loss: 0.4587 - val_precision: 0.9189 - val_recall: 0.5475 - val_auc: 0.9219\n",
            "Epoch 5/10\n",
            "1388/1388 [==============================] - 55s 39ms/step - loss: 0.3664 - precision: 0.8165 - recall: 0.8201 - auc: 0.9155 - val_loss: 0.3417 - val_precision: 0.8104 - val_recall: 0.8749 - val_auc: 0.9307\n",
            "Epoch 6/10\n",
            "1388/1388 [==============================] - 53s 38ms/step - loss: 0.3452 - precision: 0.8259 - recall: 0.8356 - auc: 0.9255 - val_loss: 0.3342 - val_precision: 0.7970 - val_recall: 0.9001 - val_auc: 0.9354\n",
            "Epoch 7/10\n",
            "1388/1388 [==============================] - 54s 39ms/step - loss: 0.3396 - precision: 0.8327 - recall: 0.8412 - auc: 0.9279 - val_loss: 0.3547 - val_precision: 0.7989 - val_recall: 0.8840 - val_auc: 0.9270\n",
            "Epoch 8/10\n",
            "1388/1388 [==============================] - 69s 49ms/step - loss: 0.3363 - precision: 0.8333 - recall: 0.8390 - auc: 0.9293 - val_loss: 0.3553 - val_precision: 0.8350 - val_recall: 0.8148 - val_auc: 0.9241\n",
            "Epoch 9/10\n",
            "1388/1388 [==============================] - 56s 40ms/step - loss: 0.3328 - precision: 0.8352 - recall: 0.8400 - auc: 0.9305 - val_loss: 0.3383 - val_precision: 0.8475 - val_recall: 0.8182 - val_auc: 0.9330\n",
            "Epoch 10/10\n",
            "1388/1388 [==============================] - 55s 40ms/step - loss: 0.3273 - precision: 0.8369 - recall: 0.8420 - auc: 0.9329 - val_loss: 0.3504 - val_precision: 0.8828 - val_recall: 0.7482 - val_auc: 0.9355\n"
          ]
        }
      ],
      "source": [
        "history = model.fit(datagen.flow(X_train, y_train, batch_size=32,\n",
        "         subset='training'),\n",
        "         validation_data=datagen.flow(X_train, y_train,\n",
        "         batch_size=32, subset='validation'),\n",
        "         validation_batch_size = 32,\n",
        "         epochs=10)"
      ]
    },
    {
      "cell_type": "code",
      "execution_count": 72,
      "metadata": {
        "colab": {
          "base_uri": "https://localhost:8080/"
        },
        "id": "IEXwwZ_MRzG-",
        "outputId": "57d02f9b-7e91-4cc8-a993-116c233437c6"
      },
      "outputs": [
        {
          "name": "stdout",
          "output_type": "stream",
          "text": [
            "347/347 [==============================] - 10s 29ms/step - loss: 0.3531 - precision: 0.8794 - recall: 0.7492 - auc: 0.9349\n"
          ]
        }
      ],
      "source": [
        "result = model.evaluate(datagen.flow(X_train, y_train,\n",
        "         batch_size=32, subset='validation'))"
      ]
    },
    {
      "cell_type": "code",
      "execution_count": 73,
      "metadata": {
        "colab": {
          "base_uri": "https://localhost:8080/"
        },
        "id": "KeXNC85OR5lL",
        "outputId": "0002ab48-135d-4975-e732-b98126e28b92"
      },
      "outputs": [
        {
          "name": "stdout",
          "output_type": "stream",
          "text": [
            "Precision:  0.8793802261352539\n",
            "Recall:  0.7491876482963562\n",
            "F1 score:  0.8090799455399121\n",
            "AUC:  0.9348641633987427\n"
          ]
        }
      ],
      "source": [
        "print('Precision: ',result[1])\n",
        "print('Recall: ',result[2])\n",
        "print('F1 score: ',(2*result[1]*result[2])/(result[1]+result[2]))\n",
        "print('AUC: ',result[3])"
      ]
    },
    {
      "cell_type": "code",
      "execution_count": 92,
      "metadata": {
        "id": "VmPhDmKEfVuy"
      },
      "outputs": [],
      "source": [
        "# Using this architecture we don't observe any enhancement"
      ]
    },
    {
      "cell_type": "code",
      "execution_count": 93,
      "metadata": {
        "id": "ld2C5Mdwft5k"
      },
      "outputs": [],
      "source": [
        "# Let's try early stopping on our baseline architecture"
      ]
    },
    {
      "cell_type": "code",
      "execution_count": 107,
      "metadata": {
        "id": "syWVV9D-f81j"
      },
      "outputs": [],
      "source": [
        "model = models.Sequential()\n",
        "model.add(layers.Conv2D(filters=16, kernel_size=(3, 3), strides=1, padding=\"SAME\", activation='relu', input_shape=(50, 50, 3)))\n",
        "model.add(layers.MaxPooling2D(pool_size= (3, 3), strides=2, padding=\"VALID\"))\n",
        "model.add(layers.Conv2D(filters=128, kernel_size=(3, 3), strides=1, padding=\"SAME\", activation='relu'))\n",
        "model.add(layers.MaxPooling2D(pool_size= (3, 3), strides=2, padding=\"VALID\"))\n",
        "model.add(layers.Flatten())\n",
        "model.add(layers.Dense(16, activation='relu'))\n",
        "model.add(layers.Dense(1, activation='sigmoid'))"
      ]
    },
    {
      "cell_type": "code",
      "execution_count": 108,
      "metadata": {
        "id": "6o0pnGHGhocY"
      },
      "outputs": [],
      "source": [
        "early_stopping_cb = tf.keras.callbacks.EarlyStopping(patience=5, restore_best_weights=True)"
      ]
    },
    {
      "cell_type": "code",
      "execution_count": 109,
      "metadata": {
        "id": "-dl_MyhQgO6V"
      },
      "outputs": [],
      "source": [
        "model.compile(optimizer='adam',\n",
        "              loss=tf.keras.losses.BinaryCrossentropy(),\n",
        "              metrics=[tf.keras.metrics.Precision(), tf.keras.metrics.Recall(), tf.keras.metrics.AUC()])"
      ]
    },
    {
      "cell_type": "code",
      "execution_count": 110,
      "metadata": {
        "colab": {
          "base_uri": "https://localhost:8080/"
        },
        "id": "cShvBQcagRao",
        "outputId": "e79b12ce-ef09-4a7b-a4f8-9b2466100739"
      },
      "outputs": [
        {
          "name": "stdout",
          "output_type": "stream",
          "text": [
            "Epoch 1/20\n",
            "1388/1388 [==============================] - 59s 42ms/step - loss: 0.5835 - precision_5: 0.6936 - recall_5: 0.5291 - auc_5: 0.7504 - val_loss: 0.5567 - val_precision_5: 0.6730 - val_recall_5: 0.7094 - val_auc_5: 0.7954\n",
            "Epoch 2/20\n",
            "1388/1388 [==============================] - 55s 39ms/step - loss: 0.4489 - precision_5: 0.7778 - recall_5: 0.7657 - auc_5: 0.8702 - val_loss: 0.4561 - val_precision_5: 0.8575 - val_recall_5: 0.6219 - val_auc_5: 0.8885\n",
            "Epoch 3/20\n",
            "1388/1388 [==============================] - 55s 40ms/step - loss: 0.3997 - precision_5: 0.8054 - recall_5: 0.8016 - auc_5: 0.8988 - val_loss: 0.3530 - val_precision_5: 0.8470 - val_recall_5: 0.8209 - val_auc_5: 0.9268\n",
            "Epoch 4/20\n",
            "1388/1388 [==============================] - 54s 39ms/step - loss: 0.3666 - precision_5: 0.8225 - recall_5: 0.8207 - auc_5: 0.9158 - val_loss: 0.3446 - val_precision_5: 0.8543 - val_recall_5: 0.7977 - val_auc_5: 0.9278\n",
            "Epoch 5/20\n",
            "1388/1388 [==============================] - 55s 40ms/step - loss: 0.3480 - precision_5: 0.8310 - recall_5: 0.8300 - auc_5: 0.9242 - val_loss: 0.3191 - val_precision_5: 0.8517 - val_recall_5: 0.8503 - val_auc_5: 0.9371\n",
            "Epoch 6/20\n",
            "1388/1388 [==============================] - 56s 40ms/step - loss: 0.3454 - precision_5: 0.8321 - recall_5: 0.8268 - auc_5: 0.9255 - val_loss: 0.4040 - val_precision_5: 0.8727 - val_recall_5: 0.6879 - val_auc_5: 0.9160\n",
            "Epoch 7/20\n",
            "1388/1388 [==============================] - 54s 39ms/step - loss: 0.3422 - precision_5: 0.8336 - recall_5: 0.8300 - auc_5: 0.9268 - val_loss: 0.5109 - val_precision_5: 0.6914 - val_recall_5: 0.8924 - val_auc_5: 0.8760\n",
            "Epoch 8/20\n",
            "1388/1388 [==============================] - 56s 40ms/step - loss: 0.3414 - precision_5: 0.8367 - recall_5: 0.8292 - auc_5: 0.9272 - val_loss: 0.3086 - val_precision_5: 0.8459 - val_recall_5: 0.8526 - val_auc_5: 0.9422\n",
            "Epoch 9/20\n",
            "1388/1388 [==============================] - 54s 39ms/step - loss: 0.3298 - precision_5: 0.8414 - recall_5: 0.8384 - auc_5: 0.9321 - val_loss: 0.3087 - val_precision_5: 0.8522 - val_recall_5: 0.8452 - val_auc_5: 0.9413\n",
            "Epoch 10/20\n",
            "1388/1388 [==============================] - 54s 39ms/step - loss: 0.3320 - precision_5: 0.8420 - recall_5: 0.8295 - auc_5: 0.9312 - val_loss: 0.3218 - val_precision_5: 0.8598 - val_recall_5: 0.8148 - val_auc_5: 0.9365\n",
            "Epoch 11/20\n",
            "1388/1388 [==============================] - 54s 39ms/step - loss: 0.3268 - precision_5: 0.8465 - recall_5: 0.8332 - auc_5: 0.9335 - val_loss: 0.2976 - val_precision_5: 0.8607 - val_recall_5: 0.8568 - val_auc_5: 0.9463\n",
            "Epoch 12/20\n",
            "1388/1388 [==============================] - 55s 40ms/step - loss: 0.3290 - precision_5: 0.8447 - recall_5: 0.8329 - auc_5: 0.9324 - val_loss: 0.3093 - val_precision_5: 0.8818 - val_recall_5: 0.8075 - val_auc_5: 0.9423\n",
            "Epoch 13/20\n",
            "1388/1388 [==============================] - 55s 40ms/step - loss: 0.3294 - precision_5: 0.8444 - recall_5: 0.8307 - auc_5: 0.9323 - val_loss: 0.4621 - val_precision_5: 0.8868 - val_recall_5: 0.6064 - val_auc_5: 0.9154\n",
            "Epoch 14/20\n",
            "1388/1388 [==============================] - 52s 38ms/step - loss: 0.3210 - precision_5: 0.8492 - recall_5: 0.8371 - auc_5: 0.9358 - val_loss: 0.3418 - val_precision_5: 0.8121 - val_recall_5: 0.8909 - val_auc_5: 0.9392\n",
            "Epoch 15/20\n",
            "1388/1388 [==============================] - 54s 39ms/step - loss: 0.3164 - precision_5: 0.8509 - recall_5: 0.8413 - auc_5: 0.9377 - val_loss: 0.2930 - val_precision_5: 0.8947 - val_recall_5: 0.8123 - val_auc_5: 0.9493\n",
            "Epoch 16/20\n",
            "1388/1388 [==============================] - 53s 38ms/step - loss: 0.3150 - precision_5: 0.8535 - recall_5: 0.8386 - auc_5: 0.9381 - val_loss: 0.3074 - val_precision_5: 0.8518 - val_recall_5: 0.8497 - val_auc_5: 0.9433\n",
            "Epoch 17/20\n",
            "1388/1388 [==============================] - 52s 37ms/step - loss: 0.3066 - precision_5: 0.8596 - recall_5: 0.8388 - auc_5: 0.9413 - val_loss: 0.3118 - val_precision_5: 0.8163 - val_recall_5: 0.9052 - val_auc_5: 0.9485\n",
            "Epoch 18/20\n",
            "1388/1388 [==============================] - 53s 38ms/step - loss: 0.3235 - precision_5: 0.8479 - recall_5: 0.8349 - auc_5: 0.9349 - val_loss: 0.2894 - val_precision_5: 0.8716 - val_recall_5: 0.8479 - val_auc_5: 0.9495\n",
            "Epoch 19/20\n",
            "1388/1388 [==============================] - 50s 36ms/step - loss: 0.3064 - precision_5: 0.8600 - recall_5: 0.8433 - auc_5: 0.9415 - val_loss: 0.2861 - val_precision_5: 0.8411 - val_recall_5: 0.8828 - val_auc_5: 0.9504\n",
            "Epoch 20/20\n",
            "1388/1388 [==============================] - 51s 37ms/step - loss: 0.3043 - precision_5: 0.8576 - recall_5: 0.8453 - auc_5: 0.9422 - val_loss: 0.3906 - val_precision_5: 0.7927 - val_recall_5: 0.8790 - val_auc_5: 0.9184\n"
          ]
        }
      ],
      "source": [
        "history = model.fit(datagen.flow(X_train, y_train, batch_size=32,\n",
        "         subset='training'),\n",
        "         validation_data=datagen.flow(X_train, y_train,\n",
        "         batch_size=32, subset='validation'),\n",
        "         callbacks=[early_stopping_cb],\n",
        "         validation_batch_size = 32,\n",
        "         epochs=20)"
      ]
    },
    {
      "cell_type": "code",
      "execution_count": 111,
      "metadata": {
        "colab": {
          "base_uri": "https://localhost:8080/"
        },
        "id": "kgV1MP4ngXGK",
        "outputId": "cd76be8a-c83c-4b36-b719-4b42f82fe5d0"
      },
      "outputs": [
        {
          "name": "stdout",
          "output_type": "stream",
          "text": [
            "347/347 [==============================] - 10s 29ms/step - loss: 0.3878 - precision_5: 0.7964 - recall_5: 0.8777 - auc_5: 0.9199\n"
          ]
        }
      ],
      "source": [
        "result = model.evaluate(datagen.flow(X_train, y_train,\n",
        "         batch_size=32, subset='validation'))"
      ]
    },
    {
      "cell_type": "code",
      "execution_count": 112,
      "metadata": {
        "id": "Ug7ba90gga-5"
      },
      "outputs": [],
      "source": [
        "sample_data = datagen.flow(X_train, y_train,\n",
        "         batch_size=32, subset='validation').next()"
      ]
    },
    {
      "cell_type": "code",
      "execution_count": 113,
      "metadata": {
        "id": "Q5-v4ogvgfVb"
      },
      "outputs": [],
      "source": [
        "def predictor(prob):\n",
        "  if prob>=0.5:\n",
        "    return 1\n",
        "  else:\n",
        "    return 0"
      ]
    },
    {
      "cell_type": "code",
      "execution_count": 114,
      "metadata": {
        "colab": {
          "base_uri": "https://localhost:8080/"
        },
        "id": "uuFj--RNgkLP",
        "outputId": "79ab5384-f84c-4395-e599-8b123f3f64bb"
      },
      "outputs": [
        {
          "name": "stdout",
          "output_type": "stream",
          "text": [
            "1/1 [==============================] - 0s 66ms/step\n"
          ]
        }
      ],
      "source": [
        "predicted = list(map(predictor, model.predict(sample_data[0])))"
      ]
    },
    {
      "cell_type": "code",
      "execution_count": 115,
      "metadata": {
        "id": "UW3c8CIlgoy2"
      },
      "outputs": [],
      "source": [
        "output_dataframe = pd.DataFrame({'Predicted':predicted,'Original':sample_data[1]})"
      ]
    },
    {
      "cell_type": "code",
      "execution_count": 116,
      "metadata": {
        "colab": {
          "base_uri": "https://localhost:8080/",
          "height": 1000
        },
        "id": "VwxIoSd1gs_f",
        "outputId": "786703f9-e53f-45af-9857-328efa1e8ad2"
      },
      "outputs": [
        {
          "data": {
            "text/html": [
              "\n",
              "  <div id=\"df-549c530c-bc4f-47d5-82fb-db6217b4475a\">\n",
              "    <div class=\"colab-df-container\">\n",
              "      <div>\n",
              "<style scoped>\n",
              "    .dataframe tbody tr th:only-of-type {\n",
              "        vertical-align: middle;\n",
              "    }\n",
              "\n",
              "    .dataframe tbody tr th {\n",
              "        vertical-align: top;\n",
              "    }\n",
              "\n",
              "    .dataframe thead th {\n",
              "        text-align: right;\n",
              "    }\n",
              "</style>\n",
              "<table border=\"1\" class=\"dataframe\">\n",
              "  <thead>\n",
              "    <tr style=\"text-align: right;\">\n",
              "      <th></th>\n",
              "      <th>Predicted</th>\n",
              "      <th>Original</th>\n",
              "    </tr>\n",
              "  </thead>\n",
              "  <tbody>\n",
              "    <tr>\n",
              "      <th>0</th>\n",
              "      <td>1</td>\n",
              "      <td>1.0</td>\n",
              "    </tr>\n",
              "    <tr>\n",
              "      <th>1</th>\n",
              "      <td>1</td>\n",
              "      <td>1.0</td>\n",
              "    </tr>\n",
              "    <tr>\n",
              "      <th>2</th>\n",
              "      <td>0</td>\n",
              "      <td>0.0</td>\n",
              "    </tr>\n",
              "    <tr>\n",
              "      <th>3</th>\n",
              "      <td>1</td>\n",
              "      <td>0.0</td>\n",
              "    </tr>\n",
              "    <tr>\n",
              "      <th>4</th>\n",
              "      <td>1</td>\n",
              "      <td>1.0</td>\n",
              "    </tr>\n",
              "    <tr>\n",
              "      <th>5</th>\n",
              "      <td>1</td>\n",
              "      <td>1.0</td>\n",
              "    </tr>\n",
              "    <tr>\n",
              "      <th>6</th>\n",
              "      <td>0</td>\n",
              "      <td>0.0</td>\n",
              "    </tr>\n",
              "    <tr>\n",
              "      <th>7</th>\n",
              "      <td>1</td>\n",
              "      <td>0.0</td>\n",
              "    </tr>\n",
              "    <tr>\n",
              "      <th>8</th>\n",
              "      <td>0</td>\n",
              "      <td>0.0</td>\n",
              "    </tr>\n",
              "    <tr>\n",
              "      <th>9</th>\n",
              "      <td>0</td>\n",
              "      <td>0.0</td>\n",
              "    </tr>\n",
              "    <tr>\n",
              "      <th>10</th>\n",
              "      <td>0</td>\n",
              "      <td>1.0</td>\n",
              "    </tr>\n",
              "    <tr>\n",
              "      <th>11</th>\n",
              "      <td>0</td>\n",
              "      <td>0.0</td>\n",
              "    </tr>\n",
              "    <tr>\n",
              "      <th>12</th>\n",
              "      <td>0</td>\n",
              "      <td>0.0</td>\n",
              "    </tr>\n",
              "    <tr>\n",
              "      <th>13</th>\n",
              "      <td>0</td>\n",
              "      <td>1.0</td>\n",
              "    </tr>\n",
              "    <tr>\n",
              "      <th>14</th>\n",
              "      <td>1</td>\n",
              "      <td>1.0</td>\n",
              "    </tr>\n",
              "    <tr>\n",
              "      <th>15</th>\n",
              "      <td>0</td>\n",
              "      <td>0.0</td>\n",
              "    </tr>\n",
              "    <tr>\n",
              "      <th>16</th>\n",
              "      <td>0</td>\n",
              "      <td>1.0</td>\n",
              "    </tr>\n",
              "    <tr>\n",
              "      <th>17</th>\n",
              "      <td>0</td>\n",
              "      <td>0.0</td>\n",
              "    </tr>\n",
              "    <tr>\n",
              "      <th>18</th>\n",
              "      <td>0</td>\n",
              "      <td>0.0</td>\n",
              "    </tr>\n",
              "    <tr>\n",
              "      <th>19</th>\n",
              "      <td>0</td>\n",
              "      <td>0.0</td>\n",
              "    </tr>\n",
              "    <tr>\n",
              "      <th>20</th>\n",
              "      <td>0</td>\n",
              "      <td>0.0</td>\n",
              "    </tr>\n",
              "    <tr>\n",
              "      <th>21</th>\n",
              "      <td>1</td>\n",
              "      <td>1.0</td>\n",
              "    </tr>\n",
              "    <tr>\n",
              "      <th>22</th>\n",
              "      <td>0</td>\n",
              "      <td>0.0</td>\n",
              "    </tr>\n",
              "    <tr>\n",
              "      <th>23</th>\n",
              "      <td>1</td>\n",
              "      <td>1.0</td>\n",
              "    </tr>\n",
              "    <tr>\n",
              "      <th>24</th>\n",
              "      <td>1</td>\n",
              "      <td>0.0</td>\n",
              "    </tr>\n",
              "    <tr>\n",
              "      <th>25</th>\n",
              "      <td>0</td>\n",
              "      <td>0.0</td>\n",
              "    </tr>\n",
              "    <tr>\n",
              "      <th>26</th>\n",
              "      <td>0</td>\n",
              "      <td>0.0</td>\n",
              "    </tr>\n",
              "    <tr>\n",
              "      <th>27</th>\n",
              "      <td>1</td>\n",
              "      <td>1.0</td>\n",
              "    </tr>\n",
              "    <tr>\n",
              "      <th>28</th>\n",
              "      <td>0</td>\n",
              "      <td>0.0</td>\n",
              "    </tr>\n",
              "    <tr>\n",
              "      <th>29</th>\n",
              "      <td>0</td>\n",
              "      <td>0.0</td>\n",
              "    </tr>\n",
              "    <tr>\n",
              "      <th>30</th>\n",
              "      <td>0</td>\n",
              "      <td>0.0</td>\n",
              "    </tr>\n",
              "    <tr>\n",
              "      <th>31</th>\n",
              "      <td>0</td>\n",
              "      <td>0.0</td>\n",
              "    </tr>\n",
              "  </tbody>\n",
              "</table>\n",
              "</div>\n",
              "      <button class=\"colab-df-convert\" onclick=\"convertToInteractive('df-549c530c-bc4f-47d5-82fb-db6217b4475a')\"\n",
              "              title=\"Convert this dataframe to an interactive table.\"\n",
              "              style=\"display:none;\">\n",
              "        \n",
              "  <svg xmlns=\"http://www.w3.org/2000/svg\" height=\"24px\"viewBox=\"0 0 24 24\"\n",
              "       width=\"24px\">\n",
              "    <path d=\"M0 0h24v24H0V0z\" fill=\"none\"/>\n",
              "    <path d=\"M18.56 5.44l.94 2.06.94-2.06 2.06-.94-2.06-.94-.94-2.06-.94 2.06-2.06.94zm-11 1L8.5 8.5l.94-2.06 2.06-.94-2.06-.94L8.5 2.5l-.94 2.06-2.06.94zm10 10l.94 2.06.94-2.06 2.06-.94-2.06-.94-.94-2.06-.94 2.06-2.06.94z\"/><path d=\"M17.41 7.96l-1.37-1.37c-.4-.4-.92-.59-1.43-.59-.52 0-1.04.2-1.43.59L10.3 9.45l-7.72 7.72c-.78.78-.78 2.05 0 2.83L4 21.41c.39.39.9.59 1.41.59.51 0 1.02-.2 1.41-.59l7.78-7.78 2.81-2.81c.8-.78.8-2.07 0-2.86zM5.41 20L4 18.59l7.72-7.72 1.47 1.35L5.41 20z\"/>\n",
              "  </svg>\n",
              "      </button>\n",
              "      \n",
              "  <style>\n",
              "    .colab-df-container {\n",
              "      display:flex;\n",
              "      flex-wrap:wrap;\n",
              "      gap: 12px;\n",
              "    }\n",
              "\n",
              "    .colab-df-convert {\n",
              "      background-color: #E8F0FE;\n",
              "      border: none;\n",
              "      border-radius: 50%;\n",
              "      cursor: pointer;\n",
              "      display: none;\n",
              "      fill: #1967D2;\n",
              "      height: 32px;\n",
              "      padding: 0 0 0 0;\n",
              "      width: 32px;\n",
              "    }\n",
              "\n",
              "    .colab-df-convert:hover {\n",
              "      background-color: #E2EBFA;\n",
              "      box-shadow: 0px 1px 2px rgba(60, 64, 67, 0.3), 0px 1px 3px 1px rgba(60, 64, 67, 0.15);\n",
              "      fill: #174EA6;\n",
              "    }\n",
              "\n",
              "    [theme=dark] .colab-df-convert {\n",
              "      background-color: #3B4455;\n",
              "      fill: #D2E3FC;\n",
              "    }\n",
              "\n",
              "    [theme=dark] .colab-df-convert:hover {\n",
              "      background-color: #434B5C;\n",
              "      box-shadow: 0px 1px 3px 1px rgba(0, 0, 0, 0.15);\n",
              "      filter: drop-shadow(0px 1px 2px rgba(0, 0, 0, 0.3));\n",
              "      fill: #FFFFFF;\n",
              "    }\n",
              "  </style>\n",
              "\n",
              "      <script>\n",
              "        const buttonEl =\n",
              "          document.querySelector('#df-549c530c-bc4f-47d5-82fb-db6217b4475a button.colab-df-convert');\n",
              "        buttonEl.style.display =\n",
              "          google.colab.kernel.accessAllowed ? 'block' : 'none';\n",
              "\n",
              "        async function convertToInteractive(key) {\n",
              "          const element = document.querySelector('#df-549c530c-bc4f-47d5-82fb-db6217b4475a');\n",
              "          const dataTable =\n",
              "            await google.colab.kernel.invokeFunction('convertToInteractive',\n",
              "                                                     [key], {});\n",
              "          if (!dataTable) return;\n",
              "\n",
              "          const docLinkHtml = 'Like what you see? Visit the ' +\n",
              "            '<a target=\"_blank\" href=https://colab.research.google.com/notebooks/data_table.ipynb>data table notebook</a>'\n",
              "            + ' to learn more about interactive tables.';\n",
              "          element.innerHTML = '';\n",
              "          dataTable['output_type'] = 'display_data';\n",
              "          await google.colab.output.renderOutput(dataTable, element);\n",
              "          const docLink = document.createElement('div');\n",
              "          docLink.innerHTML = docLinkHtml;\n",
              "          element.appendChild(docLink);\n",
              "        }\n",
              "      </script>\n",
              "    </div>\n",
              "  </div>\n",
              "  "
            ],
            "text/plain": [
              "    Predicted  Original\n",
              "0           1       1.0\n",
              "1           1       1.0\n",
              "2           0       0.0\n",
              "3           1       0.0\n",
              "4           1       1.0\n",
              "5           1       1.0\n",
              "6           0       0.0\n",
              "7           1       0.0\n",
              "8           0       0.0\n",
              "9           0       0.0\n",
              "10          0       1.0\n",
              "11          0       0.0\n",
              "12          0       0.0\n",
              "13          0       1.0\n",
              "14          1       1.0\n",
              "15          0       0.0\n",
              "16          0       1.0\n",
              "17          0       0.0\n",
              "18          0       0.0\n",
              "19          0       0.0\n",
              "20          0       0.0\n",
              "21          1       1.0\n",
              "22          0       0.0\n",
              "23          1       1.0\n",
              "24          1       0.0\n",
              "25          0       0.0\n",
              "26          0       0.0\n",
              "27          1       1.0\n",
              "28          0       0.0\n",
              "29          0       0.0\n",
              "30          0       0.0\n",
              "31          0       0.0"
            ]
          },
          "execution_count": 116,
          "metadata": {},
          "output_type": "execute_result"
        }
      ],
      "source": [
        "output_dataframe"
      ]
    },
    {
      "cell_type": "code",
      "execution_count": 117,
      "metadata": {
        "colab": {
          "base_uri": "https://localhost:8080/"
        },
        "id": "mY2ccdu6gw5l",
        "outputId": "596c1766-89c6-4fff-e478-52910058e073"
      },
      "outputs": [
        {
          "name": "stdout",
          "output_type": "stream",
          "text": [
            "Precision:  0.7963884472846985\n",
            "Recall:  0.8777416944503784\n",
            "F1 score:  0.8350884172432447\n",
            "AUC:  0.9198959469795227\n"
          ]
        }
      ],
      "source": [
        "print('Precision: ',result[1])\n",
        "print('Recall: ',result[2])\n",
        "print('F1 score: ',(2*result[1]*result[2])/(result[1]+result[2]))\n",
        "print('AUC: ',result[3])"
      ]
    },
    {
      "cell_type": "markdown",
      "metadata": {
        "id": "E_9k03meo8O-"
      },
      "source": [
        "# Comparing above models"
      ]
    },
    {
      "cell_type": "code",
      "execution_count": 121,
      "metadata": {
        "id": "vckjWsgtxSwk"
      },
      "outputs": [],
      "source": [
        "# The cell given below contains precision, recall, f1-score and AUC of all networks built above"
      ]
    },
    {
      "cell_type": "code",
      "execution_count": 119,
      "metadata": {
        "id": "gUpOrPwhpAQ9"
      },
      "outputs": [],
      "source": [
        "# Baseline\n",
        "# Precision:  0.8650760054588318\n",
        "# Recall:  0.829184353351593\n",
        "# F1 score:  0.8467500103584988\n",
        "# AUC:  0.943962037563324\n",
        "\n",
        "# GoogLeNet\n",
        "# Precision:  0.9079478979110718\n",
        "# Recall:  0.8322700262069702\n",
        "# F1 score:  0.8684634381891974\n",
        "# AUC:  0.9578379988670349\n",
        "\n",
        "# ResNet\n",
        "# Precision:  0.8542681932449341\n",
        "# Recall:  0.8109793066978455\n",
        "# F1 score:  0.8320610925590378\n",
        "# AUC:  0.9305947422981262\n",
        "\n",
        "# GoogLeNet with early stopping\n",
        "# Precision:  0.8534842133522034\n",
        "# Recall:  0.8730706572532654\n",
        "# F1 score:  0.8631663386931737\n",
        "# AUC:  0.9505361914634705\n",
        "\n",
        "# Modified GoogLeNet\n",
        "# Precision:  0.8793802261352539\n",
        "# Recall:  0.7491876482963562\n",
        "# F1 score:  0.8090799455399121\n",
        "# AUC:  0.9348641633987427\n",
        "\n",
        "# Baseline with early stopping\n",
        "# Precision:  0.7963884472846985\n",
        "# Recall:  0.8777416944503784\n",
        "# F1 score:  0.8350884172432447\n",
        "# AUC:  0.9198959469795227"
      ]
    },
    {
      "cell_type": "code",
      "execution_count": 120,
      "metadata": {
        "id": "GQceB-TBwJH9"
      },
      "outputs": [],
      "source": [
        "# More the AUC more better is the model able to differentiate between negative and positive classes\n",
        "\n",
        "# Here, the GoogLeNet architecture built in in part B is giving highest AUC around 95.7%\n",
        "# Precision = 90.8% , Recall = 83.2%\n",
        "\n",
        "# But, the GoogLeNet architecture with early stopping built in experiment is also giving almost same AUC 95%\n",
        "# Precision = 87.9% , Recall = 87.3%\n",
        "\n",
        "# As in medical problems, we are more interested in recall. We will use GoogLeNet with early stopping as our final model."
      ]
    },
    {
      "cell_type": "code",
      "execution_count": 122,
      "metadata": {
        "id": "Y4DZmRiOzkz5"
      },
      "outputs": [],
      "source": [
        "# Let's build the final model"
      ]
    },
    {
      "cell_type": "code",
      "execution_count": 124,
      "metadata": {
        "id": "XCzn1cCi0lKJ"
      },
      "outputs": [],
      "source": [
        "early_stopping_cb = tf.keras.callbacks.EarlyStopping(patience=10, restore_best_weights=True)"
      ]
    },
    {
      "cell_type": "code",
      "execution_count": 125,
      "metadata": {
        "id": "h8Vv8PN30tfO"
      },
      "outputs": [],
      "source": [
        "input_layer = layers.Input(shape=(50, 50, 3))\n",
        "\n",
        "x = layers.Conv2D(filters=16, kernel_size=(3, 3), strides=1, padding=\"SAME\", activation='relu', input_shape=(50, 50, 3))(input_layer)\n",
        "x = layers.MaxPooling2D(pool_size= (3, 3), strides=2, padding=\"VALID\")(x)\n",
        "x = layers.Conv2D(filters=128, kernel_size=(3, 3), strides=1, padding=\"SAME\", activation='relu')(x)\n",
        "x = layers.MaxPooling2D(pool_size= (3, 3), strides=2, padding=\"VALID\")(x)\n",
        "\n",
        "# inception module layers\n",
        "\n",
        "conv_1x1 = layers.Conv2D(filters=64, kernel_size=(1, 1), strides=1, padding='same', activation='relu')(x)\n",
        "\n",
        "conv_3x3 = layers.Conv2D(filters=64, kernel_size=(1, 1), strides=1, padding='same', activation='relu')(x)\n",
        "conv_3x3 = layers.Conv2D(filters=64, kernel_size=(3, 3), strides=1, padding='same', activation='relu')(conv_3x3)\n",
        "\n",
        "conv_5x5 = layers.Conv2D(filters=64, kernel_size=(1, 1), strides=1, padding='same', activation='relu')(x)\n",
        "conv_5x5 = layers.Conv2D(filters=64, kernel_size=(5, 5), strides=1, padding='same', activation='relu')(conv_5x5)\n",
        "\n",
        "pool_proj = layers.MaxPool2D(pool_size=(3, 3), strides=(1, 1), padding='same')(x)\n",
        "pool_proj = layers.Conv2D(filters =64, kernel_size=(1, 1), padding='same', activation='relu')(pool_proj)\n",
        "\n",
        "x = layers.concatenate([conv_1x1, conv_3x3, conv_5x5, pool_proj], axis=3, name='inception')\n",
        "\n",
        "\n",
        "# inception module layers end\n",
        "\n",
        "x = layers.MaxPool2D(pool_size=(11, 11), strides=(11, 11), padding='valid')(x)\n",
        "\n",
        "x = layers.Flatten()(x)\n",
        "x = layers.Dense(16, activation='relu')(x)\n",
        "\n",
        "output = layers.Dense(1, activation='sigmoid')(x)\n",
        "\n",
        "model = models.Model(inputs=[input_layer], outputs=[output])"
      ]
    },
    {
      "cell_type": "code",
      "execution_count": 126,
      "metadata": {
        "id": "73Xpx0s805qL"
      },
      "outputs": [],
      "source": [
        "model.compile(optimizer='adam',\n",
        "              loss=tf.keras.losses.BinaryCrossentropy(),\n",
        "              metrics=[tf.keras.metrics.Precision(), tf.keras.metrics.Recall(), tf.keras.metrics.AUC()])"
      ]
    },
    {
      "cell_type": "code",
      "execution_count": 127,
      "metadata": {
        "colab": {
          "base_uri": "https://localhost:8080/"
        },
        "id": "7MWt0gVC0_Jr",
        "outputId": "437c749e-0e06-40c4-d54b-35dded0c2ea4"
      },
      "outputs": [
        {
          "name": "stdout",
          "output_type": "stream",
          "text": [
            "Epoch 1/50\n",
            "1388/1388 [==============================] - 64s 45ms/step - loss: 0.5108 - precision_6: 0.7380 - recall_6: 0.6735 - auc_6: 0.8244 - val_loss: 0.3888 - val_precision_6: 0.8003 - val_recall_6: 0.8195 - val_auc_6: 0.9080\n",
            "Epoch 2/50\n",
            "1388/1388 [==============================] - 54s 39ms/step - loss: 0.3802 - precision_6: 0.8071 - recall_6: 0.8223 - auc_6: 0.9094 - val_loss: 0.3278 - val_precision_6: 0.8502 - val_recall_6: 0.8325 - val_auc_6: 0.9340\n",
            "Epoch 3/50\n",
            "1388/1388 [==============================] - 54s 39ms/step - loss: 0.3361 - precision_6: 0.8345 - recall_6: 0.8382 - auc_6: 0.9296 - val_loss: 0.3070 - val_precision_6: 0.8343 - val_recall_6: 0.8660 - val_auc_6: 0.9423\n",
            "Epoch 4/50\n",
            "1388/1388 [==============================] - 55s 39ms/step - loss: 0.3201 - precision_6: 0.8448 - recall_6: 0.8489 - auc_6: 0.9363 - val_loss: 0.2931 - val_precision_6: 0.8346 - val_recall_6: 0.8974 - val_auc_6: 0.9498\n",
            "Epoch 5/50\n",
            "1388/1388 [==============================] - 54s 39ms/step - loss: 0.3076 - precision_6: 0.8531 - recall_6: 0.8477 - auc_6: 0.9409 - val_loss: 0.3185 - val_precision_6: 0.8015 - val_recall_6: 0.9226 - val_auc_6: 0.9474\n",
            "Epoch 6/50\n",
            "1388/1388 [==============================] - 54s 39ms/step - loss: 0.3039 - precision_6: 0.8555 - recall_6: 0.8496 - auc_6: 0.9423 - val_loss: 0.3140 - val_precision_6: 0.7963 - val_recall_6: 0.9192 - val_auc_6: 0.9475\n",
            "Epoch 7/50\n",
            "1388/1388 [==============================] - 55s 40ms/step - loss: 0.2984 - precision_6: 0.8589 - recall_6: 0.8548 - auc_6: 0.9444 - val_loss: 0.2707 - val_precision_6: 0.8857 - val_recall_6: 0.8526 - val_auc_6: 0.9559\n",
            "Epoch 8/50\n",
            "1388/1388 [==============================] - 54s 39ms/step - loss: 0.3012 - precision_6: 0.8579 - recall_6: 0.8522 - auc_6: 0.9432 - val_loss: 0.2644 - val_precision_6: 0.8703 - val_recall_6: 0.8844 - val_auc_6: 0.9568\n",
            "Epoch 9/50\n",
            "1388/1388 [==============================] - 55s 39ms/step - loss: 0.2911 - precision_6: 0.8623 - recall_6: 0.8595 - auc_6: 0.9471 - val_loss: 0.3160 - val_precision_6: 0.7883 - val_recall_6: 0.9289 - val_auc_6: 0.9504\n",
            "Epoch 10/50\n",
            "1388/1388 [==============================] - 54s 39ms/step - loss: 0.2780 - precision_6: 0.8692 - recall_6: 0.8623 - auc_6: 0.9516 - val_loss: 0.3625 - val_precision_6: 0.7796 - val_recall_6: 0.8946 - val_auc_6: 0.9230\n",
            "Epoch 11/50\n",
            "1388/1388 [==============================] - 54s 39ms/step - loss: 0.2756 - precision_6: 0.8729 - recall_6: 0.8653 - auc_6: 0.9526 - val_loss: 0.3074 - val_precision_6: 0.8700 - val_recall_6: 0.8195 - val_auc_6: 0.9424\n",
            "Epoch 12/50\n",
            "1388/1388 [==============================] - 55s 40ms/step - loss: 0.2752 - precision_6: 0.8748 - recall_6: 0.8648 - auc_6: 0.9525 - val_loss: 0.2676 - val_precision_6: 0.8951 - val_recall_6: 0.8392 - val_auc_6: 0.9563\n",
            "Epoch 13/50\n",
            "1388/1388 [==============================] - 54s 39ms/step - loss: 0.2721 - precision_6: 0.8744 - recall_6: 0.8653 - auc_6: 0.9536 - val_loss: 0.2770 - val_precision_6: 0.8830 - val_recall_6: 0.8444 - val_auc_6: 0.9522\n",
            "Epoch 14/50\n",
            "1388/1388 [==============================] - 54s 39ms/step - loss: 0.2690 - precision_6: 0.8756 - recall_6: 0.8679 - auc_6: 0.9547 - val_loss: 0.2809 - val_precision_6: 0.8293 - val_recall_6: 0.9129 - val_auc_6: 0.9563\n",
            "Epoch 15/50\n",
            "1388/1388 [==============================] - 55s 40ms/step - loss: 0.2639 - precision_6: 0.8807 - recall_6: 0.8706 - auc_6: 0.9564 - val_loss: 0.2536 - val_precision_6: 0.9012 - val_recall_6: 0.8560 - val_auc_6: 0.9613\n",
            "Epoch 16/50\n",
            "1388/1388 [==============================] - 54s 39ms/step - loss: 0.2588 - precision_6: 0.8828 - recall_6: 0.8719 - auc_6: 0.9579 - val_loss: 0.2701 - val_precision_6: 0.8297 - val_recall_6: 0.9310 - val_auc_6: 0.9619\n",
            "Epoch 17/50\n",
            "1388/1388 [==============================] - 55s 39ms/step - loss: 0.2616 - precision_6: 0.8796 - recall_6: 0.8687 - auc_6: 0.9571 - val_loss: 0.2600 - val_precision_6: 0.8905 - val_recall_6: 0.8690 - val_auc_6: 0.9591\n",
            "Epoch 18/50\n",
            "1388/1388 [==============================] - 54s 39ms/step - loss: 0.2607 - precision_6: 0.8798 - recall_6: 0.8737 - auc_6: 0.9574 - val_loss: 0.2523 - val_precision_6: 0.8783 - val_recall_6: 0.8840 - val_auc_6: 0.9605\n",
            "Epoch 19/50\n",
            "1388/1388 [==============================] - 54s 39ms/step - loss: 0.2552 - precision_6: 0.8820 - recall_6: 0.8721 - auc_6: 0.9590 - val_loss: 0.2729 - val_precision_6: 0.9109 - val_recall_6: 0.8260 - val_auc_6: 0.9588\n",
            "Epoch 20/50\n",
            "1388/1388 [==============================] - 55s 39ms/step - loss: 0.2565 - precision_6: 0.8837 - recall_6: 0.8745 - auc_6: 0.9588 - val_loss: 0.2622 - val_precision_6: 0.9019 - val_recall_6: 0.8495 - val_auc_6: 0.9603\n",
            "Epoch 21/50\n",
            "1388/1388 [==============================] - 54s 39ms/step - loss: 0.2552 - precision_6: 0.8848 - recall_6: 0.8746 - auc_6: 0.9592 - val_loss: 0.3010 - val_precision_6: 0.8466 - val_recall_6: 0.8830 - val_auc_6: 0.9479\n",
            "Epoch 22/50\n",
            "1388/1388 [==============================] - 53s 38ms/step - loss: 0.2503 - precision_6: 0.8849 - recall_6: 0.8743 - auc_6: 0.9607 - val_loss: 0.2531 - val_precision_6: 0.8672 - val_recall_6: 0.9041 - val_auc_6: 0.9630\n",
            "Epoch 23/50\n",
            "1388/1388 [==============================] - 53s 38ms/step - loss: 0.2532 - precision_6: 0.8869 - recall_6: 0.8754 - auc_6: 0.9597 - val_loss: 0.2991 - val_precision_6: 0.8434 - val_recall_6: 0.8881 - val_auc_6: 0.9506\n",
            "Epoch 24/50\n",
            "1388/1388 [==============================] - 53s 39ms/step - loss: 0.2459 - precision_6: 0.8901 - recall_6: 0.8748 - auc_6: 0.9621 - val_loss: 0.2658 - val_precision_6: 0.8925 - val_recall_6: 0.8536 - val_auc_6: 0.9589\n",
            "Epoch 25/50\n",
            "1388/1388 [==============================] - 54s 39ms/step - loss: 0.2452 - precision_6: 0.8915 - recall_6: 0.8791 - auc_6: 0.9622 - val_loss: 0.2672 - val_precision_6: 0.8651 - val_recall_6: 0.8883 - val_auc_6: 0.9582\n",
            "Epoch 26/50\n",
            "1388/1388 [==============================] - 55s 40ms/step - loss: 0.2443 - precision_6: 0.8918 - recall_6: 0.8747 - auc_6: 0.9626 - val_loss: 0.2451 - val_precision_6: 0.8684 - val_recall_6: 0.9110 - val_auc_6: 0.9657\n",
            "Epoch 27/50\n",
            "1388/1388 [==============================] - 54s 39ms/step - loss: 0.2460 - precision_6: 0.8912 - recall_6: 0.8768 - auc_6: 0.9620 - val_loss: 0.3520 - val_precision_6: 0.8000 - val_recall_6: 0.9035 - val_auc_6: 0.9365\n",
            "Epoch 28/50\n",
            "1388/1388 [==============================] - 55s 39ms/step - loss: 0.2399 - precision_6: 0.8954 - recall_6: 0.8782 - auc_6: 0.9638 - val_loss: 0.2354 - val_precision_6: 0.8945 - val_recall_6: 0.8777 - val_auc_6: 0.9654\n",
            "Epoch 29/50\n",
            "1388/1388 [==============================] - 53s 38ms/step - loss: 0.2390 - precision_6: 0.8937 - recall_6: 0.8802 - auc_6: 0.9642 - val_loss: 0.2768 - val_precision_6: 0.9294 - val_recall_6: 0.8097 - val_auc_6: 0.9614\n",
            "Epoch 30/50\n",
            "1388/1388 [==============================] - 52s 38ms/step - loss: 0.2424 - precision_6: 0.8941 - recall_6: 0.8759 - auc_6: 0.9631 - val_loss: 0.2326 - val_precision_6: 0.8671 - val_recall_6: 0.9198 - val_auc_6: 0.9683\n",
            "Epoch 31/50\n",
            "1388/1388 [==============================] - 56s 40ms/step - loss: 0.2372 - precision_6: 0.8936 - recall_6: 0.8809 - auc_6: 0.9647 - val_loss: 0.2338 - val_precision_6: 0.8881 - val_recall_6: 0.8960 - val_auc_6: 0.9680\n",
            "Epoch 32/50\n",
            "1388/1388 [==============================] - 65s 47ms/step - loss: 0.2355 - precision_6: 0.8953 - recall_6: 0.8827 - auc_6: 0.9652 - val_loss: 0.2247 - val_precision_6: 0.9200 - val_recall_6: 0.8716 - val_auc_6: 0.9698\n",
            "Epoch 33/50\n",
            "1388/1388 [==============================] - 60s 43ms/step - loss: 0.2373 - precision_6: 0.8940 - recall_6: 0.8810 - auc_6: 0.9645 - val_loss: 0.2916 - val_precision_6: 0.8385 - val_recall_6: 0.9267 - val_auc_6: 0.9580\n",
            "Epoch 34/50\n",
            "1388/1388 [==============================] - 58s 42ms/step - loss: 0.2373 - precision_6: 0.8940 - recall_6: 0.8798 - auc_6: 0.9647 - val_loss: 0.2424 - val_precision_6: 0.8864 - val_recall_6: 0.9045 - val_auc_6: 0.9678\n",
            "Epoch 35/50\n",
            "1388/1388 [==============================] - 56s 40ms/step - loss: 0.2357 - precision_6: 0.8928 - recall_6: 0.8817 - auc_6: 0.9652 - val_loss: 0.2334 - val_precision_6: 0.9038 - val_recall_6: 0.8781 - val_auc_6: 0.9677\n",
            "Epoch 36/50\n",
            "1388/1388 [==============================] - 54s 39ms/step - loss: 0.2352 - precision_6: 0.8982 - recall_6: 0.8804 - auc_6: 0.9653 - val_loss: 0.2513 - val_precision_6: 0.8685 - val_recall_6: 0.9084 - val_auc_6: 0.9646\n",
            "Epoch 37/50\n",
            "1388/1388 [==============================] - 53s 38ms/step - loss: 0.2341 - precision_6: 0.8970 - recall_6: 0.8807 - auc_6: 0.9655 - val_loss: 0.2235 - val_precision_6: 0.9118 - val_recall_6: 0.8816 - val_auc_6: 0.9712\n",
            "Epoch 38/50\n",
            "1388/1388 [==============================] - 54s 39ms/step - loss: 0.2293 - precision_6: 0.9018 - recall_6: 0.8838 - auc_6: 0.9668 - val_loss: 0.2437 - val_precision_6: 0.8964 - val_recall_6: 0.8753 - val_auc_6: 0.9654\n",
            "Epoch 39/50\n",
            "1388/1388 [==============================] - 55s 40ms/step - loss: 0.2301 - precision_6: 0.8983 - recall_6: 0.8814 - auc_6: 0.9666 - val_loss: 0.3190 - val_precision_6: 0.8282 - val_recall_6: 0.9102 - val_auc_6: 0.9485\n",
            "Epoch 40/50\n",
            "1388/1388 [==============================] - 54s 39ms/step - loss: 0.2322 - precision_6: 0.8975 - recall_6: 0.8830 - auc_6: 0.9660 - val_loss: 0.2261 - val_precision_6: 0.9119 - val_recall_6: 0.8741 - val_auc_6: 0.9695\n",
            "Epoch 41/50\n",
            "1388/1388 [==============================] - 52s 38ms/step - loss: 0.2282 - precision_6: 0.9001 - recall_6: 0.8834 - auc_6: 0.9672 - val_loss: 0.2368 - val_precision_6: 0.9184 - val_recall_6: 0.8645 - val_auc_6: 0.9674\n",
            "Epoch 42/50\n",
            "1388/1388 [==============================] - 54s 39ms/step - loss: 0.2256 - precision_6: 0.9009 - recall_6: 0.8845 - auc_6: 0.9680 - val_loss: 0.2435 - val_precision_6: 0.9016 - val_recall_6: 0.8836 - val_auc_6: 0.9689\n",
            "Epoch 43/50\n",
            "1388/1388 [==============================] - 53s 38ms/step - loss: 0.2272 - precision_6: 0.9015 - recall_6: 0.8828 - auc_6: 0.9675 - val_loss: 0.2513 - val_precision_6: 0.9268 - val_recall_6: 0.8410 - val_auc_6: 0.9655\n",
            "Epoch 44/50\n",
            "1388/1388 [==============================] - 53s 38ms/step - loss: 0.2253 - precision_6: 0.9015 - recall_6: 0.8870 - auc_6: 0.9681 - val_loss: 0.2310 - val_precision_6: 0.8981 - val_recall_6: 0.8989 - val_auc_6: 0.9693\n",
            "Epoch 45/50\n",
            "1388/1388 [==============================] - 53s 38ms/step - loss: 0.2261 - precision_6: 0.9013 - recall_6: 0.8843 - auc_6: 0.9679 - val_loss: 0.2537 - val_precision_6: 0.9227 - val_recall_6: 0.8414 - val_auc_6: 0.9647\n",
            "Epoch 46/50\n",
            "1388/1388 [==============================] - 53s 38ms/step - loss: 0.2261 - precision_6: 0.9003 - recall_6: 0.8846 - auc_6: 0.9679 - val_loss: 0.2696 - val_precision_6: 0.9199 - val_recall_6: 0.8489 - val_auc_6: 0.9633\n",
            "Epoch 47/50\n",
            "1388/1388 [==============================] - 54s 39ms/step - loss: 0.2233 - precision_6: 0.9032 - recall_6: 0.8869 - auc_6: 0.9687 - val_loss: 0.2321 - val_precision_6: 0.9015 - val_recall_6: 0.9052 - val_auc_6: 0.9710\n"
          ]
        }
      ],
      "source": [
        "history = model.fit(datagen.flow(X_train, y_train, batch_size=32,\n",
        "         subset='training'),\n",
        "         validation_data=datagen.flow(X_train, y_train,\n",
        "         batch_size=32, subset='validation'),\n",
        "         callbacks=[early_stopping_cb],\n",
        "         validation_batch_size = 32,\n",
        "         epochs=50)"
      ]
    },
    {
      "cell_type": "code",
      "execution_count": 128,
      "metadata": {
        "id": "6IFL-e7j1lIF"
      },
      "outputs": [],
      "source": [
        "model.save(\"final_model.h5\")"
      ]
    },
    {
      "cell_type": "markdown",
      "metadata": {
        "id": "NV0wVr___ySY"
      },
      "source": [
        "# Preprocess the test data"
      ]
    },
    {
      "cell_type": "code",
      "execution_count": 135,
      "metadata": {
        "id": "vyA1H7IP_04F"
      },
      "outputs": [],
      "source": [
        "unzip_data('/content/CS550/Prog_Assignments/Asg4_dataset/test.zip')"
      ]
    },
    {
      "cell_type": "code",
      "execution_count": 136,
      "metadata": {
        "id": "J6zDD-yaAmFQ"
      },
      "outputs": [],
      "source": [
        "unzip_data('/content/CS550/Prog_Assignments/Asg4_dataset/test2.zip')"
      ]
    },
    {
      "cell_type": "code",
      "execution_count": 139,
      "metadata": {
        "colab": {
          "base_uri": "https://localhost:8080/"
        },
        "id": "Qzh4Xit6Bs_7",
        "outputId": "d0655504-9c8e-40ca-8ee3-829a1ca202f4"
      },
      "outputs": [
        {
          "data": {
            "text/plain": [
              "4001"
            ]
          },
          "execution_count": 139,
          "metadata": {},
          "output_type": "execute_result"
        }
      ],
      "source": [
        "len(os.listdir('/content/test'))"
      ]
    },
    {
      "cell_type": "code",
      "execution_count": 140,
      "metadata": {
        "colab": {
          "base_uri": "https://localhost:8080/"
        },
        "id": "mW8-tgdKB2IF",
        "outputId": "152c7d62-5f98-49de-92e7-fc88d8583d87"
      },
      "outputs": [
        {
          "data": {
            "text/plain": [
              "3999"
            ]
          },
          "execution_count": 140,
          "metadata": {},
          "output_type": "execute_result"
        }
      ],
      "source": [
        "len(os.listdir('/content/test2'))"
      ]
    },
    {
      "cell_type": "code",
      "execution_count": 142,
      "metadata": {
        "id": "OYq8rudVB5kl"
      },
      "outputs": [],
      "source": [
        "# Images in test directory are numbered from 0 - 4000\n",
        "# and images in test2 directory are numbered from 4001 -7999"
      ]
    },
    {
      "cell_type": "code",
      "execution_count": 158,
      "metadata": {
        "id": "axrq_Lh2A6sV"
      },
      "outputs": [],
      "source": [
        "test_data = []"
      ]
    },
    {
      "cell_type": "code",
      "execution_count": 159,
      "metadata": {
        "id": "jsTZwLGbBHdb"
      },
      "outputs": [],
      "source": [
        "for i in range(0,4001):\n",
        "  test_data.append(cv2.imread(os.path.join('/content/test',f'{i}.png')))"
      ]
    },
    {
      "cell_type": "code",
      "execution_count": 162,
      "metadata": {
        "id": "MQzQaZNLDXGC"
      },
      "outputs": [],
      "source": [
        "for i in range(4001,8000):\n",
        "  test_data.append(cv2.imread(os.path.join('/content/test2',f'{i}.png')))"
      ]
    },
    {
      "cell_type": "code",
      "execution_count": 169,
      "metadata": {
        "colab": {
          "base_uri": "https://localhost:8080/"
        },
        "id": "k2yJ9MyQETE3",
        "outputId": "c7bd6f86-2974-428f-c37a-498992c63c17"
      },
      "outputs": [
        {
          "data": {
            "text/plain": [
              "8000"
            ]
          },
          "execution_count": 169,
          "metadata": {},
          "output_type": "execute_result"
        }
      ],
      "source": [
        "len(test_data)"
      ]
    },
    {
      "cell_type": "code",
      "execution_count": 171,
      "metadata": {
        "id": "zp_gecWLFSMl"
      },
      "outputs": [],
      "source": [
        "# Resizing"
      ]
    },
    {
      "cell_type": "code",
      "execution_count": 170,
      "metadata": {
        "id": "cDhfRch1E0xd"
      },
      "outputs": [],
      "source": [
        "for i in range(len(test_data)):\n",
        "  test_data[i] = cv2.resize(test_data[i], (50, 50), interpolation = cv2.INTER_NEAREST)"
      ]
    },
    {
      "cell_type": "code",
      "execution_count": 178,
      "metadata": {
        "id": "6ifJgvLmGEpR"
      },
      "outputs": [],
      "source": [
        "# Normalizing"
      ]
    },
    {
      "cell_type": "code",
      "execution_count": 179,
      "metadata": {
        "id": "0ShhfDHtGBuA"
      },
      "outputs": [],
      "source": [
        "for i in range(len(test_data)):\n",
        "  test_data[i] = test_data[i]/255"
      ]
    },
    {
      "cell_type": "code",
      "execution_count": 181,
      "metadata": {
        "id": "GzIiaWk7GPnt"
      },
      "outputs": [],
      "source": [
        "test_data = np.array(test_data)"
      ]
    },
    {
      "cell_type": "code",
      "execution_count": 182,
      "metadata": {
        "colab": {
          "base_uri": "https://localhost:8080/"
        },
        "id": "EQ0w042nGuWM",
        "outputId": "c758d99f-e0b0-4bc9-cb69-25efe993d0ee"
      },
      "outputs": [
        {
          "data": {
            "text/plain": [
              "(8000, 50, 50, 3)"
            ]
          },
          "execution_count": 182,
          "metadata": {},
          "output_type": "execute_result"
        }
      ],
      "source": [
        "test_data.shape"
      ]
    },
    {
      "cell_type": "code",
      "execution_count": 183,
      "metadata": {
        "id": "UIgNVhhiFxU8"
      },
      "outputs": [],
      "source": [
        "test_data = test_data.astype('float32')"
      ]
    },
    {
      "cell_type": "code",
      "execution_count": 193,
      "metadata": {
        "colab": {
          "base_uri": "https://localhost:8080/"
        },
        "id": "UgNHGKfrHA2H",
        "outputId": "36ee53ab-de1f-4df6-9e3b-726c9796cbd6"
      },
      "outputs": [
        {
          "name": "stdout",
          "output_type": "stream",
          "text": [
            "250/250 [==============================] - 1s 4ms/step\n"
          ]
        }
      ],
      "source": [
        "prediction = np.array(list(map(lambda x:int(x>0.5), model.predict(test_data))))"
      ]
    },
    {
      "cell_type": "code",
      "execution_count": 206,
      "metadata": {
        "id": "8a15XaTJInCC"
      },
      "outputs": [],
      "source": [
        "df = pd.DataFrame({'Image Name':[i for i in range(8000)],'Predicted Label':prediction})"
      ]
    },
    {
      "cell_type": "code",
      "execution_count": 208,
      "metadata": {
        "id": "f_NI7JOEJ1S6"
      },
      "outputs": [],
      "source": [
        "# Saving the predicted values"
      ]
    },
    {
      "cell_type": "code",
      "execution_count": 207,
      "metadata": {
        "id": "Quc2lnacJjIU"
      },
      "outputs": [],
      "source": [
        "df.to_csv('submission_Riya_12041230.csv',index=False)"
      ]
    }
  ],
  "metadata": {
    "accelerator": "GPU",
    "colab": {
      "collapsed_sections": [],
      "provenance": []
    },
    "kernelspec": {
      "display_name": "Python 3.10.7 64-bit",
      "language": "python",
      "name": "python3"
    },
    "language_info": {
      "name": "python",
      "version": "3.10.7"
    },
    "vscode": {
      "interpreter": {
        "hash": "fea2f97b1acdb839f8401d0e70fcbe06e50bda5f2f8c4045b3a34374612e315e"
      }
    }
  },
  "nbformat": 4,
  "nbformat_minor": 0
}
